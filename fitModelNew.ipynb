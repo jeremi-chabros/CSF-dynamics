{
 "cells": [
  {
   "cell_type": "code",
   "execution_count": null,
   "metadata": {},
   "outputs": [],
   "source": [
    "using HDF5, EzXML, Glob, Dates, Plots, Optim, LineSearches, LsqFit, JuMP\n",
    "import NLopt\n",
    "include(\"/Users/jjc/CSF/CSF Dynamics Scripts/readCSF.jl\")\n",
    "\n",
    "datapath = \"/Users/jjc/Documents/SSC/CSF Data/selected_recordings\"\n",
    "path = pwd();\n",
    "savepath = \"/Users/jjc/CSF/\"\n",
    "files = glob(\"*.hdf5\", datapath);\n",
    "\n",
    "# filename =  datapath*\"/INF_20200909122333_INF2.hdf5\"\n",
    "# filename = datapath*\"/INF_20190708150215_INF2.hdf5\"\n",
    "# filename = datapath*\"/INF_20191010113919_INF2.hdf5\"\n",
    "filename = datapath * \"/INF_9CA2CCEC_E238_4CB0_99DC_78B94C06CAB9.hdf5\"\n",
    "# filename = datapath*\"/INF_20190620142837_INF2.hdf5\"\n",
    "# filename = datapath * \"/inf_20180329121402.hdf5\"\n",
    "# filename = datapath * \"/INF_20180829151805_INF2.hdf5\"\n",
    "\n",
    "Data = readCSF(filename)\n",
    "\n",
    "T = Data[\"T\"]\n",
    "rec_dur_s = Data[\"rec_dur_s\"]\n",
    "start_time = Data[\"start_time\"]\n",
    "end_time = Data[\"end_time\"]\n",
    "infusion_start_frame = Data[\"infusion_start_frame\"]\n",
    "infusion_end_frame = Data[\"infusion_end_frame\"]\n",
    "plateau_start = Data[\"plateau_start\"]\n",
    "plateau_end = Data[\"plateau_end\"]\n",
    "\n",
    "ICP = Data[\"ICP\"]\n",
    "\n",
    "E = Data[\"E\"]\n",
    "P_0 = Data[\"P_0\"]\n",
    "P_p = Data[\"P_p\"]\n",
    "P_b = Data[\"P_b\"]\n",
    "I_b = Data[\"I_b\"]\n",
    "I_inf = Data[\"I_inf\"]\n",
    ";"
   ]
  },
  {
   "cell_type": "code",
   "execution_count": 1,
   "metadata": {},
   "outputs": [
    {
     "data": {
      "text/plain": [
       "myerrfun (generic function with 1 method)"
      ]
     },
     "metadata": {},
     "output_type": "display_data"
    }
   ],
   "source": [
    "function myerrfun(I_b::Real, E::Real, P_0::Real)\n",
    "    err = 0.0\n",
    "    for i = 1:length(Pm)\n",
    "        tᵢ = (i - 1) / 6\n",
    "        global t = tᵢ\n",
    "        It = I_b + I_inf\n",
    "        ΔP = P_b - P_0\n",
    "        predᵢ = It * ΔP / (I_b + (I_inf * exp(-E * It * tᵢ))) + P_0\n",
    "        MODVAL[i] = predᵢ\n",
    "        err += (Pm[i] - predᵢ)^2\n",
    "    end\n",
    "\n",
    "    # X = [value(I_b), value(E), value(P_0)]\n",
    "    # δΔP = maximum([0.0, X[3] - P_b])\n",
    "    # δlb = delta.(lower .- X)\n",
    "    # δub = delta.(X .- upper)\n",
    "    # δ = C .* vcat(δlb, δub, δΔP) # i = 1,⋯,q\n",
    "    # # Distances do not make 100% because it will force the optimum to be in the middle lower/upper\n",
    "    # dist = vcat(lower .- X, X .- upper) # Distances between the constraint and the current value\n",
    "    # h = C .* abs.(dist) # i = q+1,⋯,m\n",
    "    # d = vcat(δ, h)\n",
    "    # penalty = sum(d .^ κ)\n",
    "    # # penalty = sum(δ .^ κ)\n",
    "    # err += penalty\n",
    "    return err\n",
    "end"
   ]
  },
  {
   "cell_type": "code",
   "execution_count": null,
   "metadata": {},
   "outputs": [],
   "source": [
    "Pm = ICP[infusion_start_frame:infusion_end_frame]\n",
    "t = 0.0\n",
    "MODVAL = zeros(length(Pm))\n",
    "\n",
    "dsampf = 20\n",
    "numsamples = length(ICP)\n",
    "gg = moving_average(ICP, dsampf)\n",
    "g0 = zeros(length(ICP))\n",
    "g0 .+= P_b\n",
    "g0[Int(dsampf / 2):Int(dsampf / 2)+length(gg)-1] = gg\n",
    "g0[Int(dsampf / 2)+length(gg):end] .= P_p\n",
    "\n",
    "# SET PARAMS FOR OPTIM\n",
    "# Pm = ICP[infusion_start_frame:infusion_end_frame]\n",
    "Pm = g0[infusion_start_frame:infusion_end_frame]\n",
    "lower = [0.0, 0.0, -5.0]\n",
    "upper = [1.0, 1.0, P_b]\n",
    "C = 10^3\n",
    "κ = 2\n",
    "# x0 = [Ibest, Eest, P0est]\n",
    "x0 = [0.3, 0.16, 10.0]\n",
    "alglist = [:LN_NELDERMEAD, :GN_ISRES, :GN_DIRECT, :GN_DIRECT_L, :GN_DIRECT_L_RAND, :GN_CRS2_LM]\n",
    "# alglist = [:GN_DIRECT_L]\n",
    "\n",
    "minerrval = 10.0\n",
    "minerrmet = \"\"\n",
    "for optimMethod in alglist\n",
    "    optalg = optimMethod\n",
    "    model, I_b, E, P_0 = getModel(optalg, x0)\n",
    "    errval = objective_value(model)\n",
    "    if I_b < minerrval && I_b > 0.15\n",
    "        global minerrval = I_b\n",
    "        global minmet = optimMethod\n",
    "    end\n",
    "    println(\"Method: $optimMethod\\nError value:\\n$errval\")\n",
    "    println(\"Estimated parameters:\\nIₐ = $I_b [mL/min]\\n\" * \"E = $E [mmHg/mL]\\n\" * \"P₀ = $P_0 [mmHg]\\n\")\n",
    "end\n",
    "# Pm = g0[infusion_start_frame:infusion_end_frame]\n",
    "plot_model(I_b, E, P_0, ICP, dsampf)\n",
    "# minerrval, minmet"
   ]
  }
 ],
 "metadata": {
  "kernelspec": {
   "display_name": "Julia 1.7.2",
   "language": "julia",
   "name": "julia-1.7"
  },
  "language_info": {
   "file_extension": ".jl",
   "mimetype": "application/julia",
   "name": "julia",
   "version": "1.7.2"
  },
  "orig_nbformat": 4
 },
 "nbformat": 4,
 "nbformat_minor": 2
}
