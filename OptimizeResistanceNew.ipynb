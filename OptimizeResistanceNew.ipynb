{
 "cells": [
  {
   "cell_type": "code",
   "execution_count": 38,
   "metadata": {},
   "outputs": [],
   "source": [
    "using HDF5, EzXML, Glob, Dates, Plots, LineSearches, LineSearches, JuMP, StatsBase, BayesOpt, DataFrames, CSV\n",
    "import NLopt\n",
    "include(\"/Users/jjc/CSF/CSF Dynamics Scripts/readCSF.jl\")\n",
    "\n",
    "# datapath = \"/Users/jjc/Documents/SSC/recs_june_2022\"\n",
    "datapath = \"/Users/jjc/Documents/SSC/CSF Data/selected_recordings\"\n",
    "path = pwd();\n",
    "savepath = \"/Users/jjc/CSF/\"\n",
    "files = glob(\"*.hdf5\", datapath);\n",
    "\n",
    "df = DataFrame(filename=files, Rcsf=0.1, E=0.1, Ib=0.1, P0=0.1, mode=\"NaN\", error=0.0, errorICM=0.0)\n",
    "\n",
    "# for f = 1:length(files)\n",
    "for f = 2:2\n",
    "    filename = files[f]\n",
    "    global Data = readCSF(filename) # Read all data from the hdf5 file\n",
    "    # global fitErrorVal = 0\n",
    "\n",
    "    try\n",
    "        global Pm = Data[\"ICP\"][Data[\"infusion_start_frame\"]:Data[\"infusion_end_frame\"]]\n",
    "    catch\n",
    "        continue\n",
    "    end\n",
    "\n",
    "    lowerbound = [0.01, 0.001, -10.0] # Lower boundary\n",
    "    upperbound = [50.0, 1.0, Data[\"P_b\"]] # Upper boundary\n",
    "    global Ib_lower = 0.01 # I_b range \n",
    "    global Ib_upper = 1.0 # I_b range\n",
    "    global κ = 2 # penalty multiplier\n",
    "    global C = 10^3 # penalty multiplier\n",
    "\n",
    "    # BayesOpt params\n",
    "    bkernel = \"kMaternISO5\"\n",
    "    bsctype = SC_MAP\n",
    "    bltype = L_MCMC\n",
    "\n",
    "    # NLOpt params\n",
    "    optalg = :GN_DIRECT_L\n",
    "\n",
    "    # global Rcsf, E, P_0 = getModelBayes(lowerbound, upperbound, bkernel, bsctype, bltype)\n",
    "    global Rcsf, E, P_0 = getModelNL(lowerbound, upperbound, optalg)\n",
    "    I_b = (Data[\"P_b\"] - P_0) / Rcsf\n",
    "\n",
    "    plot_model(I_b, E, P_0, Data[\"ICP\"], 20, false)\n",
    "    # title!(\"I_b = $I_b\\n\" * \"Rcsf = $(value(Rcsf))\\n\" * \"E = $(value(E))\\n\" * \"P_0 = $(value(P_0)))\\n\" * \"error = $fitErrorVal\")\n",
    "    savefig(\"/Users/jjc/Documents/SSC/recs_june_2022/new/\" * filename[length(datapath)+2:end-5] * \"_New.pdf\")\n",
    "\n",
    "    global df.Rcsf[f] = round(Rcsf, digits=3)\n",
    "    global df.P0[f] = round(P_0, digits=3)\n",
    "    global df.Ib[f] = round(I_b, digits=3)\n",
    "    global df.E[f] = round(E, digits=3)\n",
    "    global df.filename[f] = filename[length(datapath)+2:end]\n",
    "    global df.error[f] = round(fitErrorVal,digits=3)\n",
    "    # global df.errorICM[f] = Data[\"fitGoodness\"]\n",
    "    # Data[\"mode\"] == \"dynamic\" ? mode = \"dynamic\" : mode = \"static\"\n",
    "    # global df.mode[f] = mode\n",
    "    # CSV.write(\"/Users/jjc/Documents/SSC/recs_june_2022/results_raw_new.csv\", df);\n",
    "end"
   ]
  },
  {
   "cell_type": "code",
   "execution_count": 8,
   "metadata": {},
   "outputs": [
    {
     "data": {
      "text/plain": [
       "Dict{String, Any} with 19 entries:\n",
       "  \"end_time\"             => DateTime(\"2013-05-30T15:08:21\")\n",
       "  \"P_0\"                  => 6.62\n",
       "  \"T\"                    => [0.0, 0.166667, 0.333333, 0.5, 0.666667, 0.833333, …\n",
       "  \"Rcsf\"                 => 14.29\n",
       "  \"P_b\"                  => 13.03\n",
       "  \"AMP\"                  => [NaN, 0.250628, 0.191833, 0.285034, 0.282389, 0.665…\n",
       "  \"start_time\"           => DateTime(\"2013-05-30T14:22:56\")\n",
       "  \"I_inf\"                => 1.5\n",
       "  \"one_needle\"           => 1\n",
       "  \"I_b\"                  => 0.45\n",
       "  \"infusion_start_frame\" => 70\n",
       "  \"plateau_start\"        => 178\n",
       "  \"plateau_end\"          => 204\n",
       "  \"E\"                    => 0.11\n",
       "  \"rec_dur_s\"            => 2725.0\n",
       "  \"ICP\"                  => [13.9012, 13.4404, 14.202, 14.3033, 13.3949, 14.384…\n",
       "  \"P_p\"                  => 33.23\n",
       "  \"infusion_end_frame\"   => 203\n",
       "  \"Rn\"                   => 1.89"
      ]
     },
     "metadata": {},
     "output_type": "display_data"
    }
   ],
   "source": [
    "Data"
   ]
  },
  {
   "cell_type": "code",
   "execution_count": 34,
   "metadata": {},
   "outputs": [
    {
     "name": "stdout",
     "output_type": "stream",
     "text": [
      "2.3752083333333336\n",
      "2.168625\n"
     ]
    },
    {
     "data": {
      "text/plain": [
       "1.4752038985239987e-8"
      ]
     },
     "metadata": {},
     "output_type": "display_data"
    }
   ],
   "source": [
    "using HypothesisTests\n",
    "dfBayes = CSV.File(\"/Users/jjc/Documents/SSC/recs_june_2022/results_raw_newBayes.csv\")\n",
    "dfNLOpt = CSV.File(\"/Users/jjc/Documents/SSC/recs_june_2022/results_raw_new.csv\")\n",
    "histogram(dfBayes[\"error\"])\n",
    "histogram!(dfNLOpt[\"error\"], alpha=0.5)\n",
    "\n",
    "println(mean(dfBayes[\"error\"]))\n",
    "println(mean(dfNLOpt[\"error\"]))\n",
    "\n",
    "pvalue(OneSampleTTest(vec(dfBayes[\"error\"]), vec(dfNLOpt[\"error\"])))\n",
    "\n"
   ]
  }
 ],
 "metadata": {
  "kernelspec": {
   "display_name": "Julia 1.7.3",
   "language": "julia",
   "name": "julia-1.7"
  },
  "language_info": {
   "file_extension": ".jl",
   "mimetype": "application/julia",
   "name": "julia",
   "version": "1.7.3"
  },
  "orig_nbformat": 4,
  "vscode": {
   "interpreter": {
    "hash": "b0fa6594d8f4cbf19f97940f81e996739fb7646882a419484c72d19e05852a7e"
   }
  }
 },
 "nbformat": 4,
 "nbformat_minor": 2
}
