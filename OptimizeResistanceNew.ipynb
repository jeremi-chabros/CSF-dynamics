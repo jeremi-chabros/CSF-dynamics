{
 "cells": [
  {
   "cell_type": "code",
   "execution_count": 28,
   "metadata": {},
   "outputs": [
    {
     "name": "stdout",
     "output_type": "stream",
     "text": [
      "1 /Users/jjc/CSF/Recordings/031114DP.hdf5\n"
     ]
    },
    {
     "name": "stdout",
     "output_type": "stream",
     "text": [
      "2 /Users/jjc/CSF/Recordings/2003-09-10_MT.hdf5\n"
     ]
    },
    {
     "name": "stdout",
     "output_type": "stream",
     "text": [
      "3 /Users/jjc/CSF/Recordings/2003-10-10_PT.hdf5\n"
     ]
    },
    {
     "name": "stdout",
     "output_type": "stream",
     "text": [
      "4 /Users/jjc/CSF/Recordings/2003-11-07_NG.hdf5\n"
     ]
    },
    {
     "name": "stdout",
     "output_type": "stream",
     "text": [
      "5 /Users/jjc/CSF/Recordings/2003-11-10_LH.hdf5\n"
     ]
    },
    {
     "name": "stdout",
     "output_type": "stream",
     "text": [
      "6 /Users/jjc/CSF/Recordings/2003-11-21_RP.hdf5\n"
     ]
    },
    {
     "name": "stdout",
     "output_type": "stream",
     "text": [
      "7 /Users/jjc/CSF/Recordings/2003-11-24_EP.hdf5\n"
     ]
    },
    {
     "name": "stdout",
     "output_type": "stream",
     "text": [
      "8 /Users/jjc/CSF/Recordings/2003-11-25_JF.hdf5\n"
     ]
    },
    {
     "name": "stdout",
     "output_type": "stream",
     "text": [
      "9 /Users/jjc/CSF/Recordings/2003-12-04_JF.hdf5\n"
     ]
    },
    {
     "name": "stdout",
     "output_type": "stream",
     "text": [
      "10 /Users/jjc/CSF/Recordings/2003-12-18_GC.hdf5\n"
     ]
    },
    {
     "name": "stdout",
     "output_type": "stream",
     "text": [
      "11 /Users/jjc/CSF/Recordings/2004-01-06_FPP.hdf5\n"
     ]
    },
    {
     "name": "stdout",
     "output_type": "stream",
     "text": [
      "12 /Users/jjc/CSF/Recordings/2004-01-20_JR.hdf5\n"
     ]
    },
    {
     "name": "stdout",
     "output_type": "stream",
     "text": [
      "13 /Users/jjc/CSF/Recordings/2004-01-26_JN.hdf5\n"
     ]
    },
    {
     "name": "stdout",
     "output_type": "stream",
     "text": [
      "14 /Users/jjc/CSF/Recordings/IIH_20180208125333_INF1.hdf5\n"
     ]
    },
    {
     "name": "stdout",
     "output_type": "stream",
     "text": [
      "15 /Users/jjc/CSF/Recordings/INF_20040213110407_INF1.hdf5\n"
     ]
    },
    {
     "name": "stdout",
     "output_type": "stream",
     "text": [
      "16 /Users/jjc/CSF/Recordings/INF_20040213141526_INF1.hdf5\n"
     ]
    },
    {
     "name": "stdout",
     "output_type": "stream",
     "text": [
      "17 /Users/jjc/CSF/Recordings/INF_20040216161647_INF1.hdf5\n"
     ]
    },
    {
     "name": "stdout",
     "output_type": "stream",
     "text": [
      "18 /Users/jjc/CSF/Recordings/INF_20040220085450_INF1.hdf5\n"
     ]
    },
    {
     "name": "stdout",
     "output_type": "stream",
     "text": [
      "19 /Users/jjc/CSF/Recordings/INF_20040227150554_INF1.hdf5\n"
     ]
    },
    {
     "name": "stdout",
     "output_type": "stream",
     "text": [
      "20 /Users/jjc/CSF/Recordings/INF_20040301131626_INF1.hdf5\n"
     ]
    },
    {
     "name": "stdout",
     "output_type": "stream",
     "text": [
      "21 /Users/jjc/CSF/Recordings/INF_20040301174355_INF1.hdf5\n"
     ]
    },
    {
     "name": "stdout",
     "output_type": "stream",
     "text": [
      "22 /Users/jjc/CSF/Recordings/INF_20040303150950_INF1.hdf5\n"
     ]
    },
    {
     "name": "stdout",
     "output_type": "stream",
     "text": [
      "23 /Users/jjc/CSF/Recordings/INF_20040305140541_INF1.hdf5\n"
     ]
    },
    {
     "name": "stdout",
     "output_type": "stream",
     "text": [
      "24 /Users/jjc/CSF/Recordings/INF_20040318124826_INF1.hdf5\n"
     ]
    },
    {
     "name": "stdout",
     "output_type": "stream",
     "text": [
      "25 /Users/jjc/CSF/Recordings/INF_20040330130710_INF1.hdf5\n"
     ]
    },
    {
     "name": "stdout",
     "output_type": "stream",
     "text": [
      "26 /Users/jjc/CSF/Recordings/INF_20040331143540_INF1.hdf5\n"
     ]
    },
    {
     "name": "stdout",
     "output_type": "stream",
     "text": [
      "27 /Users/jjc/CSF/Recordings/INF_20040406113730_INF1.hdf5\n"
     ]
    },
    {
     "name": "stdout",
     "output_type": "stream",
     "text": [
      "28 /Users/jjc/CSF/Recordings/INF_20040407114242_INF1.hdf5\n"
     ]
    },
    {
     "name": "stdout",
     "output_type": "stream",
     "text": [
      "29 /Users/jjc/CSF/Recordings/INF_20040413143520_INF1.hdf5\n"
     ]
    },
    {
     "name": "stdout",
     "output_type": "stream",
     "text": [
      "30 /Users/jjc/CSF/Recordings/INF_20040416110226_INF1.hdf5\n"
     ]
    },
    {
     "name": "stdout",
     "output_type": "stream",
     "text": [
      "31 /Users/jjc/CSF/Recordings/INF_20040421111409_INF1.hdf5\n"
     ]
    },
    {
     "name": "stdout",
     "output_type": "stream",
     "text": [
      "32 /Users/jjc/CSF/Recordings/INF_20040422143139_INF1.hdf5\n"
     ]
    },
    {
     "name": "stdout",
     "output_type": "stream",
     "text": [
      "33 /Users/jjc/CSF/Recordings/INF_20040426145821_INF1.hdf5\n"
     ]
    },
    {
     "name": "stdout",
     "output_type": "stream",
     "text": [
      "34 /Users/jjc/CSF/Recordings/INF_20040427144752_INF1.hdf5\n"
     ]
    },
    {
     "name": "stdout",
     "output_type": "stream",
     "text": [
      "35 /Users/jjc/CSF/Recordings/INF_20040513142948_INF1.hdf5\n"
     ]
    },
    {
     "name": "stdout",
     "output_type": "stream",
     "text": [
      "36 /Users/jjc/CSF/Recordings/INF_20040526113651_INF1.hdf5\n"
     ]
    },
    {
     "name": "stdout",
     "output_type": "stream",
     "text": [
      "37 /Users/jjc/CSF/Recordings/INF_20040608115701_INF1.hdf5\n"
     ]
    },
    {
     "name": "stdout",
     "output_type": "stream",
     "text": [
      "38 /Users/jjc/CSF/Recordings/INF_20040611113226_INF1.hdf5\n"
     ]
    },
    {
     "name": "stdout",
     "output_type": "stream",
     "text": [
      "39 /Users/jjc/CSF/Recordings/INF_20040611164520_INF1.hdf5\n"
     ]
    },
    {
     "name": "stdout",
     "output_type": "stream",
     "text": [
      "40 /Users/jjc/CSF/Recordings/INF_20040614100107_INF1.hdf5\n"
     ]
    },
    {
     "name": "stdout",
     "output_type": "stream",
     "text": [
      "41 /Users/jjc/CSF/Recordings/INF_20040614125620_INF1.hdf5\n"
     ]
    },
    {
     "name": "stdout",
     "output_type": "stream",
     "text": [
      "42 /Users/jjc/CSF/Recordings/INF_20040615165210_INF1.hdf5\n"
     ]
    },
    {
     "name": "stdout",
     "output_type": "stream",
     "text": [
      "43 /Users/jjc/CSF/Recordings/INF_20040618114248_INF1.hdf5\n"
     ]
    },
    {
     "name": "stdout",
     "output_type": "stream",
     "text": [
      "44 /Users/jjc/CSF/Recordings/INF_20040618142104_INF1.hdf5\n"
     ]
    },
    {
     "name": "stdout",
     "output_type": "stream",
     "text": [
      "45 /Users/jjc/CSF/Recordings/INF_20040625151440_INF1.hdf5\n"
     ]
    },
    {
     "name": "stdout",
     "output_type": "stream",
     "text": [
      "46 /Users/jjc/CSF/Recordings/INF_20040629120532_INF1.hdf5\n"
     ]
    },
    {
     "name": "stdout",
     "output_type": "stream",
     "text": [
      "47 /Users/jjc/CSF/Recordings/INF_20040701104035_INF1.hdf5\n"
     ]
    },
    {
     "name": "stdout",
     "output_type": "stream",
     "text": [
      "48 /Users/jjc/CSF/Recordings/INF_20040702135252_INF1.hdf5\n"
     ]
    },
    {
     "name": "stdout",
     "output_type": "stream",
     "text": [
      "49 /Users/jjc/CSF/Recordings/INF_20040709115657_INF1.hdf5\n"
     ]
    },
    {
     "name": "stdout",
     "output_type": "stream",
     "text": [
      "50 /Users/jjc/CSF/Recordings/INF_20040712150950_INF1.hdf5\n"
     ]
    },
    {
     "name": "stdout",
     "output_type": "stream",
     "text": [
      "51 /Users/jjc/CSF/Recordings/INF_20040716175751_INF1.hdf5\n"
     ]
    },
    {
     "name": "stdout",
     "output_type": "stream",
     "text": [
      "52 /Users/jjc/CSF/Recordings/INF_20040720150957_INF1.hdf5\n"
     ]
    },
    {
     "name": "stdout",
     "output_type": "stream",
     "text": [
      "53 /Users/jjc/CSF/Recordings/INF_20040727151734_INF1.hdf5\n"
     ]
    },
    {
     "name": "stdout",
     "output_type": "stream",
     "text": [
      "54 /Users/jjc/CSF/Recordings/INF_20040730140844_INF1.hdf5\n"
     ]
    },
    {
     "name": "stdout",
     "output_type": "stream",
     "text": [
      "55 /Users/jjc/CSF/Recordings/INF_20040802115823_INF1.hdf5\n"
     ]
    },
    {
     "name": "stdout",
     "output_type": "stream",
     "text": [
      "56 /Users/jjc/CSF/Recordings/INF_20040805133347_INF1.hdf5\n"
     ]
    },
    {
     "name": "stdout",
     "output_type": "stream",
     "text": [
      "57 /Users/jjc/CSF/Recordings/INF_20040806112816_INF1.hdf5\n"
     ]
    },
    {
     "name": "stdout",
     "output_type": "stream",
     "text": [
      "58 /Users/jjc/CSF/Recordings/INF_20040809095413_INF1.hdf5\n"
     ]
    },
    {
     "name": "stdout",
     "output_type": "stream",
     "text": [
      "59 /Users/jjc/CSF/Recordings/INF_20040810130419_INF1.hdf5\n"
     ]
    },
    {
     "name": "stdout",
     "output_type": "stream",
     "text": [
      "60 /Users/jjc/CSF/Recordings/INF_20040812112052_INF1.hdf5\n"
     ]
    },
    {
     "name": "stdout",
     "output_type": "stream",
     "text": [
      "61 /Users/jjc/CSF/Recordings/INF_20040827111223_INF1.hdf5\n"
     ]
    },
    {
     "name": "stdout",
     "output_type": "stream",
     "text": [
      "62 /Users/jjc/CSF/Recordings/INF_20040927020634_INF1.hdf5\n"
     ]
    },
    {
     "name": "stdout",
     "output_type": "stream",
     "text": [
      "63 /Users/jjc/CSF/Recordings/INF_20041012172510_INF1.hdf5\n"
     ]
    },
    {
     "name": "stdout",
     "output_type": "stream",
     "text": [
      "64 /Users/jjc/CSF/Recordings/INF_20041012184107_INF1.hdf5\n"
     ]
    },
    {
     "name": "stdout",
     "output_type": "stream",
     "text": [
      "65 /Users/jjc/CSF/Recordings/INF_20041018133242_INF1.hdf5\n"
     ]
    },
    {
     "name": "stdout",
     "output_type": "stream",
     "text": [
      "66 /Users/jjc/CSF/Recordings/INF_20041020220443_INF1.hdf5\n"
     ]
    },
    {
     "name": "stdout",
     "output_type": "stream",
     "text": [
      "67 /Users/jjc/CSF/Recordings/INF_20041021220443_INF1.hdf5\n"
     ]
    },
    {
     "name": "stdout",
     "output_type": "stream",
     "text": [
      "68 /Users/jjc/CSF/Recordings/INF_20041031100008_INF1.hdf5\n"
     ]
    },
    {
     "name": "stdout",
     "output_type": "stream",
     "text": [
      "69 /Users/jjc/CSF/Recordings/INF_20041109100008_INF1.hdf5\n"
     ]
    },
    {
     "name": "stdout",
     "output_type": "stream",
     "text": [
      "70 /Users/jjc/CSF/Recordings/INF_20041115115605_INF1.hdf5\n"
     ]
    },
    {
     "name": "stdout",
     "output_type": "stream",
     "text": [
      "71 /Users/jjc/CSF/Recordings/INF_20041202172823_INF1.hdf5\n"
     ]
    },
    {
     "name": "stdout",
     "output_type": "stream",
     "text": [
      "72 /Users/jjc/CSF/Recordings/INF_20041203172823_INF1.hdf5\n"
     ]
    },
    {
     "name": "stdout",
     "output_type": "stream",
     "text": [
      "73 /Users/jjc/CSF/Recordings/INF_20041206120014_INF1.hdf5\n"
     ]
    },
    {
     "name": "stdout",
     "output_type": "stream",
     "text": [
      "74 /Users/jjc/CSF/Recordings/INF_20041214135424_INF1.hdf5\n"
     ]
    },
    {
     "name": "stdout",
     "output_type": "stream",
     "text": [
      "75 /Users/jjc/CSF/Recordings/INF_20041217144914_INF1.hdf5\n"
     ]
    },
    {
     "name": "stdout",
     "output_type": "stream",
     "text": [
      "76 /Users/jjc/CSF/Recordings/INF_20041222144448_INF1.hdf5\n"
     ]
    },
    {
     "name": "stdout",
     "output_type": "stream",
     "text": [
      "77 /Users/jjc/CSF/Recordings/INF_20041222181349_INF1.hdf5\n"
     ]
    },
    {
     "name": "stdout",
     "output_type": "stream",
     "text": [
      "78 /Users/jjc/CSF/Recordings/INF_20041223181349_INF1.hdf5\n"
     ]
    },
    {
     "name": "stdout",
     "output_type": "stream",
     "text": [
      "79 /Users/jjc/CSF/Recordings/INF_20050107131926_INF1.hdf5\n"
     ]
    },
    {
     "name": "stdout",
     "output_type": "stream",
     "text": [
      "80 /Users/jjc/CSF/Recordings/INF_20050117162613_INF1.hdf5\n"
     ]
    },
    {
     "name": "stdout",
     "output_type": "stream",
     "text": [
      "81 /Users/jjc/CSF/Recordings/INF_20050117180136_INF1.hdf5\n"
     ]
    },
    {
     "name": "stdout",
     "output_type": "stream",
     "text": [
      "82 /Users/jjc/CSF/Recordings/INF_20050204091351_INF1.hdf5\n"
     ]
    },
    {
     "name": "stdout",
     "output_type": "stream",
     "text": [
      "83 /Users/jjc/CSF/Recordings/INF_20050208155414_INF1.hdf5\n"
     ]
    },
    {
     "name": "stdout",
     "output_type": "stream",
     "text": [
      "84 /Users/jjc/CSF/Recordings/INF_20050225144221_INF1.hdf5\n"
     ]
    },
    {
     "name": "stdout",
     "output_type": "stream",
     "text": [
      "85 /Users/jjc/CSF/Recordings/INF_20050301140504_INF1.hdf5\n"
     ]
    },
    {
     "name": "stdout",
     "output_type": "stream",
     "text": [
      "86 /Users/jjc/CSF/Recordings/INF_20050301144221_INF1.hdf5\n"
     ]
    },
    {
     "name": "stdout",
     "output_type": "stream",
     "text": [
      "87 /Users/jjc/CSF/Recordings/INF_20050303142120_INF1.hdf5\n"
     ]
    },
    {
     "name": "stdout",
     "output_type": "stream",
     "text": [
      "88 /Users/jjc/CSF/Recordings/INF_20050311120757_INF1.hdf5\n"
     ]
    },
    {
     "name": "stdout",
     "output_type": "stream",
     "text": [
      "89 /Users/jjc/CSF/Recordings/INF_20050322142108_INF1.hdf5\n"
     ]
    },
    {
     "name": "stdout",
     "output_type": "stream",
     "text": [
      "90 /Users/jjc/CSF/Recordings/INF_20050330190658_INF1.hdf5\n"
     ]
    },
    {
     "name": "stdout",
     "output_type": "stream",
     "text": [
      "91 /Users/jjc/CSF/Recordings/INF_20050412110354_INF1.hdf5\n"
     ]
    },
    {
     "name": "stdout",
     "output_type": "stream",
     "text": [
      "92 /Users/jjc/CSF/Recordings/INF_20050413164533_INF1.hdf5\n"
     ]
    },
    {
     "name": "stdout",
     "output_type": "stream",
     "text": [
      "93 /Users/jjc/CSF/Recordings/INF_20050418114644_INF1.hdf5\n"
     ]
    },
    {
     "name": "stdout",
     "output_type": "stream",
     "text": [
      "94 /Users/jjc/CSF/Recordings/INF_20050425171738_INF1.hdf5\n"
     ]
    },
    {
     "name": "stdout",
     "output_type": "stream",
     "text": [
      "95 /Users/jjc/CSF/Recordings/INF_20050427130426_INF1.hdf5\n"
     ]
    },
    {
     "name": "stdout",
     "output_type": "stream",
     "text": [
      "96 /Users/jjc/CSF/Recordings/INF_20050503130316_INF1.hdf5\n"
     ]
    },
    {
     "name": "stdout",
     "output_type": "stream",
     "text": [
      "97 /Users/jjc/CSF/Recordings/INF_20050503140856_INF1.hdf5\n"
     ]
    },
    {
     "name": "stdout",
     "output_type": "stream",
     "text": [
      "98 /Users/jjc/CSF/Recordings/INF_20050503155119_INF1.hdf5\n"
     ]
    },
    {
     "name": "stdout",
     "output_type": "stream",
     "text": [
      "99 /Users/jjc/CSF/Recordings/INF_20050510141045_INF1.hdf5\n"
     ]
    },
    {
     "name": "stdout",
     "output_type": "stream",
     "text": [
      "100 /Users/jjc/CSF/Recordings/INF_20050531140254_INF1.hdf5\n"
     ]
    },
    {
     "name": "stdout",
     "output_type": "stream",
     "text": [
      "101 /Users/jjc/CSF/Recordings/INF_20050606190729_INF1.hdf5\n"
     ]
    },
    {
     "name": "stdout",
     "output_type": "stream",
     "text": [
      "102 /Users/jjc/CSF/Recordings/INF_20050607141835_INF1.hdf5\n"
     ]
    },
    {
     "name": "stdout",
     "output_type": "stream",
     "text": [
      "103 /Users/jjc/CSF/Recordings/INF_20050608124005_INF1.hdf5\n"
     ]
    },
    {
     "name": "stdout",
     "output_type": "stream",
     "text": [
      "104 /Users/jjc/CSF/Recordings/INF_20050613114753_INF1.hdf5\n"
     ]
    },
    {
     "name": "stdout",
     "output_type": "stream",
     "text": [
      "105 /Users/jjc/CSF/Recordings/INF_20050722133733_INF1.hdf5\n"
     ]
    },
    {
     "name": "stdout",
     "output_type": "stream",
     "text": [
      "106 /Users/jjc/CSF/Recordings/INF_20050726154928_INF1.hdf5\n"
     ]
    },
    {
     "name": "stdout",
     "output_type": "stream",
     "text": [
      "107 /Users/jjc/CSF/Recordings/INF_20050802141330_INF1.hdf5\n"
     ]
    },
    {
     "name": "stdout",
     "output_type": "stream",
     "text": [
      "108 /Users/jjc/CSF/Recordings/INF_20050915132422_INF1.hdf5\n"
     ]
    },
    {
     "name": "stdout",
     "output_type": "stream",
     "text": [
      "109 /Users/jjc/CSF/Recordings/INF_20050920113350_INF1.hdf5\n"
     ]
    },
    {
     "name": "stdout",
     "output_type": "stream",
     "text": [
      "110 /Users/jjc/CSF/Recordings/INF_20050920143247_INF1.hdf5\n"
     ]
    },
    {
     "name": "stdout",
     "output_type": "stream",
     "text": [
      "111 /Users/jjc/CSF/Recordings/INF_20050921160726_INF1.hdf5\n"
     ]
    },
    {
     "name": "stdout",
     "output_type": "stream",
     "text": [
      "112 /Users/jjc/CSF/Recordings/INF_20050921190258_INF1.hdf5\n"
     ]
    },
    {
     "name": "stdout",
     "output_type": "stream",
     "text": [
      "113 /Users/jjc/CSF/Recordings/INF_20051004085700_INF1.hdf5\n"
     ]
    },
    {
     "name": "stdout",
     "output_type": "stream",
     "text": [
      "114 /Users/jjc/CSF/Recordings/INF_20051004142943_INF1.hdf5\n"
     ]
    },
    {
     "name": "stdout",
     "output_type": "stream",
     "text": [
      "115 /Users/jjc/CSF/Recordings/INF_20051005102128_INF1.hdf5\n"
     ]
    },
    {
     "name": "stdout",
     "output_type": "stream",
     "text": [
      "116 /Users/jjc/CSF/Recordings/INF_20051007122901_INF1.hdf5\n"
     ]
    },
    {
     "name": "stdout",
     "output_type": "stream",
     "text": [
      "117 /Users/jjc/CSF/Recordings/INF_20051019122718_INF1.hdf5\n"
     ]
    },
    {
     "name": "stdout",
     "output_type": "stream",
     "text": [
      "118 /Users/jjc/CSF/Recordings/INF_20051115125129_INF1.hdf5\n"
     ]
    },
    {
     "name": "stdout",
     "output_type": "stream",
     "text": [
      "119 /Users/jjc/CSF/Recordings/INF_20051116113022_INF1.hdf5\n"
     ]
    },
    {
     "name": "stdout",
     "output_type": "stream",
     "text": [
      "120 /Users/jjc/CSF/Recordings/INF_20051118103552_INF1.hdf5\n"
     ]
    },
    {
     "name": "stdout",
     "output_type": "stream",
     "text": [
      "121 /Users/jjc/CSF/Recordings/INF_20051121113748_INF1.hdf5\n"
     ]
    },
    {
     "name": "stdout",
     "output_type": "stream",
     "text": [
      "122 /Users/jjc/CSF/Recordings/INF_20051122121204_INF1.hdf5\n"
     ]
    },
    {
     "name": "stdout",
     "output_type": "stream",
     "text": [
      "123 /Users/jjc/CSF/Recordings/INF_20051202152311_INF1.hdf5\n"
     ]
    },
    {
     "name": "stdout",
     "output_type": "stream",
     "text": [
      "124 /Users/jjc/CSF/Recordings/INF_20051213113731_INF1.hdf5\n"
     ]
    },
    {
     "name": "stdout",
     "output_type": "stream",
     "text": [
      "125 /Users/jjc/CSF/Recordings/INF_20051223103611_INF1.hdf5\n"
     ]
    },
    {
     "name": "stdout",
     "output_type": "stream",
     "text": [
      "126 /Users/jjc/CSF/Recordings/INF_20060103120106_INF1.hdf5\n"
     ]
    },
    {
     "name": "stdout",
     "output_type": "stream",
     "text": [
      "127 /Users/jjc/CSF/Recordings/INF_20060116174746_INF1.hdf5\n"
     ]
    },
    {
     "name": "stdout",
     "output_type": "stream",
     "text": [
      "128 /Users/jjc/CSF/Recordings/INF_20060119133018_INF1.hdf5\n"
     ]
    },
    {
     "name": "stdout",
     "output_type": "stream",
     "text": [
      "129 /Users/jjc/CSF/Recordings/INF_20060120111641_INF1.hdf5\n"
     ]
    },
    {
     "name": "stdout",
     "output_type": "stream",
     "text": [
      "130 /Users/jjc/CSF/Recordings/INF_20060126133017_INF1.hdf5\n"
     ]
    },
    {
     "name": "stdout",
     "output_type": "stream",
     "text": [
      "131 /Users/jjc/CSF/Recordings/INF_20060126161553_INF1.hdf5\n"
     ]
    },
    {
     "name": "stdout",
     "output_type": "stream",
     "text": [
      "132 /Users/jjc/CSF/Recordings/INF_20060202123415_INF1.hdf5\n"
     ]
    },
    {
     "name": "stdout",
     "output_type": "stream",
     "text": [
      "133 /Users/jjc/CSF/Recordings/INF_20060202155050_INF1.hdf5\n"
     ]
    },
    {
     "name": "stdout",
     "output_type": "stream",
     "text": [
      "134 /Users/jjc/CSF/Recordings/INF_20060207115106_INF1.hdf5\n"
     ]
    },
    {
     "name": "stdout",
     "output_type": "stream",
     "text": [
      "135 /Users/jjc/CSF/Recordings/INF_20060306132303_INF1.hdf5\n"
     ]
    },
    {
     "name": "stdout",
     "output_type": "stream",
     "text": [
      "136 /Users/jjc/CSF/Recordings/INF_20060317140641_INF1.hdf5\n"
     ]
    },
    {
     "name": "stdout",
     "output_type": "stream",
     "text": [
      "137 /Users/jjc/CSF/Recordings/INF_20060317154240_INF1.hdf5\n"
     ]
    },
    {
     "name": "stdout",
     "output_type": "stream",
     "text": [
      "138 /Users/jjc/CSF/Recordings/INF_20060323113554_INF1.hdf5\n"
     ]
    },
    {
     "name": "stdout",
     "output_type": "stream",
     "text": [
      "139 /Users/jjc/CSF/Recordings/INF_20060331121052_INF1.hdf5\n"
     ]
    },
    {
     "name": "stdout",
     "output_type": "stream",
     "text": [
      "140 /Users/jjc/CSF/Recordings/INF_20060410163225_INF1.hdf5\n"
     ]
    },
    {
     "name": "stdout",
     "output_type": "stream",
     "text": [
      "141 /Users/jjc/CSF/Recordings/INF_20060411090849_INF1.hdf5\n"
     ]
    },
    {
     "name": "stdout",
     "output_type": "stream",
     "text": [
      "142 /Users/jjc/CSF/Recordings/INF_20060413145628_INF1.hdf5\n"
     ]
    },
    {
     "name": "stdout",
     "output_type": "stream",
     "text": [
      "143 /Users/jjc/CSF/Recordings/INF_20060419122006_INF1.hdf5\n"
     ]
    },
    {
     "name": "stdout",
     "output_type": "stream",
     "text": [
      "144 /Users/jjc/CSF/Recordings/INF_20060502191705_INF1.hdf5\n"
     ]
    },
    {
     "name": "stdout",
     "output_type": "stream",
     "text": [
      "145 /Users/jjc/CSF/Recordings/INF_20060510165559_INF1.hdf5\n"
     ]
    },
    {
     "name": "stdout",
     "output_type": "stream",
     "text": [
      "146 /Users/jjc/CSF/Recordings/INF_20060511141557_INF1.hdf5\n"
     ]
    },
    {
     "name": "stdout",
     "output_type": "stream",
     "text": [
      "147 /Users/jjc/CSF/Recordings/INF_20060608131512_INF1.hdf5\n"
     ]
    },
    {
     "name": "stdout",
     "output_type": "stream",
     "text": [
      "148 /Users/jjc/CSF/Recordings/INF_20060608164034_INF1.hdf5\n"
     ]
    },
    {
     "name": "stdout",
     "output_type": "stream",
     "text": [
      "149 /Users/jjc/CSF/Recordings/INF_20060613123522_INF1.hdf5\n"
     ]
    },
    {
     "name": "stdout",
     "output_type": "stream",
     "text": [
      "150 /Users/jjc/CSF/Recordings/INF_20060620141511_INF1.hdf5\n"
     ]
    },
    {
     "name": "stdout",
     "output_type": "stream",
     "text": [
      "151 /Users/jjc/CSF/Recordings/INF_20060621131633_INF1.hdf5\n"
     ]
    },
    {
     "name": "stdout",
     "output_type": "stream",
     "text": [
      "152 /Users/jjc/CSF/Recordings/INF_20060707092137_INF1.hdf5\n"
     ]
    },
    {
     "name": "stdout",
     "output_type": "stream",
     "text": [
      "153 /Users/jjc/CSF/Recordings/INF_20060714111833_INF1.hdf5\n"
     ]
    },
    {
     "name": "stdout",
     "output_type": "stream",
     "text": [
      "154 /Users/jjc/CSF/Recordings/INF_20060720110728_INF1.hdf5\n"
     ]
    },
    {
     "name": "stdout",
     "output_type": "stream",
     "text": [
      "155 /Users/jjc/CSF/Recordings/INF_20060720160944_INF1.hdf5\n"
     ]
    },
    {
     "name": "stdout",
     "output_type": "stream",
     "text": [
      "156 /Users/jjc/CSF/Recordings/INF_20060721115256_INF1.hdf5\n"
     ]
    },
    {
     "name": "stdout",
     "output_type": "stream",
     "text": [
      "157 /Users/jjc/CSF/Recordings/INF_20060725124041_INF1.hdf5\n"
     ]
    },
    {
     "name": "stdout",
     "output_type": "stream",
     "text": [
      "158 /Users/jjc/CSF/Recordings/INF_20060728122731_INF1.hdf5\n"
     ]
    },
    {
     "name": "stdout",
     "output_type": "stream",
     "text": [
      "159 /Users/jjc/CSF/Recordings/INF_20060808152352_INF1.hdf5\n"
     ]
    },
    {
     "name": "stdout",
     "output_type": "stream",
     "text": [
      "160 /Users/jjc/CSF/Recordings/INF_20060816113657_INF1.hdf5\n"
     ]
    },
    {
     "name": "stdout",
     "output_type": "stream",
     "text": [
      "161 /Users/jjc/CSF/Recordings/INF_20060824144045_INF1.hdf5\n"
     ]
    },
    {
     "name": "stdout",
     "output_type": "stream",
     "text": [
      "162 /Users/jjc/CSF/Recordings/INF_20060831162434_INF1.hdf5\n"
     ]
    },
    {
     "name": "stdout",
     "output_type": "stream",
     "text": [
      "163 /Users/jjc/CSF/Recordings/INF_20060914121528_INF1.hdf5\n"
     ]
    },
    {
     "name": "stdout",
     "output_type": "stream",
     "text": [
      "164 /Users/jjc/CSF/Recordings/INF_20060919095413_INF1.hdf5\n"
     ]
    },
    {
     "name": "stdout",
     "output_type": "stream",
     "text": [
      "165 /Users/jjc/CSF/Recordings/INF_20060919204159_INF1.hdf5\n"
     ]
    },
    {
     "name": "stdout",
     "output_type": "stream",
     "text": [
      "166 /Users/jjc/CSF/Recordings/INF_20060929125855_INF1.hdf5\n"
     ]
    },
    {
     "name": "stdout",
     "output_type": "stream",
     "text": [
      "167 /Users/jjc/CSF/Recordings/INF_20061002171048_INF1.hdf5\n"
     ]
    },
    {
     "name": "stdout",
     "output_type": "stream",
     "text": [
      "168 /Users/jjc/CSF/Recordings/INF_20061009140159_INF1.hdf5\n"
     ]
    },
    {
     "name": "stdout",
     "output_type": "stream",
     "text": [
      "169 /Users/jjc/CSF/Recordings/INF_20061019152102_INF1.hdf5\n"
     ]
    },
    {
     "name": "stdout",
     "output_type": "stream",
     "text": [
      "170 /Users/jjc/CSF/Recordings/INF_20061019152317_INF1.hdf5\n"
     ]
    },
    {
     "name": "stdout",
     "output_type": "stream",
     "text": [
      "171 /Users/jjc/CSF/Recordings/INF_20061107100546_INF1.hdf5\n"
     ]
    },
    {
     "name": "stdout",
     "output_type": "stream",
     "text": [
      "172 /Users/jjc/CSF/Recordings/INF_20061107140523_INF1.hdf5\n"
     ]
    },
    {
     "name": "stdout",
     "output_type": "stream",
     "text": [
      "173 /Users/jjc/CSF/Recordings/INF_20061109140327_INF1.hdf5\n"
     ]
    },
    {
     "name": "stdout",
     "output_type": "stream",
     "text": [
      "174 /Users/jjc/CSF/Recordings/INF_20061115091236_INF1.hdf5\n"
     ]
    },
    {
     "name": "stdout",
     "output_type": "stream",
     "text": [
      "175 /Users/jjc/CSF/Recordings/INF_20061121102351_INF1.hdf5\n"
     ]
    },
    {
     "name": "stdout",
     "output_type": "stream",
     "text": [
      "176 /Users/jjc/CSF/Recordings/INF_20061127111525_INF1.hdf5\n"
     ]
    },
    {
     "name": "stdout",
     "output_type": "stream",
     "text": [
      "177 /Users/jjc/CSF/Recordings/INF_20061128104646_INF1.hdf5\n"
     ]
    },
    {
     "name": "stdout",
     "output_type": "stream",
     "text": [
      "178 /Users/jjc/CSF/Recordings/INF_20061128160817_INF1.hdf5\n"
     ]
    },
    {
     "name": "stdout",
     "output_type": "stream",
     "text": [
      "179 /Users/jjc/CSF/Recordings/INF_20061207105242_INF1.hdf5\n"
     ]
    },
    {
     "name": "stdout",
     "output_type": "stream",
     "text": [
      "180 /Users/jjc/CSF/Recordings/INF_20061207135652_INF1.hdf5\n"
     ]
    },
    {
     "name": "stdout",
     "output_type": "stream",
     "text": [
      "181 /Users/jjc/CSF/Recordings/INF_20061207160859_INF1.hdf5\n"
     ]
    },
    {
     "name": "stdout",
     "output_type": "stream",
     "text": [
      "182 /Users/jjc/CSF/Recordings/INF_20061212113858_INF1.hdf5\n"
     ]
    },
    {
     "name": "stdout",
     "output_type": "stream",
     "text": [
      "183 /Users/jjc/CSF/Recordings/INF_20061212144103_INF1.hdf5\n"
     ]
    },
    {
     "name": "stdout",
     "output_type": "stream",
     "text": [
      "184 /Users/jjc/CSF/Recordings/INF_20061220110128_INF1.hdf5\n"
     ]
    },
    {
     "name": "stdout",
     "output_type": "stream",
     "text": [
      "185 /Users/jjc/CSF/Recordings/INF_20070102153638_INF1.hdf5\n"
     ]
    },
    {
     "name": "stdout",
     "output_type": "stream",
     "text": [
      "186 /Users/jjc/CSF/Recordings/INF_20070105154326_INF1.hdf5\n"
     ]
    },
    {
     "name": "stdout",
     "output_type": "stream",
     "text": [
      "187 /Users/jjc/CSF/Recordings/INF_20070109094202_INF1.hdf5\n"
     ]
    },
    {
     "name": "stdout",
     "output_type": "stream",
     "text": [
      "188 /Users/jjc/CSF/Recordings/INF_20070109145552_INF1.hdf5\n"
     ]
    },
    {
     "name": "stdout",
     "output_type": "stream",
     "text": [
      "189 /Users/jjc/CSF/Recordings/INF_20070123141636_INF1.hdf5\n"
     ]
    },
    {
     "name": "stdout",
     "output_type": "stream",
     "text": [
      "190 /Users/jjc/CSF/Recordings/INF_20070130121303_INF1.hdf5\n"
     ]
    },
    {
     "name": "stdout",
     "output_type": "stream",
     "text": [
      "191 /Users/jjc/CSF/Recordings/INF_20070206181310_INF1.hdf5\n"
     ]
    },
    {
     "name": "stdout",
     "output_type": "stream",
     "text": [
      "192 /Users/jjc/CSF/Recordings/INF_20070212110039_INF1.hdf5\n"
     ]
    },
    {
     "name": "stdout",
     "output_type": "stream",
     "text": [
      "193 /Users/jjc/CSF/Recordings/INF_20070213110040_INF1.hdf5\n"
     ]
    },
    {
     "name": "stdout",
     "output_type": "stream",
     "text": [
      "194 /Users/jjc/CSF/Recordings/INF_20070214110033_INF1.hdf5\n"
     ]
    },
    {
     "name": "stdout",
     "output_type": "stream",
     "text": [
      "195 /Users/jjc/CSF/Recordings/INF_20070215153910_INF1.hdf5\n"
     ]
    },
    {
     "name": "stdout",
     "output_type": "stream",
     "text": [
      "196 /Users/jjc/CSF/Recordings/INF_20070322115628_INF1.hdf5\n"
     ]
    },
    {
     "name": "stdout",
     "output_type": "stream",
     "text": [
      "197 /Users/jjc/CSF/Recordings/INF_20070323153105_INF1.hdf5\n"
     ]
    },
    {
     "name": "stdout",
     "output_type": "stream",
     "text": [
      "198 /Users/jjc/CSF/Recordings/INF_20070326143813_INF1.hdf5\n"
     ]
    },
    {
     "name": "stdout",
     "output_type": "stream",
     "text": [
      "199 /Users/jjc/CSF/Recordings/INF_20070418122603_INF1.hdf5\n"
     ]
    },
    {
     "name": "stdout",
     "output_type": "stream",
     "text": [
      "200 /Users/jjc/CSF/Recordings/INF_20070425091629_INF1.hdf5\n"
     ]
    },
    {
     "name": "stdout",
     "output_type": "stream",
     "text": [
      "201 /Users/jjc/CSF/Recordings/INF_20070515151624_INF1.hdf5\n"
     ]
    },
    {
     "name": "stdout",
     "output_type": "stream",
     "text": [
      "202 /Users/jjc/CSF/Recordings/INF_20070517154554_INF1.hdf5\n"
     ]
    },
    {
     "name": "stdout",
     "output_type": "stream",
     "text": [
      "203 /Users/jjc/CSF/Recordings/INF_20070518114041_INF1.hdf5\n"
     ]
    },
    {
     "name": "stdout",
     "output_type": "stream",
     "text": [
      "204 /Users/jjc/CSF/Recordings/INF_20070518153907_INF1.hdf5\n"
     ]
    },
    {
     "name": "stdout",
     "output_type": "stream",
     "text": [
      "205 /Users/jjc/CSF/Recordings/INF_20070525124201_INF1.hdf5\n"
     ]
    },
    {
     "name": "stdout",
     "output_type": "stream",
     "text": [
      "206 /Users/jjc/CSF/Recordings/INF_20070612140705_INF1.hdf5\n"
     ]
    },
    {
     "name": "stdout",
     "output_type": "stream",
     "text": [
      "207 /Users/jjc/CSF/Recordings/INF_20070614151132_INF1.hdf5\n"
     ]
    },
    {
     "name": "stdout",
     "output_type": "stream",
     "text": [
      "208 /Users/jjc/CSF/Recordings/INF_20070626142623_INF1.hdf5\n"
     ]
    },
    {
     "name": "stdout",
     "output_type": "stream",
     "text": [
      "209 /Users/jjc/CSF/Recordings/INF_20070701134519_INF1.hdf5\n"
     ]
    },
    {
     "name": "stdout",
     "output_type": "stream",
     "text": [
      "210 /Users/jjc/CSF/Recordings/INF_20070703091222_INF1.hdf5\n"
     ]
    },
    {
     "name": "stdout",
     "output_type": "stream",
     "text": [
      "211 /Users/jjc/CSF/Recordings/INF_20070710101616_INF1.hdf5\n"
     ]
    },
    {
     "name": "stdout",
     "output_type": "stream",
     "text": [
      "212 /Users/jjc/CSF/Recordings/INF_20070710120232_INF1.hdf5\n"
     ]
    },
    {
     "name": "stdout",
     "output_type": "stream",
     "text": [
      "213 /Users/jjc/CSF/Recordings/INF_20070711114437_INF1.hdf5\n"
     ]
    },
    {
     "name": "stdout",
     "output_type": "stream",
     "text": [
      "214 /Users/jjc/CSF/Recordings/INF_20070712090402_INF1.hdf5\n"
     ]
    },
    {
     "name": "stdout",
     "output_type": "stream",
     "text": [
      "215 /Users/jjc/CSF/Recordings/INF_20070713144120_INF1.hdf5\n"
     ]
    },
    {
     "name": "stdout",
     "output_type": "stream",
     "text": [
      "216 /Users/jjc/CSF/Recordings/INF_20070717115123_INF1.hdf5\n"
     ]
    },
    {
     "name": "stdout",
     "output_type": "stream",
     "text": [
      "217 /Users/jjc/CSF/Recordings/INF_20070731131504_INF1.hdf5\n"
     ]
    },
    {
     "name": "stdout",
     "output_type": "stream",
     "text": [
      "218 /Users/jjc/CSF/Recordings/INF_20070801134519_INF1.hdf5\n"
     ]
    },
    {
     "name": "stdout",
     "output_type": "stream",
     "text": [
      "219 /Users/jjc/CSF/Recordings/INF_20070813143624_INF1.hdf5\n"
     ]
    },
    {
     "name": "stdout",
     "output_type": "stream",
     "text": [
      "220 /Users/jjc/CSF/Recordings/INF_20070821112133_INF1.hdf5\n"
     ]
    },
    {
     "name": "stdout",
     "output_type": "stream",
     "text": [
      "221 /Users/jjc/CSF/Recordings/INF_20070828104033_INF1.hdf5\n"
     ]
    },
    {
     "name": "stdout",
     "output_type": "stream",
     "text": [
      "222 /Users/jjc/CSF/Recordings/INF_20070906110028_INF1.hdf5\n"
     ]
    },
    {
     "name": "stdout",
     "output_type": "stream",
     "text": [
      "223 /Users/jjc/CSF/Recordings/INF_20070906155301_INF1.hdf5\n"
     ]
    },
    {
     "name": "stdout",
     "output_type": "stream",
     "text": [
      "224 /Users/jjc/CSF/Recordings/INF_20070927155950_INF1.hdf5\n"
     ]
    },
    {
     "name": "stdout",
     "output_type": "stream",
     "text": [
      "225 /Users/jjc/CSF/Recordings/INF_20071004145602_INF1.hdf5\n"
     ]
    },
    {
     "name": "stdout",
     "output_type": "stream",
     "text": [
      "226 /Users/jjc/CSF/Recordings/INF_20071016145321_INF1.hdf5\n"
     ]
    },
    {
     "name": "stdout",
     "output_type": "stream",
     "text": [
      "227 /Users/jjc/CSF/Recordings/INF_20071017131439_INF1.hdf5\n"
     ]
    },
    {
     "name": "stdout",
     "output_type": "stream",
     "text": [
      "228 /Users/jjc/CSF/Recordings/INF_20071026150959_INF1.hdf5\n"
     ]
    },
    {
     "name": "stdout",
     "output_type": "stream",
     "text": [
      "229 /Users/jjc/CSF/Recordings/INF_20071113141303_INF1.hdf5\n"
     ]
    },
    {
     "name": "stdout",
     "output_type": "stream",
     "text": [
      "230 /Users/jjc/CSF/Recordings/INF_20071119114547_INF1.hdf5\n"
     ]
    },
    {
     "name": "stdout",
     "output_type": "stream",
     "text": [
      "231 /Users/jjc/CSF/Recordings/INF_20071219123553_INF1.hdf5\n"
     ]
    },
    {
     "name": "stdout",
     "output_type": "stream",
     "text": [
      "232 /Users/jjc/CSF/Recordings/INF_20080104161604_INF1.hdf5\n"
     ]
    },
    {
     "name": "stdout",
     "output_type": "stream",
     "text": [
      "233 /Users/jjc/CSF/Recordings/INF_20080110142501_INF1.hdf5\n"
     ]
    },
    {
     "name": "stdout",
     "output_type": "stream",
     "text": [
      "234 /Users/jjc/CSF/Recordings/INF_20080116102139_INF1.hdf5\n"
     ]
    },
    {
     "name": "stdout",
     "output_type": "stream",
     "text": [
      "235 /Users/jjc/CSF/Recordings/INF_20080124134645_INF1.hdf5\n"
     ]
    },
    {
     "name": "stdout",
     "output_type": "stream",
     "text": [
      "236 /Users/jjc/CSF/Recordings/INF_20080129140816_INF1.hdf5\n"
     ]
    },
    {
     "name": "stdout",
     "output_type": "stream",
     "text": [
      "237 /Users/jjc/CSF/Recordings/INF_20080214130433_INF1.hdf5\n"
     ]
    },
    {
     "name": "stdout",
     "output_type": "stream",
     "text": [
      "238 /Users/jjc/CSF/Recordings/INF_20080219151725_INF1.hdf5\n"
     ]
    },
    {
     "name": "stdout",
     "output_type": "stream",
     "text": [
      "239 /Users/jjc/CSF/Recordings/INF_20080225135303_INF1.hdf5\n"
     ]
    },
    {
     "name": "stdout",
     "output_type": "stream",
     "text": [
      "240 /Users/jjc/CSF/Recordings/INF_20080304111510_INF1.hdf5\n"
     ]
    },
    {
     "name": "stdout",
     "output_type": "stream",
     "text": [
      "241 /Users/jjc/CSF/Recordings/INF_20080306133535_INF1.hdf5\n"
     ]
    },
    {
     "name": "stdout",
     "output_type": "stream",
     "text": [
      "242 /Users/jjc/CSF/Recordings/INF_20080313143113_INF1.hdf5\n"
     ]
    },
    {
     "name": "stdout",
     "output_type": "stream",
     "text": [
      "243 /Users/jjc/CSF/Recordings/INF_20080404141956_INF1.hdf5\n"
     ]
    },
    {
     "name": "stdout",
     "output_type": "stream",
     "text": [
      "244 /Users/jjc/CSF/Recordings/INF_20080409123200_INF1.hdf5\n"
     ]
    },
    {
     "name": "stdout",
     "output_type": "stream",
     "text": [
      "245 /Users/jjc/CSF/Recordings/INF_20080415150651_INF1.hdf5\n"
     ]
    },
    {
     "name": "stdout",
     "output_type": "stream",
     "text": [
      "246 /Users/jjc/CSF/Recordings/INF_20080430134741_INF1.hdf5\n"
     ]
    },
    {
     "name": "stdout",
     "output_type": "stream",
     "text": [
      "247 /Users/jjc/CSF/Recordings/INF_20080507124940_INF1.hdf5\n"
     ]
    },
    {
     "name": "stdout",
     "output_type": "stream",
     "text": [
      "248 /Users/jjc/CSF/Recordings/INF_20080509104432_INF1.hdf5\n"
     ]
    },
    {
     "name": "stdout",
     "output_type": "stream",
     "text": [
      "249 /Users/jjc/CSF/Recordings/INF_20080512140036_INF1.hdf5\n"
     ]
    },
    {
     "name": "stdout",
     "output_type": "stream",
     "text": [
      "250 /Users/jjc/CSF/Recordings/INF_20080515120359_INF1.hdf5\n"
     ]
    },
    {
     "name": "stdout",
     "output_type": "stream",
     "text": [
      "251 /Users/jjc/CSF/Recordings/INF_20080606121958_INF1.hdf5\n"
     ]
    },
    {
     "name": "stdout",
     "output_type": "stream",
     "text": [
      "252 /Users/jjc/CSF/Recordings/INF_20080613103226_INF1.hdf5\n"
     ]
    },
    {
     "name": "stdout",
     "output_type": "stream",
     "text": [
      "253 /Users/jjc/CSF/Recordings/INF_20080619153100_INF1.hdf5\n"
     ]
    },
    {
     "name": "stdout",
     "output_type": "stream",
     "text": [
      "254 /Users/jjc/CSF/Recordings/INF_20080627120049_INF1.hdf5\n"
     ]
    },
    {
     "name": "stdout",
     "output_type": "stream",
     "text": [
      "255 /Users/jjc/CSF/Recordings/INF_20080703122250_INF1.hdf5\n"
     ]
    },
    {
     "name": "stdout",
     "output_type": "stream",
     "text": [
      "256 /Users/jjc/CSF/Recordings/INF_20080724160152_INF1.hdf5\n"
     ]
    },
    {
     "name": "stdout",
     "output_type": "stream",
     "text": [
      "257 /Users/jjc/CSF/Recordings/INF_20080728120012_INF1.hdf5\n"
     ]
    },
    {
     "name": "stdout",
     "output_type": "stream",
     "text": [
      "258 /Users/jjc/CSF/Recordings/INF_20080728160739_INF1.hdf5\n"
     ]
    },
    {
     "name": "stdout",
     "output_type": "stream",
     "text": [
      "259 /Users/jjc/CSF/Recordings/INF_20080729142934_INF1.hdf5\n"
     ]
    },
    {
     "name": "stdout",
     "output_type": "stream",
     "text": [
      "260 /Users/jjc/CSF/Recordings/INF_20080731143618_INF1.hdf5\n"
     ]
    },
    {
     "name": "stdout",
     "output_type": "stream",
     "text": [
      "261 /Users/jjc/CSF/Recordings/INF_20080904141434_INF1.hdf5\n"
     ]
    },
    {
     "name": "stdout",
     "output_type": "stream",
     "text": [
      "262 /Users/jjc/CSF/Recordings/INF_20080909150826_INF1.hdf5\n"
     ]
    },
    {
     "name": "stdout",
     "output_type": "stream",
     "text": [
      "263 /Users/jjc/CSF/Recordings/INF_20081009125858_INF1.hdf5\n"
     ]
    },
    {
     "name": "stdout",
     "output_type": "stream",
     "text": [
      "264 /Users/jjc/CSF/Recordings/INF_20081016153103_INF1.hdf5\n"
     ]
    },
    {
     "name": "stdout",
     "output_type": "stream",
     "text": [
      "265 /Users/jjc/CSF/Recordings/INF_20081017111100_INF1.hdf5\n"
     ]
    },
    {
     "name": "stdout",
     "output_type": "stream",
     "text": [
      "266 /Users/jjc/CSF/Recordings/INF_20081029114923_INF1.hdf5\n"
     ]
    },
    {
     "name": "stdout",
     "output_type": "stream",
     "text": [
      "267 /Users/jjc/CSF/Recordings/INF_20081106162410_INF1.hdf5\n"
     ]
    },
    {
     "name": "stdout",
     "output_type": "stream",
     "text": [
      "268 /Users/jjc/CSF/Recordings/INF_20081111153346_INF1.hdf5\n"
     ]
    },
    {
     "name": "stdout",
     "output_type": "stream",
     "text": [
      "269 /Users/jjc/CSF/Recordings/INF_20081113104446_INF1.hdf5\n"
     ]
    },
    {
     "name": "stdout",
     "output_type": "stream",
     "text": [
      "270 /Users/jjc/CSF/Recordings/INF_20081114115037_INF1.hdf5\n"
     ]
    },
    {
     "name": "stdout",
     "output_type": "stream",
     "text": [
      "271 /Users/jjc/CSF/Recordings/INF_20081118131650_INF1.hdf5\n"
     ]
    },
    {
     "name": "stdout",
     "output_type": "stream",
     "text": [
      "272 /Users/jjc/CSF/Recordings/INF_20081127135950_INF1.hdf5\n"
     ]
    },
    {
     "name": "stdout",
     "output_type": "stream",
     "text": [
      "273 /Users/jjc/CSF/Recordings/INF_20081216125137_INF1.hdf5\n"
     ]
    },
    {
     "name": "stdout",
     "output_type": "stream",
     "text": [
      "274 /Users/jjc/CSF/Recordings/INF_20090105141245_INF1.hdf5\n"
     ]
    },
    {
     "name": "stdout",
     "output_type": "stream",
     "text": [
      "275 /Users/jjc/CSF/Recordings/INF_20090210142109_NCCU3.hdf5\n"
     ]
    },
    {
     "name": "stdout",
     "output_type": "stream",
     "text": [
      "276 /Users/jjc/CSF/Recordings/INF_20090625140207_NCCU3.hdf5\n"
     ]
    },
    {
     "name": "stdout",
     "output_type": "stream",
     "text": [
      "277 /Users/jjc/CSF/Recordings/INF_20091110135801_INF2.hdf5\n"
     ]
    },
    {
     "name": "stdout",
     "output_type": "stream",
     "text": [
      "279 /Users/jjc/CSF/Recordings/INF_20101125085238_INF1.hdf5\n"
     ]
    },
    {
     "name": "stdout",
     "output_type": "stream",
     "text": [
      "280 /Users/jjc/CSF/Recordings/INF_20110726123515_INF1.hdf5\n"
     ]
    },
    {
     "name": "stdout",
     "output_type": "stream",
     "text": [
      "281 /Users/jjc/CSF/Recordings/INF_20111018162355_INF1.hdf5\n"
     ]
    },
    {
     "name": "stdout",
     "output_type": "stream",
     "text": [
      "282 /Users/jjc/CSF/Recordings/INF_20111115135929_INF1.hdf5\n"
     ]
    },
    {
     "name": "stdout",
     "output_type": "stream",
     "text": [
      "283 /Users/jjc/CSF/Recordings/INF_20120220161554_INF1.hdf5\n"
     ]
    },
    {
     "name": "stdout",
     "output_type": "stream",
     "text": [
      "284 /Users/jjc/CSF/Recordings/INF_20120403122543_INF1.hdf5\n"
     ]
    },
    {
     "name": "stdout",
     "output_type": "stream",
     "text": [
      "285 /Users/jjc/CSF/Recordings/INF_20120424123300_INF1.hdf5\n"
     ]
    },
    {
     "name": "stdout",
     "output_type": "stream",
     "text": [
      "286 /Users/jjc/CSF/Recordings/INF_20120426144728_INF1.hdf5\n"
     ]
    },
    {
     "name": "stdout",
     "output_type": "stream",
     "text": [
      "287 /Users/jjc/CSF/Recordings/INF_20120427115908_INF1.hdf5\n"
     ]
    },
    {
     "name": "stdout",
     "output_type": "stream",
     "text": [
      "288 /Users/jjc/CSF/Recordings/INF_20120607125156_INF1.hdf5\n"
     ]
    },
    {
     "name": "stdout",
     "output_type": "stream",
     "text": [
      "289 /Users/jjc/CSF/Recordings/INF_20120911132537_INF1.hdf5\n"
     ]
    },
    {
     "name": "stdout",
     "output_type": "stream",
     "text": [
      "290 /Users/jjc/CSF/Recordings/INF_20121023141522_INF1.hdf5\n"
     ]
    },
    {
     "name": "stdout",
     "output_type": "stream",
     "text": [
      "291 /Users/jjc/CSF/Recordings/INF_20121025121337_INF1.hdf5\n"
     ]
    },
    {
     "name": "stdout",
     "output_type": "stream",
     "text": [
      "292 /Users/jjc/CSF/Recordings/INF_20121120155409_INF1.hdf5\n"
     ]
    },
    {
     "name": "stdout",
     "output_type": "stream",
     "text": [
      "293 /Users/jjc/CSF/Recordings/INF_20121207151436_INF1.hdf5\n"
     ]
    },
    {
     "name": "stdout",
     "output_type": "stream",
     "text": [
      "294 /Users/jjc/CSF/Recordings/INF_20121211154458_INF1.hdf5\n"
     ]
    },
    {
     "name": "stdout",
     "output_type": "stream",
     "text": [
      "295 /Users/jjc/CSF/Recordings/INF_20121217142743_INF1.hdf5\n"
     ]
    },
    {
     "name": "stdout",
     "output_type": "stream",
     "text": [
      "296 /Users/jjc/CSF/Recordings/INF_20121220145454_INF1.hdf5\n"
     ]
    },
    {
     "name": "stdout",
     "output_type": "stream",
     "text": [
      "297 /Users/jjc/CSF/Recordings/INF_20121221132114_INF1.hdf5\n"
     ]
    },
    {
     "name": "stdout",
     "output_type": "stream",
     "text": [
      "298 /Users/jjc/CSF/Recordings/INF_20130129151308_INF1.hdf5\n"
     ]
    },
    {
     "name": "stdout",
     "output_type": "stream",
     "text": [
      "299 /Users/jjc/CSF/Recordings/INF_20130130125546_INF1.hdf5\n"
     ]
    },
    {
     "name": "stdout",
     "output_type": "stream",
     "text": [
      "300 /Users/jjc/CSF/Recordings/INF_20130320135826_INF1.hdf5\n"
     ]
    },
    {
     "name": "stdout",
     "output_type": "stream",
     "text": [
      "301 /Users/jjc/CSF/Recordings/INF_20130321120106_INF1.hdf5\n"
     ]
    },
    {
     "name": "stdout",
     "output_type": "stream",
     "text": [
      "302 /Users/jjc/CSF/Recordings/INF_20130327142358_INF1.hdf5\n"
     ]
    },
    {
     "name": "stdout",
     "output_type": "stream",
     "text": [
      "303 /Users/jjc/CSF/Recordings/INF_20130409140902_INF1.hdf5\n"
     ]
    },
    {
     "name": "stdout",
     "output_type": "stream",
     "text": [
      "304 /Users/jjc/CSF/Recordings/INF_20130411153743_INF1.hdf5\n"
     ]
    },
    {
     "name": "stdout",
     "output_type": "stream",
     "text": [
      "305 /Users/jjc/CSF/Recordings/INF_20130417141824_INF1.hdf5\n"
     ]
    },
    {
     "name": "stdout",
     "output_type": "stream",
     "text": [
      "306 /Users/jjc/CSF/Recordings/INF_20130604153808_INF1.hdf5\n"
     ]
    },
    {
     "name": "stdout",
     "output_type": "stream",
     "text": [
      "307 /Users/jjc/CSF/Recordings/INF_20130619153920_INF1.hdf5\n"
     ]
    },
    {
     "name": "stdout",
     "output_type": "stream",
     "text": [
      "308 /Users/jjc/CSF/Recordings/INF_20130701131057_INF1.hdf5\n"
     ]
    },
    {
     "name": "stdout",
     "output_type": "stream",
     "text": [
      "309 /Users/jjc/CSF/Recordings/INF_20130711155454_INF1.hdf5\n"
     ]
    },
    {
     "name": "stdout",
     "output_type": "stream",
     "text": [
      "310 /Users/jjc/CSF/Recordings/INF_20130722153938_INF1.hdf5\n"
     ]
    },
    {
     "name": "stdout",
     "output_type": "stream",
     "text": [
      "311 /Users/jjc/CSF/Recordings/INF_20130806143447_INF1.hdf5\n"
     ]
    },
    {
     "name": "stdout",
     "output_type": "stream",
     "text": [
      "312 /Users/jjc/CSF/Recordings/INF_20130820124200_INF1.hdf5\n"
     ]
    },
    {
     "name": "stdout",
     "output_type": "stream",
     "text": [
      "313 /Users/jjc/CSF/Recordings/INF_20130820142212_INF1.hdf5\n"
     ]
    },
    {
     "name": "stdout",
     "output_type": "stream",
     "text": [
      "314 /Users/jjc/CSF/Recordings/INF_20130822121227_INF1.hdf5\n"
     ]
    },
    {
     "name": "stdout",
     "output_type": "stream",
     "text": [
      "315 /Users/jjc/CSF/Recordings/INF_20130827134132_INF1.hdf5\n"
     ]
    },
    {
     "name": "stdout",
     "output_type": "stream",
     "text": [
      "316 /Users/jjc/CSF/Recordings/INF_20130828120105_INF1.hdf5\n"
     ]
    },
    {
     "name": "stdout",
     "output_type": "stream",
     "text": [
      "317 /Users/jjc/CSF/Recordings/INF_20130904131808_INF1.hdf5\n"
     ]
    },
    {
     "name": "stdout",
     "output_type": "stream",
     "text": [
      "318 /Users/jjc/CSF/Recordings/INF_20131029141808_INF1.hdf5\n"
     ]
    },
    {
     "name": "stdout",
     "output_type": "stream",
     "text": [
      "319 /Users/jjc/CSF/Recordings/INF_20131127103140_INF1.hdf5\n"
     ]
    },
    {
     "name": "stdout",
     "output_type": "stream",
     "text": [
      "320 /Users/jjc/CSF/Recordings/INF_20131127160821_INF1.hdf5\n"
     ]
    },
    {
     "name": "stdout",
     "output_type": "stream",
     "text": [
      "321 /Users/jjc/CSF/Recordings/INF_20131209154444_INF1.hdf5\n"
     ]
    },
    {
     "name": "stdout",
     "output_type": "stream",
     "text": [
      "322 /Users/jjc/CSF/Recordings/INF_20131210153736_INF1.hdf5\n"
     ]
    },
    {
     "name": "stdout",
     "output_type": "stream",
     "text": [
      "323 /Users/jjc/CSF/Recordings/INF_20131212122006_INF1.hdf5\n"
     ]
    },
    {
     "name": "stdout",
     "output_type": "stream",
     "text": [
      "324 /Users/jjc/CSF/Recordings/INF_20140109132554_INF1.hdf5\n"
     ]
    },
    {
     "name": "stdout",
     "output_type": "stream",
     "text": [
      "325 /Users/jjc/CSF/Recordings/INF_20140109153559_INF1.hdf5\n"
     ]
    },
    {
     "name": "stdout",
     "output_type": "stream",
     "text": [
      "326 /Users/jjc/CSF/Recordings/INF_20140110120549_INF1.hdf5\n"
     ]
    },
    {
     "name": "stdout",
     "output_type": "stream",
     "text": [
      "327 /Users/jjc/CSF/Recordings/INF_20140122170715_INF1.hdf5\n"
     ]
    },
    {
     "name": "stdout",
     "output_type": "stream",
     "text": [
      "328 /Users/jjc/CSF/Recordings/INF_20140128115655_INF1.hdf5\n"
     ]
    },
    {
     "name": "stdout",
     "output_type": "stream",
     "text": [
      "329 /Users/jjc/CSF/Recordings/INF_20140128154100_INF1.hdf5\n"
     ]
    },
    {
     "name": "stdout",
     "output_type": "stream",
     "text": [
      "330 /Users/jjc/CSF/Recordings/INF_20140225130050_INF1.hdf5\n"
     ]
    },
    {
     "name": "stdout",
     "output_type": "stream",
     "text": [
      "331 /Users/jjc/CSF/Recordings/INF_20140304142924_INF1.hdf5\n"
     ]
    },
    {
     "name": "stdout",
     "output_type": "stream",
     "text": [
      "332 /Users/jjc/CSF/Recordings/INF_20140305131312_INF1.hdf5\n"
     ]
    },
    {
     "name": "stdout",
     "output_type": "stream",
     "text": [
      "333 /Users/jjc/CSF/Recordings/INF_20140313144001_INF1.hdf5\n"
     ]
    },
    {
     "name": "stdout",
     "output_type": "stream",
     "text": [
      "334 /Users/jjc/CSF/Recordings/INF_20140318143009_INF1.hdf5\n"
     ]
    },
    {
     "name": "stdout",
     "output_type": "stream",
     "text": [
      "335 /Users/jjc/CSF/Recordings/INF_20140319125042_INF1.hdf5\n"
     ]
    },
    {
     "name": "stdout",
     "output_type": "stream",
     "text": [
      "336 /Users/jjc/CSF/Recordings/INF_20140321133837_INF1.hdf5\n"
     ]
    },
    {
     "name": "stdout",
     "output_type": "stream",
     "text": [
      "337 /Users/jjc/CSF/Recordings/INF_20140326134241_INF1.hdf5\n"
     ]
    },
    {
     "name": "stdout",
     "output_type": "stream",
     "text": [
      "338 /Users/jjc/CSF/Recordings/INF_20140331160123_INF1.hdf5\n"
     ]
    },
    {
     "name": "stdout",
     "output_type": "stream",
     "text": [
      "339 /Users/jjc/CSF/Recordings/INF_20140401135133_INF1.hdf5\n"
     ]
    },
    {
     "name": "stdout",
     "output_type": "stream",
     "text": [
      "340 /Users/jjc/CSF/Recordings/INF_20140407161318_INF1.hdf5\n"
     ]
    },
    {
     "name": "stdout",
     "output_type": "stream",
     "text": [
      "341 /Users/jjc/CSF/Recordings/INF_20140417123228_INF1.hdf5\n"
     ]
    },
    {
     "name": "stdout",
     "output_type": "stream",
     "text": [
      "342 /Users/jjc/CSF/Recordings/INF_20140514113817_INF1.hdf5\n"
     ]
    },
    {
     "name": "stdout",
     "output_type": "stream",
     "text": [
      "343 /Users/jjc/CSF/Recordings/INF_20140514160728_INF1.hdf5\n"
     ]
    },
    {
     "name": "stdout",
     "output_type": "stream",
     "text": [
      "344 /Users/jjc/CSF/Recordings/INF_20140515112526_INF1.hdf5\n"
     ]
    },
    {
     "name": "stdout",
     "output_type": "stream",
     "text": [
      "345 /Users/jjc/CSF/Recordings/INF_20140516124419_INF1.hdf5\n"
     ]
    },
    {
     "name": "stdout",
     "output_type": "stream",
     "text": [
      "346 /Users/jjc/CSF/Recordings/INF_20140520144643_INF1.hdf5\n"
     ]
    },
    {
     "name": "stdout",
     "output_type": "stream",
     "text": [
      "347 /Users/jjc/CSF/Recordings/INF_20140522121924_INF1.hdf5\n"
     ]
    },
    {
     "name": "stdout",
     "output_type": "stream",
     "text": [
      "348 /Users/jjc/CSF/Recordings/INF_20140602131439_INF1.hdf5\n"
     ]
    },
    {
     "name": "stdout",
     "output_type": "stream",
     "text": [
      "349 /Users/jjc/CSF/Recordings/INF_20140605134210_INF1.hdf5\n"
     ]
    },
    {
     "name": "stdout",
     "output_type": "stream",
     "text": [
      "350 /Users/jjc/CSF/Recordings/INF_20140617131049_INF1.hdf5\n"
     ]
    },
    {
     "name": "stdout",
     "output_type": "stream",
     "text": [
      "351 /Users/jjc/CSF/Recordings/INF_20140618120828_INF1.hdf5\n"
     ]
    },
    {
     "name": "stdout",
     "output_type": "stream",
     "text": [
      "352 /Users/jjc/CSF/Recordings/INF_20140623142231_INF1.hdf5\n"
     ]
    },
    {
     "name": "stdout",
     "output_type": "stream",
     "text": [
      "353 /Users/jjc/CSF/Recordings/INF_20140701135944_INF1.hdf5\n"
     ]
    },
    {
     "name": "stdout",
     "output_type": "stream",
     "text": [
      "354 /Users/jjc/CSF/Recordings/INF_20140704155124_INF1.hdf5\n"
     ]
    },
    {
     "name": "stdout",
     "output_type": "stream",
     "text": [
      "355 /Users/jjc/CSF/Recordings/INF_20140723115522_INF1.hdf5\n"
     ]
    },
    {
     "name": "stdout",
     "output_type": "stream",
     "text": [
      "356 /Users/jjc/CSF/Recordings/INF_20140725125543_INF1.hdf5\n"
     ]
    },
    {
     "name": "stdout",
     "output_type": "stream",
     "text": [
      "357 /Users/jjc/CSF/Recordings/INF_20140804112615_INF1.hdf5\n"
     ]
    },
    {
     "name": "stdout",
     "output_type": "stream",
     "text": [
      "358 /Users/jjc/CSF/Recordings/INF_20140808124925_INF1.hdf5\n"
     ]
    },
    {
     "name": "stdout",
     "output_type": "stream",
     "text": [
      "359 /Users/jjc/CSF/Recordings/INF_20140819145848_INF1.hdf5\n"
     ]
    },
    {
     "name": "stdout",
     "output_type": "stream",
     "text": [
      "360 /Users/jjc/CSF/Recordings/INF_20140826142028_INF1.hdf5\n"
     ]
    },
    {
     "name": "stdout",
     "output_type": "stream",
     "text": [
      "361 /Users/jjc/CSF/Recordings/INF_20140827140830_INF1.hdf5\n"
     ]
    },
    {
     "name": "stdout",
     "output_type": "stream",
     "text": [
      "362 /Users/jjc/CSF/Recordings/INF_20140828125730_INF1.hdf5\n"
     ]
    },
    {
     "name": "stdout",
     "output_type": "stream",
     "text": [
      "363 /Users/jjc/CSF/Recordings/INF_20140902142410_INF1.hdf5\n"
     ]
    },
    {
     "name": "stdout",
     "output_type": "stream",
     "text": [
      "364 /Users/jjc/CSF/Recordings/INF_20141106151934_INF1.hdf5\n"
     ]
    },
    {
     "name": "stdout",
     "output_type": "stream",
     "text": [
      "365 /Users/jjc/CSF/Recordings/INF_20141218152330_INF1.hdf5\n"
     ]
    },
    {
     "name": "stdout",
     "output_type": "stream",
     "text": [
      "366 /Users/jjc/CSF/Recordings/INF_20150122150327_INF1.hdf5\n"
     ]
    },
    {
     "name": "stdout",
     "output_type": "stream",
     "text": [
      "367 /Users/jjc/CSF/Recordings/INF_20150129134719_INF1.hdf5\n"
     ]
    },
    {
     "name": "stdout",
     "output_type": "stream",
     "text": [
      "368 /Users/jjc/CSF/Recordings/INF_20150326142312_INF1.hdf5\n"
     ]
    },
    {
     "name": "stdout",
     "output_type": "stream",
     "text": [
      "369 /Users/jjc/CSF/Recordings/INF_20150528135042_INF1.hdf5\n"
     ]
    },
    {
     "name": "stdout",
     "output_type": "stream",
     "text": [
      "370 /Users/jjc/CSF/Recordings/INF_20150826124423_INF1.hdf5\n"
     ]
    },
    {
     "name": "stdout",
     "output_type": "stream",
     "text": [
      "371 /Users/jjc/CSF/Recordings/INF_20150827115843_INF1.hdf5\n"
     ]
    },
    {
     "name": "stdout",
     "output_type": "stream",
     "text": [
      "372 /Users/jjc/CSF/Recordings/INF_20150901130312_INF1.hdf5\n"
     ]
    },
    {
     "name": "stdout",
     "output_type": "stream",
     "text": [
      "373 /Users/jjc/CSF/Recordings/INF_20150908141653_INF1.hdf5\n"
     ]
    },
    {
     "name": "stdout",
     "output_type": "stream",
     "text": [
      "374 /Users/jjc/CSF/Recordings/INF_20150922104659_INF1.hdf5\n"
     ]
    },
    {
     "name": "stdout",
     "output_type": "stream",
     "text": [
      "375 /Users/jjc/CSF/Recordings/INF_20150924095452_INF1.hdf5\n"
     ]
    },
    {
     "name": "stdout",
     "output_type": "stream",
     "text": [
      "376 /Users/jjc/CSF/Recordings/INF_20151006143042_INF1.hdf5\n"
     ]
    },
    {
     "name": "stdout",
     "output_type": "stream",
     "text": [
      "377 /Users/jjc/CSF/Recordings/INF_20151111122535_INF1.hdf5\n"
     ]
    },
    {
     "name": "stdout",
     "output_type": "stream",
     "text": [
      "378 /Users/jjc/CSF/Recordings/INF_20151117122258_INF1.hdf5\n"
     ]
    },
    {
     "name": "stdout",
     "output_type": "stream",
     "text": [
      "379 /Users/jjc/CSF/Recordings/INF_20151119105440_INF1.hdf5\n"
     ]
    },
    {
     "name": "stdout",
     "output_type": "stream",
     "text": [
      "380 /Users/jjc/CSF/Recordings/INF_20151203122716_INF1.hdf5\n"
     ]
    },
    {
     "name": "stdout",
     "output_type": "stream",
     "text": [
      "381 /Users/jjc/CSF/Recordings/INF_20160224123355_INF1.hdf5\n"
     ]
    },
    {
     "name": "stdout",
     "output_type": "stream",
     "text": [
      "382 /Users/jjc/CSF/Recordings/INF_20160303113254_INF1.hdf5\n"
     ]
    },
    {
     "name": "stdout",
     "output_type": "stream",
     "text": [
      "383 /Users/jjc/CSF/Recordings/INF_20160315105142_INF1.hdf5\n"
     ]
    },
    {
     "name": "stdout",
     "output_type": "stream",
     "text": [
      "384 /Users/jjc/CSF/Recordings/INF_20160602114731_INF1.hdf5\n"
     ]
    },
    {
     "name": "stdout",
     "output_type": "stream",
     "text": [
      "385 /Users/jjc/CSF/Recordings/INF_20160817125056_INF1.hdf5\n"
     ]
    },
    {
     "name": "stdout",
     "output_type": "stream",
     "text": [
      "386 /Users/jjc/CSF/Recordings/INF_20160818114227_INF1.hdf5\n"
     ]
    },
    {
     "name": "stdout",
     "output_type": "stream",
     "text": [
      "387 /Users/jjc/CSF/Recordings/INF_20160823130325_INF1.hdf5\n"
     ]
    },
    {
     "name": "stdout",
     "output_type": "stream",
     "text": [
      "388 /Users/jjc/CSF/Recordings/INF_20160905143047_INF1.hdf5\n"
     ]
    },
    {
     "name": "stdout",
     "output_type": "stream",
     "text": [
      "389 /Users/jjc/CSF/Recordings/INF_20160916142108_INF1.hdf5\n"
     ]
    },
    {
     "name": "stdout",
     "output_type": "stream",
     "text": [
      "390 /Users/jjc/CSF/Recordings/INF_20160921114130_INF1.hdf5\n"
     ]
    },
    {
     "name": "stdout",
     "output_type": "stream",
     "text": [
      "391 /Users/jjc/CSF/Recordings/INF_20160923115237_INF1.hdf5\n"
     ]
    },
    {
     "name": "stdout",
     "output_type": "stream",
     "text": [
      "392 /Users/jjc/CSF/Recordings/INF_20160923144052_INF1.hdf5\n"
     ]
    },
    {
     "name": "stdout",
     "output_type": "stream",
     "text": [
      "393 /Users/jjc/CSF/Recordings/INF_20160928114102_INF1.hdf5\n"
     ]
    },
    {
     "name": "stdout",
     "output_type": "stream",
     "text": [
      "394 /Users/jjc/CSF/Recordings/INF_20160930095335_INF1.hdf5\n"
     ]
    },
    {
     "name": "stdout",
     "output_type": "stream",
     "text": [
      "395 /Users/jjc/CSF/Recordings/INF_20161012111254_INF1.hdf5\n"
     ]
    },
    {
     "name": "stdout",
     "output_type": "stream",
     "text": [
      "396 /Users/jjc/CSF/Recordings/INF_20161031100602_INF1.hdf5\n"
     ]
    },
    {
     "name": "stdout",
     "output_type": "stream",
     "text": [
      "397 /Users/jjc/CSF/Recordings/INF_20161107141910_INF1.hdf5\n"
     ]
    },
    {
     "name": "stdout",
     "output_type": "stream",
     "text": [
      "398 /Users/jjc/CSF/Recordings/INF_20161117122553_INF1.hdf5\n"
     ]
    },
    {
     "name": "stdout",
     "output_type": "stream",
     "text": [
      "399 /Users/jjc/CSF/Recordings/INF_20161130112347_INF1.hdf5\n"
     ]
    },
    {
     "name": "stdout",
     "output_type": "stream",
     "text": [
      "400 /Users/jjc/CSF/Recordings/INF_20161201105651_INF1.hdf5\n"
     ]
    },
    {
     "name": "stdout",
     "output_type": "stream",
     "text": [
      "401 /Users/jjc/CSF/Recordings/INF_20170331145248_INF1.hdf5\n"
     ]
    },
    {
     "name": "stdout",
     "output_type": "stream",
     "text": [
      "402 /Users/jjc/CSF/Recordings/INF_20170424111136_INF1.hdf5\n"
     ]
    },
    {
     "name": "stdout",
     "output_type": "stream",
     "text": [
      "403 /Users/jjc/CSF/Recordings/INF_20170425132253_INF1.hdf5\n"
     ]
    },
    {
     "name": "stdout",
     "output_type": "stream",
     "text": [
      "404 /Users/jjc/CSF/Recordings/INF_20170508111213_INF1.hdf5\n"
     ]
    },
    {
     "name": "stdout",
     "output_type": "stream",
     "text": [
      "405 /Users/jjc/CSF/Recordings/INF_20170508150640_INF1.hdf5\n"
     ]
    },
    {
     "name": "stdout",
     "output_type": "stream",
     "text": [
      "406 /Users/jjc/CSF/Recordings/INF_20170511115732_INF1.hdf5\n"
     ]
    },
    {
     "name": "stdout",
     "output_type": "stream",
     "text": [
      "407 /Users/jjc/CSF/Recordings/INF_20170515130635_INF1.hdf5\n"
     ]
    },
    {
     "name": "stdout",
     "output_type": "stream",
     "text": [
      "408 /Users/jjc/CSF/Recordings/INF_20170523134438_INF1.hdf5\n"
     ]
    },
    {
     "name": "stdout",
     "output_type": "stream",
     "text": [
      "409 /Users/jjc/CSF/Recordings/INF_20170707124617_INF1.hdf5\n"
     ]
    },
    {
     "name": "stdout",
     "output_type": "stream",
     "text": [
      "410 /Users/jjc/CSF/Recordings/INF_20170710113438_INF1.hdf5\n"
     ]
    },
    {
     "name": "stdout",
     "output_type": "stream",
     "text": [
      "411 /Users/jjc/CSF/Recordings/INF_20170718120939_INF1.hdf5\n"
     ]
    },
    {
     "name": "stdout",
     "output_type": "stream",
     "text": [
      "412 /Users/jjc/CSF/Recordings/INF_20170726131426_INF1.hdf5\n"
     ]
    },
    {
     "name": "stdout",
     "output_type": "stream",
     "text": [
      "413 /Users/jjc/CSF/Recordings/INF_20170727125811_INF1.hdf5\n"
     ]
    },
    {
     "name": "stdout",
     "output_type": "stream",
     "text": [
      "414 /Users/jjc/CSF/Recordings/INF_20170801130557_INF1.hdf5\n"
     ]
    },
    {
     "name": "stdout",
     "output_type": "stream",
     "text": [
      "415 /Users/jjc/CSF/Recordings/INF_20170808125025_INF1.hdf5\n"
     ]
    },
    {
     "name": "stdout",
     "output_type": "stream",
     "text": [
      "416 /Users/jjc/CSF/Recordings/INF_20170811140316_INF1.hdf5\n"
     ]
    },
    {
     "name": "stdout",
     "output_type": "stream",
     "text": [
      "417 /Users/jjc/CSF/Recordings/INF_20170814114325_INF1.hdf5\n"
     ]
    },
    {
     "name": "stdout",
     "output_type": "stream",
     "text": [
      "418 /Users/jjc/CSF/Recordings/INF_20180829151805_INF2.hdf5\n"
     ]
    },
    {
     "name": "stdout",
     "output_type": "stream",
     "text": [
      "419 /Users/jjc/CSF/Recordings/INF_20180913115208_INF2.hdf5\n"
     ]
    },
    {
     "name": "stdout",
     "output_type": "stream",
     "text": [
      "420 /Users/jjc/CSF/Recordings/INF_20180921124437_INF2.hdf5\n"
     ]
    },
    {
     "name": "stdout",
     "output_type": "stream",
     "text": [
      "421 /Users/jjc/CSF/Recordings/INF_20180924120649_INF2.hdf5\n"
     ]
    },
    {
     "name": "stdout",
     "output_type": "stream",
     "text": [
      "422 /Users/jjc/CSF/Recordings/INF_20180925153806_INF2.hdf5\n"
     ]
    },
    {
     "name": "stdout",
     "output_type": "stream",
     "text": [
      "423 /Users/jjc/CSF/Recordings/INF_20180926111239_INF2.hdf5\n"
     ]
    },
    {
     "name": "stdout",
     "output_type": "stream",
     "text": [
      "424 /Users/jjc/CSF/Recordings/INF_20180927120756_INF2.hdf5\n"
     ]
    },
    {
     "name": "stdout",
     "output_type": "stream",
     "text": [
      "425 /Users/jjc/CSF/Recordings/INF_20181001130825_INF2.hdf5\n"
     ]
    },
    {
     "name": "stdout",
     "output_type": "stream",
     "text": [
      "426 /Users/jjc/CSF/Recordings/INF_20181004124812_INF2.hdf5\n"
     ]
    },
    {
     "name": "stdout",
     "output_type": "stream",
     "text": [
      "427 /Users/jjc/CSF/Recordings/INF_20181005145445_INF2.hdf5\n"
     ]
    },
    {
     "name": "stdout",
     "output_type": "stream",
     "text": [
      "428 /Users/jjc/CSF/Recordings/INF_20181008131952_INF2.hdf5\n"
     ]
    },
    {
     "name": "stdout",
     "output_type": "stream",
     "text": [
      "429 /Users/jjc/CSF/Recordings/INF_20181009145128_INF2.hdf5\n"
     ]
    },
    {
     "name": "stdout",
     "output_type": "stream",
     "text": [
      "430 /Users/jjc/CSF/Recordings/INF_20181010132412_INF2.hdf5\n"
     ]
    },
    {
     "name": "stdout",
     "output_type": "stream",
     "text": [
      "431 /Users/jjc/CSF/Recordings/INF_20181012113850_INF2.hdf5\n"
     ]
    },
    {
     "name": "stdout",
     "output_type": "stream",
     "text": [
      "432 /Users/jjc/CSF/Recordings/INF_20181024115447_INF2.hdf5\n"
     ]
    },
    {
     "name": "stdout",
     "output_type": "stream",
     "text": [
      "433 /Users/jjc/CSF/Recordings/INF_20181026123941_INF2.hdf5\n"
     ]
    },
    {
     "name": "stdout",
     "output_type": "stream",
     "text": [
      "434 /Users/jjc/CSF/Recordings/INF_20181030131755_INF2.hdf5\n"
     ]
    },
    {
     "name": "stdout",
     "output_type": "stream",
     "text": [
      "435 /Users/jjc/CSF/Recordings/INF_20181031142223_INF2.hdf5\n"
     ]
    },
    {
     "name": "stdout",
     "output_type": "stream",
     "text": [
      "436 /Users/jjc/CSF/Recordings/INF_20181101135141_INF2.hdf5\n"
     ]
    },
    {
     "name": "stdout",
     "output_type": "stream",
     "text": [
      "437 /Users/jjc/CSF/Recordings/INF_20181105124730_INF2.hdf5\n"
     ]
    },
    {
     "name": "stdout",
     "output_type": "stream",
     "text": [
      "438 /Users/jjc/CSF/Recordings/INF_20181107122614_INF2.hdf5\n"
     ]
    },
    {
     "name": "stdout",
     "output_type": "stream",
     "text": [
      "439 /Users/jjc/CSF/Recordings/INF_20181108115539_INF2.hdf5\n"
     ]
    },
    {
     "name": "stdout",
     "output_type": "stream",
     "text": [
      "440 /Users/jjc/CSF/Recordings/INF_20181115092522_INF2.hdf5\n"
     ]
    },
    {
     "name": "stdout",
     "output_type": "stream",
     "text": [
      "441 /Users/jjc/CSF/Recordings/INF_20181121113715_INF2.hdf5\n"
     ]
    },
    {
     "name": "stdout",
     "output_type": "stream",
     "text": [
      "443 /Users/jjc/CSF/Recordings/INF_20181130110538_INF2.hdf5\n"
     ]
    },
    {
     "name": "stdout",
     "output_type": "stream",
     "text": [
      "444 /Users/jjc/CSF/Recordings/INF_20181203121138_INF2.hdf5\n"
     ]
    },
    {
     "name": "stdout",
     "output_type": "stream",
     "text": [
      "445 /Users/jjc/CSF/Recordings/INF_20181212112402_INF2.hdf5\n"
     ]
    },
    {
     "name": "stdout",
     "output_type": "stream",
     "text": [
      "446 /Users/jjc/CSF/Recordings/INF_20181217154235_INF2.hdf5\n"
     ]
    },
    {
     "name": "stdout",
     "output_type": "stream",
     "text": [
      "447 /Users/jjc/CSF/Recordings/INF_20190102141816_INF2.hdf5\n"
     ]
    },
    {
     "name": "stdout",
     "output_type": "stream",
     "text": [
      "448 /Users/jjc/CSF/Recordings/INF_20190103120706_INF2.hdf5\n"
     ]
    },
    {
     "name": "stdout",
     "output_type": "stream",
     "text": [
      "449 /Users/jjc/CSF/Recordings/INF_20190104121720_INF2.hdf5\n"
     ]
    },
    {
     "name": "stdout",
     "output_type": "stream",
     "text": [
      "450 /Users/jjc/CSF/Recordings/INF_20190108122424_INF2.hdf5\n"
     ]
    },
    {
     "name": "stdout",
     "output_type": "stream",
     "text": [
      "451 /Users/jjc/CSF/Recordings/INF_20190109112745_INF2.hdf5\n"
     ]
    },
    {
     "name": "stdout",
     "output_type": "stream",
     "text": [
      "452 /Users/jjc/CSF/Recordings/INF_20190110113607_INF2.hdf5\n"
     ]
    },
    {
     "name": "stdout",
     "output_type": "stream",
     "text": [
      "453 /Users/jjc/CSF/Recordings/INF_20190115152309_INF2.hdf5\n"
     ]
    },
    {
     "name": "stdout",
     "output_type": "stream",
     "text": [
      "454 /Users/jjc/CSF/Recordings/INF_20190116140014_INF2.hdf5\n"
     ]
    },
    {
     "name": "stdout",
     "output_type": "stream",
     "text": [
      "455 /Users/jjc/CSF/Recordings/INF_20190118135750_INF2.hdf5\n"
     ]
    },
    {
     "name": "stdout",
     "output_type": "stream",
     "text": [
      "456 /Users/jjc/CSF/Recordings/INF_20190122144157_INF2.hdf5\n"
     ]
    },
    {
     "name": "stdout",
     "output_type": "stream",
     "text": [
      "457 /Users/jjc/CSF/Recordings/INF_20190128113341_INF2.hdf5\n"
     ]
    },
    {
     "name": "stdout",
     "output_type": "stream",
     "text": [
      "458 /Users/jjc/CSF/Recordings/INF_20190204124537_INF2.hdf5\n"
     ]
    },
    {
     "name": "stdout",
     "output_type": "stream",
     "text": [
      "459 /Users/jjc/CSF/Recordings/INF_20190208121854_INF2.hdf5\n"
     ]
    },
    {
     "name": "stdout",
     "output_type": "stream",
     "text": [
      "460 /Users/jjc/CSF/Recordings/INF_20190215111643_INF2.hdf5\n"
     ]
    },
    {
     "name": "stdout",
     "output_type": "stream",
     "text": [
      "461 /Users/jjc/CSF/Recordings/INF_20190219105941_INF2.hdf5\n"
     ]
    },
    {
     "name": "stdout",
     "output_type": "stream",
     "text": [
      "462 /Users/jjc/CSF/Recordings/INF_20190222120737_INF2.hdf5\n"
     ]
    },
    {
     "name": "stdout",
     "output_type": "stream",
     "text": [
      "463 /Users/jjc/CSF/Recordings/INF_20190222150835_INF2.hdf5\n"
     ]
    },
    {
     "name": "stdout",
     "output_type": "stream",
     "text": [
      "464 /Users/jjc/CSF/Recordings/INF_20190225111107_INF2.hdf5\n"
     ]
    },
    {
     "name": "stdout",
     "output_type": "stream",
     "text": [
      "465 /Users/jjc/CSF/Recordings/INF_20190227144952_INF2.hdf5\n"
     ]
    },
    {
     "name": "stdout",
     "output_type": "stream",
     "text": [
      "466 /Users/jjc/CSF/Recordings/INF_20190228090929_INF2.hdf5\n"
     ]
    },
    {
     "name": "stdout",
     "output_type": "stream",
     "text": [
      "467 /Users/jjc/CSF/Recordings/INF_20190228113055_INF2.hdf5\n"
     ]
    },
    {
     "name": "stdout",
     "output_type": "stream",
     "text": [
      "468 /Users/jjc/CSF/Recordings/INF_20190305123724_INF2.hdf5\n"
     ]
    },
    {
     "name": "stdout",
     "output_type": "stream",
     "text": [
      "469 /Users/jjc/CSF/Recordings/INF_20190306114853_INF2.hdf5\n"
     ]
    },
    {
     "name": "stdout",
     "output_type": "stream",
     "text": [
      "470 /Users/jjc/CSF/Recordings/INF_20190307113628_INF2.hdf5\n"
     ]
    },
    {
     "name": "stdout",
     "output_type": "stream",
     "text": [
      "471 /Users/jjc/CSF/Recordings/INF_20190312140334_INF2.hdf5\n"
     ]
    },
    {
     "name": "stdout",
     "output_type": "stream",
     "text": [
      "472 /Users/jjc/CSF/Recordings/INF_20190319121633_INF2.hdf5\n"
     ]
    },
    {
     "name": "stdout",
     "output_type": "stream",
     "text": [
      "473 /Users/jjc/CSF/Recordings/INF_20190322113901_INF2.hdf5\n"
     ]
    },
    {
     "name": "stdout",
     "output_type": "stream",
     "text": [
      "474 /Users/jjc/CSF/Recordings/INF_20190325100946_INF2.hdf5\n"
     ]
    },
    {
     "name": "stdout",
     "output_type": "stream",
     "text": [
      "475 /Users/jjc/CSF/Recordings/INF_20190326131552_INF2.hdf5\n"
     ]
    },
    {
     "name": "stdout",
     "output_type": "stream",
     "text": [
      "476 /Users/jjc/CSF/Recordings/INF_20190327154955_INF2.hdf5\n"
     ]
    },
    {
     "name": "stdout",
     "output_type": "stream",
     "text": [
      "477 /Users/jjc/CSF/Recordings/INF_20190329101722_INF2.hdf5\n"
     ]
    },
    {
     "name": "stdout",
     "output_type": "stream",
     "text": [
      "478 /Users/jjc/CSF/Recordings/INF_20190408125520_INF2.hdf5\n"
     ]
    },
    {
     "name": "stdout",
     "output_type": "stream",
     "text": [
      "479 /Users/jjc/CSF/Recordings/INF_20190409121804_INF2.hdf5\n"
     ]
    },
    {
     "name": "stdout",
     "output_type": "stream",
     "text": [
      "480 /Users/jjc/CSF/Recordings/INF_20190410142524_INF2.hdf5\n"
     ]
    },
    {
     "name": "stdout",
     "output_type": "stream",
     "text": [
      "481 /Users/jjc/CSF/Recordings/INF_20190411122636_INF2.hdf5\n"
     ]
    },
    {
     "name": "stdout",
     "output_type": "stream",
     "text": [
      "482 /Users/jjc/CSF/Recordings/INF_20190412115931_INF2.hdf5\n"
     ]
    },
    {
     "name": "stdout",
     "output_type": "stream",
     "text": [
      "483 /Users/jjc/CSF/Recordings/INF_20190415150015_INF2.hdf5\n"
     ]
    },
    {
     "name": "stdout",
     "output_type": "stream",
     "text": [
      "484 /Users/jjc/CSF/Recordings/INF_20190424133045_INF2.hdf5\n"
     ]
    },
    {
     "name": "stdout",
     "output_type": "stream",
     "text": [
      "485 /Users/jjc/CSF/Recordings/INF_20190426111852_INF2.hdf5\n"
     ]
    },
    {
     "name": "stdout",
     "output_type": "stream",
     "text": [
      "486 /Users/jjc/CSF/Recordings/INF_20190429130724_INF2.hdf5\n"
     ]
    },
    {
     "name": "stdout",
     "output_type": "stream",
     "text": [
      "487 /Users/jjc/CSF/Recordings/INF_20190510142920_INF2.hdf5\n"
     ]
    },
    {
     "name": "stdout",
     "output_type": "stream",
     "text": [
      "488 /Users/jjc/CSF/Recordings/INF_20190515105210_INF2.hdf5\n"
     ]
    },
    {
     "name": "stdout",
     "output_type": "stream",
     "text": [
      "489 /Users/jjc/CSF/Recordings/INF_20190516114432_INF2.hdf5\n"
     ]
    },
    {
     "name": "stdout",
     "output_type": "stream",
     "text": [
      "490 /Users/jjc/CSF/Recordings/INF_20190520121154_INF2.hdf5\n"
     ]
    },
    {
     "name": "stdout",
     "output_type": "stream",
     "text": [
      "491 /Users/jjc/CSF/Recordings/INF_20190521124950_INF2.hdf5\n"
     ]
    },
    {
     "name": "stdout",
     "output_type": "stream",
     "text": [
      "492 /Users/jjc/CSF/Recordings/INF_20190522114326_INF2.hdf5\n"
     ]
    },
    {
     "name": "stdout",
     "output_type": "stream",
     "text": [
      "493 /Users/jjc/CSF/Recordings/INF_20190524114441_INF2.hdf5\n"
     ]
    },
    {
     "name": "stdout",
     "output_type": "stream",
     "text": [
      "494 /Users/jjc/CSF/Recordings/INF_20190528115929_INF2.hdf5\n"
     ]
    },
    {
     "name": "stdout",
     "output_type": "stream",
     "text": [
      "495 /Users/jjc/CSF/Recordings/INF_20190530105853_INF2.hdf5\n"
     ]
    },
    {
     "name": "stdout",
     "output_type": "stream",
     "text": [
      "496 /Users/jjc/CSF/Recordings/INF_20190531120541_INF2.hdf5\n"
     ]
    },
    {
     "name": "stdout",
     "output_type": "stream",
     "text": [
      "497 /Users/jjc/CSF/Recordings/INF_20190610111502_INF2.hdf5\n"
     ]
    },
    {
     "name": "stdout",
     "output_type": "stream",
     "text": [
      "498 /Users/jjc/CSF/Recordings/INF_20190611115430_INF2.hdf5\n"
     ]
    },
    {
     "name": "stdout",
     "output_type": "stream",
     "text": [
      "499 /Users/jjc/CSF/Recordings/INF_20190613112125_INF2.hdf5\n"
     ]
    },
    {
     "name": "stdout",
     "output_type": "stream",
     "text": [
      "500 /Users/jjc/CSF/Recordings/INF_20190614110412_INF2.hdf5\n"
     ]
    },
    {
     "name": "stdout",
     "output_type": "stream",
     "text": [
      "501 /Users/jjc/CSF/Recordings/INF_20190620142837_INF2.hdf5\n"
     ]
    },
    {
     "name": "stdout",
     "output_type": "stream",
     "text": [
      "502 /Users/jjc/CSF/Recordings/INF_20190624112429_INF2.hdf5\n"
     ]
    },
    {
     "name": "stdout",
     "output_type": "stream",
     "text": [
      "503 /Users/jjc/CSF/Recordings/INF_20190625115454_INF2.hdf5\n"
     ]
    },
    {
     "name": "stdout",
     "output_type": "stream",
     "text": [
      "504 /Users/jjc/CSF/Recordings/INF_20190626102637_INF2.hdf5\n"
     ]
    },
    {
     "name": "stdout",
     "output_type": "stream",
     "text": [
      "505 /Users/jjc/CSF/Recordings/INF_20190626133243_INF2.hdf5\n"
     ]
    },
    {
     "name": "stdout",
     "output_type": "stream",
     "text": [
      "506 /Users/jjc/CSF/Recordings/INF_20190627104407_INF2.hdf5\n"
     ]
    },
    {
     "name": "stdout",
     "output_type": "stream",
     "text": [
      "507 /Users/jjc/CSF/Recordings/INF_20190628103555_INF2.hdf5\n"
     ]
    },
    {
     "name": "stdout",
     "output_type": "stream",
     "text": [
      "508 /Users/jjc/CSF/Recordings/INF_20190701113430_INF2.hdf5\n"
     ]
    },
    {
     "name": "stdout",
     "output_type": "stream",
     "text": [
      "509 /Users/jjc/CSF/Recordings/INF_20190702122109_INF2.hdf5\n"
     ]
    },
    {
     "name": "stdout",
     "output_type": "stream",
     "text": [
      "510 /Users/jjc/CSF/Recordings/INF_20190703121752_INF2.hdf5\n"
     ]
    },
    {
     "name": "stdout",
     "output_type": "stream",
     "text": [
      "511 /Users/jjc/CSF/Recordings/INF_20190704121422_INF2.hdf5\n"
     ]
    },
    {
     "name": "stdout",
     "output_type": "stream",
     "text": [
      "512 /Users/jjc/CSF/Recordings/INF_20190708150215_INF2.hdf5\n"
     ]
    },
    {
     "name": "stdout",
     "output_type": "stream",
     "text": [
      "513 /Users/jjc/CSF/Recordings/INF_20190709115646_INF2.hdf5\n"
     ]
    },
    {
     "name": "stdout",
     "output_type": "stream",
     "text": [
      "514 /Users/jjc/CSF/Recordings/INF_20190709141700_INF2.hdf5\n"
     ]
    },
    {
     "name": "stdout",
     "output_type": "stream",
     "text": [
      "515 /Users/jjc/CSF/Recordings/INF_20190711135921_INF2.hdf5\n"
     ]
    },
    {
     "name": "stdout",
     "output_type": "stream",
     "text": [
      "516 /Users/jjc/CSF/Recordings/INF_20190712113835_INF2.hdf5\n"
     ]
    },
    {
     "name": "stdout",
     "output_type": "stream",
     "text": [
      "517 /Users/jjc/CSF/Recordings/INF_20190715105144_INF2.hdf5\n"
     ]
    },
    {
     "name": "stdout",
     "output_type": "stream",
     "text": [
      "518 /Users/jjc/CSF/Recordings/INF_20190723124855_INF2.hdf5\n"
     ]
    },
    {
     "name": "stdout",
     "output_type": "stream",
     "text": [
      "519 /Users/jjc/CSF/Recordings/INF_20190729112113_INF2.hdf5\n"
     ]
    },
    {
     "name": "stdout",
     "output_type": "stream",
     "text": [
      "520 /Users/jjc/CSF/Recordings/INF_20190801123140_INF2.hdf5\n"
     ]
    },
    {
     "name": "stdout",
     "output_type": "stream",
     "text": [
      "521 /Users/jjc/CSF/Recordings/INF_20190815131756_INF2.hdf5\n"
     ]
    },
    {
     "name": "stdout",
     "output_type": "stream",
     "text": [
      "522 /Users/jjc/CSF/Recordings/INF_20190822113311_INF2.hdf5\n"
     ]
    },
    {
     "name": "stdout",
     "output_type": "stream",
     "text": [
      "523 /Users/jjc/CSF/Recordings/INF_20190902150044_INF2.hdf5\n"
     ]
    },
    {
     "name": "stdout",
     "output_type": "stream",
     "text": [
      "524 /Users/jjc/CSF/Recordings/INF_20190904120610_INF2.hdf5\n"
     ]
    },
    {
     "name": "stdout",
     "output_type": "stream",
     "text": [
      "525 /Users/jjc/CSF/Recordings/INF_20190904154746_INF2.hdf5\n"
     ]
    },
    {
     "name": "stdout",
     "output_type": "stream",
     "text": [
      "526 /Users/jjc/CSF/Recordings/INF_20190920131911_INF2.hdf5\n"
     ]
    },
    {
     "name": "stdout",
     "output_type": "stream",
     "text": [
      "527 /Users/jjc/CSF/Recordings/INF_20190930121655_INF2.hdf5\n"
     ]
    },
    {
     "name": "stdout",
     "output_type": "stream",
     "text": [
      "528 /Users/jjc/CSF/Recordings/INF_20191007151334_INF2.hdf5\n"
     ]
    },
    {
     "name": "stdout",
     "output_type": "stream",
     "text": [
      "529 /Users/jjc/CSF/Recordings/INF_20191009113931_INF2.hdf5\n"
     ]
    },
    {
     "name": "stdout",
     "output_type": "stream",
     "text": [
      "530 /Users/jjc/CSF/Recordings/INF_20191015130610_INF2.hdf5\n"
     ]
    },
    {
     "name": "stdout",
     "output_type": "stream",
     "text": [
      "531 /Users/jjc/CSF/Recordings/INF_20191016121402_INF2.hdf5\n"
     ]
    },
    {
     "name": "stdout",
     "output_type": "stream",
     "text": [
      "532 /Users/jjc/CSF/Recordings/INF_20191017113821_INF2.hdf5\n"
     ]
    },
    {
     "name": "stdout",
     "output_type": "stream",
     "text": [
      "533 /Users/jjc/CSF/Recordings/INF_20191018130232_INF2.hdf5\n"
     ]
    },
    {
     "name": "stdout",
     "output_type": "stream",
     "text": [
      "534 /Users/jjc/CSF/Recordings/INF_20191021112431_INF2.hdf5\n"
     ]
    },
    {
     "name": "stdout",
     "output_type": "stream",
     "text": [
      "535 /Users/jjc/CSF/Recordings/INF_20191022110506_INF2.hdf5\n"
     ]
    },
    {
     "name": "stdout",
     "output_type": "stream",
     "text": [
      "536 /Users/jjc/CSF/Recordings/INF_20191104114848_INF2.hdf5\n"
     ]
    },
    {
     "name": "stdout",
     "output_type": "stream",
     "text": [
      "537 /Users/jjc/CSF/Recordings/INF_20191105122257_INF2.hdf5\n"
     ]
    },
    {
     "name": "stdout",
     "output_type": "stream",
     "text": [
      "538 /Users/jjc/CSF/Recordings/INF_20191106112511_INF2.hdf5\n"
     ]
    },
    {
     "name": "stdout",
     "output_type": "stream",
     "text": [
      "539 /Users/jjc/CSF/Recordings/INF_20191107140113_INF2.hdf5\n"
     ]
    },
    {
     "name": "stdout",
     "output_type": "stream",
     "text": [
      "540 /Users/jjc/CSF/Recordings/INF_20191111163042_INF2.hdf5\n"
     ]
    },
    {
     "name": "stdout",
     "output_type": "stream",
     "text": [
      "541 /Users/jjc/CSF/Recordings/INF_20191114142623_INF2.hdf5\n"
     ]
    },
    {
     "name": "stdout",
     "output_type": "stream",
     "text": [
      "542 /Users/jjc/CSF/Recordings/INF_20191115125223_INF2.hdf5\n"
     ]
    },
    {
     "name": "stdout",
     "output_type": "stream",
     "text": [
      "543 /Users/jjc/CSF/Recordings/INF_20191120123019_INF2.hdf5\n"
     ]
    },
    {
     "name": "stdout",
     "output_type": "stream",
     "text": [
      "544 /Users/jjc/CSF/Recordings/INF_20191121120501_INF2.hdf5\n"
     ]
    },
    {
     "name": "stdout",
     "output_type": "stream",
     "text": [
      "545 /Users/jjc/CSF/Recordings/INF_20191122114849_INF2.hdf5\n"
     ]
    },
    {
     "name": "stdout",
     "output_type": "stream",
     "text": [
      "546 /Users/jjc/CSF/Recordings/INF_20191125132512_INF2.hdf5\n"
     ]
    },
    {
     "name": "stdout",
     "output_type": "stream",
     "text": [
      "547 /Users/jjc/CSF/Recordings/INF_20191127112248_INF2.hdf5\n"
     ]
    },
    {
     "name": "stdout",
     "output_type": "stream",
     "text": [
      "548 /Users/jjc/CSF/Recordings/INF_20191202151432_INF2.hdf5\n"
     ]
    },
    {
     "name": "stdout",
     "output_type": "stream",
     "text": [
      "549 /Users/jjc/CSF/Recordings/INF_20191204112506_INF2.hdf5\n"
     ]
    },
    {
     "name": "stdout",
     "output_type": "stream",
     "text": [
      "550 /Users/jjc/CSF/Recordings/INF_20191217131324_INF2.hdf5\n"
     ]
    },
    {
     "name": "stdout",
     "output_type": "stream",
     "text": [
      "551 /Users/jjc/CSF/Recordings/INF_20191220125736_INF2.hdf5\n"
     ]
    },
    {
     "name": "stdout",
     "output_type": "stream",
     "text": [
      "552 /Users/jjc/CSF/Recordings/INF_20200103113648_INF2.hdf5\n"
     ]
    },
    {
     "name": "stdout",
     "output_type": "stream",
     "text": [
      "553 /Users/jjc/CSF/Recordings/INF_20200109112708_INF2.hdf5\n"
     ]
    },
    {
     "name": "stdout",
     "output_type": "stream",
     "text": [
      "554 /Users/jjc/CSF/Recordings/INF_20200114125717_INF2.hdf5\n"
     ]
    },
    {
     "name": "stdout",
     "output_type": "stream",
     "text": [
      "555 /Users/jjc/CSF/Recordings/INF_20200120105532_INF2.hdf5\n"
     ]
    },
    {
     "name": "stdout",
     "output_type": "stream",
     "text": [
      "556 /Users/jjc/CSF/Recordings/INF_20200121123457_INF2.hdf5\n"
     ]
    },
    {
     "name": "stdout",
     "output_type": "stream",
     "text": [
      "557 /Users/jjc/CSF/Recordings/INF_20200122122358_INF2.hdf5\n"
     ]
    },
    {
     "name": "stdout",
     "output_type": "stream",
     "text": [
      "558 /Users/jjc/CSF/Recordings/INF_20200123123421_INF2.hdf5\n"
     ]
    },
    {
     "name": "stdout",
     "output_type": "stream",
     "text": [
      "559 /Users/jjc/CSF/Recordings/INF_20200124111626_INF2.hdf5\n"
     ]
    },
    {
     "name": "stdout",
     "output_type": "stream",
     "text": [
      "560 /Users/jjc/CSF/Recordings/INF_20200128125542_INF2.hdf5\n"
     ]
    },
    {
     "name": "stdout",
     "output_type": "stream",
     "text": [
      "561 /Users/jjc/CSF/Recordings/INF_20200129113255_INF2.hdf5\n"
     ]
    },
    {
     "name": "stdout",
     "output_type": "stream",
     "text": [
      "562 /Users/jjc/CSF/Recordings/INF_20200130135937_INF2.hdf5\n"
     ]
    },
    {
     "name": "stdout",
     "output_type": "stream",
     "text": [
      "563 /Users/jjc/CSF/Recordings/INF_20200131120243_INF2.hdf5\n"
     ]
    },
    {
     "name": "stdout",
     "output_type": "stream",
     "text": [
      "564 /Users/jjc/CSF/Recordings/INF_20200203153122_INF2.hdf5\n"
     ]
    },
    {
     "name": "stdout",
     "output_type": "stream",
     "text": [
      "565 /Users/jjc/CSF/Recordings/INF_20200205112050_INF2.hdf5\n"
     ]
    },
    {
     "name": "stdout",
     "output_type": "stream",
     "text": [
      "566 /Users/jjc/CSF/Recordings/INF_20200207112656_INF2.hdf5\n"
     ]
    },
    {
     "name": "stdout",
     "output_type": "stream",
     "text": [
      "567 /Users/jjc/CSF/Recordings/INF_20200210114052_INF2.hdf5\n"
     ]
    },
    {
     "name": "stdout",
     "output_type": "stream",
     "text": [
      "568 /Users/jjc/CSF/Recordings/INF_20200212102421_INF2.hdf5\n"
     ]
    },
    {
     "name": "stdout",
     "output_type": "stream",
     "text": [
      "569 /Users/jjc/CSF/Recordings/INF_20200217151501_INF2.hdf5\n"
     ]
    },
    {
     "name": "stdout",
     "output_type": "stream",
     "text": [
      "570 /Users/jjc/CSF/Recordings/INF_20200224113006_INF2.hdf5\n"
     ]
    },
    {
     "name": "stdout",
     "output_type": "stream",
     "text": [
      "571 /Users/jjc/CSF/Recordings/INF_20200228131638_INF2.hdf5\n"
     ]
    },
    {
     "name": "stdout",
     "output_type": "stream",
     "text": [
      "572 /Users/jjc/CSF/Recordings/INF_20200302111348_INF2.hdf5\n"
     ]
    },
    {
     "name": "stdout",
     "output_type": "stream",
     "text": [
      "573 /Users/jjc/CSF/Recordings/INF_20200316153026_INF2.hdf5\n"
     ]
    },
    {
     "name": "stdout",
     "output_type": "stream",
     "text": [
      "574 /Users/jjc/CSF/Recordings/INF_20200319123224_INF2.hdf5\n"
     ]
    },
    {
     "name": "stdout",
     "output_type": "stream",
     "text": [
      "575 /Users/jjc/CSF/Recordings/INF_20200327100046_INF2.hdf5\n"
     ]
    },
    {
     "name": "stdout",
     "output_type": "stream",
     "text": [
      "576 /Users/jjc/CSF/Recordings/INF_20200327114739_INF2.hdf5\n"
     ]
    },
    {
     "name": "stdout",
     "output_type": "stream",
     "text": [
      "577 /Users/jjc/CSF/Recordings/INF_20200526113658_INF2.hdf5\n"
     ]
    },
    {
     "name": "stdout",
     "output_type": "stream",
     "text": [
      "578 /Users/jjc/CSF/Recordings/INF_20200707123523_INF2.hdf5\n"
     ]
    },
    {
     "name": "stdout",
     "output_type": "stream",
     "text": [
      "579 /Users/jjc/CSF/Recordings/INF_20200724162105_INF2.hdf5\n"
     ]
    },
    {
     "name": "stdout",
     "output_type": "stream",
     "text": [
      "580 /Users/jjc/CSF/Recordings/INF_20200803142313_INF2.hdf5\n"
     ]
    },
    {
     "name": "stdout",
     "output_type": "stream",
     "text": [
      "581 /Users/jjc/CSF/Recordings/INF_20200910152321_INF2.hdf5\n"
     ]
    },
    {
     "name": "stdout",
     "output_type": "stream",
     "text": [
      "582 /Users/jjc/CSF/Recordings/INF_20200914124129_INF2.hdf5\n"
     ]
    },
    {
     "name": "stdout",
     "output_type": "stream",
     "text": [
      "583 /Users/jjc/CSF/Recordings/INF_20200915161127_INF2.hdf5\n"
     ]
    },
    {
     "name": "stdout",
     "output_type": "stream",
     "text": [
      "584 /Users/jjc/CSF/Recordings/INF_20200928134321_INF2.hdf5\n"
     ]
    },
    {
     "name": "stdout",
     "output_type": "stream",
     "text": [
      "585 /Users/jjc/CSF/Recordings/INF_20200930115815_INF2.hdf5\n"
     ]
    },
    {
     "name": "stdout",
     "output_type": "stream",
     "text": [
      "586 /Users/jjc/CSF/Recordings/INF_20201001152936_INF2.hdf5\n"
     ]
    },
    {
     "name": "stdout",
     "output_type": "stream",
     "text": [
      "587 /Users/jjc/CSF/Recordings/INF_20201009151346_INF2.hdf5\n"
     ]
    },
    {
     "name": "stdout",
     "output_type": "stream",
     "text": [
      "588 /Users/jjc/CSF/Recordings/INF_20201013153316_INF2.hdf5\n"
     ]
    },
    {
     "name": "stdout",
     "output_type": "stream",
     "text": [
      "589 /Users/jjc/CSF/Recordings/INF_20201026123447_INF2.hdf5\n"
     ]
    },
    {
     "name": "stdout",
     "output_type": "stream",
     "text": [
      "590 /Users/jjc/CSF/Recordings/INF_20201027144046_INF2.hdf5\n"
     ]
    },
    {
     "name": "stdout",
     "output_type": "stream",
     "text": [
      "591 /Users/jjc/CSF/Recordings/INF_20201111143910_INF2.hdf5\n"
     ]
    },
    {
     "name": "stdout",
     "output_type": "stream",
     "text": [
      "592 /Users/jjc/CSF/Recordings/Inf_20180108125335_INF1.hdf5\n"
     ]
    },
    {
     "name": "stdout",
     "output_type": "stream",
     "text": [
      "593 /Users/jjc/CSF/Recordings/Inf_20180221133054_INF1.hdf5\n"
     ]
    },
    {
     "name": "stdout",
     "output_type": "stream",
     "text": [
      "594 /Users/jjc/CSF/Recordings/Inf_20180223165120_INF1.hdf5\n"
     ]
    },
    {
     "name": "stdout",
     "output_type": "stream",
     "text": [
      "595 /Users/jjc/CSF/Recordings/Inf_20180314115432_INF1.hdf5\n"
     ]
    },
    {
     "name": "stdout",
     "output_type": "stream",
     "text": [
      "596 /Users/jjc/CSF/Recordings/Inf_20180316112225_INF1.hdf5\n"
     ]
    },
    {
     "name": "stdout",
     "output_type": "stream",
     "text": [
      "597 /Users/jjc/CSF/Recordings/Inf_20180410121115_INF1.hdf5\n"
     ]
    },
    {
     "name": "stdout",
     "output_type": "stream",
     "text": [
      "598 /Users/jjc/CSF/Recordings/Inf_20180413120630_INF1.hdf5\n"
     ]
    },
    {
     "name": "stdout",
     "output_type": "stream",
     "text": [
      "599 /Users/jjc/CSF/Recordings/Inf_20180417120349_INF1.hdf5\n"
     ]
    },
    {
     "name": "stdout",
     "output_type": "stream",
     "text": [
      "600 /Users/jjc/CSF/Recordings/Inf_20180418115534_INF1.hdf5\n"
     ]
    },
    {
     "name": "stdout",
     "output_type": "stream",
     "text": [
      "601 /Users/jjc/CSF/Recordings/Inf_20180419114929_INF1.hdf5\n"
     ]
    },
    {
     "name": "stdout",
     "output_type": "stream",
     "text": [
      "602 /Users/jjc/CSF/Recordings/Inf_20180423110715_INF1.hdf5\n"
     ]
    },
    {
     "name": "stdout",
     "output_type": "stream",
     "text": [
      "603 /Users/jjc/CSF/Recordings/Inf_20180425115203_INF1.hdf5\n"
     ]
    },
    {
     "name": "stdout",
     "output_type": "stream",
     "text": [
      "604 /Users/jjc/CSF/Recordings/Inf_20180430115558_INF1.hdf5\n"
     ]
    },
    {
     "name": "stdout",
     "output_type": "stream",
     "text": [
      "605 /Users/jjc/CSF/Recordings/Inf_20180501130703_INF1.hdf5\n"
     ]
    },
    {
     "name": "stdout",
     "output_type": "stream",
     "text": [
      "606 /Users/jjc/CSF/Recordings/Inf_20180503112940_INF1.hdf5\n"
     ]
    },
    {
     "name": "stdout",
     "output_type": "stream",
     "text": [
      "607 /Users/jjc/CSF/Recordings/Inf_20180531131743_INF1.hdf5\n"
     ]
    },
    {
     "name": "stdout",
     "output_type": "stream",
     "text": [
      "608 /Users/jjc/CSF/Recordings/Inf_20180611123211_INF1.hdf5\n"
     ]
    },
    {
     "name": "stdout",
     "output_type": "stream",
     "text": [
      "609 /Users/jjc/CSF/Recordings/Inf_20180612131713_INF1.hdf5\n"
     ]
    },
    {
     "name": "stdout",
     "output_type": "stream",
     "text": [
      "610 /Users/jjc/CSF/Recordings/Inf_20180903115051_INF1.hdf5\n"
     ]
    },
    {
     "name": "stdout",
     "output_type": "stream",
     "text": [
      "611 /Users/jjc/CSF/Recordings/Inf_20180903152950_INF1.hdf5\n"
     ]
    },
    {
     "name": "stdout",
     "output_type": "stream",
     "text": [
      "612 /Users/jjc/CSF/Recordings/Inf_20180904141838_INF1.hdf5\n"
     ]
    },
    {
     "name": "stdout",
     "output_type": "stream",
     "text": [
      "613 /Users/jjc/CSF/Recordings/Inf_20180905163741_INF1.hdf5\n"
     ]
    },
    {
     "name": "stdout",
     "output_type": "stream",
     "text": [
      "614 /Users/jjc/CSF/Recordings/Inf_20180906114429_INF1.hdf5\n"
     ]
    },
    {
     "name": "stdout",
     "output_type": "stream",
     "text": [
      "615 /Users/jjc/CSF/Recordings/Inf_20180912114245_INF1.hdf5\n"
     ]
    },
    {
     "name": "stdout",
     "output_type": "stream",
     "text": [
      "616 /Users/jjc/CSF/Recordings/Inf_20181002133830_INF1.hdf5\n"
     ]
    },
    {
     "name": "stdout",
     "output_type": "stream",
     "text": [
      "617 /Users/jjc/CSF/Recordings/Inf_20181112125552_INF1.hdf5\n"
     ]
    },
    {
     "name": "stdout",
     "output_type": "stream",
     "text": [
      "618 /Users/jjc/CSF/Recordings/Inf_20181113130259_INF1.hdf5\n"
     ]
    },
    {
     "name": "stdout",
     "output_type": "stream",
     "text": [
      "619 /Users/jjc/CSF/Recordings/Inf_20181114134439_INF1.hdf5\n"
     ]
    },
    {
     "name": "stdout",
     "output_type": "stream",
     "text": [
      "620 /Users/jjc/CSF/Recordings/Inf_20181204175841_INF1.hdf5\n"
     ]
    },
    {
     "name": "stdout",
     "output_type": "stream",
     "text": [
      "621 /Users/jjc/CSF/Recordings/Inf_20181217111204_INF1.hdf5\n"
     ]
    },
    {
     "name": "stdout",
     "output_type": "stream",
     "text": [
      "622 /Users/jjc/CSF/Recordings/Inf_20190117110910_INF1.hdf5\n"
     ]
    },
    {
     "name": "stdout",
     "output_type": "stream",
     "text": [
      "623 /Users/jjc/CSF/Recordings/Inf_20190129141840_INF1.hdf5\n"
     ]
    },
    {
     "name": "stdout",
     "output_type": "stream",
     "text": [
      "624 /Users/jjc/CSF/Recordings/Inf_20190130152943_INF1.hdf5\n"
     ]
    },
    {
     "name": "stdout",
     "output_type": "stream",
     "text": [
      "625 /Users/jjc/CSF/Recordings/Inf_20190226145747_INF1.hdf5\n"
     ]
    },
    {
     "name": "stdout",
     "output_type": "stream",
     "text": [
      "626 /Users/jjc/CSF/Recordings/Inf_20190312162950_INF1.hdf5\n"
     ]
    },
    {
     "name": "stdout",
     "output_type": "stream",
     "text": [
      "627 /Users/jjc/CSF/Recordings/Inf_20190322161212_INF1.hdf5\n"
     ]
    },
    {
     "name": "stdout",
     "output_type": "stream",
     "text": [
      "628 /Users/jjc/CSF/Recordings/Inf_20190618123213_INF1.hdf5\n"
     ]
    },
    {
     "name": "stdout",
     "output_type": "stream",
     "text": [
      "629 /Users/jjc/CSF/Recordings/Inf_20190618144457_INF1.hdf5\n"
     ]
    },
    {
     "name": "stdout",
     "output_type": "stream",
     "text": [
      "630 /Users/jjc/CSF/Recordings/Inf_20190705150543_INF1.hdf5\n"
     ]
    },
    {
     "name": "stdout",
     "output_type": "stream",
     "text": [
      "631 /Users/jjc/CSF/Recordings/Inf_20190719130105_INF1.hdf5\n"
     ]
    },
    {
     "name": "stdout",
     "output_type": "stream",
     "text": [
      "632 /Users/jjc/CSF/Recordings/Inf_20190722130947_INF1.hdf5\n"
     ]
    },
    {
     "name": "stdout",
     "output_type": "stream",
     "text": [
      "633 /Users/jjc/CSF/Recordings/Inf_20190805151131_INF1.hdf5\n"
     ]
    },
    {
     "name": "stdout",
     "output_type": "stream",
     "text": [
      "634 /Users/jjc/CSF/Recordings/Inf_20190813121028_INF1.hdf5\n"
     ]
    },
    {
     "name": "stdout",
     "output_type": "stream",
     "text": [
      "635 /Users/jjc/CSF/Recordings/Inf_20190829103845_INF1.hdf5\n"
     ]
    },
    {
     "name": "stdout",
     "output_type": "stream",
     "text": [
      "636 /Users/jjc/CSF/Recordings/Inf_20190926085804_INF1.hdf5\n"
     ]
    },
    {
     "name": "stdout",
     "output_type": "stream",
     "text": [
      "637 /Users/jjc/CSF/Recordings/Inf_20190926132228_INF1.hdf5\n"
     ]
    },
    {
     "name": "stdout",
     "output_type": "stream",
     "text": [
      "638 /Users/jjc/CSF/Recordings/Inf_20191014122136_INF1.hdf5\n"
     ]
    },
    {
     "name": "stdout",
     "output_type": "stream",
     "text": [
      "639 /Users/jjc/CSF/Recordings/Inf_20191029142501_INF1.hdf5\n"
     ]
    },
    {
     "name": "stdout",
     "output_type": "stream",
     "text": [
      "640 /Users/jjc/CSF/Recordings/Inf_20191031152109_INF1.hdf5\n"
     ]
    },
    {
     "name": "stdout",
     "output_type": "stream",
     "text": [
      "641 /Users/jjc/CSF/Recordings/Inf_20191031173628_INF1.hdf5\n"
     ]
    },
    {
     "name": "stdout",
     "output_type": "stream",
     "text": [
      "642 /Users/jjc/CSF/Recordings/Inf_20200121105027_INF1.hdf5\n"
     ]
    },
    {
     "name": "stdout",
     "output_type": "stream",
     "text": [
      "643 /Users/jjc/CSF/Recordings/Inf_20200129143630_INF1.hdf5\n"
     ]
    },
    {
     "name": "stdout",
     "output_type": "stream",
     "text": [
      "644 /Users/jjc/CSF/Recordings/Inf_20200221131423_INF1.hdf5\n"
     ]
    },
    {
     "name": "stdout",
     "output_type": "stream",
     "text": [
      "645 /Users/jjc/CSF/Recordings/Inf_20200615163043_INFUSION1G226MM.hdf5\n"
     ]
    },
    {
     "name": "stdout",
     "output_type": "stream",
     "text": [
      "646 /Users/jjc/CSF/Recordings/Inf_20200714133302_INFUSION1G226MM.hdf5\n"
     ]
    },
    {
     "name": "stdout",
     "output_type": "stream",
     "text": [
      "647 /Users/jjc/CSF/Recordings/Inf_20200722120109_INFUSION1G226MM.hdf5\n"
     ]
    },
    {
     "name": "stdout",
     "output_type": "stream",
     "text": [
      "648 /Users/jjc/CSF/Recordings/Inf_20200723163107_INFUSION1G226MM.hdf5\n"
     ]
    },
    {
     "name": "stdout",
     "output_type": "stream",
     "text": [
      "649 /Users/jjc/CSF/Recordings/Inf_20200730145546_INFUSION1G226MM.hdf5\n"
     ]
    },
    {
     "name": "stdout",
     "output_type": "stream",
     "text": [
      "650 /Users/jjc/CSF/Recordings/Inf_20200731121504_INFUSION1G226MM.hdf5\n"
     ]
    },
    {
     "name": "stdout",
     "output_type": "stream",
     "text": [
      "651 /Users/jjc/CSF/Recordings/Inf_20200811140549_INFUSION1G226MM.hdf5\n"
     ]
    },
    {
     "name": "stdout",
     "output_type": "stream",
     "text": [
      "652 /Users/jjc/CSF/Recordings/Inf_20200812170550_INFUSION1G226MM.hdf5\n"
     ]
    },
    {
     "name": "stdout",
     "output_type": "stream",
     "text": [
      "653 /Users/jjc/CSF/Recordings/Inf_20200813114650_INFUSION1G226MM.hdf5\n"
     ]
    },
    {
     "name": "stdout",
     "output_type": "stream",
     "text": [
      "654 /Users/jjc/CSF/Recordings/Inf_20200814162607_INFUSION1G226MM.hdf5\n"
     ]
    },
    {
     "name": "stdout",
     "output_type": "stream",
     "text": [
      "655 /Users/jjc/CSF/Recordings/Inf_20200923124918_INFUSION1G226MM.hdf5\n"
     ]
    },
    {
     "name": "stdout",
     "output_type": "stream",
     "text": [
      "656 /Users/jjc/CSF/Recordings/Inf_20201022154046_INFUSION1G226MM.hdf5\n"
     ]
    },
    {
     "name": "stdout",
     "output_type": "stream",
     "text": [
      "657 /Users/jjc/CSF/Recordings/Inf_20201023123127_INFUSION1G226MM.hdf5\n"
     ]
    },
    {
     "name": "stdout",
     "output_type": "stream",
     "text": [
      "658 /Users/jjc/CSF/Recordings/Inf_20201103162052_INFUSION1G226MM.hdf5\n"
     ]
    },
    {
     "name": "stdout",
     "output_type": "stream",
     "text": [
      "659 /Users/jjc/CSF/Recordings/Inf_20201105131758_INFUSION1G226MM.hdf5\n"
     ]
    },
    {
     "name": "stdout",
     "output_type": "stream",
     "text": [
      "660 /Users/jjc/CSF/Recordings/NPH_20051123091324_NSPC33.hdf5\n"
     ]
    },
    {
     "name": "stdout",
     "output_type": "stream",
     "text": [
      "661 /Users/jjc/CSF/Recordings/NPH_20101014162942_INF1.hdf5\n"
     ]
    },
    {
     "name": "stdout",
     "output_type": "stream",
     "text": [
      "662 /Users/jjc/CSF/Recordings/NPH_20110623154205_INF1.hdf5\n"
     ]
    },
    {
     "name": "stdout",
     "output_type": "stream",
     "text": [
      "663 /Users/jjc/CSF/Recordings/NPH_20120703125255_INF1.hdf5\n"
     ]
    },
    {
     "name": "stdout",
     "output_type": "stream",
     "text": [
      "664 /Users/jjc/CSF/Recordings/NPH_20131113094947_INF1.hdf5\n"
     ]
    },
    {
     "name": "stdout",
     "output_type": "stream",
     "text": [
      "665 /Users/jjc/CSF/Recordings/NPH_20131121145844_INF1.hdf5\n"
     ]
    },
    {
     "name": "stdout",
     "output_type": "stream",
     "text": [
      "666 /Users/jjc/CSF/Recordings/NPH_20131209141433_INF1.hdf5\n"
     ]
    },
    {
     "name": "stdout",
     "output_type": "stream",
     "text": [
      "667 /Users/jjc/CSF/Recordings/NPH_20140930144354_INF1.hdf5\n"
     ]
    },
    {
     "name": "stdout",
     "output_type": "stream",
     "text": [
      "668 /Users/jjc/CSF/Recordings/NPH_20151222121214_INF1.hdf5\n"
     ]
    },
    {
     "name": "stdout",
     "output_type": "stream",
     "text": [
      "669 /Users/jjc/CSF/Recordings/NPH_20160107123848_INF1.hdf5\n"
     ]
    },
    {
     "name": "stdout",
     "output_type": "stream",
     "text": [
      "670 /Users/jjc/CSF/Recordings/NPH_20160811144633_INF1.hdf5\n"
     ]
    },
    {
     "name": "stdout",
     "output_type": "stream",
     "text": [
      "671 /Users/jjc/CSF/Recordings/NPH_20170119123009_INF1.hdf5\n"
     ]
    },
    {
     "name": "stdout",
     "output_type": "stream",
     "text": [
      "672 /Users/jjc/CSF/Recordings/NPH_20170330155846_INF1.hdf5\n"
     ]
    },
    {
     "name": "stdout",
     "output_type": "stream",
     "text": [
      "673 /Users/jjc/CSF/Recordings/NPH_20170804134106_INF1.hdf5\n"
     ]
    },
    {
     "name": "stdout",
     "output_type": "stream",
     "text": [
      "674 /Users/jjc/CSF/Recordings/NPH_20171108125041_INF1.hdf5\n"
     ]
    },
    {
     "name": "stdout",
     "output_type": "stream",
     "text": [
      "675 /Users/jjc/CSF/Recordings/NPH_20171109131746_INF1.hdf5\n"
     ]
    },
    {
     "name": "stdout",
     "output_type": "stream",
     "text": [
      "677 /Users/jjc/CSF/Recordings/NPH_20181213142843_INF1.hdf5\n"
     ]
    },
    {
     "name": "stdout",
     "output_type": "stream",
     "text": [
      "678 /Users/jjc/CSF/Recordings/generic_20061120113805_INF1.hdf5\n"
     ]
    },
    {
     "name": "stdout",
     "output_type": "stream",
     "text": [
      "679 /Users/jjc/CSF/Recordings/generic_20070821152107_INF1.hdf5\n"
     ]
    },
    {
     "name": "stdout",
     "output_type": "stream",
     "text": [
      "680 /Users/jjc/CSF/Recordings/generic_20111006112630_INF1.hdf5\n"
     ]
    },
    {
     "name": "stdout",
     "output_type": "stream",
     "text": [
      "681 /Users/jjc/CSF/Recordings/generic_20140612152548_INF1.hdf5\n"
     ]
    },
    {
     "name": "stdout",
     "output_type": "stream",
     "text": [
      "682 /Users/jjc/CSF/Recordings/generic_20160714152120_INF1.hdf5\n"
     ]
    },
    {
     "name": "stdout",
     "output_type": "stream",
     "text": [
      "683 /Users/jjc/CSF/Recordings/generic_20170427113502_INF1.hdf5\n"
     ]
    },
    {
     "name": "stdout",
     "output_type": "stream",
     "text": [
      "684 /Users/jjc/CSF/Recordings/generic_20170817151144_INF1.hdf5\n"
     ]
    },
    {
     "name": "stdout",
     "output_type": "stream",
     "text": [
      "685 /Users/jjc/CSF/Recordings/generic_20190722114713_INF2.hdf5\n"
     ]
    },
    {
     "name": "stdout",
     "output_type": "stream",
     "text": [
      "686 /Users/jjc/CSF/Recordings/inf_20090219134219_NCCU2.hdf5\n"
     ]
    },
    {
     "name": "stdout",
     "output_type": "stream",
     "text": [
      "687 /Users/jjc/CSF/Recordings/inf_20090310170319_NCCU2.hdf5\n"
     ]
    },
    {
     "name": "stdout",
     "output_type": "stream",
     "text": [
      "688 /Users/jjc/CSF/Recordings/inf_20090312143922_NCCU2.hdf5\n"
     ]
    },
    {
     "name": "stdout",
     "output_type": "stream",
     "text": [
      "689 /Users/jjc/CSF/Recordings/inf_20090324123754_NCCU2.hdf5\n"
     ]
    },
    {
     "name": "stdout",
     "output_type": "stream",
     "text": [
      "690 /Users/jjc/CSF/Recordings/inf_20090402125324_NCCU2.hdf5\n"
     ]
    },
    {
     "name": "stdout",
     "output_type": "stream",
     "text": [
      "691 /Users/jjc/CSF/Recordings/inf_20090417120814_NCCU2.hdf5\n"
     ]
    },
    {
     "name": "stdout",
     "output_type": "stream",
     "text": [
      "692 /Users/jjc/CSF/Recordings/inf_20090521162825_NCCU2.hdf5\n"
     ]
    },
    {
     "name": "stdout",
     "output_type": "stream",
     "text": [
      "693 /Users/jjc/CSF/Recordings/inf_20090526154301_NCCU2.hdf5\n"
     ]
    },
    {
     "name": "stdout",
     "output_type": "stream",
     "text": [
      "694 /Users/jjc/CSF/Recordings/inf_20090602152505_NCCU2.hdf5\n"
     ]
    },
    {
     "name": "stdout",
     "output_type": "stream",
     "text": [
      "695 /Users/jjc/CSF/Recordings/inf_20090605112200_NCCU2.hdf5\n"
     ]
    },
    {
     "name": "stdout",
     "output_type": "stream",
     "text": [
      "696 /Users/jjc/CSF/Recordings/inf_20090713152156_NCCU2.hdf5\n"
     ]
    },
    {
     "name": "stdout",
     "output_type": "stream",
     "text": [
      "697 /Users/jjc/CSF/Recordings/inf_20090728171623_NCCU2.hdf5\n"
     ]
    },
    {
     "name": "stdout",
     "output_type": "stream",
     "text": [
      "698 /Users/jjc/CSF/Recordings/inf_20090807091623_NCCU2.hdf5\n"
     ]
    },
    {
     "name": "stdout",
     "output_type": "stream",
     "text": [
      "699 /Users/jjc/CSF/Recordings/inf_20090820173145_NCCU2.hdf5\n"
     ]
    },
    {
     "name": "stdout",
     "output_type": "stream",
     "text": [
      "700 /Users/jjc/CSF/Recordings/inf_20090825142727_NCCU2.hdf5\n"
     ]
    },
    {
     "name": "stdout",
     "output_type": "stream",
     "text": [
      "701 /Users/jjc/CSF/Recordings/inf_20090901160104_NCCU2.hdf5\n"
     ]
    },
    {
     "name": "stdout",
     "output_type": "stream",
     "text": [
      "702 /Users/jjc/CSF/Recordings/inf_20090908144059_NCCU2.hdf5\n"
     ]
    },
    {
     "name": "stdout",
     "output_type": "stream",
     "text": [
      "703 /Users/jjc/CSF/Recordings/inf_20090915154932_NCCU2.hdf5\n"
     ]
    },
    {
     "name": "stdout",
     "output_type": "stream",
     "text": [
      "704 /Users/jjc/CSF/Recordings/inf_20091013170124_NCCU2.hdf5\n"
     ]
    },
    {
     "name": "stdout",
     "output_type": "stream",
     "text": [
      "705 /Users/jjc/CSF/Recordings/inf_20091015151020_NCCU2.hdf5\n"
     ]
    },
    {
     "name": "stdout",
     "output_type": "stream",
     "text": [
      "706 /Users/jjc/CSF/Recordings/inf_20091021113353_NCCU2.hdf5\n"
     ]
    },
    {
     "name": "stdout",
     "output_type": "stream",
     "text": [
      "707 /Users/jjc/CSF/Recordings/inf_20091023095813_NCCU2.hdf5\n"
     ]
    },
    {
     "name": "stdout",
     "output_type": "stream",
     "text": [
      "708 /Users/jjc/CSF/Recordings/inf_20091023115239_NCCU2.hdf5\n"
     ]
    },
    {
     "name": "stdout",
     "output_type": "stream",
     "text": [
      "709 /Users/jjc/CSF/Recordings/inf_20091027140043_NCCU2.hdf5\n"
     ]
    },
    {
     "name": "stdout",
     "output_type": "stream",
     "text": [
      "710 /Users/jjc/CSF/Recordings/inf_20091029143803_NCCU2.hdf5\n"
     ]
    },
    {
     "name": "stdout",
     "output_type": "stream",
     "text": [
      "711 /Users/jjc/CSF/Recordings/inf_20091102090912_NCCU2.hdf5\n"
     ]
    },
    {
     "name": "stdout",
     "output_type": "stream",
     "text": [
      "712 /Users/jjc/CSF/Recordings/inf_20091105152119_NCCU2.hdf5\n"
     ]
    },
    {
     "name": "stdout",
     "output_type": "stream",
     "text": [
      "713 /Users/jjc/CSF/Recordings/inf_20091106095328_NCCU2.hdf5\n"
     ]
    },
    {
     "name": "stdout",
     "output_type": "stream",
     "text": [
      "714 /Users/jjc/CSF/Recordings/inf_20091106142319_NCCU2.hdf5\n"
     ]
    },
    {
     "name": "stdout",
     "output_type": "stream",
     "text": [
      "715 /Users/jjc/CSF/Recordings/inf_20091110123034_NCCU2.hdf5\n"
     ]
    },
    {
     "name": "stdout",
     "output_type": "stream",
     "text": [
      "716 /Users/jjc/CSF/Recordings/inf_20091118141133_NCCU2.hdf5\n"
     ]
    },
    {
     "name": "stdout",
     "output_type": "stream",
     "text": [
      "717 /Users/jjc/CSF/Recordings/inf_20091120095439_NCCU2.hdf5\n"
     ]
    },
    {
     "name": "stdout",
     "output_type": "stream",
     "text": [
      "718 /Users/jjc/CSF/Recordings/inf_20091124103324_NCCU2.hdf5\n"
     ]
    },
    {
     "name": "stdout",
     "output_type": "stream",
     "text": [
      "719 /Users/jjc/CSF/Recordings/inf_20091126125020_NCCU2.hdf5\n"
     ]
    },
    {
     "name": "stdout",
     "output_type": "stream",
     "text": [
      "720 /Users/jjc/CSF/Recordings/inf_20091201142720_NCCU2.hdf5\n"
     ]
    },
    {
     "name": "stdout",
     "output_type": "stream",
     "text": [
      "721 /Users/jjc/CSF/Recordings/inf_20091211092700_NCCU2.hdf5\n"
     ]
    },
    {
     "name": "stdout",
     "output_type": "stream",
     "text": [
      "722 /Users/jjc/CSF/Recordings/inf_20100107123934_NCCU2.hdf5\n"
     ]
    },
    {
     "name": "stdout",
     "output_type": "stream",
     "text": [
      "723 /Users/jjc/CSF/Recordings/inf_20100111112137_NCCU2.hdf5\n"
     ]
    },
    {
     "name": "stdout",
     "output_type": "stream",
     "text": [
      "724 /Users/jjc/CSF/Recordings/inf_20100112115408_NCCU2.hdf5\n"
     ]
    },
    {
     "name": "stdout",
     "output_type": "stream",
     "text": [
      "725 /Users/jjc/CSF/Recordings/inf_20100113124659_NCCU2.hdf5\n"
     ]
    },
    {
     "name": "stdout",
     "output_type": "stream",
     "text": [
      "726 /Users/jjc/CSF/Recordings/inf_20100115144257_NCCU2.hdf5\n"
     ]
    },
    {
     "name": "stdout",
     "output_type": "stream",
     "text": [
      "727 /Users/jjc/CSF/Recordings/inf_20100119141357_NCCU2.hdf5\n"
     ]
    },
    {
     "name": "stdout",
     "output_type": "stream",
     "text": [
      "728 /Users/jjc/CSF/Recordings/inf_20100121134947_INF1.hdf5\n"
     ]
    },
    {
     "name": "stdout",
     "output_type": "stream",
     "text": [
      "729 /Users/jjc/CSF/Recordings/inf_20100211140159_INF1.hdf5\n"
     ]
    },
    {
     "name": "stdout",
     "output_type": "stream",
     "text": [
      "730 /Users/jjc/CSF/Recordings/inf_20100223151105_INF1.hdf5\n"
     ]
    },
    {
     "name": "stdout",
     "output_type": "stream",
     "text": [
      "731 /Users/jjc/CSF/Recordings/inf_20100303131258_INF1.hdf5\n"
     ]
    },
    {
     "name": "stdout",
     "output_type": "stream",
     "text": [
      "732 /Users/jjc/CSF/Recordings/inf_20100312122411_INF1.hdf5\n"
     ]
    },
    {
     "name": "stdout",
     "output_type": "stream",
     "text": [
      "733 /Users/jjc/CSF/Recordings/inf_20100318173632_INF1.hdf5\n"
     ]
    },
    {
     "name": "stdout",
     "output_type": "stream",
     "text": [
      "734 /Users/jjc/CSF/Recordings/inf_20100330140230_INF1.hdf5\n"
     ]
    },
    {
     "name": "stdout",
     "output_type": "stream",
     "text": [
      "735 /Users/jjc/CSF/Recordings/inf_20100412125918_INF1.hdf5\n"
     ]
    },
    {
     "name": "stdout",
     "output_type": "stream",
     "text": [
      "736 /Users/jjc/CSF/Recordings/inf_20100415120749_INF1.hdf5\n"
     ]
    },
    {
     "name": "stdout",
     "output_type": "stream",
     "text": [
      "737 /Users/jjc/CSF/Recordings/inf_20100512134207_INF1.hdf5\n"
     ]
    },
    {
     "name": "stdout",
     "output_type": "stream",
     "text": [
      "738 /Users/jjc/CSF/Recordings/inf_20100514152951_INF1.hdf5\n"
     ]
    },
    {
     "name": "stdout",
     "output_type": "stream",
     "text": [
      "739 /Users/jjc/CSF/Recordings/inf_20100609085644_INF1.hdf5\n"
     ]
    },
    {
     "name": "stdout",
     "output_type": "stream",
     "text": [
      "740 /Users/jjc/CSF/Recordings/inf_20100610135928_INF1.hdf5\n"
     ]
    },
    {
     "name": "stdout",
     "output_type": "stream",
     "text": [
      "741 /Users/jjc/CSF/Recordings/inf_20100617144221_INF1.hdf5\n"
     ]
    },
    {
     "name": "stdout",
     "output_type": "stream",
     "text": [
      "742 /Users/jjc/CSF/Recordings/inf_20100617153144_INF1.hdf5\n"
     ]
    },
    {
     "name": "stdout",
     "output_type": "stream",
     "text": [
      "743 /Users/jjc/CSF/Recordings/inf_20100622115459_INF1.hdf5\n"
     ]
    },
    {
     "name": "stdout",
     "output_type": "stream",
     "text": [
      "744 /Users/jjc/CSF/Recordings/inf_20100628134652_INF1.hdf5\n"
     ]
    },
    {
     "name": "stdout",
     "output_type": "stream",
     "text": [
      "745 /Users/jjc/CSF/Recordings/inf_20100705134300_INF1.hdf5\n"
     ]
    },
    {
     "name": "stdout",
     "output_type": "stream",
     "text": [
      "746 /Users/jjc/CSF/Recordings/inf_20100825140409_INF1.hdf5\n"
     ]
    },
    {
     "name": "stdout",
     "output_type": "stream",
     "text": [
      "747 /Users/jjc/CSF/Recordings/inf_20100929123928_INF1.hdf5\n"
     ]
    },
    {
     "name": "stdout",
     "output_type": "stream",
     "text": [
      "748 /Users/jjc/CSF/Recordings/inf_20101012120810_INF1.hdf5\n"
     ]
    },
    {
     "name": "stdout",
     "output_type": "stream",
     "text": [
      "749 /Users/jjc/CSF/Recordings/inf_20101014122517_INF1.hdf5\n"
     ]
    },
    {
     "name": "stdout",
     "output_type": "stream",
     "text": [
      "750 /Users/jjc/CSF/Recordings/inf_20101104112127_INF2.hdf5\n"
     ]
    },
    {
     "name": "stdout",
     "output_type": "stream",
     "text": [
      "751 /Users/jjc/CSF/Recordings/inf_20101116143242_INF2.hdf5\n"
     ]
    },
    {
     "name": "stdout",
     "output_type": "stream",
     "text": [
      "752 /Users/jjc/CSF/Recordings/inf_20101123120452_INF2.hdf5\n"
     ]
    },
    {
     "name": "stdout",
     "output_type": "stream",
     "text": [
      "753 /Users/jjc/CSF/Recordings/inf_20101213150719_INF2.hdf5\n"
     ]
    },
    {
     "name": "stdout",
     "output_type": "stream",
     "text": [
      "754 /Users/jjc/CSF/Recordings/inf_20101216112213_INF2.hdf5\n"
     ]
    },
    {
     "name": "stdout",
     "output_type": "stream",
     "text": [
      "755 /Users/jjc/CSF/Recordings/inf_20101217102520_INF2.hdf5\n"
     ]
    },
    {
     "name": "stdout",
     "output_type": "stream",
     "text": [
      "756 /Users/jjc/CSF/Recordings/inf_20101222103436_INF2.hdf5\n"
     ]
    },
    {
     "name": "stdout",
     "output_type": "stream",
     "text": [
      "757 /Users/jjc/CSF/Recordings/inf_20110104164901_INF2.hdf5\n"
     ]
    },
    {
     "name": "stdout",
     "output_type": "stream",
     "text": [
      "758 /Users/jjc/CSF/Recordings/inf_20110107123345_INF2.hdf5\n"
     ]
    },
    {
     "name": "stdout",
     "output_type": "stream",
     "text": [
      "759 /Users/jjc/CSF/Recordings/inf_20110111130033_INF2.hdf5\n"
     ]
    },
    {
     "name": "stdout",
     "output_type": "stream",
     "text": [
      "760 /Users/jjc/CSF/Recordings/inf_20110118123044_INF2.hdf5\n"
     ]
    },
    {
     "name": "stdout",
     "output_type": "stream",
     "text": [
      "761 /Users/jjc/CSF/Recordings/inf_20110120141119_INF2.hdf5\n"
     ]
    },
    {
     "name": "stdout",
     "output_type": "stream",
     "text": [
      "762 /Users/jjc/CSF/Recordings/inf_20110125111736_INF2.hdf5\n"
     ]
    },
    {
     "name": "stdout",
     "output_type": "stream",
     "text": [
      "763 /Users/jjc/CSF/Recordings/inf_20110210151642_INF2.hdf5\n"
     ]
    },
    {
     "name": "stdout",
     "output_type": "stream",
     "text": [
      "764 /Users/jjc/CSF/Recordings/inf_20110217120028_INF2.hdf5\n"
     ]
    },
    {
     "name": "stdout",
     "output_type": "stream",
     "text": [
      "765 /Users/jjc/CSF/Recordings/inf_20110222133152_INF2.hdf5\n"
     ]
    },
    {
     "name": "stdout",
     "output_type": "stream",
     "text": [
      "766 /Users/jjc/CSF/Recordings/inf_20110224112733_INF2.hdf5\n"
     ]
    },
    {
     "name": "stdout",
     "output_type": "stream",
     "text": [
      "767 /Users/jjc/CSF/Recordings/inf_20110301154720_INF2.hdf5\n"
     ]
    },
    {
     "name": "stdout",
     "output_type": "stream",
     "text": [
      "768 /Users/jjc/CSF/Recordings/inf_20110303122852_INF2.hdf5\n"
     ]
    },
    {
     "name": "stdout",
     "output_type": "stream",
     "text": [
      "769 /Users/jjc/CSF/Recordings/inf_20110307104015_INF2.hdf5\n"
     ]
    },
    {
     "name": "stdout",
     "output_type": "stream",
     "text": [
      "770 /Users/jjc/CSF/Recordings/inf_20110310111726_INF2.hdf5\n"
     ]
    },
    {
     "name": "stdout",
     "output_type": "stream",
     "text": [
      "771 /Users/jjc/CSF/Recordings/inf_20110322121758_INF2.hdf5\n"
     ]
    },
    {
     "name": "stdout",
     "output_type": "stream",
     "text": [
      "772 /Users/jjc/CSF/Recordings/inf_20110329131643_INF2.hdf5\n"
     ]
    },
    {
     "name": "stdout",
     "output_type": "stream",
     "text": [
      "773 /Users/jjc/CSF/Recordings/inf_20110404142704_INF2.hdf5\n"
     ]
    },
    {
     "name": "stdout",
     "output_type": "stream",
     "text": [
      "774 /Users/jjc/CSF/Recordings/inf_20110407174743_INF2.hdf5\n"
     ]
    },
    {
     "name": "stdout",
     "output_type": "stream",
     "text": [
      "775 /Users/jjc/CSF/Recordings/inf_20110525114731_INF2.hdf5\n"
     ]
    },
    {
     "name": "stdout",
     "output_type": "stream",
     "text": [
      "776 /Users/jjc/CSF/Recordings/inf_20110531134828_INF2.hdf5\n"
     ]
    },
    {
     "name": "stdout",
     "output_type": "stream",
     "text": [
      "777 /Users/jjc/CSF/Recordings/inf_20110602143814_INF2.hdf5\n"
     ]
    },
    {
     "name": "stdout",
     "output_type": "stream",
     "text": [
      "778 /Users/jjc/CSF/Recordings/inf_20110621124033_INF2.hdf5\n"
     ]
    },
    {
     "name": "stdout",
     "output_type": "stream",
     "text": [
      "779 /Users/jjc/CSF/Recordings/inf_20110628132249_INF2.hdf5\n"
     ]
    },
    {
     "name": "stdout",
     "output_type": "stream",
     "text": [
      "780 /Users/jjc/CSF/Recordings/inf_20110706162618_INF2.hdf5\n"
     ]
    },
    {
     "name": "stdout",
     "output_type": "stream",
     "text": [
      "781 /Users/jjc/CSF/Recordings/inf_20110708095727_INF2.hdf5\n"
     ]
    },
    {
     "name": "stdout",
     "output_type": "stream",
     "text": [
      "782 /Users/jjc/CSF/Recordings/inf_20110715105406_INF2.hdf5\n"
     ]
    },
    {
     "name": "stdout",
     "output_type": "stream",
     "text": [
      "783 /Users/jjc/CSF/Recordings/inf_20110726105826_INF2.hdf5\n"
     ]
    },
    {
     "name": "stdout",
     "output_type": "stream",
     "text": [
      "784 /Users/jjc/CSF/Recordings/inf_20110808163930_INF2.hdf5\n"
     ]
    },
    {
     "name": "stdout",
     "output_type": "stream",
     "text": [
      "785 /Users/jjc/CSF/Recordings/inf_20110812140337_INF2.hdf5\n"
     ]
    },
    {
     "name": "stdout",
     "output_type": "stream",
     "text": [
      "786 /Users/jjc/CSF/Recordings/inf_20110818153952_INF2.hdf5\n"
     ]
    },
    {
     "name": "stdout",
     "output_type": "stream",
     "text": [
      "787 /Users/jjc/CSF/Recordings/inf_20110823135927_INF2.hdf5\n"
     ]
    },
    {
     "name": "stdout",
     "output_type": "stream",
     "text": [
      "788 /Users/jjc/CSF/Recordings/inf_20110830142137_INF2.hdf5\n"
     ]
    },
    {
     "name": "stdout",
     "output_type": "stream",
     "text": [
      "789 /Users/jjc/CSF/Recordings/inf_20110831132407_INF2.hdf5\n"
     ]
    },
    {
     "name": "stdout",
     "output_type": "stream",
     "text": [
      "790 /Users/jjc/CSF/Recordings/inf_20110906103818_INF2.hdf5\n"
     ]
    },
    {
     "name": "stdout",
     "output_type": "stream",
     "text": [
      "791 /Users/jjc/CSF/Recordings/inf_20110912140038_INF2.hdf5\n"
     ]
    },
    {
     "name": "stdout",
     "output_type": "stream",
     "text": [
      "792 /Users/jjc/CSF/Recordings/inf_20110919151700_INF2.hdf5\n"
     ]
    },
    {
     "name": "stdout",
     "output_type": "stream",
     "text": [
      "793 /Users/jjc/CSF/Recordings/inf_20110921153529_INF2.hdf5\n"
     ]
    },
    {
     "name": "stdout",
     "output_type": "stream",
     "text": [
      "794 /Users/jjc/CSF/Recordings/inf_20110926145535_INF2.hdf5\n"
     ]
    },
    {
     "name": "stdout",
     "output_type": "stream",
     "text": [
      "795 /Users/jjc/CSF/Recordings/inf_20111024120313_INF2.hdf5\n"
     ]
    },
    {
     "name": "stdout",
     "output_type": "stream",
     "text": [
      "796 /Users/jjc/CSF/Recordings/inf_20111025144550_INF2.hdf5\n"
     ]
    },
    {
     "name": "stdout",
     "output_type": "stream",
     "text": [
      "797 /Users/jjc/CSF/Recordings/inf_20111028163417_INF2.hdf5\n"
     ]
    },
    {
     "name": "stdout",
     "output_type": "stream",
     "text": [
      "798 /Users/jjc/CSF/Recordings/inf_20111104122118_INF2.hdf5\n"
     ]
    },
    {
     "name": "stdout",
     "output_type": "stream",
     "text": [
      "799 /Users/jjc/CSF/Recordings/inf_20111108132459_INF2.hdf5\n"
     ]
    },
    {
     "name": "stdout",
     "output_type": "stream",
     "text": [
      "800 /Users/jjc/CSF/Recordings/inf_20111130144452_INF2.hdf5\n"
     ]
    },
    {
     "name": "stdout",
     "output_type": "stream",
     "text": [
      "801 /Users/jjc/CSF/Recordings/inf_20111201163848_INF2.hdf5\n"
     ]
    },
    {
     "name": "stdout",
     "output_type": "stream",
     "text": [
      "802 /Users/jjc/CSF/Recordings/inf_20111202120542_INF2.hdf5\n"
     ]
    },
    {
     "name": "stdout",
     "output_type": "stream",
     "text": [
      "803 /Users/jjc/CSF/Recordings/inf_20111215160910_INF2.hdf5\n"
     ]
    },
    {
     "name": "stdout",
     "output_type": "stream",
     "text": [
      "804 /Users/jjc/CSF/Recordings/inf_20111220122846_INF2.hdf5\n"
     ]
    },
    {
     "name": "stdout",
     "output_type": "stream",
     "text": [
      "805 /Users/jjc/CSF/Recordings/inf_20111221133038_INF2.hdf5\n"
     ]
    },
    {
     "name": "stdout",
     "output_type": "stream",
     "text": [
      "806 /Users/jjc/CSF/Recordings/inf_20120104122454_INF2.hdf5\n"
     ]
    },
    {
     "name": "stdout",
     "output_type": "stream",
     "text": [
      "807 /Users/jjc/CSF/Recordings/inf_20120105122237_INF2.hdf5\n"
     ]
    },
    {
     "name": "stdout",
     "output_type": "stream",
     "text": [
      "808 /Users/jjc/CSF/Recordings/inf_20120106144820_INF2.hdf5\n"
     ]
    },
    {
     "name": "stdout",
     "output_type": "stream",
     "text": [
      "809 /Users/jjc/CSF/Recordings/inf_20120110114504_INF2.hdf5\n"
     ]
    },
    {
     "name": "stdout",
     "output_type": "stream",
     "text": [
      "810 /Users/jjc/CSF/Recordings/inf_20120118153339_INF2.hdf5\n"
     ]
    },
    {
     "name": "stdout",
     "output_type": "stream",
     "text": [
      "811 /Users/jjc/CSF/Recordings/inf_20120131123909_INF2.hdf5\n"
     ]
    },
    {
     "name": "stdout",
     "output_type": "stream",
     "text": [
      "812 /Users/jjc/CSF/Recordings/inf_20120306143757_INF2.hdf5\n"
     ]
    },
    {
     "name": "stdout",
     "output_type": "stream",
     "text": [
      "813 /Users/jjc/CSF/Recordings/inf_20120308152334_INF2.hdf5\n"
     ]
    },
    {
     "name": "stdout",
     "output_type": "stream",
     "text": [
      "814 /Users/jjc/CSF/Recordings/inf_20120320132842_INF2.hdf5\n"
     ]
    },
    {
     "name": "stdout",
     "output_type": "stream",
     "text": [
      "815 /Users/jjc/CSF/Recordings/inf_20120328142420_INF2.hdf5\n"
     ]
    },
    {
     "name": "stdout",
     "output_type": "stream",
     "text": [
      "816 /Users/jjc/CSF/Recordings/inf_20120329111828_INF2.hdf5\n"
     ]
    },
    {
     "name": "stdout",
     "output_type": "stream",
     "text": [
      "817 /Users/jjc/CSF/Recordings/inf_20120402125109_INF2.hdf5\n"
     ]
    },
    {
     "name": "stdout",
     "output_type": "stream",
     "text": [
      "818 /Users/jjc/CSF/Recordings/inf_20120403150447_INF2.hdf5\n"
     ]
    },
    {
     "name": "stdout",
     "output_type": "stream",
     "text": [
      "819 /Users/jjc/CSF/Recordings/inf_20120501134939_INF2.hdf5\n"
     ]
    },
    {
     "name": "stdout",
     "output_type": "stream",
     "text": [
      "820 /Users/jjc/CSF/Recordings/inf_20120522151327_INF2.hdf5\n"
     ]
    },
    {
     "name": "stdout",
     "output_type": "stream",
     "text": [
      "821 /Users/jjc/CSF/Recordings/inf_20120524134042_INF2.hdf5\n"
     ]
    },
    {
     "name": "stdout",
     "output_type": "stream",
     "text": [
      "822 /Users/jjc/CSF/Recordings/inf_20120705123643_INF2.hdf5\n"
     ]
    },
    {
     "name": "stdout",
     "output_type": "stream",
     "text": [
      "823 /Users/jjc/CSF/Recordings/inf_20120710151116_INF2.hdf5\n"
     ]
    },
    {
     "name": "stdout",
     "output_type": "stream",
     "text": [
      "824 /Users/jjc/CSF/Recordings/inf_20120717114717_INF2.hdf5\n"
     ]
    },
    {
     "name": "stdout",
     "output_type": "stream",
     "text": [
      "825 /Users/jjc/CSF/Recordings/inf_20120718131755_INF2.hdf5\n"
     ]
    },
    {
     "name": "stdout",
     "output_type": "stream",
     "text": [
      "826 /Users/jjc/CSF/Recordings/inf_20120725112357_INF2.hdf5\n"
     ]
    },
    {
     "name": "stdout",
     "output_type": "stream",
     "text": [
      "827 /Users/jjc/CSF/Recordings/inf_20120808115831_INF2.hdf5\n"
     ]
    },
    {
     "name": "stdout",
     "output_type": "stream",
     "text": [
      "828 /Users/jjc/CSF/Recordings/inf_20120809163120_INF2.hdf5\n"
     ]
    },
    {
     "name": "stdout",
     "output_type": "stream",
     "text": [
      "829 /Users/jjc/CSF/Recordings/inf_20120823114414_INF2.hdf5\n"
     ]
    },
    {
     "name": "stdout",
     "output_type": "stream",
     "text": [
      "830 /Users/jjc/CSF/Recordings/inf_20120911135812_INF2.hdf5\n"
     ]
    },
    {
     "name": "stdout",
     "output_type": "stream",
     "text": [
      "831 /Users/jjc/CSF/Recordings/inf_20120920151203_INF2.hdf5\n"
     ]
    },
    {
     "name": "stdout",
     "output_type": "stream",
     "text": [
      "832 /Users/jjc/CSF/Recordings/inf_20120924145442_INF2.hdf5\n"
     ]
    },
    {
     "name": "stdout",
     "output_type": "stream",
     "text": [
      "833 /Users/jjc/CSF/Recordings/inf_20120925120150_INF2.hdf5\n"
     ]
    },
    {
     "name": "stdout",
     "output_type": "stream",
     "text": [
      "834 /Users/jjc/CSF/Recordings/inf_20121002133448_INF2.hdf5\n"
     ]
    },
    {
     "name": "stdout",
     "output_type": "stream",
     "text": [
      "835 /Users/jjc/CSF/Recordings/inf_20121004144912_INF2.hdf5\n"
     ]
    },
    {
     "name": "stdout",
     "output_type": "stream",
     "text": [
      "836 /Users/jjc/CSF/Recordings/inf_20121009122323_INF2.hdf5\n"
     ]
    },
    {
     "name": "stdout",
     "output_type": "stream",
     "text": [
      "837 /Users/jjc/CSF/Recordings/inf_20121011161659_INF2.hdf5\n"
     ]
    },
    {
     "name": "stdout",
     "output_type": "stream",
     "text": [
      "838 /Users/jjc/CSF/Recordings/inf_20121030152832_INF2.hdf5\n"
     ]
    },
    {
     "name": "stdout",
     "output_type": "stream",
     "text": [
      "839 /Users/jjc/CSF/Recordings/inf_20130123155837_INF2.hdf5\n"
     ]
    },
    {
     "name": "stdout",
     "output_type": "stream",
     "text": [
      "840 /Users/jjc/CSF/Recordings/inf_20130205145627_INF2.hdf5\n"
     ]
    },
    {
     "name": "stdout",
     "output_type": "stream",
     "text": [
      "841 /Users/jjc/CSF/Recordings/inf_20130212154654_INF2.hdf5\n"
     ]
    },
    {
     "name": "stdout",
     "output_type": "stream",
     "text": [
      "842 /Users/jjc/CSF/Recordings/inf_20130214134947_INF2.hdf5\n"
     ]
    },
    {
     "name": "stdout",
     "output_type": "stream",
     "text": [
      "843 /Users/jjc/CSF/Recordings/inf_20130220151330_INF2.hdf5\n"
     ]
    },
    {
     "name": "stdout",
     "output_type": "stream",
     "text": [
      "844 /Users/jjc/CSF/Recordings/inf_20130305153452_INF2.hdf5\n"
     ]
    },
    {
     "name": "stdout",
     "output_type": "stream",
     "text": [
      "845 /Users/jjc/CSF/Recordings/inf_20130325130820_INF2.hdf5\n"
     ]
    },
    {
     "name": "stdout",
     "output_type": "stream",
     "text": [
      "846 /Users/jjc/CSF/Recordings/inf_20130402141044_INF2.hdf5\n"
     ]
    },
    {
     "name": "stdout",
     "output_type": "stream",
     "text": [
      "847 /Users/jjc/CSF/Recordings/inf_20130409133533_INF2.hdf5\n"
     ]
    },
    {
     "name": "stdout",
     "output_type": "stream",
     "text": [
      "848 /Users/jjc/CSF/Recordings/inf_20130418114735_INF2.hdf5\n"
     ]
    },
    {
     "name": "stdout",
     "output_type": "stream",
     "text": [
      "849 /Users/jjc/CSF/Recordings/inf_20130418140240_INF2.hdf5\n"
     ]
    },
    {
     "name": "stdout",
     "output_type": "stream",
     "text": [
      "850 /Users/jjc/CSF/Recordings/inf_20130425141046_INF2.hdf5\n"
     ]
    },
    {
     "name": "stdout",
     "output_type": "stream",
     "text": [
      "851 /Users/jjc/CSF/Recordings/inf_20130429134055_INF2.hdf5\n"
     ]
    },
    {
     "name": "stdout",
     "output_type": "stream",
     "text": [
      "852 /Users/jjc/CSF/Recordings/inf_20130501110250_INF2.hdf5\n"
     ]
    },
    {
     "name": "stdout",
     "output_type": "stream",
     "text": [
      "853 /Users/jjc/CSF/Recordings/inf_20130507155541_INF2.hdf5\n"
     ]
    },
    {
     "name": "stdout",
     "output_type": "stream",
     "text": [
      "854 /Users/jjc/CSF/Recordings/inf_20130509144930_INF2.hdf5\n"
     ]
    },
    {
     "name": "stdout",
     "output_type": "stream",
     "text": [
      "855 /Users/jjc/CSF/Recordings/inf_20130514151554_INF2.hdf5\n"
     ]
    },
    {
     "name": "stdout",
     "output_type": "stream",
     "text": [
      "856 /Users/jjc/CSF/Recordings/inf_20130515153938_INF2.hdf5\n"
     ]
    },
    {
     "name": "stdout",
     "output_type": "stream",
     "text": [
      "857 /Users/jjc/CSF/Recordings/inf_20130516122646_INF2.hdf5\n"
     ]
    },
    {
     "name": "stdout",
     "output_type": "stream",
     "text": [
      "858 /Users/jjc/CSF/Recordings/inf_20130522133852_INF2.hdf5\n"
     ]
    },
    {
     "name": "stdout",
     "output_type": "stream",
     "text": [
      "859 /Users/jjc/CSF/Recordings/inf_20130528141055_INF2.hdf5\n"
     ]
    },
    {
     "name": "stdout",
     "output_type": "stream",
     "text": [
      "860 /Users/jjc/CSF/Recordings/inf_20130530135836_INF2.hdf5\n"
     ]
    },
    {
     "name": "stdout",
     "output_type": "stream",
     "text": [
      "861 /Users/jjc/CSF/Recordings/inf_20130531161332_INF2.hdf5\n"
     ]
    },
    {
     "name": "stdout",
     "output_type": "stream",
     "text": [
      "862 /Users/jjc/CSF/Recordings/inf_20130605105442_INF2.hdf5\n"
     ]
    },
    {
     "name": "stdout",
     "output_type": "stream",
     "text": [
      "863 /Users/jjc/CSF/Recordings/inf_20130724130806_INF2.hdf5\n"
     ]
    },
    {
     "name": "stdout",
     "output_type": "stream",
     "text": [
      "864 /Users/jjc/CSF/Recordings/inf_20130815123030_INF2.hdf5\n"
     ]
    },
    {
     "name": "stdout",
     "output_type": "stream",
     "text": [
      "865 /Users/jjc/CSF/Recordings/inf_20130905104704_INF2.hdf5\n"
     ]
    },
    {
     "name": "stdout",
     "output_type": "stream",
     "text": [
      "866 /Users/jjc/CSF/Recordings/inf_20130918121157_INF2.hdf5\n"
     ]
    },
    {
     "name": "stdout",
     "output_type": "stream",
     "text": [
      "867 /Users/jjc/CSF/Recordings/inf_20131001161648_INF2.hdf5\n"
     ]
    },
    {
     "name": "stdout",
     "output_type": "stream",
     "text": [
      "868 /Users/jjc/CSF/Recordings/inf_20131003144004_INF2.hdf5\n"
     ]
    },
    {
     "name": "stdout",
     "output_type": "stream",
     "text": [
      "869 /Users/jjc/CSF/Recordings/inf_20131008145626_INF2.hdf5\n"
     ]
    },
    {
     "name": "stdout",
     "output_type": "stream",
     "text": [
      "870 /Users/jjc/CSF/Recordings/inf_20131016110426_INF2.hdf5\n"
     ]
    },
    {
     "name": "stdout",
     "output_type": "stream",
     "text": [
      "871 /Users/jjc/CSF/Recordings/inf_20131017113024_INF2.hdf5\n"
     ]
    },
    {
     "name": "stdout",
     "output_type": "stream",
     "text": [
      "872 /Users/jjc/CSF/Recordings/inf_20131028142332_INF2.hdf5\n"
     ]
    },
    {
     "name": "stdout",
     "output_type": "stream",
     "text": [
      "873 /Users/jjc/CSF/Recordings/inf_20131121151525_INF2.hdf5\n"
     ]
    },
    {
     "name": "stdout",
     "output_type": "stream",
     "text": [
      "874 /Users/jjc/CSF/Recordings/inf_20131205085311_INF2.hdf5\n"
     ]
    },
    {
     "name": "stdout",
     "output_type": "stream",
     "text": [
      "875 /Users/jjc/CSF/Recordings/inf_20131217143429_INF2.hdf5\n"
     ]
    },
    {
     "name": "stdout",
     "output_type": "stream",
     "text": [
      "876 /Users/jjc/CSF/Recordings/inf_20140130122115_INF2.hdf5\n"
     ]
    },
    {
     "name": "stdout",
     "output_type": "stream",
     "text": [
      "877 /Users/jjc/CSF/Recordings/inf_20140219112128_INF2.hdf5\n"
     ]
    },
    {
     "name": "stdout",
     "output_type": "stream",
     "text": [
      "878 /Users/jjc/CSF/Recordings/inf_20140227143618_INF2.hdf5\n"
     ]
    },
    {
     "name": "stdout",
     "output_type": "stream",
     "text": [
      "879 /Users/jjc/CSF/Recordings/inf_20140228123613_INF2.hdf5\n"
     ]
    },
    {
     "name": "stdout",
     "output_type": "stream",
     "text": [
      "880 /Users/jjc/CSF/Recordings/inf_20140416162043_INF2.hdf5\n"
     ]
    },
    {
     "name": "stdout",
     "output_type": "stream",
     "text": [
      "881 /Users/jjc/CSF/Recordings/inf_20140417131910_INF2.hdf5\n"
     ]
    },
    {
     "name": "stdout",
     "output_type": "stream",
     "text": [
      "882 /Users/jjc/CSF/Recordings/inf_20140424141417_INF2.hdf5\n"
     ]
    },
    {
     "name": "stdout",
     "output_type": "stream",
     "text": [
      "883 /Users/jjc/CSF/Recordings/inf_20140429134931_INF2.hdf5\n"
     ]
    },
    {
     "name": "stdout",
     "output_type": "stream",
     "text": [
      "884 /Users/jjc/CSF/Recordings/inf_20140610150324_INF2.hdf5\n"
     ]
    },
    {
     "name": "stdout",
     "output_type": "stream",
     "text": [
      "885 /Users/jjc/CSF/Recordings/inf_20140701124921_INF2.hdf5\n"
     ]
    },
    {
     "name": "stdout",
     "output_type": "stream",
     "text": [
      "886 /Users/jjc/CSF/Recordings/inf_20140709122557_INF2.hdf5\n"
     ]
    },
    {
     "name": "stdout",
     "output_type": "stream",
     "text": [
      "887 /Users/jjc/CSF/Recordings/inf_20140714153341_INF2.hdf5\n"
     ]
    },
    {
     "name": "stdout",
     "output_type": "stream",
     "text": [
      "888 /Users/jjc/CSF/Recordings/inf_20140715132147_INF2.hdf5\n"
     ]
    },
    {
     "name": "stdout",
     "output_type": "stream",
     "text": [
      "889 /Users/jjc/CSF/Recordings/inf_20140717160251_INF2.hdf5\n"
     ]
    },
    {
     "name": "stdout",
     "output_type": "stream",
     "text": [
      "890 /Users/jjc/CSF/Recordings/inf_20140722142841_INF2.hdf5\n"
     ]
    },
    {
     "name": "stdout",
     "output_type": "stream",
     "text": [
      "891 /Users/jjc/CSF/Recordings/inf_20140723132730_INF2.hdf5\n"
     ]
    },
    {
     "name": "stdout",
     "output_type": "stream",
     "text": [
      "892 /Users/jjc/CSF/Recordings/inf_20140725113942_INF2.hdf5\n"
     ]
    },
    {
     "name": "stdout",
     "output_type": "stream",
     "text": [
      "893 /Users/jjc/CSF/Recordings/inf_20140729123026_INF2.hdf5\n"
     ]
    },
    {
     "name": "stdout",
     "output_type": "stream",
     "text": [
      "894 /Users/jjc/CSF/Recordings/inf_20140730115155_INF2.hdf5\n"
     ]
    },
    {
     "name": "stdout",
     "output_type": "stream",
     "text": [
      "895 /Users/jjc/CSF/Recordings/inf_20140731124847_INF2.hdf5\n"
     ]
    },
    {
     "name": "stdout",
     "output_type": "stream",
     "text": [
      "896 /Users/jjc/CSF/Recordings/inf_20140731154229_INF2.hdf5\n"
     ]
    },
    {
     "name": "stdout",
     "output_type": "stream",
     "text": [
      "897 /Users/jjc/CSF/Recordings/inf_20140805122158_INF2.hdf5\n"
     ]
    },
    {
     "name": "stdout",
     "output_type": "stream",
     "text": [
      "898 /Users/jjc/CSF/Recordings/inf_20140807144923_INF2.hdf5\n"
     ]
    },
    {
     "name": "stdout",
     "output_type": "stream",
     "text": [
      "899 /Users/jjc/CSF/Recordings/inf_20140821145120_INF2.hdf5\n"
     ]
    },
    {
     "name": "stdout",
     "output_type": "stream",
     "text": [
      "900 /Users/jjc/CSF/Recordings/inf_20140901140103_INF2.hdf5\n"
     ]
    },
    {
     "name": "stdout",
     "output_type": "stream",
     "text": [
      "901 /Users/jjc/CSF/Recordings/inf_20140905145909_INF2.hdf5\n"
     ]
    },
    {
     "name": "stdout",
     "output_type": "stream",
     "text": [
      "902 /Users/jjc/CSF/Recordings/inf_20140912135108_INF2.hdf5\n"
     ]
    },
    {
     "name": "stdout",
     "output_type": "stream",
     "text": [
      "903 /Users/jjc/CSF/Recordings/inf_20140916133027_INF2.hdf5\n"
     ]
    },
    {
     "name": "stdout",
     "output_type": "stream",
     "text": [
      "904 /Users/jjc/CSF/Recordings/inf_20140918132324_INF2.hdf5\n"
     ]
    },
    {
     "name": "stdout",
     "output_type": "stream",
     "text": [
      "905 /Users/jjc/CSF/Recordings/inf_20141001111535_INF2.hdf5\n"
     ]
    },
    {
     "name": "stdout",
     "output_type": "stream",
     "text": [
      "906 /Users/jjc/CSF/Recordings/inf_20141003144406_INF2.hdf5\n"
     ]
    },
    {
     "name": "stdout",
     "output_type": "stream",
     "text": [
      "907 /Users/jjc/CSF/Recordings/inf_20141007120740_INF2.hdf5\n"
     ]
    },
    {
     "name": "stdout",
     "output_type": "stream",
     "text": [
      "908 /Users/jjc/CSF/Recordings/inf_20141010104902_INF2.hdf5\n"
     ]
    },
    {
     "name": "stdout",
     "output_type": "stream",
     "text": [
      "909 /Users/jjc/CSF/Recordings/inf_20141014120046_INF2.hdf5\n"
     ]
    },
    {
     "name": "stdout",
     "output_type": "stream",
     "text": [
      "910 /Users/jjc/CSF/Recordings/inf_20141017114026_INF2.hdf5\n"
     ]
    },
    {
     "name": "stdout",
     "output_type": "stream",
     "text": [
      "911 /Users/jjc/CSF/Recordings/inf_20141020132450_INF2.hdf5\n"
     ]
    },
    {
     "name": "stdout",
     "output_type": "stream",
     "text": [
      "912 /Users/jjc/CSF/Recordings/inf_20141021124728_INF2.hdf5\n"
     ]
    },
    {
     "name": "stdout",
     "output_type": "stream",
     "text": [
      "913 /Users/jjc/CSF/Recordings/inf_20141028140655_INF2.hdf5\n"
     ]
    },
    {
     "name": "stdout",
     "output_type": "stream",
     "text": [
      "914 /Users/jjc/CSF/Recordings/inf_20141106110940_INF2.hdf5\n"
     ]
    },
    {
     "name": "stdout",
     "output_type": "stream",
     "text": [
      "915 /Users/jjc/CSF/Recordings/inf_20141106141133_INF2.hdf5\n"
     ]
    },
    {
     "name": "stdout",
     "output_type": "stream",
     "text": [
      "916 /Users/jjc/CSF/Recordings/inf_20141112120516_INF2.hdf5\n"
     ]
    },
    {
     "name": "stdout",
     "output_type": "stream",
     "text": [
      "917 /Users/jjc/CSF/Recordings/inf_20141119161258_INF2.hdf5\n"
     ]
    },
    {
     "name": "stdout",
     "output_type": "stream",
     "text": [
      "918 /Users/jjc/CSF/Recordings/inf_20141127115632_INF2.hdf5\n"
     ]
    },
    {
     "name": "stdout",
     "output_type": "stream",
     "text": [
      "919 /Users/jjc/CSF/Recordings/inf_20141202141706_INF2.hdf5\n"
     ]
    },
    {
     "name": "stdout",
     "output_type": "stream",
     "text": [
      "920 /Users/jjc/CSF/Recordings/inf_20141203114841_INF2.hdf5\n"
     ]
    },
    {
     "name": "stdout",
     "output_type": "stream",
     "text": [
      "921 /Users/jjc/CSF/Recordings/inf_20141222113822_INF2.hdf5\n"
     ]
    },
    {
     "name": "stdout",
     "output_type": "stream",
     "text": [
      "922 /Users/jjc/CSF/Recordings/inf_20150105121320_INF2.hdf5\n"
     ]
    },
    {
     "name": "stdout",
     "output_type": "stream",
     "text": [
      "923 /Users/jjc/CSF/Recordings/inf_20150113132603_INF2.hdf5\n"
     ]
    },
    {
     "name": "stdout",
     "output_type": "stream",
     "text": [
      "924 /Users/jjc/CSF/Recordings/inf_20150114113046_INF2.hdf5\n"
     ]
    },
    {
     "name": "stdout",
     "output_type": "stream",
     "text": [
      "925 /Users/jjc/CSF/Recordings/inf_20150119112642_INF2.hdf5\n"
     ]
    },
    {
     "name": "stdout",
     "output_type": "stream",
     "text": [
      "926 /Users/jjc/CSF/Recordings/inf_20150120160746_INF2.hdf5\n"
     ]
    },
    {
     "name": "stdout",
     "output_type": "stream",
     "text": [
      "927 /Users/jjc/CSF/Recordings/inf_20150129114449_INF2.hdf5\n"
     ]
    },
    {
     "name": "stdout",
     "output_type": "stream",
     "text": [
      "928 /Users/jjc/CSF/Recordings/inf_20150130114023_INF2.hdf5\n"
     ]
    },
    {
     "name": "stdout",
     "output_type": "stream",
     "text": [
      "929 /Users/jjc/CSF/Recordings/inf_20150203124451_INF2.hdf5\n"
     ]
    },
    {
     "name": "stdout",
     "output_type": "stream",
     "text": [
      "930 /Users/jjc/CSF/Recordings/inf_20150209162557_INF2.hdf5\n"
     ]
    },
    {
     "name": "stdout",
     "output_type": "stream",
     "text": [
      "931 /Users/jjc/CSF/Recordings/inf_20150218131134_INF2.hdf5\n"
     ]
    },
    {
     "name": "stdout",
     "output_type": "stream",
     "text": [
      "932 /Users/jjc/CSF/Recordings/inf_20150223141619_INF2.hdf5\n"
     ]
    },
    {
     "name": "stdout",
     "output_type": "stream",
     "text": [
      "933 /Users/jjc/CSF/Recordings/inf_20150226141934_INF2.hdf5\n"
     ]
    },
    {
     "name": "stdout",
     "output_type": "stream",
     "text": [
      "934 /Users/jjc/CSF/Recordings/inf_20150302121527_INF2.hdf5\n"
     ]
    },
    {
     "name": "stdout",
     "output_type": "stream",
     "text": [
      "935 /Users/jjc/CSF/Recordings/inf_20150304151639_INF2.hdf5\n"
     ]
    },
    {
     "name": "stdout",
     "output_type": "stream",
     "text": [
      "936 /Users/jjc/CSF/Recordings/inf_20150310122153_INF2.hdf5\n"
     ]
    },
    {
     "name": "stdout",
     "output_type": "stream",
     "text": [
      "937 /Users/jjc/CSF/Recordings/inf_20150310143724_INF2.hdf5\n"
     ]
    },
    {
     "name": "stdout",
     "output_type": "stream",
     "text": [
      "938 /Users/jjc/CSF/Recordings/inf_20150312140155_INF2.hdf5\n"
     ]
    },
    {
     "name": "stdout",
     "output_type": "stream",
     "text": [
      "939 /Users/jjc/CSF/Recordings/inf_20150313123003_INF2.hdf5\n"
     ]
    },
    {
     "name": "stdout",
     "output_type": "stream",
     "text": [
      "940 /Users/jjc/CSF/Recordings/inf_20150318121637_INF2.hdf5\n"
     ]
    },
    {
     "name": "stdout",
     "output_type": "stream",
     "text": [
      "941 /Users/jjc/CSF/Recordings/inf_20150319135556_INF2.hdf5\n"
     ]
    },
    {
     "name": "stdout",
     "output_type": "stream",
     "text": [
      "942 /Users/jjc/CSF/Recordings/inf_20150408140002_INF2.hdf5\n"
     ]
    },
    {
     "name": "stdout",
     "output_type": "stream",
     "text": [
      "943 /Users/jjc/CSF/Recordings/inf_20150409122355_INF2.hdf5\n"
     ]
    },
    {
     "name": "stdout",
     "output_type": "stream",
     "text": [
      "944 /Users/jjc/CSF/Recordings/inf_20150414130345_INF2.hdf5\n"
     ]
    },
    {
     "name": "stdout",
     "output_type": "stream",
     "text": [
      "945 /Users/jjc/CSF/Recordings/inf_20150421124035_INF2.hdf5\n"
     ]
    },
    {
     "name": "stdout",
     "output_type": "stream",
     "text": [
      "946 /Users/jjc/CSF/Recordings/inf_20150505150458_INF2.hdf5\n"
     ]
    },
    {
     "name": "stdout",
     "output_type": "stream",
     "text": [
      "947 /Users/jjc/CSF/Recordings/inf_20150519124709_INF2.hdf5\n"
     ]
    },
    {
     "name": "stdout",
     "output_type": "stream",
     "text": [
      "948 /Users/jjc/CSF/Recordings/inf_20150527123811_INF2.hdf5\n"
     ]
    },
    {
     "name": "stdout",
     "output_type": "stream",
     "text": [
      "949 /Users/jjc/CSF/Recordings/inf_20150604111312_INF2.hdf5\n"
     ]
    },
    {
     "name": "stdout",
     "output_type": "stream",
     "text": [
      "950 /Users/jjc/CSF/Recordings/inf_20150616155655_INF2.hdf5\n"
     ]
    },
    {
     "name": "stdout",
     "output_type": "stream",
     "text": [
      "951 /Users/jjc/CSF/Recordings/inf_20150618113927_INF2.hdf5\n"
     ]
    },
    {
     "name": "stdout",
     "output_type": "stream",
     "text": [
      "952 /Users/jjc/CSF/Recordings/inf_20150630145840_INF2.hdf5\n"
     ]
    },
    {
     "name": "stdout",
     "output_type": "stream",
     "text": [
      "953 /Users/jjc/CSF/Recordings/inf_20150703143746_INF2.hdf5\n"
     ]
    },
    {
     "name": "stdout",
     "output_type": "stream",
     "text": [
      "954 /Users/jjc/CSF/Recordings/inf_20150709140423_INF2.hdf5\n"
     ]
    },
    {
     "name": "stdout",
     "output_type": "stream",
     "text": [
      "955 /Users/jjc/CSF/Recordings/inf_20150710125548_INF2.hdf5\n"
     ]
    },
    {
     "name": "stdout",
     "output_type": "stream",
     "text": [
      "956 /Users/jjc/CSF/Recordings/inf_20150722113033_INF2.hdf5\n"
     ]
    },
    {
     "name": "stdout",
     "output_type": "stream",
     "text": [
      "957 /Users/jjc/CSF/Recordings/inf_20150723101704_INF2.hdf5\n"
     ]
    },
    {
     "name": "stdout",
     "output_type": "stream",
     "text": [
      "958 /Users/jjc/CSF/Recordings/inf_20150730115956_INF2.hdf5\n"
     ]
    },
    {
     "name": "stdout",
     "output_type": "stream",
     "text": [
      "959 /Users/jjc/CSF/Recordings/inf_20150811122005_INF2.hdf5\n"
     ]
    },
    {
     "name": "stdout",
     "output_type": "stream",
     "text": [
      "960 /Users/jjc/CSF/Recordings/inf_20150818123710_INF2.hdf5\n"
     ]
    },
    {
     "name": "stdout",
     "output_type": "stream",
     "text": [
      "961 /Users/jjc/CSF/Recordings/inf_20150820121238_INF2.hdf5\n"
     ]
    },
    {
     "name": "stdout",
     "output_type": "stream",
     "text": [
      "962 /Users/jjc/CSF/Recordings/inf_20150903120149_INF2.hdf5\n"
     ]
    },
    {
     "name": "stdout",
     "output_type": "stream",
     "text": [
      "963 /Users/jjc/CSF/Recordings/inf_20150907121414_INF2.hdf5\n"
     ]
    },
    {
     "name": "stdout",
     "output_type": "stream",
     "text": [
      "964 /Users/jjc/CSF/Recordings/inf_20150914113609_INF2.hdf5\n"
     ]
    },
    {
     "name": "stdout",
     "output_type": "stream",
     "text": [
      "965 /Users/jjc/CSF/Recordings/inf_20150915125300_INF2.hdf5\n"
     ]
    },
    {
     "name": "stdout",
     "output_type": "stream",
     "text": [
      "966 /Users/jjc/CSF/Recordings/inf_20150916134638_INF2.hdf5\n"
     ]
    },
    {
     "name": "stdout",
     "output_type": "stream",
     "text": [
      "967 /Users/jjc/CSF/Recordings/inf_20150917113030_INF2.hdf5\n"
     ]
    },
    {
     "name": "stdout",
     "output_type": "stream",
     "text": [
      "968 /Users/jjc/CSF/Recordings/inf_20150921162716_INF2.hdf5\n"
     ]
    },
    {
     "name": "stdout",
     "output_type": "stream",
     "text": [
      "969 /Users/jjc/CSF/Recordings/inf_20151012125233_INF2.hdf5\n"
     ]
    },
    {
     "name": "stdout",
     "output_type": "stream",
     "text": [
      "970 /Users/jjc/CSF/Recordings/inf_20151015112742_INF2.hdf5\n"
     ]
    },
    {
     "name": "stdout",
     "output_type": "stream",
     "text": [
      "971 /Users/jjc/CSF/Recordings/inf_20151016124105_INF2.hdf5\n"
     ]
    },
    {
     "name": "stdout",
     "output_type": "stream",
     "text": [
      "972 /Users/jjc/CSF/Recordings/inf_20151023120151_INF2.hdf5\n"
     ]
    },
    {
     "name": "stdout",
     "output_type": "stream",
     "text": [
      "973 /Users/jjc/CSF/Recordings/inf_20151026114408_INF2.hdf5\n"
     ]
    },
    {
     "name": "stdout",
     "output_type": "stream",
     "text": [
      "974 /Users/jjc/CSF/Recordings/inf_20151028114633_INF2.hdf5\n"
     ]
    },
    {
     "name": "stdout",
     "output_type": "stream",
     "text": [
      "975 /Users/jjc/CSF/Recordings/inf_20151102113932_INF2.hdf5\n"
     ]
    },
    {
     "name": "stdout",
     "output_type": "stream",
     "text": [
      "976 /Users/jjc/CSF/Recordings/inf_20151105130537_INF2.hdf5\n"
     ]
    },
    {
     "name": "stdout",
     "output_type": "stream",
     "text": [
      "977 /Users/jjc/CSF/Recordings/inf_20151109120503_INF2.hdf5\n"
     ]
    },
    {
     "name": "stdout",
     "output_type": "stream",
     "text": [
      "978 /Users/jjc/CSF/Recordings/inf_20151125114434_INF2.hdf5\n"
     ]
    },
    {
     "name": "stdout",
     "output_type": "stream",
     "text": [
      "979 /Users/jjc/CSF/Recordings/inf_20151208130338_INF2.hdf5\n"
     ]
    },
    {
     "name": "stdout",
     "output_type": "stream",
     "text": [
      "980 /Users/jjc/CSF/Recordings/inf_20151215133022_INF2.hdf5\n"
     ]
    },
    {
     "name": "stdout",
     "output_type": "stream",
     "text": [
      "981 /Users/jjc/CSF/Recordings/inf_20151216115207_INF2.hdf5\n"
     ]
    },
    {
     "name": "stdout",
     "output_type": "stream",
     "text": [
      "982 /Users/jjc/CSF/Recordings/inf_20151216161449_INF2.hdf5\n"
     ]
    },
    {
     "name": "stdout",
     "output_type": "stream",
     "text": [
      "983 /Users/jjc/CSF/Recordings/inf_20160105130511_INF2.hdf5\n"
     ]
    },
    {
     "name": "stdout",
     "output_type": "stream",
     "text": [
      "984 /Users/jjc/CSF/Recordings/inf_20160114124257_INF2.hdf5\n"
     ]
    },
    {
     "name": "stdout",
     "output_type": "stream",
     "text": [
      "985 /Users/jjc/CSF/Recordings/inf_20160119122245_INF2.hdf5\n"
     ]
    },
    {
     "name": "stdout",
     "output_type": "stream",
     "text": [
      "986 /Users/jjc/CSF/Recordings/inf_20160121113141_INF2.hdf5\n"
     ]
    },
    {
     "name": "stdout",
     "output_type": "stream",
     "text": [
      "987 /Users/jjc/CSF/Recordings/inf_20160122094449_INF2.hdf5\n"
     ]
    },
    {
     "name": "stdout",
     "output_type": "stream",
     "text": [
      "988 /Users/jjc/CSF/Recordings/inf_20160125120822_INF2.hdf5\n"
     ]
    },
    {
     "name": "stdout",
     "output_type": "stream",
     "text": [
      "989 /Users/jjc/CSF/Recordings/inf_20160126123527_INF2.hdf5\n"
     ]
    },
    {
     "name": "stdout",
     "output_type": "stream",
     "text": [
      "990 /Users/jjc/CSF/Recordings/inf_20160202145615_INF2.hdf5\n"
     ]
    },
    {
     "name": "stdout",
     "output_type": "stream",
     "text": [
      "991 /Users/jjc/CSF/Recordings/inf_20160203111041_INF2.hdf5\n"
     ]
    },
    {
     "name": "stdout",
     "output_type": "stream",
     "text": [
      "992 /Users/jjc/CSF/Recordings/inf_20160205113537_INF2.hdf5\n"
     ]
    },
    {
     "name": "stdout",
     "output_type": "stream",
     "text": [
      "993 /Users/jjc/CSF/Recordings/inf_20160208121552_INF2.hdf5\n"
     ]
    },
    {
     "name": "stdout",
     "output_type": "stream",
     "text": [
      "994 /Users/jjc/CSF/Recordings/inf_20160211155254_INF2.hdf5\n"
     ]
    },
    {
     "name": "stdout",
     "output_type": "stream",
     "text": [
      "995 /Users/jjc/CSF/Recordings/inf_20160215111046_INF2.hdf5\n"
     ]
    },
    {
     "name": "stdout",
     "output_type": "stream",
     "text": [
      "996 /Users/jjc/CSF/Recordings/inf_20160218115953_INF2.hdf5\n"
     ]
    },
    {
     "name": "stdout",
     "output_type": "stream",
     "text": [
      "997 /Users/jjc/CSF/Recordings/inf_20160302150733_INF2.hdf5\n"
     ]
    },
    {
     "name": "stdout",
     "output_type": "stream",
     "text": [
      "998 /Users/jjc/CSF/Recordings/inf_20160315170121_INF2.hdf5\n"
     ]
    },
    {
     "name": "stdout",
     "output_type": "stream",
     "text": [
      "999 /Users/jjc/CSF/Recordings/inf_20160323112940_INF2.hdf5\n"
     ]
    },
    {
     "name": "stdout",
     "output_type": "stream",
     "text": [
      "1000 /Users/jjc/CSF/Recordings/inf_20160331110943_INF2.hdf5\n"
     ]
    },
    {
     "name": "stdout",
     "output_type": "stream",
     "text": [
      "1001 /Users/jjc/CSF/Recordings/inf_20160404114209_INF2.hdf5\n"
     ]
    },
    {
     "name": "stdout",
     "output_type": "stream",
     "text": [
      "1002 /Users/jjc/CSF/Recordings/inf_20160404143733_INF2.hdf5\n"
     ]
    },
    {
     "name": "stdout",
     "output_type": "stream",
     "text": [
      "1003 /Users/jjc/CSF/Recordings/inf_20160405131019_INF2.hdf5\n"
     ]
    },
    {
     "name": "stdout",
     "output_type": "stream",
     "text": [
      "1004 /Users/jjc/CSF/Recordings/inf_20160415110952_INF2.hdf5\n"
     ]
    },
    {
     "name": "stdout",
     "output_type": "stream",
     "text": [
      "1005 /Users/jjc/CSF/Recordings/inf_20160425155647_INF2.hdf5\n"
     ]
    },
    {
     "name": "stdout",
     "output_type": "stream",
     "text": [
      "1006 /Users/jjc/CSF/Recordings/inf_20160428141038_INF2.hdf5\n"
     ]
    },
    {
     "name": "stdout",
     "output_type": "stream",
     "text": [
      "1007 /Users/jjc/CSF/Recordings/inf_20160519112628_INF2.hdf5\n"
     ]
    },
    {
     "name": "stdout",
     "output_type": "stream",
     "text": [
      "1008 /Users/jjc/CSF/Recordings/inf_20160519143921_INF1.hdf5\n"
     ]
    },
    {
     "name": "stdout",
     "output_type": "stream",
     "text": [
      "1009 /Users/jjc/CSF/Recordings/inf_20160520122435_INF2.hdf5\n"
     ]
    },
    {
     "name": "stdout",
     "output_type": "stream",
     "text": [
      "1010 /Users/jjc/CSF/Recordings/inf_20160524150145_INF2.hdf5\n"
     ]
    },
    {
     "name": "stdout",
     "output_type": "stream",
     "text": [
      "1011 /Users/jjc/CSF/Recordings/inf_20160525170029_INF2.hdf5\n"
     ]
    },
    {
     "name": "stdout",
     "output_type": "stream",
     "text": [
      "1012 /Users/jjc/CSF/Recordings/inf_20160613161152_INF2.hdf5\n"
     ]
    },
    {
     "name": "stdout",
     "output_type": "stream",
     "text": [
      "1013 /Users/jjc/CSF/Recordings/inf_20160615122628_INF2.hdf5\n"
     ]
    },
    {
     "name": "stdout",
     "output_type": "stream",
     "text": [
      "1014 /Users/jjc/CSF/Recordings/inf_20160616112451_INF2.hdf5\n"
     ]
    },
    {
     "name": "stdout",
     "output_type": "stream",
     "text": [
      "1015 /Users/jjc/CSF/Recordings/inf_20160617113528_INF2.hdf5\n"
     ]
    },
    {
     "name": "stdout",
     "output_type": "stream",
     "text": [
      "1016 /Users/jjc/CSF/Recordings/inf_20160623132039_INF2.hdf5\n"
     ]
    },
    {
     "name": "stdout",
     "output_type": "stream",
     "text": [
      "1017 /Users/jjc/CSF/Recordings/inf_20160708113112_INF2.hdf5\n"
     ]
    },
    {
     "name": "stdout",
     "output_type": "stream",
     "text": [
      "1018 /Users/jjc/CSF/Recordings/inf_20160720133341_INF2.hdf5\n"
     ]
    },
    {
     "name": "stdout",
     "output_type": "stream",
     "text": [
      "1019 /Users/jjc/CSF/Recordings/inf_20160801112600_INF2.hdf5\n"
     ]
    },
    {
     "name": "stdout",
     "output_type": "stream",
     "text": [
      "1020 /Users/jjc/CSF/Recordings/inf_20160802120451_INF2.hdf5\n"
     ]
    },
    {
     "name": "stdout",
     "output_type": "stream",
     "text": [
      "1021 /Users/jjc/CSF/Recordings/inf_20160811114053_INF2.hdf5\n"
     ]
    },
    {
     "name": "stdout",
     "output_type": "stream",
     "text": [
      "1022 /Users/jjc/CSF/Recordings/inf_20160819111201_INF2.hdf5\n"
     ]
    },
    {
     "name": "stdout",
     "output_type": "stream",
     "text": [
      "1023 /Users/jjc/CSF/Recordings/inf_20160822112656_INF2.hdf5\n"
     ]
    },
    {
     "name": "stdout",
     "output_type": "stream",
     "text": [
      "1024 /Users/jjc/CSF/Recordings/inf_20160825114800_INF2.hdf5\n"
     ]
    },
    {
     "name": "stdout",
     "output_type": "stream",
     "text": [
      "1025 /Users/jjc/CSF/Recordings/inf_20160826121522_INF2.hdf5\n"
     ]
    },
    {
     "name": "stdout",
     "output_type": "stream",
     "text": [
      "1026 /Users/jjc/CSF/Recordings/inf_20160830131131_INF2.hdf5\n"
     ]
    },
    {
     "name": "stdout",
     "output_type": "stream",
     "text": [
      "1027 /Users/jjc/CSF/Recordings/inf_20160901121846_INF2.hdf5\n"
     ]
    },
    {
     "name": "stdout",
     "output_type": "stream",
     "text": [
      "1028 /Users/jjc/CSF/Recordings/inf_20160902124513_INF2.hdf5\n"
     ]
    },
    {
     "name": "stdout",
     "output_type": "stream",
     "text": [
      "1029 /Users/jjc/CSF/Recordings/inf_20160906114540_INF2.hdf5\n"
     ]
    },
    {
     "name": "stdout",
     "output_type": "stream",
     "text": [
      "1030 /Users/jjc/CSF/Recordings/inf_20160912111341_INF2.hdf5\n"
     ]
    },
    {
     "name": "stdout",
     "output_type": "stream",
     "text": [
      "1031 /Users/jjc/CSF/Recordings/inf_20160920135107_INF2.hdf5\n"
     ]
    },
    {
     "name": "stdout",
     "output_type": "stream",
     "text": [
      "1032 /Users/jjc/CSF/Recordings/inf_20161010121624_INF2.hdf5\n"
     ]
    },
    {
     "name": "stdout",
     "output_type": "stream",
     "text": [
      "1033 /Users/jjc/CSF/Recordings/inf_20161019123356_INF2.hdf5\n"
     ]
    },
    {
     "name": "stdout",
     "output_type": "stream",
     "text": [
      "1034 /Users/jjc/CSF/Recordings/inf_20161026134350_INF2.hdf5\n"
     ]
    },
    {
     "name": "stdout",
     "output_type": "stream",
     "text": [
      "1035 /Users/jjc/CSF/Recordings/inf_20161115122824_INF2.hdf5\n"
     ]
    },
    {
     "name": "stdout",
     "output_type": "stream",
     "text": [
      "1036 /Users/jjc/CSF/Recordings/inf_20161129123147_INF2.hdf5\n"
     ]
    },
    {
     "name": "stdout",
     "output_type": "stream",
     "text": [
      "1037 /Users/jjc/CSF/Recordings/inf_20161130131317_INF2.hdf5\n"
     ]
    },
    {
     "name": "stdout",
     "output_type": "stream",
     "text": [
      "1038 /Users/jjc/CSF/Recordings/inf_20161216115216_INF2.hdf5\n"
     ]
    },
    {
     "name": "stdout",
     "output_type": "stream",
     "text": [
      "1039 /Users/jjc/CSF/Recordings/inf_20170110155245_INF2.hdf5\n"
     ]
    },
    {
     "name": "stdout",
     "output_type": "stream",
     "text": [
      "1040 /Users/jjc/CSF/Recordings/inf_20170111130438_INF2.hdf5\n"
     ]
    },
    {
     "name": "stdout",
     "output_type": "stream",
     "text": [
      "1041 /Users/jjc/CSF/Recordings/inf_20170118113759_INF2.hdf5\n"
     ]
    },
    {
     "name": "stdout",
     "output_type": "stream",
     "text": [
      "1042 /Users/jjc/CSF/Recordings/inf_20170123114532_INF2.hdf5\n"
     ]
    },
    {
     "name": "stdout",
     "output_type": "stream",
     "text": [
      "1044 /Users/jjc/CSF/Recordings/inf_20170202115947_INF2.hdf5\n"
     ]
    },
    {
     "name": "stdout",
     "output_type": "stream",
     "text": [
      "1045 /Users/jjc/CSF/Recordings/inf_20170203135946_INF2.hdf5\n"
     ]
    },
    {
     "name": "stdout",
     "output_type": "stream",
     "text": [
      "1046 /Users/jjc/CSF/Recordings/inf_20170206133801_INF2.hdf5\n"
     ]
    },
    {
     "name": "stdout",
     "output_type": "stream",
     "text": [
      "1047 /Users/jjc/CSF/Recordings/inf_20170207114253_INF2.hdf5\n"
     ]
    },
    {
     "name": "stdout",
     "output_type": "stream",
     "text": [
      "1048 /Users/jjc/CSF/Recordings/inf_20170213122133_INF2.hdf5\n"
     ]
    },
    {
     "name": "stdout",
     "output_type": "stream",
     "text": [
      "1049 /Users/jjc/CSF/Recordings/inf_20170214132326_INF2.hdf5\n"
     ]
    },
    {
     "name": "stdout",
     "output_type": "stream",
     "text": [
      "1050 /Users/jjc/CSF/Recordings/inf_20170217112210_INF2.hdf5\n"
     ]
    },
    {
     "name": "stdout",
     "output_type": "stream",
     "text": [
      "1051 /Users/jjc/CSF/Recordings/inf_20170221123455_INF2.hdf5\n"
     ]
    },
    {
     "name": "stdout",
     "output_type": "stream",
     "text": [
      "1052 /Users/jjc/CSF/Recordings/inf_20170222114609_INF2.hdf5\n"
     ]
    },
    {
     "name": "stdout",
     "output_type": "stream",
     "text": [
      "1053 /Users/jjc/CSF/Recordings/inf_20170301104309_INF2.hdf5\n"
     ]
    },
    {
     "name": "stdout",
     "output_type": "stream",
     "text": [
      "1054 /Users/jjc/CSF/Recordings/inf_20170302114137_INF2.hdf5\n"
     ]
    },
    {
     "name": "stdout",
     "output_type": "stream",
     "text": [
      "1055 /Users/jjc/CSF/Recordings/inf_20170307123541_INF2.hdf5\n"
     ]
    },
    {
     "name": "stdout",
     "output_type": "stream",
     "text": [
      "1056 /Users/jjc/CSF/Recordings/inf_20170315115332_INF2.hdf5\n"
     ]
    },
    {
     "name": "stdout",
     "output_type": "stream",
     "text": [
      "1057 /Users/jjc/CSF/Recordings/inf_20170323123050_INF2.hdf5\n"
     ]
    },
    {
     "name": "stdout",
     "output_type": "stream",
     "text": [
      "1058 /Users/jjc/CSF/Recordings/inf_20170327133446_INF2.hdf5\n"
     ]
    },
    {
     "name": "stdout",
     "output_type": "stream",
     "text": [
      "1059 /Users/jjc/CSF/Recordings/inf_20170405134557_INF2.hdf5\n"
     ]
    },
    {
     "name": "stdout",
     "output_type": "stream",
     "text": [
      "1060 /Users/jjc/CSF/Recordings/inf_20170406114354_INF2.hdf5\n"
     ]
    },
    {
     "name": "stdout",
     "output_type": "stream",
     "text": [
      "1061 /Users/jjc/CSF/Recordings/inf_20170407133020_INF2.hdf5\n"
     ]
    },
    {
     "name": "stdout",
     "output_type": "stream",
     "text": [
      "1062 /Users/jjc/CSF/Recordings/inf_20170410112942_INF2.hdf5\n"
     ]
    },
    {
     "name": "stdout",
     "output_type": "stream",
     "text": [
      "1063 /Users/jjc/CSF/Recordings/inf_20170412133508_INF2.hdf5\n"
     ]
    },
    {
     "name": "stdout",
     "output_type": "stream",
     "text": [
      "1064 /Users/jjc/CSF/Recordings/inf_20170511123951_INF2.hdf5\n"
     ]
    },
    {
     "name": "stdout",
     "output_type": "stream",
     "text": [
      "1065 /Users/jjc/CSF/Recordings/inf_20170519122909_INF2.hdf5\n"
     ]
    },
    {
     "name": "stdout",
     "output_type": "stream",
     "text": [
      "1066 /Users/jjc/CSF/Recordings/inf_20170524113955_INF2.hdf5\n"
     ]
    },
    {
     "name": "stdout",
     "output_type": "stream",
     "text": [
      "1067 /Users/jjc/CSF/Recordings/inf_20170530123633_INF2.hdf5\n"
     ]
    },
    {
     "name": "stdout",
     "output_type": "stream",
     "text": [
      "1068 /Users/jjc/CSF/Recordings/inf_20170607115927_INF2.hdf5\n"
     ]
    },
    {
     "name": "stdout",
     "output_type": "stream",
     "text": [
      "1069 /Users/jjc/CSF/Recordings/inf_20170614110508_INF2.hdf5\n"
     ]
    },
    {
     "name": "stdout",
     "output_type": "stream",
     "text": [
      "1070 /Users/jjc/CSF/Recordings/inf_20170616105756_INF2.hdf5\n"
     ]
    },
    {
     "name": "stdout",
     "output_type": "stream",
     "text": [
      "1071 /Users/jjc/CSF/Recordings/inf_20170620130454_INF2.hdf5\n"
     ]
    },
    {
     "name": "stdout",
     "output_type": "stream",
     "text": [
      "1072 /Users/jjc/CSF/Recordings/inf_20170621122653_INF2.hdf5\n"
     ]
    },
    {
     "name": "stdout",
     "output_type": "stream",
     "text": [
      "1073 /Users/jjc/CSF/Recordings/inf_20170821123657_INF2.hdf5\n"
     ]
    },
    {
     "name": "stdout",
     "output_type": "stream",
     "text": [
      "1074 /Users/jjc/CSF/Recordings/inf_20170824112410_INF2.hdf5\n"
     ]
    },
    {
     "name": "stdout",
     "output_type": "stream",
     "text": [
      "1075 /Users/jjc/CSF/Recordings/inf_20170825124411_INF2.hdf5\n"
     ]
    },
    {
     "name": "stdout",
     "output_type": "stream",
     "text": [
      "1076 /Users/jjc/CSF/Recordings/inf_20170920124452_INF2.hdf5\n"
     ]
    },
    {
     "name": "stdout",
     "output_type": "stream",
     "text": [
      "1077 /Users/jjc/CSF/Recordings/inf_20171009110527_INF2.hdf5\n"
     ]
    },
    {
     "name": "stdout",
     "output_type": "stream",
     "text": [
      "1078 /Users/jjc/CSF/Recordings/inf_20171011125905_INF2.hdf5\n"
     ]
    },
    {
     "name": "stdout",
     "output_type": "stream",
     "text": [
      "1079 /Users/jjc/CSF/Recordings/inf_20171012141457_INF2.hdf5\n"
     ]
    },
    {
     "name": "stdout",
     "output_type": "stream",
     "text": [
      "1080 /Users/jjc/CSF/Recordings/inf_20171013103545_INF2.hdf5\n"
     ]
    },
    {
     "name": "stdout",
     "output_type": "stream",
     "text": [
      "1081 /Users/jjc/CSF/Recordings/inf_20171016110452_INF2.hdf5\n"
     ]
    },
    {
     "name": "stdout",
     "output_type": "stream",
     "text": [
      "1082 /Users/jjc/CSF/Recordings/inf_20171023115256_INF2.hdf5\n"
     ]
    },
    {
     "name": "stdout",
     "output_type": "stream",
     "text": [
      "1083 /Users/jjc/CSF/Recordings/inf_20171024125547_INF2.hdf5\n"
     ]
    },
    {
     "name": "stdout",
     "output_type": "stream",
     "text": [
      "1084 /Users/jjc/CSF/Recordings/inf_20171025110858_INF2.hdf5\n"
     ]
    },
    {
     "name": "stdout",
     "output_type": "stream",
     "text": [
      "1085 /Users/jjc/CSF/Recordings/inf_20171103113159_INF2.hdf5\n"
     ]
    },
    {
     "name": "stdout",
     "output_type": "stream",
     "text": [
      "1086 /Users/jjc/CSF/Recordings/inf_20171107134238_INF2.hdf5\n"
     ]
    },
    {
     "name": "stdout",
     "output_type": "stream",
     "text": [
      "1087 /Users/jjc/CSF/Recordings/inf_20171110103401_INF2.hdf5\n"
     ]
    },
    {
     "name": "stdout",
     "output_type": "stream",
     "text": [
      "1088 /Users/jjc/CSF/Recordings/inf_20171114153200_INF2.hdf5\n"
     ]
    },
    {
     "name": "stdout",
     "output_type": "stream",
     "text": [
      "1089 /Users/jjc/CSF/Recordings/inf_20171115104930_INF2.hdf5\n"
     ]
    },
    {
     "name": "stdout",
     "output_type": "stream",
     "text": [
      "1090 /Users/jjc/CSF/Recordings/inf_20171116110630_INF2.hdf5\n"
     ]
    },
    {
     "name": "stdout",
     "output_type": "stream",
     "text": [
      "1091 /Users/jjc/CSF/Recordings/inf_20171121130544_INF2.hdf5\n"
     ]
    },
    {
     "name": "stdout",
     "output_type": "stream",
     "text": [
      "1092 /Users/jjc/CSF/Recordings/inf_20171123114028_INF2.hdf5\n"
     ]
    },
    {
     "name": "stdout",
     "output_type": "stream",
     "text": [
      "1093 /Users/jjc/CSF/Recordings/inf_20171124134023_INF2.hdf5\n"
     ]
    },
    {
     "name": "stdout",
     "output_type": "stream",
     "text": [
      "1094 /Users/jjc/CSF/Recordings/inf_20171124172449_INF2.hdf5\n"
     ]
    },
    {
     "name": "stdout",
     "output_type": "stream",
     "text": [
      "1095 /Users/jjc/CSF/Recordings/inf_20171127121028_INF2.hdf5\n"
     ]
    },
    {
     "name": "stdout",
     "output_type": "stream",
     "text": [
      "1096 /Users/jjc/CSF/Recordings/inf_20171129114615_INF2.hdf5\n"
     ]
    },
    {
     "name": "stdout",
     "output_type": "stream",
     "text": [
      "1097 /Users/jjc/CSF/Recordings/inf_20171201113916_INF2.hdf5\n"
     ]
    },
    {
     "name": "stdout",
     "output_type": "stream",
     "text": [
      "1098 /Users/jjc/CSF/Recordings/inf_20171205130949_INF2.hdf5\n"
     ]
    },
    {
     "name": "stdout",
     "output_type": "stream",
     "text": [
      "1099 /Users/jjc/CSF/Recordings/inf_20171207120336_INF2.hdf5\n"
     ]
    },
    {
     "name": "stdout",
     "output_type": "stream",
     "text": [
      "1100 /Users/jjc/CSF/Recordings/inf_20171213103730_INF2.hdf5\n"
     ]
    },
    {
     "name": "stdout",
     "output_type": "stream",
     "text": [
      "1101 /Users/jjc/CSF/Recordings/inf_20171220120539.hdf5\n"
     ]
    },
    {
     "name": "stdout",
     "output_type": "stream",
     "text": [
      "1102 /Users/jjc/CSF/Recordings/inf_20180103113640.hdf5\n"
     ]
    },
    {
     "name": "stdout",
     "output_type": "stream",
     "text": [
      "1103 /Users/jjc/CSF/Recordings/inf_20180104113243.hdf5\n"
     ]
    },
    {
     "name": "stdout",
     "output_type": "stream",
     "text": [
      "1104 /Users/jjc/CSF/Recordings/inf_20180109122644.hdf5\n"
     ]
    },
    {
     "name": "stdout",
     "output_type": "stream",
     "text": [
      "1105 /Users/jjc/CSF/Recordings/inf_20180111113045.hdf5\n"
     ]
    },
    {
     "name": "stdout",
     "output_type": "stream",
     "text": [
      "1106 /Users/jjc/CSF/Recordings/inf_20180116131340.hdf5\n"
     ]
    },
    {
     "name": "stdout",
     "output_type": "stream",
     "text": [
      "1107 /Users/jjc/CSF/Recordings/inf_20180118123317.hdf5\n"
     ]
    },
    {
     "name": "stdout",
     "output_type": "stream",
     "text": [
      "1108 /Users/jjc/CSF/Recordings/inf_20180125113022.hdf5\n"
     ]
    },
    {
     "name": "stdout",
     "output_type": "stream",
     "text": [
      "1109 /Users/jjc/CSF/Recordings/inf_20180129122822.hdf5\n"
     ]
    },
    {
     "name": "stdout",
     "output_type": "stream",
     "text": [
      "1110 /Users/jjc/CSF/Recordings/inf_20180205111258.hdf5\n"
     ]
    },
    {
     "name": "stdout",
     "output_type": "stream",
     "text": [
      "1111 /Users/jjc/CSF/Recordings/inf_20180208125555.hdf5\n"
     ]
    },
    {
     "name": "stdout",
     "output_type": "stream",
     "text": [
      "1112 /Users/jjc/CSF/Recordings/inf_20180209125609.hdf5\n"
     ]
    },
    {
     "name": "stdout",
     "output_type": "stream",
     "text": [
      "1113 /Users/jjc/CSF/Recordings/inf_20180214122656.hdf5\n"
     ]
    },
    {
     "name": "stdout",
     "output_type": "stream",
     "text": [
      "1114 /Users/jjc/CSF/Recordings/inf_20180219114809.hdf5\n"
     ]
    },
    {
     "name": "stdout",
     "output_type": "stream",
     "text": [
      "1115 /Users/jjc/CSF/Recordings/inf_20180221120625.hdf5\n"
     ]
    },
    {
     "name": "stdout",
     "output_type": "stream",
     "text": [
      "1116 /Users/jjc/CSF/Recordings/inf_20180301083729.hdf5\n"
     ]
    },
    {
     "name": "stdout",
     "output_type": "stream",
     "text": [
      "1117 /Users/jjc/CSF/Recordings/inf_20180305121332.hdf5\n"
     ]
    },
    {
     "name": "stdout",
     "output_type": "stream",
     "text": [
      "1118 /Users/jjc/CSF/Recordings/inf_20180308120249.hdf5\n"
     ]
    },
    {
     "name": "stdout",
     "output_type": "stream",
     "text": [
      "1119 /Users/jjc/CSF/Recordings/inf_20180322115234.hdf5\n"
     ]
    },
    {
     "name": "stdout",
     "output_type": "stream",
     "text": [
      "1120 /Users/jjc/CSF/Recordings/inf_20180327131434.hdf5\n"
     ]
    },
    {
     "name": "stdout",
     "output_type": "stream",
     "text": [
      "1121 /Users/jjc/CSF/Recordings/inf_20180329121402.hdf5\n"
     ]
    },
    {
     "name": "stdout",
     "output_type": "stream",
     "text": [
      "1122 /Users/jjc/CSF/Recordings/inf_20180504120604.hdf5\n"
     ]
    },
    {
     "name": "stdout",
     "output_type": "stream",
     "text": [
      "1123 /Users/jjc/CSF/Recordings/inf_20180510105013.hdf5\n"
     ]
    },
    {
     "name": "stdout",
     "output_type": "stream",
     "text": [
      "1124 /Users/jjc/CSF/Recordings/inf_20180515142211.hdf5\n"
     ]
    },
    {
     "name": "stdout",
     "output_type": "stream",
     "text": [
      "1125 /Users/jjc/CSF/Recordings/inf_20180615121207.hdf5\n"
     ]
    },
    {
     "name": "stdout",
     "output_type": "stream",
     "text": [
      "1126 /Users/jjc/CSF/Recordings/inf_20180622141909.hdf5\n"
     ]
    },
    {
     "name": "stdout",
     "output_type": "stream",
     "text": [
      "1127 /Users/jjc/CSF/Recordings/inf_20180703124310.hdf5\n"
     ]
    },
    {
     "name": "stdout",
     "output_type": "stream",
     "text": [
      "1128 /Users/jjc/CSF/Recordings/inf_20180705124648.hdf5\n"
     ]
    },
    {
     "name": "stdout",
     "output_type": "stream",
     "text": [
      "1129 /Users/jjc/CSF/Recordings/inf_20180712131318.hdf5\n"
     ]
    },
    {
     "name": "stdout",
     "output_type": "stream",
     "text": [
      "1130 /Users/jjc/CSF/Recordings/inf_20180713131930.hdf5\n"
     ]
    },
    {
     "name": "stdout",
     "output_type": "stream",
     "text": [
      "1131 /Users/jjc/CSF/Recordings/inf_20180717152110.hdf5\n"
     ]
    },
    {
     "name": "stdout",
     "output_type": "stream",
     "text": [
      "1132 /Users/jjc/CSF/Recordings/inf_20180719144242.hdf5\n"
     ]
    },
    {
     "name": "stdout",
     "output_type": "stream",
     "text": [
      "1133 /Users/jjc/CSF/Recordings/inf_20180724131451.hdf5\n"
     ]
    },
    {
     "name": "stdout",
     "output_type": "stream",
     "text": [
      "1134 /Users/jjc/CSF/Recordings/inf_20180806115828.hdf5\n"
     ]
    },
    {
     "name": "stdout",
     "output_type": "stream",
     "text": [
      "1135 /Users/jjc/CSF/Recordings/inf_20180810111731.hdf5\n"
     ]
    },
    {
     "name": "stdout",
     "output_type": "stream",
     "text": [
      "1136 /Users/jjc/CSF/Recordings/inf_20180814103917.hdf5\n"
     ]
    },
    {
     "name": "stdout",
     "output_type": "stream",
     "text": [
      "1137 /Users/jjc/CSF/Recordings/inf_20180815125133.hdf5\n"
     ]
    },
    {
     "name": "stdout",
     "output_type": "stream",
     "text": [
      "1138 /Users/jjc/CSF/Recordings/inf_20180816114951.hdf5\n"
     ]
    },
    {
     "name": "stdout",
     "output_type": "stream",
     "text": [
      "1139 /Users/jjc/CSF/Recordings/inf_20180820112743.hdf5\n"
     ]
    },
    {
     "name": "stdout",
     "output_type": "stream",
     "text": [
      "1140 /Users/jjc/CSF/Recordings/inf_20180822111956.hdf5\n"
     ]
    },
    {
     "name": "stdout",
     "output_type": "stream",
     "text": [
      "1141 /Users/jjc/CSF/Recordings/nph_20150527123811_INF2.hdf5\n"
     ]
    },
    {
     "data": {
      "text/plain": [
       "\"/Users/jjc/CSF/Results/Results_BayesStaticP0_untruncPV.csv\""
      ]
     },
     "metadata": {},
     "output_type": "display_data"
    }
   ],
   "source": [
    "using HDF5, EzXML, Glob, Dates, Plots, LineSearches, LineSearches, JuMP, StatsBase, DataFrames, CSV\n",
    "using BayesOpt, CurveFit\n",
    "using CurveFit\n",
    "using Symbolics\n",
    "import NLopt\n",
    "include(\"/Users/jjc/CSF/CSF Dynamics Scripts/readCSF.jl\")\n",
    "\n",
    "# datapath = \"/Users/jjc/Documents/SSC/recs_june_2022\"\n",
    "datapath = \"/Users/jjc/CSF/Recordings\"\n",
    "# datapath = \"/Users/jjc/Documents/SSC/CSF Data/selected_recordings\"\n",
    "path = pwd();\n",
    "savepath = \"/Users/jjc/CSF/\"\n",
    "files = glob(\"*.hdf5\", datapath);\n",
    "\n",
    "df = DataFrame(filename=files, Rcsf=NaN, E=NaN, Ib=NaN, P0=NaN, mode=NaN, error=NaN, R2=NaN, Pss=NaN)\n",
    "\n",
    "for f = 1:length(files)\n",
    "# for f = 1141\n",
    "    P_0 = nothing\n",
    "    Pss = nothing\n",
    "    GC.gc()\n",
    "\n",
    "    f in [278, 442, 676, 1043] ? (continue) : 0\n",
    "    # global Data = Dict{String,Any}()\n",
    "    filename = files[f]\n",
    "    println(f, \" \", filename)\n",
    "    global Data = readCSF(filename) # Read all data from the hdf5 file\n",
    "    try\n",
    "        global Pm = Data[\"ICP\"][Data[\"infusion_start_frame\"]:Data[\"infusion_end_frame\"]]\n",
    "    catch\n",
    "        continue\n",
    "    end\n",
    "\n",
    "    length(Pm) < 20 ? (continue) : 0\n",
    "\n",
    "    # lowerbound = [0.01, 0.01, -10.0] # Lower boundary\n",
    "    # upperbound = [50.0, 1.0, Data[\"P_b\"]] # Upper boundary\n",
    "    lowerbound = [0.01, 0.01, -10.0, -10] # Lower boundary\n",
    "    upperbound = [50.0, 1.0, Data[\"P_b\"], Data[\"P_b\"]] # Upper boundary\n",
    "\n",
    "    global Ib_lower = 0.01 # I_b range \n",
    "    global Ib_upper = 1.0 # I_b range\n",
    "    global κ = 2\n",
    "    global C = 10^3\n",
    "\n",
    "    # BayesOpt params\n",
    "    bkernel = \"kMaternISO5\"\n",
    "    # bkernel = \"kMaternARD1\"\n",
    "    bsctype = SC_MAP\n",
    "    # bltype = L_MCMC\n",
    "    bltype = 0\n",
    "#\n",
    "    # global Rcsf, E, P_0 = getModelBayes(lowerbound, upperbound, bkernel, bsctype, bltype)\n",
    "    # global Rcsf, E, P_0, Pss = getModelBayesPss(lowerbound, upperbound, bkernel, bsctype, bltype)\n",
    "    global Rcsf, E, Pss = getModelBayesStaticP0(lowerbound, upperbound, bkernel, bsctype, bltype)\n",
    "    typeof(P_0) == Nothing ? (global P_0 = Data[\"P_0\"]) : 0\n",
    "\n",
    "    # NLOpt params\n",
    "    # optalg = :GN_DIRECT_L\n",
    "    # optalg = :LD_LBFGS\n",
    "    # optalg = :LN_NELDERMEAD\n",
    "    # optalg = :LN_COBYLA\n",
    "    # optalg = :GN_DIRECT_NOSCAL\n",
    "    # optalg = :GN_CRS2_LM\n",
    "\n",
    "    # x0 = zeros(3)\n",
    "    # x0[1] = minimum([Data[\"Rcsf\"], upperbound[1]])\n",
    "    # x0[2] = minimum([Data[\"E\"], 1.0])\n",
    "    # x0[3] = maximum([Data[\"P_0\"], lowerbound[3]])\n",
    "    # x0[4] = minimum([0, lowerbound[4]])\n",
    " \n",
    "    # global Rcsf, E, P_0 = getModelNL(lowerbound, upperbound, optalg, x0)\n",
    "    # global Rcsf, E, P_0, Pss = getModelNLPss(lowerbound, upperbound, optalg, x0)\n",
    "    # global Rcsf, E, Pss = getModelStaticP0(lowerbound, upperbound, optalg, x0)\n",
    "    # P_0 = Data[\"P_0\"]\n",
    "\n",
    "    # global I_b = (Data[\"P_b\"] - P_0) / Rcsf\n",
    "    # \n",
    "\n",
    "    # plot_model(I_b, E, P_0, Data[\"ICP\"], 20, false)\n",
    "    # R2, MSE = press_vol_curve(Rcsf, P_0)\n",
    "    # savefig(\"/Users/jjc/Documents/SSC/recs_june_2022/GN_DIRECT_L_PV/\" * filename[length(datapath)+2:end-5] * \".pdf\")\n",
    "    if typeof(Pss) != Nothing\n",
    "        global df.Pss[f] = round(Pss, digits=3)\n",
    "        global I_b = (Data[\"P_b\"] - Pss) / Rcsf\n",
    "    else\n",
    "        global df.Pss[f] = round(P_0, digits=3)\n",
    "        global I_b = (Data[\"P_b\"] - P_0) / Rcsf\n",
    "    end\n",
    "    global df.Rcsf[f] = round(Rcsf, digits=3)\n",
    "    global df.P0[f] = round(P_0, digits=3)\n",
    "    global df.Ib[f] = round(I_b, digits=3)\n",
    "    global df.E[f] = round(E, digits=3)\n",
    "    global df.filename[f] = filename[length(datapath)+2:end]\n",
    "    global df.error[f] = round(get_error_score(I_b, E, P_0), digits=3)\n",
    "    global volRes, pressRes, fitted_curve, R2, MSE = press_vol_curve(Rcsf, P_0)\n",
    "    global df.R2[f] = round(R2, digits=3)\n",
    "\n",
    "end\n",
    "CSV.write(\"/Users/jjc/CSF/Results/Results_BayesStaticP0_untruncPV.csv\", df);\n",
    "# println(Data[\"Rcsf\"])\n",
    "# plot_model(I_b, E, P_0, Data[\"ICP\"], 20, false)\n",
    "# plot(volRes, log.(pressRes), seriestype=:scatter, title=round(R2,digits=3), legend=false)\n",
    "# plot(volRes, log.(pressRes), seriestype=:scatter)\n",
    "# plot!(volRes, fitted_curve, legend=false, title=R2)\n"
   ]
  },
  {
   "cell_type": "code",
   "execution_count": 13,
   "metadata": {},
   "outputs": [
    {
     "ename": "UndefVarError",
     "evalue": "UndefVarError: Pss not defined",
     "output_type": "error",
     "traceback": [
      "UndefVarError: Pss not defined\n",
      "\n",
      "Stacktrace:\n",
      " [1] top-level scope\n",
      "   @ ~/CSF/CSF Dynamics Scripts/OptimizeResistanceNew.ipynb:1"
     ]
    }
   ],
   "source": [
    "typeof(Pss)"
   ]
  },
  {
   "cell_type": "code",
   "execution_count": null,
   "metadata": {},
   "outputs": [],
   "source": [
    "infVec = zeros(Data[\"plateau_end\"])\n",
    "Data[\"infusion_end_frame\"] > Data[\"plateau_end\"] ? endframe = Data[\"plateau_end\"] : Data[\"infusion_end_frame\"]\n",
    "infVec[Data[\"infusion_start_frame\"]:endframe] .= 1\n",
    "\n",
    "Rcsf = Data[\"Rcsf\"]\n",
    "E = Data[\"E\"]\n",
    "P_0 = Data[\"P_0\"]\n",
    "\n",
    "ΔP = Data[\"P_b\"] - Data[\"P_0\"]\n",
    "I_b = ΔP / Rcsf\n",
    "ICPm = ones(length(Data[\"ICP\"])) .* Data[\"P_b\"]\n",
    "err = 0.0\n",
    "for i = 1:endframe\n",
    "    I_inf = Data[\"I_inf\"]\n",
    "    It = I_b + I_inf\n",
    "    tᵢ = (i - 1) / 6\n",
    "    Pᵢ = It * ΔP / (I_b + I_inf * exp(-E * It * tᵢ)) + P_0 + (I_inf * Data[\"Rn\"])\n",
    "    ICPm[i-1+Data[\"infusion_start_frame\"]] = Pᵢ\n",
    "    err += (Data[\"ICP\"][i-1+Data[\"infusion_start_frame\"]]-Pᵢ)^2\n",
    "    (i>Data[\"plateau_start\"] && i<Data[\"plateau_end\"]) ? err+=(Data[\"P_p\"] - (Data[\"P_b\"] + Data[\"Rcsf\"] * I_inf))^2 : 0\n",
    "end\n",
    "\n",
    "nmrse = 100 * sqrt(err) / endframe / abs(mean(Data[\"ICP\"][1:endframe]))\n",
    "\n",
    "ICPm[endframe:end] .= Data[\"P_b\"]\n",
    "plot(ICPm)\n",
    "plot!(Data[\"ICP\"])\n",
    "vline!([endframe])\n",
    "vline!([Data[\"infusion_start_frame\"]])\n",
    "println(nmrse)\n",
    "\n"
   ]
  },
  {
   "cell_type": "code",
   "execution_count": null,
   "metadata": {},
   "outputs": [],
   "source": [
    "[1,2,3] \\ [1,2,3]"
   ]
  },
  {
   "cell_type": "code",
   "execution_count": null,
   "metadata": {},
   "outputs": [],
   "source": []
  }
 ],
 "metadata": {
  "kernelspec": {
   "display_name": "Julia 1.7.2",
   "language": "julia",
   "name": "julia-1.7"
  },
  "language_info": {
   "file_extension": ".jl",
   "mimetype": "application/julia",
   "name": "julia",
   "version": "1.7.2"
  },
  "orig_nbformat": 4,
  "vscode": {
   "interpreter": {
    "hash": "b0fa6594d8f4cbf19f97940f81e996739fb7646882a419484c72d19e05852a7e"
   }
  }
 },
 "nbformat": 4,
 "nbformat_minor": 2
}
