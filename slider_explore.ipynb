{
 "cells": [
  {
   "cell_type": "code",
   "execution_count": 3,
   "id": "fa6b3362",
   "metadata": {},
   "outputs": [],
   "source": [
    "using HDF5, EzXML, Glob, Dates, Plots, Optim, LineSearches, LsqFit\n",
    "\n",
    "datapath = \"/Users/jjc/Documents/SSC/CSF Data/selected_recordings\"\n",
    "path = pwd();\n",
    "savepath = \"/Users/jjc/CSF/\"\n",
    "files = glob(\"*.hdf5\", datapath);\n",
    "\n",
    "# for filename in files\n",
    "\n",
    "# filename =  datapath*\"/INF_20200909122333_INF2.hdf5\"\n",
    "# filename = datapath*\"/INF_20190708150215_INF2.hdf5\"\n",
    "# filename = datapath*\"/INF_20191010113919_INF2.hdf5\"\n",
    "filename = datapath*\"/INF_20190620142837_INF2.hdf5\"\n",
    "\n",
    "\n",
    "fid = h5open(filename, \"r\")\n",
    "\n",
    "# Get attributes outside of datasets/groups\n",
    "recording_end_time = read_attribute(fid, \"dataEndTime\")\n",
    "recording_start_time = read_attribute(fid, \"dataStartTime\")\n",
    "dur = read_attribute(fid, \"duration\")\n",
    "dur = split(dur[1], \" \")\n",
    "recording_duration = parse(Int64, dur[1])\n",
    "\n",
    "# Begin handling data in XML string - some files do not have infusion test output\n",
    "xml_obj = fid[\"aux/ICM+/icmtests\"]\n",
    "xml_data = read(xml_obj)\n",
    "xml_string = String(xml_data[1])\n",
    "\n",
    "data = parsexml(xml_string)\n",
    "icm_data = root(data)\n",
    "vars = elements(icm_data)\n",
    "\n",
    "SingleAnalysis = firstelement(vars[2])\n",
    "SingleAnalysis = elements(SingleAnalysis)\n",
    "Variables = elements(SingleAnalysis[1])\n",
    "Selections = elements(SingleAnalysis[2])\n",
    "Parameters = elements(SingleAnalysis[3])\n",
    "Results = elements(SingleAnalysis[4])\n",
    "\n",
    "inf_rate = parse(Float64, Parameters[1][\"Value\"])\n",
    "\n",
    "function parseXML(Parameters, Selections)\n",
    "    \n",
    "    selections = Dict{String, String}\n",
    "    results = Dict{String, Float64}\n",
    "    \n",
    "    for i in 1:length(Selections)\n",
    "        sel = elements(Selections[i])\n",
    "        sel_name = Selections[i][\"Name\"]\n",
    "        sel_st = sel[1][\"StartTime\"]\n",
    "        sel_en = sel[1][\"EndTime\"]  \n",
    "\n",
    "        sel_st = DateTime(sel_st, dateformat\"dd/mm/yyyy HH:MM:SS\")\n",
    "        sel_en = DateTime(sel_en, dateformat\"dd/mm/yyyy HH:MM:SS\")\n",
    "\n",
    "        selections =  merge!(selections, Dict(sel_name => [sel_st, sel_en]))\n",
    "    end\n",
    "\n",
    "    for i in 1:length(Results)\n",
    "        res = elements(Results[i]);\n",
    "        res_name = Results[i][\"Name\"]\n",
    "        name_surrogate = split(res_name, \" \");\n",
    "\n",
    "        # Some parameters name have units e.g. [mmHg] but Dict field naming does not support strings with non-alphanumeric chars\n",
    "        if isletter(name_surrogate[2][1])\n",
    "            res_name = name_surrogate[1]*\"_\"*name_surrogate[2];\n",
    "        else\n",
    "            res_name = name_surrogate[1];\n",
    "        end\n",
    "\n",
    "        res_val = Results[i][\"Value\"]\n",
    "        results =  merge!(results, Dict(res_name => parse(Float64, res_val)))\n",
    "    end\n",
    "    return results, selections\n",
    "end\n",
    "\n",
    "results, selections = parseXML(Parameters, Selections);\n",
    "\n",
    "# This dereferencing is pain, there has to be a more elegant solution\n",
    "t_series_ds = fid[\"summaries/minutes/\"]\n",
    "t_series = t_series_ds[:]\n",
    "\n",
    "numsamples = length(t_series)\n",
    "\n",
    "# Pre-allocate\n",
    "ICP = zeros(numsamples)\n",
    "AMP = zeros(numsamples)\n",
    "timestamp = zeros(numsamples)\n",
    "P0 = zeros(numsamples)\n",
    "AMP_P = zeros(numsamples)\n",
    "\n",
    "# Dereferencing named tuple...\n",
    "for i in 1:numsamples\n",
    "    ICP[i] = t_series[i].ICP\n",
    "    AMP[i] = t_series[i].AMP\n",
    "    timestamp[i] = t_series[i].datetime\n",
    "    P0[i] = t_series[i].P0\n",
    "    AMP_P[i] = t_series[i].AMP_P\n",
    "end\n",
    "\n",
    "# Model equation\n",
    "function mfun(X, t)\n",
    "    I_b = X[1]\n",
    "    E = X[2]\n",
    "    P_0 = X[3]\n",
    "    It = I_b + I_inf\n",
    "    ΔP = P_b - P_0\n",
    "    y = It * ΔP / (I_b + (I_inf * exp(-E*It*t))) + P_0;\n",
    "    return y\n",
    "end\n",
    "\n",
    "# Sum squared error function\n",
    "function sqerror(X)\n",
    "    δ = zeros(6) \n",
    "    err = 0.0\n",
    "    for i = 1:length(Pm)\n",
    "        tᵢ = (i-1)/6 # or -2/-3?\n",
    "        predᵢ = mfun(X,tᵢ)\n",
    "        err += (Pm[i] - predᵢ)^2\n",
    "    end\n",
    "    δ[1] = maximum([0.0, lower[1]-X[1]])\n",
    "    δ[2] = maximum([0.0, X[1]-upper[1]])\n",
    "    δ[3] = maximum([0.0, lower[2]-X[2]])\n",
    "    δ[4] = maximum([0.0, X[2]-upper[2]])\n",
    "    δ[5] = maximum([0.0, lower[3]-X[3]])\n",
    "    δ[6] = maximum([0.0, X[3]-upper[3]])\n",
    "\n",
    "    dist = vcat(lower.-X, X.-upper) # Distances between the constraint and the current value\n",
    "    h = dist.^κ\n",
    "\n",
    "    penalty = C*(sum(δ.^2)+sum(h))\n",
    "    # penalty = sum(r.*exp.(δ)./sum(exp.(δ))) # Softmax\n",
    "    return err + penalty\n",
    "end\n",
    "\n",
    "# Plotting\n",
    "function plot_model(I_b, E, P_0, Pss, Rcsf)\n",
    "\n",
    "    println(\"Estimated parameters:\\nIₐ = $I_b [mL/min]\\n\"*\"E = $E [mmHg/mL]\\n\"*\"P₀ = $P_0 [mmHg]\\n\")\n",
    "\n",
    "    P_m = ones(numsamples)\n",
    "    P_m *= P_b\n",
    "    P_model = zeros(numsamples)\n",
    "    ICPm = zeros(infusion_end_frame-infusion_start_frame)\n",
    "    Ib = (P_b - Pss)/Rcsf\n",
    "    It = I_b + I_inf\n",
    "    ΔP = P_b - P_0\n",
    "\n",
    "    for i = infusion_start_frame:infusion_end_frame\n",
    "        tᵢ = (i-infusion_start_frame)/6\n",
    "        y = It * ΔP / (I_b + (I_inf * exp(-E*It*tᵢ))) + P_0;\n",
    "        P_model[i] = y\n",
    "    end\n",
    "\n",
    "    ICPm = P_model[infusion_start_frame:infusion_end_frame]\n",
    "    P_m[infusion_start_frame:infusion_end_frame] = ICPm\n",
    "    P_m[infusion_end_frame+1:end] .= ICPm[end]\n",
    "    # P_m[infusion_end_frame+1:end] .= P_p\n",
    "\n",
    "    plateau_end=numsamples\n",
    "    vline([infusion_start_frame], background=:transparent, legend=:outertopright, linestyle=:dash, linecolor=:white, linewidth=1, label=\"Start of infusion\")\n",
    "    plot!(ICP[1:plateau_end], linecolor=:cadetblue, linewidth=2, label=\"Measured\")\n",
    "    h = plot!(P_m[1:plateau_end], linecolor=:orange, linewidth=2, linestyle=:dash, xlims=[1, plateau_end], ylims=[0,40], \n",
    "    xlabel=\"Time [min]\", ylabel=\"ICP [mmHg]\",xticks = ([0:30:plateau_end;], [0:30:plateau_end;]./10),\n",
    "    label = \"Model\")\n",
    "end;"
   ]
  },
  {
   "cell_type": "code",
   "execution_count": 2,
   "id": "e95a7884",
   "metadata": {},
   "outputs": [
    {
     "name": "stdout",
     "output_type": "stream",
     "text": [
      "Iₐ = 0.91 [mL/min]\n",
      "E = 0.11 [mL/mmHg]\n",
      "P₀ = -5.0 [mmHg]\n",
      "\n"
     ]
    },
    {
     "ename": "LoadError",
     "evalue": "MethodError: no method matching plot_model(::Float64, ::Float64, ::Float64)\n\u001b[0mClosest candidates are:\n\u001b[0m  plot_model(::Any, ::Any, ::Any, \u001b[91m::Any\u001b[39m, \u001b[91m::Any\u001b[39m) at In[1]:138",
     "output_type": "error",
     "traceback": [
      "MethodError: no method matching plot_model(::Float64, ::Float64, ::Float64)\n\u001b[0mClosest candidates are:\n\u001b[0m  plot_model(::Any, ::Any, ::Any, \u001b[91m::Any\u001b[39m, \u001b[91m::Any\u001b[39m) at In[1]:138",
      "",
      "Stacktrace:",
      " [1] top-level scope",
      "   @ In[2]:51",
      " [2] eval",
      "   @ ./boot.jl:373 [inlined]",
      " [3] include_string(mapexpr::typeof(REPL.softscope), mod::Module, code::String, filename::String)",
      "   @ Base ./loading.jl:1196"
     ]
    }
   ],
   "source": [
    "start_time = DateTime(recording_start_time[1], dateformat\"yyyy/mm/dd HH:MM:SS\")\n",
    "end_time = DateTime(recording_end_time[1], dateformat\"yyyy/mm/dd HH:MM:SS\")\n",
    "infusion_start_frame = round(Int, (selections[\"Infusion\"][1] - start_time).value / 10000) # 10,000 because /1,000 from ms -> s, and sampling every 10s (0.1Hz) \n",
    "infusion_end_frame = round(Int, (selections[\"Infusion\"][2] - start_time).value / 10000)\n",
    "plateau_start = round(Int, (selections[\"Plateau\"][1] - start_time).value / 10000)\n",
    "plateau_end= round(Int, (selections[\"Plateau\"][2] - start_time).value / 10000)\n",
    "\n",
    "P_p  = results[\"ICP_plateau\"]\n",
    "\n",
    "rec_dur = end_time - start_time # in milliseconds\n",
    "rec_dur_s = rec_dur.value / 1000\n",
    "\n",
    "# Get parameters in legible forms - not neccessary, done for clarity\n",
    "\n",
    "# Constants:\n",
    "global I_inf = inf_rate;\n",
    "global P_b = results[\"ICP_baseline\"]\n",
    "T = [0:numsamples-1...]\n",
    "global T *= 1 / 6\n",
    "\n",
    "Pm = ICP[infusion_start_frame:infusion_end_frame]# Data truncated only to the period of infusion\n",
    "\n",
    "# Estimates\n",
    "I_b = results[\"CSF_production\"]\n",
    "global E = 0.0\n",
    "try\n",
    "    E = results[\"Elasticity\"]\n",
    "catch\n",
    "    global E = 0.11\n",
    "end\n",
    "P_0 = results[\"Pss\"]\n",
    "println(\"Iₐ = $I_b [mL/min]\\n\" * \"E = $E [mL/mmHg]\\n\" * \"P₀ = $P_0 [mmHg]\\n\")\n",
    "\n",
    "# Optimization setup\n",
    "# x[1] = I_b\n",
    "# x[2] = E\n",
    "# x[3] = P_0\n",
    "# x0 = [I_b, E, P_0]\n",
    "X = I_b, E, P_0\n",
    "\n",
    "x0 = [0.3, 0.1, 5] # Starting point\n",
    "lower = [0.1, 0.01, 0.0]\n",
    "upper = [1.0, 1.0, 50.0]\n",
    "\n",
    "C = 10^1 #Cᵢ\n",
    "κ = 2\n",
    "\n",
    "res = optimize(sqerror, x0, LBFGS())\n",
    "I_b, E, P_0 = Optim.minimizer(res)\n",
    "R = Dict(\"LBFGS\" => Optim.minimum(res))\n",
    "plot_model(I_b, E, P_0)"
   ]
  },
  {
   "cell_type": "code",
   "execution_count": 4,
   "id": "e53b8a22",
   "metadata": {},
   "outputs": [
    {
     "data": {
      "application/vnd.webio.node+json": {
       "children": [
        {
         "children": [
          {
           "children": [
            {
             "children": [
              {
               "children": [
                {
                 "children": [
                  "E"
                 ],
                 "instanceArgs": {
                  "namespace": "html",
                  "tag": "label"
                 },
                 "nodeType": "DOM",
                 "props": {
                  "className": "interact ",
                  "style": {
                   "padding": "5px 10px 0px 10px"
                  }
                 },
                 "type": "node"
                }
               ],
               "instanceArgs": {
                "namespace": "html",
                "tag": "div"
               },
               "nodeType": "DOM",
               "props": {
                "className": "interact-flex-row-left"
               },
               "type": "node"
              },
              {
               "children": [
                {
                 "children": [],
                 "instanceArgs": {
                  "namespace": "html",
                  "tag": "input"
                 },
                 "nodeType": "DOM",
                 "props": {
                  "attributes": {
                   "data-bind": "numericValue: index, valueUpdate: 'input', event: {change: function (){this.changes(this.changes()+1)}}",
                   "orient": "horizontal",
                   "type": "range"
                  },
                  "className": "slider slider is-fullwidth",
                  "max": 101,
                  "min": 1,
                  "step": 1,
                  "style": {}
                 },
                 "type": "node"
                }
               ],
               "instanceArgs": {
                "namespace": "html",
                "tag": "div"
               },
               "nodeType": "DOM",
               "props": {
                "className": "interact-flex-row-center"
               },
               "type": "node"
              },
              {
               "children": [
                {
                 "children": [],
                 "instanceArgs": {
                  "namespace": "html",
                  "tag": "p"
                 },
                 "nodeType": "DOM",
                 "props": {
                  "attributes": {
                   "data-bind": "text: formatted_val"
                  }
                 },
                 "type": "node"
                }
               ],
               "instanceArgs": {
                "namespace": "html",
                "tag": "div"
               },
               "nodeType": "DOM",
               "props": {
                "className": "interact-flex-row-right"
               },
               "type": "node"
              }
             ],
             "instanceArgs": {
              "namespace": "html",
              "tag": "div"
             },
             "nodeType": "DOM",
             "props": {
              "className": "interact-flex-row interact-widget"
             },
             "type": "node"
            }
           ],
           "instanceArgs": {
            "handlers": {
             "changes": [
              "(function (val){return (val!=this.model[\"changes\"]()) ? (this.valueFromJulia[\"changes\"]=true, this.model[\"changes\"](val)) : undefined})"
             ],
             "index": [
              "(function (val){return (val!=this.model[\"index\"]()) ? (this.valueFromJulia[\"index\"]=true, this.model[\"index\"](val)) : undefined})"
             ]
            },
            "id": "12488020449996252019",
            "imports": {
             "data": [
              {
               "name": "knockout",
               "type": "js",
               "url": "/assetserver/f0e307cd5d087b1b010b519eb389773e9d1dbc0e-knockout.js"
              },
              {
               "name": "knockout_punches",
               "type": "js",
               "url": "/assetserver/23ffb9c4761cb32a945e3c5534ef4f0e0ebff3a5-knockout_punches.js"
              },
              {
               "name": null,
               "type": "js",
               "url": "/assetserver/d056f31abc9e8c4005d299fc969e049f45bc15ce-all.js"
              },
              {
               "name": null,
               "type": "css",
               "url": "/assetserver/d7ee02a10676da192d5a9d9e6fbf1d45a9efdd47-style.css"
              },
              {
               "name": null,
               "type": "css",
               "url": "/assetserver/216a7e9e026462ee34f429556dd6471399a37027-bulma_confined.min.css"
              }
             ],
             "type": "async_block"
            },
            "mount_callbacks": [
             "function () {\n    var handler = (function (ko, koPunches) {\n    ko.punches.enableAll();\n    ko.bindingHandlers.numericValue = {\n        init: function(element, valueAccessor, allBindings, data, context) {\n            var stringified = ko.observable(ko.unwrap(valueAccessor()));\n            stringified.subscribe(function(value) {\n                var val = parseFloat(value);\n                if (!isNaN(val)) {\n                    valueAccessor()(val);\n                }\n            });\n            valueAccessor().subscribe(function(value) {\n                var str = JSON.stringify(value);\n                if ((str == \"0\") && ([\"-0\", \"-0.\"].indexOf(stringified()) >= 0))\n                     return;\n                 if ([\"null\", \"\"].indexOf(str) >= 0)\n                     return;\n                stringified(str);\n            });\n            ko.applyBindingsToNode(\n                element,\n                {\n                    value: stringified,\n                    valueUpdate: allBindings.get('valueUpdate'),\n                },\n                context,\n            );\n        }\n    };\n    var json_data = {\"formatted_vals\":[\"0.0\",\"0.01\",\"0.02\",\"0.03\",\"0.04\",\"0.05\",\"0.06\",\"0.07\",\"0.08\",\"0.09\",\"0.1\",\"0.11\",\"0.12\",\"0.13\",\"0.14\",\"0.15\",\"0.16\",\"0.17\",\"0.18\",\"0.19\",\"0.2\",\"0.21\",\"0.22\",\"0.23\",\"0.24\",\"0.25\",\"0.26\",\"0.27\",\"0.28\",\"0.29\",\"0.3\",\"0.31\",\"0.32\",\"0.33\",\"0.34\",\"0.35\",\"0.36\",\"0.37\",\"0.38\",\"0.39\",\"0.4\",\"0.41\",\"0.42\",\"0.43\",\"0.44\",\"0.45\",\"0.46\",\"0.47\",\"0.48\",\"0.49\",\"0.5\",\"0.51\",\"0.52\",\"0.53\",\"0.54\",\"0.55\",\"0.56\",\"0.57\",\"0.58\",\"0.59\",\"0.6\",\"0.61\",\"0.62\",\"0.63\",\"0.64\",\"0.65\",\"0.66\",\"0.67\",\"0.68\",\"0.69\",\"0.7\",\"0.71\",\"0.72\",\"0.73\",\"0.74\",\"0.75\",\"0.76\",\"0.77\",\"0.78\",\"0.79\",\"0.8\",\"0.81\",\"0.82\",\"0.83\",\"0.84\",\"0.85\",\"0.86\",\"0.87\",\"0.88\",\"0.89\",\"0.9\",\"0.91\",\"0.92\",\"0.93\",\"0.94\",\"0.95\",\"0.96\",\"0.97\",\"0.98\",\"0.99\",\"1.0\"],\"changes\":WebIO.getval({\"name\":\"changes\",\"scope\":\"12488020449996252019\",\"id\":\"3470937165843747180\",\"type\":\"observable\"}),\"index\":WebIO.getval({\"name\":\"index\",\"scope\":\"12488020449996252019\",\"id\":\"11174276310503697265\",\"type\":\"observable\"})};\n    var self = this;\n    function AppViewModel() {\n        for (var key in json_data) {\n            var el = json_data[key];\n            this[key] = Array.isArray(el) ? ko.observableArray(el) : ko.observable(el);\n        }\n        \n        [this[\"formatted_val\"]=ko.computed(    function(){\n        return this.formatted_vals()[parseInt(this.index())-(1)];\n    }\n,this)]\n        [this[\"changes\"].subscribe((function (val){!(this.valueFromJulia[\"changes\"]) ? (WebIO.setval({\"name\":\"changes\",\"scope\":\"12488020449996252019\",\"id\":\"3470937165843747180\",\"type\":\"observable\"},val)) : undefined; return this.valueFromJulia[\"changes\"]=false}),self),this[\"index\"].subscribe((function (val){!(this.valueFromJulia[\"index\"]) ? (WebIO.setval({\"name\":\"index\",\"scope\":\"12488020449996252019\",\"id\":\"11174276310503697265\",\"type\":\"observable\"},val)) : undefined; return this.valueFromJulia[\"index\"]=false}),self)]\n        \n    }\n    self.model = new AppViewModel();\n    self.valueFromJulia = {};\n    for (var key in json_data) {\n        self.valueFromJulia[key] = false;\n    }\n    ko.applyBindings(self.model, self.dom);\n}\n);\n    (WebIO.importBlock({\"data\":[{\"name\":\"knockout\",\"type\":\"js\",\"url\":\"/assetserver/f0e307cd5d087b1b010b519eb389773e9d1dbc0e-knockout.js\"},{\"name\":\"knockout_punches\",\"type\":\"js\",\"url\":\"/assetserver/23ffb9c4761cb32a945e3c5534ef4f0e0ebff3a5-knockout_punches.js\"}],\"type\":\"async_block\"})).then((imports) => handler.apply(this, imports));\n}\n"
            ],
            "observables": {
             "changes": {
              "id": "3470937165843747180",
              "sync": false,
              "value": 0
             },
             "index": {
              "id": "11174276310503697265",
              "sync": true,
              "value": 51
             }
            },
            "systemjs_options": null
           },
           "nodeType": "Scope",
           "props": {},
           "type": "node"
          }
         ],
         "instanceArgs": {
          "namespace": "html",
          "tag": "div"
         },
         "nodeType": "DOM",
         "props": {
          "className": "field interact-widget"
         },
         "type": "node"
        },
        {
         "children": [
          {
           "children": [
            {
             "children": [
              {
               "children": [
                {
                 "children": [
                  "Pss"
                 ],
                 "instanceArgs": {
                  "namespace": "html",
                  "tag": "label"
                 },
                 "nodeType": "DOM",
                 "props": {
                  "className": "interact ",
                  "style": {
                   "padding": "5px 10px 0px 10px"
                  }
                 },
                 "type": "node"
                }
               ],
               "instanceArgs": {
                "namespace": "html",
                "tag": "div"
               },
               "nodeType": "DOM",
               "props": {
                "className": "interact-flex-row-left"
               },
               "type": "node"
              },
              {
               "children": [
                {
                 "children": [],
                 "instanceArgs": {
                  "namespace": "html",
                  "tag": "input"
                 },
                 "nodeType": "DOM",
                 "props": {
                  "attributes": {
                   "data-bind": "numericValue: index, valueUpdate: 'input', event: {change: function (){this.changes(this.changes()+1)}}",
                   "orient": "horizontal",
                   "type": "range"
                  },
                  "className": "slider slider is-fullwidth",
                  "max": 109,
                  "min": 1,
                  "step": 1,
                  "style": {}
                 },
                 "type": "node"
                }
               ],
               "instanceArgs": {
                "namespace": "html",
                "tag": "div"
               },
               "nodeType": "DOM",
               "props": {
                "className": "interact-flex-row-center"
               },
               "type": "node"
              },
              {
               "children": [
                {
                 "children": [],
                 "instanceArgs": {
                  "namespace": "html",
                  "tag": "p"
                 },
                 "nodeType": "DOM",
                 "props": {
                  "attributes": {
                   "data-bind": "text: formatted_val"
                  }
                 },
                 "type": "node"
                }
               ],
               "instanceArgs": {
                "namespace": "html",
                "tag": "div"
               },
               "nodeType": "DOM",
               "props": {
                "className": "interact-flex-row-right"
               },
               "type": "node"
              }
             ],
             "instanceArgs": {
              "namespace": "html",
              "tag": "div"
             },
             "nodeType": "DOM",
             "props": {
              "className": "interact-flex-row interact-widget"
             },
             "type": "node"
            }
           ],
           "instanceArgs": {
            "handlers": {
             "changes": [
              "(function (val){return (val!=this.model[\"changes\"]()) ? (this.valueFromJulia[\"changes\"]=true, this.model[\"changes\"](val)) : undefined})"
             ],
             "index": [
              "(function (val){return (val!=this.model[\"index\"]()) ? (this.valueFromJulia[\"index\"]=true, this.model[\"index\"](val)) : undefined})"
             ]
            },
            "id": "8715671850923032135",
            "imports": {
             "data": [
              {
               "name": "knockout",
               "type": "js",
               "url": "/assetserver/f0e307cd5d087b1b010b519eb389773e9d1dbc0e-knockout.js"
              },
              {
               "name": "knockout_punches",
               "type": "js",
               "url": "/assetserver/23ffb9c4761cb32a945e3c5534ef4f0e0ebff3a5-knockout_punches.js"
              },
              {
               "name": null,
               "type": "js",
               "url": "/assetserver/d056f31abc9e8c4005d299fc969e049f45bc15ce-all.js"
              },
              {
               "name": null,
               "type": "css",
               "url": "/assetserver/d7ee02a10676da192d5a9d9e6fbf1d45a9efdd47-style.css"
              },
              {
               "name": null,
               "type": "css",
               "url": "/assetserver/216a7e9e026462ee34f429556dd6471399a37027-bulma_confined.min.css"
              }
             ],
             "type": "async_block"
            },
            "mount_callbacks": [
             "function () {\n    var handler = (function (ko, koPunches) {\n    ko.punches.enableAll();\n    ko.bindingHandlers.numericValue = {\n        init: function(element, valueAccessor, allBindings, data, context) {\n            var stringified = ko.observable(ko.unwrap(valueAccessor()));\n            stringified.subscribe(function(value) {\n                var val = parseFloat(value);\n                if (!isNaN(val)) {\n                    valueAccessor()(val);\n                }\n            });\n            valueAccessor().subscribe(function(value) {\n                var str = JSON.stringify(value);\n                if ((str == \"0\") && ([\"-0\", \"-0.\"].indexOf(stringified()) >= 0))\n                     return;\n                 if ([\"null\", \"\"].indexOf(str) >= 0)\n                     return;\n                stringified(str);\n            });\n            ko.applyBindingsToNode(\n                element,\n                {\n                    value: stringified,\n                    valueUpdate: allBindings.get('valueUpdate'),\n                },\n                context,\n            );\n        }\n    };\n    var json_data = {\"formatted_vals\":[\"-5.0\",\"-4.9\",\"-4.8\",\"-4.7\",\"-4.6\",\"-4.5\",\"-4.4\",\"-4.3\",\"-4.2\",\"-4.1\",\"-4.0\",\"-3.9\",\"-3.8\",\"-3.7\",\"-3.6\",\"-3.5\",\"-3.4\",\"-3.3\",\"-3.2\",\"-3.1\",\"-3.0\",\"-2.9\",\"-2.8\",\"-2.7\",\"-2.6\",\"-2.5\",\"-2.4\",\"-2.3\",\"-2.2\",\"-2.1\",\"-2.0\",\"-1.9\",\"-1.8\",\"-1.7\",\"-1.6\",\"-1.5\",\"-1.4\",\"-1.3\",\"-1.2\",\"-1.1\",\"-1.0\",\"-0.9\",\"-0.8\",\"-0.7\",\"-0.6\",\"-0.5\",\"-0.4\",\"-0.3\",\"-0.2\",\"-0.1\",\"0.0\",\"0.1\",\"0.2\",\"0.3\",\"0.4\",\"0.5\",\"0.6\",\"0.7\",\"0.8\",\"0.9\",\"1.0\",\"1.1\",\"1.2\",\"1.3\",\"1.4\",\"1.5\",\"1.6\",\"1.7\",\"1.8\",\"1.9\",\"2.0\",\"2.1\",\"2.2\",\"2.3\",\"2.4\",\"2.5\",\"2.6\",\"2.7\",\"2.8\",\"2.9\",\"3.0\",\"3.1\",\"3.2\",\"3.3\",\"3.4\",\"3.5\",\"3.6\",\"3.7\",\"3.8\",\"3.9\",\"4.0\",\"4.1\",\"4.2\",\"4.3\",\"4.4\",\"4.5\",\"4.6\",\"4.7\",\"4.8\",\"4.9\",\"5.0\",\"5.1\",\"5.2\",\"5.3\",\"5.4\",\"5.5\",\"5.6\",\"5.7\",\"5.8\"],\"changes\":WebIO.getval({\"name\":\"changes\",\"scope\":\"8715671850923032135\",\"id\":\"13391019217020160552\",\"type\":\"observable\"}),\"index\":WebIO.getval({\"name\":\"index\",\"scope\":\"8715671850923032135\",\"id\":\"8681941342636351920\",\"type\":\"observable\"})};\n    var self = this;\n    function AppViewModel() {\n        for (var key in json_data) {\n            var el = json_data[key];\n            this[key] = Array.isArray(el) ? ko.observableArray(el) : ko.observable(el);\n        }\n        \n        [this[\"formatted_val\"]=ko.computed(    function(){\n        return this.formatted_vals()[parseInt(this.index())-(1)];\n    }\n,this)]\n        [this[\"changes\"].subscribe((function (val){!(this.valueFromJulia[\"changes\"]) ? (WebIO.setval({\"name\":\"changes\",\"scope\":\"8715671850923032135\",\"id\":\"13391019217020160552\",\"type\":\"observable\"},val)) : undefined; return this.valueFromJulia[\"changes\"]=false}),self),this[\"index\"].subscribe((function (val){!(this.valueFromJulia[\"index\"]) ? (WebIO.setval({\"name\":\"index\",\"scope\":\"8715671850923032135\",\"id\":\"8681941342636351920\",\"type\":\"observable\"},val)) : undefined; return this.valueFromJulia[\"index\"]=false}),self)]\n        \n    }\n    self.model = new AppViewModel();\n    self.valueFromJulia = {};\n    for (var key in json_data) {\n        self.valueFromJulia[key] = false;\n    }\n    ko.applyBindings(self.model, self.dom);\n}\n);\n    (WebIO.importBlock({\"data\":[{\"name\":\"knockout\",\"type\":\"js\",\"url\":\"/assetserver/f0e307cd5d087b1b010b519eb389773e9d1dbc0e-knockout.js\"},{\"name\":\"knockout_punches\",\"type\":\"js\",\"url\":\"/assetserver/23ffb9c4761cb32a945e3c5534ef4f0e0ebff3a5-knockout_punches.js\"}],\"type\":\"async_block\"})).then((imports) => handler.apply(this, imports));\n}\n"
            ],
            "observables": {
             "changes": {
              "id": "13391019217020160552",
              "sync": false,
              "value": 0
             },
             "index": {
              "id": "8681941342636351920",
              "sync": true,
              "value": 55
             }
            },
            "systemjs_options": null
           },
           "nodeType": "Scope",
           "props": {},
           "type": "node"
          }
         ],
         "instanceArgs": {
          "namespace": "html",
          "tag": "div"
         },
         "nodeType": "DOM",
         "props": {
          "className": "field interact-widget"
         },
         "type": "node"
        },
        {
         "children": [
          {
           "children": [
            {
             "children": [
              {
               "children": [
                {
                 "children": [
                  "Rcsf"
                 ],
                 "instanceArgs": {
                  "namespace": "html",
                  "tag": "label"
                 },
                 "nodeType": "DOM",
                 "props": {
                  "className": "interact ",
                  "style": {
                   "padding": "5px 10px 0px 10px"
                  }
                 },
                 "type": "node"
                }
               ],
               "instanceArgs": {
                "namespace": "html",
                "tag": "div"
               },
               "nodeType": "DOM",
               "props": {
                "className": "interact-flex-row-left"
               },
               "type": "node"
              },
              {
               "children": [
                {
                 "children": [],
                 "instanceArgs": {
                  "namespace": "html",
                  "tag": "input"
                 },
                 "nodeType": "DOM",
                 "props": {
                  "attributes": {
                   "data-bind": "numericValue: index, valueUpdate: 'input', event: {change: function (){this.changes(this.changes()+1)}}",
                   "orient": "horizontal",
                   "type": "range"
                  },
                  "className": "slider slider is-fullwidth",
                  "max": 51,
                  "min": 1,
                  "step": 1,
                  "style": {}
                 },
                 "type": "node"
                }
               ],
               "instanceArgs": {
                "namespace": "html",
                "tag": "div"
               },
               "nodeType": "DOM",
               "props": {
                "className": "interact-flex-row-center"
               },
               "type": "node"
              },
              {
               "children": [
                {
                 "children": [],
                 "instanceArgs": {
                  "namespace": "html",
                  "tag": "p"
                 },
                 "nodeType": "DOM",
                 "props": {
                  "attributes": {
                   "data-bind": "text: formatted_val"
                  }
                 },
                 "type": "node"
                }
               ],
               "instanceArgs": {
                "namespace": "html",
                "tag": "div"
               },
               "nodeType": "DOM",
               "props": {
                "className": "interact-flex-row-right"
               },
               "type": "node"
              }
             ],
             "instanceArgs": {
              "namespace": "html",
              "tag": "div"
             },
             "nodeType": "DOM",
             "props": {
              "className": "interact-flex-row interact-widget"
             },
             "type": "node"
            }
           ],
           "instanceArgs": {
            "handlers": {
             "changes": [
              "(function (val){return (val!=this.model[\"changes\"]()) ? (this.valueFromJulia[\"changes\"]=true, this.model[\"changes\"](val)) : undefined})"
             ],
             "index": [
              "(function (val){return (val!=this.model[\"index\"]()) ? (this.valueFromJulia[\"index\"]=true, this.model[\"index\"](val)) : undefined})"
             ]
            },
            "id": "5186392882370398036",
            "imports": {
             "data": [
              {
               "name": "knockout",
               "type": "js",
               "url": "/assetserver/f0e307cd5d087b1b010b519eb389773e9d1dbc0e-knockout.js"
              },
              {
               "name": "knockout_punches",
               "type": "js",
               "url": "/assetserver/23ffb9c4761cb32a945e3c5534ef4f0e0ebff3a5-knockout_punches.js"
              },
              {
               "name": null,
               "type": "js",
               "url": "/assetserver/d056f31abc9e8c4005d299fc969e049f45bc15ce-all.js"
              },
              {
               "name": null,
               "type": "css",
               "url": "/assetserver/d7ee02a10676da192d5a9d9e6fbf1d45a9efdd47-style.css"
              },
              {
               "name": null,
               "type": "css",
               "url": "/assetserver/216a7e9e026462ee34f429556dd6471399a37027-bulma_confined.min.css"
              }
             ],
             "type": "async_block"
            },
            "mount_callbacks": [
             "function () {\n    var handler = (function (ko, koPunches) {\n    ko.punches.enableAll();\n    ko.bindingHandlers.numericValue = {\n        init: function(element, valueAccessor, allBindings, data, context) {\n            var stringified = ko.observable(ko.unwrap(valueAccessor()));\n            stringified.subscribe(function(value) {\n                var val = parseFloat(value);\n                if (!isNaN(val)) {\n                    valueAccessor()(val);\n                }\n            });\n            valueAccessor().subscribe(function(value) {\n                var str = JSON.stringify(value);\n                if ((str == \"0\") && ([\"-0\", \"-0.\"].indexOf(stringified()) >= 0))\n                     return;\n                 if ([\"null\", \"\"].indexOf(str) >= 0)\n                     return;\n                stringified(str);\n            });\n            ko.applyBindingsToNode(\n                element,\n                {\n                    value: stringified,\n                    valueUpdate: allBindings.get('valueUpdate'),\n                },\n                context,\n            );\n        }\n    };\n    var json_data = {\"formatted_vals\":[\"0\",\"1\",\"2\",\"3\",\"4\",\"5\",\"6\",\"7\",\"8\",\"9\",\"10\",\"11\",\"12\",\"13\",\"14\",\"15\",\"16\",\"17\",\"18\",\"19\",\"20\",\"21\",\"22\",\"23\",\"24\",\"25\",\"26\",\"27\",\"28\",\"29\",\"30\",\"31\",\"32\",\"33\",\"34\",\"35\",\"36\",\"37\",\"38\",\"39\",\"40\",\"41\",\"42\",\"43\",\"44\",\"45\",\"46\",\"47\",\"48\",\"49\",\"50\"],\"changes\":WebIO.getval({\"name\":\"changes\",\"scope\":\"5186392882370398036\",\"id\":\"13171040741590499436\",\"type\":\"observable\"}),\"index\":WebIO.getval({\"name\":\"index\",\"scope\":\"5186392882370398036\",\"id\":\"10912010718777602132\",\"type\":\"observable\"})};\n    var self = this;\n    function AppViewModel() {\n        for (var key in json_data) {\n            var el = json_data[key];\n            this[key] = Array.isArray(el) ? ko.observableArray(el) : ko.observable(el);\n        }\n        \n        [this[\"formatted_val\"]=ko.computed(    function(){\n        return this.formatted_vals()[parseInt(this.index())-(1)];\n    }\n,this)]\n        [this[\"changes\"].subscribe((function (val){!(this.valueFromJulia[\"changes\"]) ? (WebIO.setval({\"name\":\"changes\",\"scope\":\"5186392882370398036\",\"id\":\"13171040741590499436\",\"type\":\"observable\"},val)) : undefined; return this.valueFromJulia[\"changes\"]=false}),self),this[\"index\"].subscribe((function (val){!(this.valueFromJulia[\"index\"]) ? (WebIO.setval({\"name\":\"index\",\"scope\":\"5186392882370398036\",\"id\":\"10912010718777602132\",\"type\":\"observable\"},val)) : undefined; return this.valueFromJulia[\"index\"]=false}),self)]\n        \n    }\n    self.model = new AppViewModel();\n    self.valueFromJulia = {};\n    for (var key in json_data) {\n        self.valueFromJulia[key] = false;\n    }\n    ko.applyBindings(self.model, self.dom);\n}\n);\n    (WebIO.importBlock({\"data\":[{\"name\":\"knockout\",\"type\":\"js\",\"url\":\"/assetserver/f0e307cd5d087b1b010b519eb389773e9d1dbc0e-knockout.js\"},{\"name\":\"knockout_punches\",\"type\":\"js\",\"url\":\"/assetserver/23ffb9c4761cb32a945e3c5534ef4f0e0ebff3a5-knockout_punches.js\"}],\"type\":\"async_block\"})).then((imports) => handler.apply(this, imports));\n}\n"
            ],
            "observables": {
             "changes": {
              "id": "13171040741590499436",
              "sync": false,
              "value": 0
             },
             "index": {
              "id": "10912010718777602132",
              "sync": true,
              "value": 26
             }
            },
            "systemjs_options": null
           },
           "nodeType": "Scope",
           "props": {},
           "type": "node"
          }
         ],
         "instanceArgs": {
          "namespace": "html",
          "tag": "div"
         },
         "nodeType": "DOM",
         "props": {
          "className": "field interact-widget"
         },
         "type": "node"
        },
        {
         "children": [
          {
           "children": [],
           "instanceArgs": {
            "id": "158597244375179276",
            "name": "obs-node"
           },
           "nodeType": "ObservableNode",
           "props": {},
           "type": "node"
          }
         ],
         "instanceArgs": {
          "handlers": {},
          "id": "5634372626043198032",
          "imports": {
           "data": [],
           "type": "async_block"
          },
          "mount_callbacks": [],
          "observables": {
           "obs-node": {
            "id": "158597244375179276",
            "sync": false,
            "value": {
             "children": [
              {
               "children": [],
               "instanceArgs": {
                "namespace": "html",
                "tag": "div"
               },
               "nodeType": "DOM",
               "props": {
                "setInnerHtml": "<?xml version=\"1.0\" encoding=\"utf-8\"?>\n<svg xmlns=\"http://www.w3.org/2000/svg\" xmlns:xlink=\"http://www.w3.org/1999/xlink\" width=\"600\" height=\"400\" viewBox=\"0 0 2400 1600\">\n<defs>\n  <clipPath id=\"clip520\">\n    <rect x=\"0\" y=\"0\" width=\"2400\" height=\"1600\"/>\n  </clipPath>\n</defs>\n<path clip-path=\"url(#clip520)\" d=\"\nM0 1600 L2400 1600 L2400 0 L0 0  Z\n  \" fill=\"#000000\" fill-rule=\"evenodd\" fill-opacity=\"0\"/>\n<defs>\n  <clipPath id=\"clip521\">\n    <rect x=\"480\" y=\"0\" width=\"1681\" height=\"1600\"/>\n  </clipPath>\n</defs>\n<path clip-path=\"url(#clip520)\" d=\"\nM205.121 1423.18 L1989.53 1423.18 L1989.53 47.2441 L205.121 47.2441  Z\n  \" fill=\"#000000\" fill-rule=\"evenodd\" fill-opacity=\"0\"/>\n<defs>\n  <clipPath id=\"clip522\">\n    <rect x=\"205\" y=\"47\" width=\"1785\" height=\"1377\"/>\n  </clipPath>\n</defs>\n<polyline clip-path=\"url(#clip522)\" style=\"stroke:#ffffff; stroke-linecap:butt; stroke-linejoin:round; stroke-width:2; stroke-opacity:0.1; fill:none\" points=\"\n  245.543,1423.18 245.543,47.2441 \n  \"/>\n<polyline clip-path=\"url(#clip522)\" style=\"stroke:#ffffff; stroke-linecap:butt; stroke-linejoin:round; stroke-width:2; stroke-opacity:0.1; fill:none\" points=\"\n  547.951,1423.18 547.951,47.2441 \n  \"/>\n<polyline clip-path=\"url(#clip522)\" style=\"stroke:#ffffff; stroke-linecap:butt; stroke-linejoin:round; stroke-width:2; stroke-opacity:0.1; fill:none\" points=\"\n  850.36,1423.18 850.36,47.2441 \n  \"/>\n<polyline clip-path=\"url(#clip522)\" style=\"stroke:#ffffff; stroke-linecap:butt; stroke-linejoin:round; stroke-width:2; stroke-opacity:0.1; fill:none\" points=\"\n  1152.77,1423.18 1152.77,47.2441 \n  \"/>\n<polyline clip-path=\"url(#clip522)\" style=\"stroke:#ffffff; stroke-linecap:butt; stroke-linejoin:round; stroke-width:2; stroke-opacity:0.1; fill:none\" points=\"\n  1455.18,1423.18 1455.18,47.2441 \n  \"/>\n<polyline clip-path=\"url(#clip522)\" style=\"stroke:#ffffff; stroke-linecap:butt; stroke-linejoin:round; stroke-width:2; stroke-opacity:0.1; fill:none\" points=\"\n  1757.59,1423.18 1757.59,47.2441 \n  \"/>\n<polyline clip-path=\"url(#clip520)\" style=\"stroke:#ffffff; stroke-linecap:butt; stroke-linejoin:round; stroke-width:4; stroke-opacity:1; fill:none\" points=\"\n  205.121,1423.18 1989.53,1423.18 \n  \"/>\n<polyline clip-path=\"url(#clip520)\" style=\"stroke:#ffffff; stroke-linecap:butt; stroke-linejoin:round; stroke-width:4; stroke-opacity:1; fill:none\" points=\"\n  245.543,1423.18 245.543,1404.28 \n  \"/>\n<polyline clip-path=\"url(#clip520)\" style=\"stroke:#ffffff; stroke-linecap:butt; stroke-linejoin:round; stroke-width:4; stroke-opacity:1; fill:none\" points=\"\n  547.951,1423.18 547.951,1404.28 \n  \"/>\n<polyline clip-path=\"url(#clip520)\" style=\"stroke:#ffffff; stroke-linecap:butt; stroke-linejoin:round; stroke-width:4; stroke-opacity:1; fill:none\" points=\"\n  850.36,1423.18 850.36,1404.28 \n  \"/>\n<polyline clip-path=\"url(#clip520)\" style=\"stroke:#ffffff; stroke-linecap:butt; stroke-linejoin:round; stroke-width:4; stroke-opacity:1; fill:none\" points=\"\n  1152.77,1423.18 1152.77,1404.28 \n  \"/>\n<polyline clip-path=\"url(#clip520)\" style=\"stroke:#ffffff; stroke-linecap:butt; stroke-linejoin:round; stroke-width:4; stroke-opacity:1; fill:none\" points=\"\n  1455.18,1423.18 1455.18,1404.28 \n  \"/>\n<polyline clip-path=\"url(#clip520)\" style=\"stroke:#ffffff; stroke-linecap:butt; stroke-linejoin:round; stroke-width:4; stroke-opacity:1; fill:none\" points=\"\n  1757.59,1423.18 1757.59,1404.28 \n  \"/>\n<path clip-path=\"url(#clip520)\" d=\"M222.927 1454.1 Q219.316 1454.1 217.488 1457.66 Q215.682 1461.2 215.682 1468.33 Q215.682 1475.44 217.488 1479.01 Q219.316 1482.55 222.927 1482.55 Q226.562 1482.55 228.367 1479.01 Q230.196 1475.44 230.196 1468.33 Q230.196 1461.2 228.367 1457.66 Q226.562 1454.1 222.927 1454.1 M222.927 1450.39 Q228.737 1450.39 231.793 1455 Q234.872 1459.58 234.872 1468.33 Q234.872 1477.06 231.793 1481.67 Q228.737 1486.25 222.927 1486.25 Q217.117 1486.25 214.038 1481.67 Q210.983 1477.06 210.983 1468.33 Q210.983 1459.58 214.038 1455 Q217.117 1450.39 222.927 1450.39 Z\" fill=\"#ffffff\" fill-rule=\"evenodd\" fill-opacity=\"1\" /><path clip-path=\"url(#clip520)\" d=\"M243.089 1479.7 L247.973 1479.7 L247.973 1485.58 L243.089 1485.58 L243.089 1479.7 Z\" fill=\"#ffffff\" fill-rule=\"evenodd\" fill-opacity=\"1\" /><path clip-path=\"url(#clip520)\" d=\"M268.159 1454.1 Q264.547 1454.1 262.719 1457.66 Q260.913 1461.2 260.913 1468.33 Q260.913 1475.44 262.719 1479.01 Q264.547 1482.55 268.159 1482.55 Q271.793 1482.55 273.598 1479.01 Q275.427 1475.44 275.427 1468.33 Q275.427 1461.2 273.598 1457.66 Q271.793 1454.1 268.159 1454.1 M268.159 1450.39 Q273.969 1450.39 277.024 1455 Q280.103 1459.58 280.103 1468.33 Q280.103 1477.06 277.024 1481.67 Q273.969 1486.25 268.159 1486.25 Q262.348 1486.25 259.27 1481.67 Q256.214 1477.06 256.214 1468.33 Q256.214 1459.58 259.27 1455 Q262.348 1450.39 268.159 1450.39 Z\" fill=\"#ffffff\" fill-rule=\"evenodd\" fill-opacity=\"1\" /><path clip-path=\"url(#clip520)\" d=\"M529.259 1466.95 Q532.616 1467.66 534.491 1469.93 Q536.389 1472.2 536.389 1475.53 Q536.389 1480.65 532.871 1483.45 Q529.352 1486.25 522.871 1486.25 Q520.695 1486.25 518.38 1485.81 Q516.088 1485.39 513.635 1484.54 L513.635 1480.02 Q515.579 1481.16 517.894 1481.74 Q520.209 1482.32 522.732 1482.32 Q527.13 1482.32 529.421 1480.58 Q531.736 1478.84 531.736 1475.53 Q531.736 1472.48 529.584 1470.77 Q527.454 1469.03 523.634 1469.03 L519.607 1469.03 L519.607 1465.19 L523.82 1465.19 Q527.269 1465.19 529.097 1463.82 Q530.926 1462.43 530.926 1459.84 Q530.926 1457.18 529.028 1455.77 Q527.153 1454.33 523.634 1454.33 Q521.713 1454.33 519.514 1454.75 Q517.315 1455.16 514.676 1456.04 L514.676 1451.88 Q517.338 1451.14 519.653 1450.77 Q521.991 1450.39 524.051 1450.39 Q529.375 1450.39 532.477 1452.83 Q535.579 1455.23 535.579 1459.35 Q535.579 1462.22 533.935 1464.21 Q532.292 1466.18 529.259 1466.95 Z\" fill=\"#ffffff\" fill-rule=\"evenodd\" fill-opacity=\"1\" /><path clip-path=\"url(#clip520)\" d=\"M545.255 1479.7 L550.139 1479.7 L550.139 1485.58 L545.255 1485.58 L545.255 1479.7 Z\" fill=\"#ffffff\" fill-rule=\"evenodd\" fill-opacity=\"1\" /><path clip-path=\"url(#clip520)\" d=\"M570.324 1454.1 Q566.713 1454.1 564.884 1457.66 Q563.079 1461.2 563.079 1468.33 Q563.079 1475.44 564.884 1479.01 Q566.713 1482.55 570.324 1482.55 Q573.958 1482.55 575.764 1479.01 Q577.593 1475.44 577.593 1468.33 Q577.593 1461.2 575.764 1457.66 Q573.958 1454.1 570.324 1454.1 M570.324 1450.39 Q576.134 1450.39 579.19 1455 Q582.268 1459.58 582.268 1468.33 Q582.268 1477.06 579.19 1481.67 Q576.134 1486.25 570.324 1486.25 Q564.514 1486.25 561.435 1481.67 Q558.38 1477.06 558.38 1468.33 Q558.38 1459.58 561.435 1455 Q564.514 1450.39 570.324 1450.39 Z\" fill=\"#ffffff\" fill-rule=\"evenodd\" fill-opacity=\"1\" /><path clip-path=\"url(#clip520)\" d=\"M828.23 1466.44 Q825.082 1466.44 823.231 1468.59 Q821.402 1470.74 821.402 1474.49 Q821.402 1478.22 823.231 1480.39 Q825.082 1482.55 828.23 1482.55 Q831.379 1482.55 833.207 1480.39 Q835.059 1478.22 835.059 1474.49 Q835.059 1470.74 833.207 1468.59 Q831.379 1466.44 828.23 1466.44 M837.513 1451.78 L837.513 1456.04 Q835.754 1455.21 833.948 1454.77 Q832.166 1454.33 830.406 1454.33 Q825.777 1454.33 823.323 1457.45 Q820.893 1460.58 820.545 1466.9 Q821.911 1464.89 823.971 1463.82 Q826.031 1462.73 828.508 1462.73 Q833.717 1462.73 836.726 1465.9 Q839.758 1469.05 839.758 1474.49 Q839.758 1479.82 836.61 1483.03 Q833.462 1486.25 828.23 1486.25 Q822.235 1486.25 819.064 1481.67 Q815.893 1477.06 815.893 1468.33 Q815.893 1460.14 819.781 1455.28 Q823.67 1450.39 830.221 1450.39 Q831.98 1450.39 833.763 1450.74 Q835.568 1451.09 837.513 1451.78 Z\" fill=\"#ffffff\" fill-rule=\"evenodd\" fill-opacity=\"1\" /><path clip-path=\"url(#clip520)\" d=\"M847.814 1479.7 L852.698 1479.7 L852.698 1485.58 L847.814 1485.58 L847.814 1479.7 Z\" fill=\"#ffffff\" fill-rule=\"evenodd\" fill-opacity=\"1\" /><path clip-path=\"url(#clip520)\" d=\"M872.883 1454.1 Q869.272 1454.1 867.443 1457.66 Q865.638 1461.2 865.638 1468.33 Q865.638 1475.44 867.443 1479.01 Q869.272 1482.55 872.883 1482.55 Q876.517 1482.55 878.323 1479.01 Q880.152 1475.44 880.152 1468.33 Q880.152 1461.2 878.323 1457.66 Q876.517 1454.1 872.883 1454.1 M872.883 1450.39 Q878.693 1450.39 881.749 1455 Q884.827 1459.58 884.827 1468.33 Q884.827 1477.06 881.749 1481.67 Q878.693 1486.25 872.883 1486.25 Q867.073 1486.25 863.994 1481.67 Q860.939 1477.06 860.939 1468.33 Q860.939 1459.58 863.994 1455 Q867.073 1450.39 872.883 1450.39 Z\" fill=\"#ffffff\" fill-rule=\"evenodd\" fill-opacity=\"1\" /><path clip-path=\"url(#clip520)\" d=\"M1120.36 1484.86 L1120.36 1480.6 Q1122.12 1481.44 1123.93 1481.88 Q1125.73 1482.32 1127.47 1482.32 Q1132.1 1482.32 1134.53 1479.21 Q1136.98 1476.09 1137.33 1469.75 Q1135.99 1471.74 1133.93 1472.8 Q1131.87 1473.87 1129.37 1473.87 Q1124.18 1473.87 1121.15 1470.74 Q1118.14 1467.59 1118.14 1462.15 Q1118.14 1456.83 1121.29 1453.61 Q1124.44 1450.39 1129.67 1450.39 Q1135.66 1450.39 1138.81 1455 Q1141.98 1459.58 1141.98 1468.33 Q1141.98 1476.51 1138.09 1481.39 Q1134.23 1486.25 1127.68 1486.25 Q1125.92 1486.25 1124.11 1485.9 Q1122.31 1485.56 1120.36 1484.86 M1129.67 1470.21 Q1132.81 1470.21 1134.64 1468.06 Q1136.5 1465.9 1136.5 1462.15 Q1136.5 1458.43 1134.64 1456.27 Q1132.81 1454.1 1129.67 1454.1 Q1126.52 1454.1 1124.67 1456.27 Q1122.84 1458.43 1122.84 1462.15 Q1122.84 1465.9 1124.67 1468.06 Q1126.52 1470.21 1129.67 1470.21 Z\" fill=\"#ffffff\" fill-rule=\"evenodd\" fill-opacity=\"1\" /><path clip-path=\"url(#clip520)\" d=\"M1150.38 1479.7 L1155.27 1479.7 L1155.27 1485.58 L1150.38 1485.58 L1150.38 1479.7 Z\" fill=\"#ffffff\" fill-rule=\"evenodd\" fill-opacity=\"1\" /><path clip-path=\"url(#clip520)\" d=\"M1175.45 1454.1 Q1171.84 1454.1 1170.01 1457.66 Q1168.21 1461.2 1168.21 1468.33 Q1168.21 1475.44 1170.01 1479.01 Q1171.84 1482.55 1175.45 1482.55 Q1179.09 1482.55 1180.89 1479.01 Q1182.72 1475.44 1182.72 1468.33 Q1182.72 1461.2 1180.89 1457.66 Q1179.09 1454.1 1175.45 1454.1 M1175.45 1450.39 Q1181.26 1450.39 1184.32 1455 Q1187.4 1459.58 1187.4 1468.33 Q1187.4 1477.06 1184.32 1481.67 Q1181.26 1486.25 1175.45 1486.25 Q1169.64 1486.25 1166.56 1481.67 Q1163.51 1477.06 1163.51 1468.33 Q1163.51 1459.58 1166.56 1455 Q1169.64 1450.39 1175.45 1450.39 Z\" fill=\"#ffffff\" fill-rule=\"evenodd\" fill-opacity=\"1\" /><path clip-path=\"url(#clip520)\" d=\"M1407.25 1481.64 L1414.89 1481.64 L1414.89 1455.28 L1406.58 1456.95 L1406.58 1452.69 L1414.84 1451.02 L1419.52 1451.02 L1419.52 1481.64 L1427.16 1481.64 L1427.16 1485.58 L1407.25 1485.58 L1407.25 1481.64 Z\" fill=\"#ffffff\" fill-rule=\"evenodd\" fill-opacity=\"1\" /><path clip-path=\"url(#clip520)\" d=\"M1440.63 1481.64 L1456.95 1481.64 L1456.95 1485.58 L1435 1485.58 L1435 1481.64 Q1437.67 1478.89 1442.25 1474.26 Q1446.86 1469.61 1448.04 1468.27 Q1450.28 1465.74 1451.16 1464.01 Q1452.06 1462.25 1452.06 1460.56 Q1452.06 1457.8 1450.12 1456.07 Q1448.2 1454.33 1445.1 1454.33 Q1442.9 1454.33 1440.44 1455.09 Q1438.01 1455.86 1435.24 1457.41 L1435.24 1452.69 Q1438.06 1451.55 1440.51 1450.97 Q1442.97 1450.39 1445 1450.39 Q1450.37 1450.39 1453.57 1453.08 Q1456.76 1455.77 1456.76 1460.26 Q1456.76 1462.39 1455.95 1464.31 Q1455.17 1466.2 1453.06 1468.8 Q1452.48 1469.47 1449.38 1472.69 Q1446.28 1475.88 1440.63 1481.64 Z\" fill=\"#ffffff\" fill-rule=\"evenodd\" fill-opacity=\"1\" /><path clip-path=\"url(#clip520)\" d=\"M1466.76 1479.7 L1471.65 1479.7 L1471.65 1485.58 L1466.76 1485.58 L1466.76 1479.7 Z\" fill=\"#ffffff\" fill-rule=\"evenodd\" fill-opacity=\"1\" /><path clip-path=\"url(#clip520)\" d=\"M1491.83 1454.1 Q1488.22 1454.1 1486.39 1457.66 Q1484.59 1461.2 1484.59 1468.33 Q1484.59 1475.44 1486.39 1479.01 Q1488.22 1482.55 1491.83 1482.55 Q1495.47 1482.55 1497.27 1479.01 Q1499.1 1475.44 1499.1 1468.33 Q1499.1 1461.2 1497.27 1457.66 Q1495.47 1454.1 1491.83 1454.1 M1491.83 1450.39 Q1497.64 1450.39 1500.7 1455 Q1503.78 1459.58 1503.78 1468.33 Q1503.78 1477.06 1500.7 1481.67 Q1497.64 1486.25 1491.83 1486.25 Q1486.02 1486.25 1482.94 1481.67 Q1479.89 1477.06 1479.89 1468.33 Q1479.89 1459.58 1482.94 1455 Q1486.02 1450.39 1491.83 1450.39 Z\" fill=\"#ffffff\" fill-rule=\"evenodd\" fill-opacity=\"1\" /><path clip-path=\"url(#clip520)\" d=\"M1709.66 1481.64 L1717.3 1481.64 L1717.3 1455.28 L1708.99 1456.95 L1708.99 1452.69 L1717.25 1451.02 L1721.93 1451.02 L1721.93 1481.64 L1729.56 1481.64 L1729.56 1485.58 L1709.66 1485.58 L1709.66 1481.64 Z\" fill=\"#ffffff\" fill-rule=\"evenodd\" fill-opacity=\"1\" /><path clip-path=\"url(#clip520)\" d=\"M1739.06 1451.02 L1757.41 1451.02 L1757.41 1454.96 L1743.34 1454.96 L1743.34 1463.43 Q1744.36 1463.08 1745.38 1462.92 Q1746.39 1462.73 1747.41 1462.73 Q1753.2 1462.73 1756.58 1465.9 Q1759.96 1469.08 1759.96 1474.49 Q1759.96 1480.07 1756.49 1483.17 Q1753.01 1486.25 1746.69 1486.25 Q1744.52 1486.25 1742.25 1485.88 Q1740 1485.51 1737.6 1484.77 L1737.6 1480.07 Q1739.68 1481.2 1741.9 1481.76 Q1744.13 1482.32 1746.6 1482.32 Q1750.61 1482.32 1752.94 1480.21 Q1755.28 1478.1 1755.28 1474.49 Q1755.28 1470.88 1752.94 1468.77 Q1750.61 1466.67 1746.6 1466.67 Q1744.73 1466.67 1742.85 1467.08 Q1741 1467.5 1739.06 1468.38 L1739.06 1451.02 Z\" fill=\"#ffffff\" fill-rule=\"evenodd\" fill-opacity=\"1\" /><path clip-path=\"url(#clip520)\" d=\"M1769.17 1479.7 L1774.06 1479.7 L1774.06 1485.58 L1769.17 1485.58 L1769.17 1479.7 Z\" fill=\"#ffffff\" fill-rule=\"evenodd\" fill-opacity=\"1\" /><path clip-path=\"url(#clip520)\" d=\"M1794.24 1454.1 Q1790.63 1454.1 1788.8 1457.66 Q1787 1461.2 1787 1468.33 Q1787 1475.44 1788.8 1479.01 Q1790.63 1482.55 1794.24 1482.55 Q1797.87 1482.55 1799.68 1479.01 Q1801.51 1475.44 1801.51 1468.33 Q1801.51 1461.2 1799.68 1457.66 Q1797.87 1454.1 1794.24 1454.1 M1794.24 1450.39 Q1800.05 1450.39 1803.11 1455 Q1806.18 1459.58 1806.18 1468.33 Q1806.18 1477.06 1803.11 1481.67 Q1800.05 1486.25 1794.24 1486.25 Q1788.43 1486.25 1785.35 1481.67 Q1782.3 1477.06 1782.3 1468.33 Q1782.3 1459.58 1785.35 1455 Q1788.43 1450.39 1794.24 1450.39 Z\" fill=\"#ffffff\" fill-rule=\"evenodd\" fill-opacity=\"1\" /><path clip-path=\"url(#clip520)\" d=\"M923.018 1520.52 L963.217 1520.52 L963.217 1525.93 L946.348 1525.93 L946.348 1568.04 L939.887 1568.04 L939.887 1525.93 L923.018 1525.93 L923.018 1520.52 Z\" fill=\"#ffffff\" fill-rule=\"evenodd\" fill-opacity=\"1\" /><path clip-path=\"url(#clip520)\" d=\"M967.164 1532.4 L973.021 1532.4 L973.021 1568.04 L967.164 1568.04 L967.164 1532.4 M967.164 1518.52 L973.021 1518.52 L973.021 1525.93 L967.164 1525.93 L967.164 1518.52 Z\" fill=\"#ffffff\" fill-rule=\"evenodd\" fill-opacity=\"1\" /><path clip-path=\"url(#clip520)\" d=\"M1013.03 1539.24 Q1015.23 1535.29 1018.28 1533.41 Q1021.34 1531.54 1025.47 1531.54 Q1031.04 1531.54 1034.07 1535.45 Q1037.09 1539.33 1037.09 1546.53 L1037.09 1568.04 L1031.2 1568.04 L1031.2 1546.72 Q1031.2 1541.59 1029.39 1539.11 Q1027.57 1536.63 1023.85 1536.63 Q1019.3 1536.63 1016.66 1539.65 Q1014.02 1542.68 1014.02 1547.9 L1014.02 1568.04 L1008.13 1568.04 L1008.13 1546.72 Q1008.13 1541.56 1006.31 1539.11 Q1004.5 1536.63 1000.71 1536.63 Q996.224 1536.63 993.582 1539.68 Q990.94 1542.71 990.94 1547.9 L990.94 1568.04 L985.052 1568.04 L985.052 1532.4 L990.94 1532.4 L990.94 1537.93 Q992.945 1534.66 995.746 1533.1 Q998.547 1531.54 1002.4 1531.54 Q1006.28 1531.54 1008.99 1533.51 Q1011.72 1535.48 1013.03 1539.24 Z\" fill=\"#ffffff\" fill-rule=\"evenodd\" fill-opacity=\"1\" /><path clip-path=\"url(#clip520)\" d=\"M1079.26 1548.76 L1079.26 1551.62 L1052.34 1551.62 Q1052.72 1557.67 1055.97 1560.85 Q1059.24 1564 1065.07 1564 Q1068.44 1564 1071.59 1563.17 Q1074.78 1562.35 1077.9 1560.69 L1077.9 1566.23 Q1074.74 1567.57 1071.43 1568.27 Q1068.12 1568.97 1064.72 1568.97 Q1056.19 1568.97 1051.19 1564 Q1046.23 1559.04 1046.23 1550.57 Q1046.23 1541.82 1050.94 1536.69 Q1055.68 1531.54 1063.7 1531.54 Q1070.89 1531.54 1075.06 1536.18 Q1079.26 1540.8 1079.26 1548.76 M1073.41 1547.04 Q1073.34 1542.23 1070.7 1539.37 Q1068.09 1536.5 1063.76 1536.5 Q1058.86 1536.5 1055.9 1539.27 Q1052.97 1542.04 1052.53 1547.07 L1073.41 1547.04 Z\" fill=\"#ffffff\" fill-rule=\"evenodd\" fill-opacity=\"1\" /><path clip-path=\"url(#clip520)\" d=\"M1109.06 1518.52 L1122.55 1518.52 L1122.55 1523.07 L1114.91 1523.07 L1114.91 1572.09 L1122.55 1572.09 L1122.55 1576.64 L1109.06 1576.64 L1109.06 1518.52 Z\" fill=\"#ffffff\" fill-rule=\"evenodd\" fill-opacity=\"1\" /><path clip-path=\"url(#clip520)\" d=\"M1162.78 1539.24 Q1164.98 1535.29 1168.03 1533.41 Q1171.09 1531.54 1175.23 1531.54 Q1180.8 1531.54 1183.82 1535.45 Q1186.84 1539.33 1186.84 1546.53 L1186.84 1568.04 L1180.96 1568.04 L1180.96 1546.72 Q1180.96 1541.59 1179.14 1539.11 Q1177.33 1536.63 1173.6 1536.63 Q1169.05 1536.63 1166.41 1539.65 Q1163.77 1542.68 1163.77 1547.9 L1163.77 1568.04 L1157.88 1568.04 L1157.88 1546.72 Q1157.88 1541.56 1156.07 1539.11 Q1154.25 1536.63 1150.46 1536.63 Q1145.98 1536.63 1143.34 1539.68 Q1140.69 1542.71 1140.69 1547.9 L1140.69 1568.04 L1134.81 1568.04 L1134.81 1532.4 L1140.69 1532.4 L1140.69 1537.93 Q1142.7 1534.66 1145.5 1533.1 Q1148.3 1531.54 1152.15 1531.54 Q1156.03 1531.54 1158.74 1533.51 Q1161.48 1535.48 1162.78 1539.24 Z\" fill=\"#ffffff\" fill-rule=\"evenodd\" fill-opacity=\"1\" /><path clip-path=\"url(#clip520)\" d=\"M1198.53 1532.4 L1204.38 1532.4 L1204.38 1568.04 L1198.53 1568.04 L1198.53 1532.4 M1198.53 1518.52 L1204.38 1518.52 L1204.38 1525.93 L1198.53 1525.93 L1198.53 1518.52 Z\" fill=\"#ffffff\" fill-rule=\"evenodd\" fill-opacity=\"1\" /><path clip-path=\"url(#clip520)\" d=\"M1246.27 1546.53 L1246.27 1568.04 L1240.41 1568.04 L1240.41 1546.72 Q1240.41 1541.66 1238.44 1539.14 Q1236.47 1536.63 1232.52 1536.63 Q1227.78 1536.63 1225.04 1539.65 Q1222.3 1542.68 1222.3 1547.9 L1222.3 1568.04 L1216.41 1568.04 L1216.41 1532.4 L1222.3 1532.4 L1222.3 1537.93 Q1224.4 1534.72 1227.24 1533.13 Q1230.1 1531.54 1233.82 1531.54 Q1239.97 1531.54 1243.12 1535.36 Q1246.27 1539.14 1246.27 1546.53 Z\" fill=\"#ffffff\" fill-rule=\"evenodd\" fill-opacity=\"1\" /><path clip-path=\"url(#clip520)\" d=\"M1271.64 1518.52 L1271.64 1576.64 L1258.14 1576.64 L1258.14 1572.09 L1265.75 1572.09 L1265.75 1523.07 L1258.14 1523.07 L1258.14 1518.52 L1271.64 1518.52 Z\" fill=\"#ffffff\" fill-rule=\"evenodd\" fill-opacity=\"1\" /><polyline clip-path=\"url(#clip522)\" style=\"stroke:#ffffff; stroke-linecap:butt; stroke-linejoin:round; stroke-width:2; stroke-opacity:0.1; fill:none\" points=\"\n  205.121,1384.24 1989.53,1384.24 \n  \"/>\n<polyline clip-path=\"url(#clip522)\" style=\"stroke:#ffffff; stroke-linecap:butt; stroke-linejoin:round; stroke-width:2; stroke-opacity:0.1; fill:none\" points=\"\n  205.121,1059.73 1989.53,1059.73 \n  \"/>\n<polyline clip-path=\"url(#clip522)\" style=\"stroke:#ffffff; stroke-linecap:butt; stroke-linejoin:round; stroke-width:2; stroke-opacity:0.1; fill:none\" points=\"\n  205.121,735.212 1989.53,735.212 \n  \"/>\n<polyline clip-path=\"url(#clip522)\" style=\"stroke:#ffffff; stroke-linecap:butt; stroke-linejoin:round; stroke-width:2; stroke-opacity:0.1; fill:none\" points=\"\n  205.121,410.699 1989.53,410.699 \n  \"/>\n<polyline clip-path=\"url(#clip522)\" style=\"stroke:#ffffff; stroke-linecap:butt; stroke-linejoin:round; stroke-width:2; stroke-opacity:0.1; fill:none\" points=\"\n  205.121,86.1857 1989.53,86.1857 \n  \"/>\n<polyline clip-path=\"url(#clip520)\" style=\"stroke:#ffffff; stroke-linecap:butt; stroke-linejoin:round; stroke-width:4; stroke-opacity:1; fill:none\" points=\"\n  205.121,1423.18 205.121,47.2441 \n  \"/>\n<polyline clip-path=\"url(#clip520)\" style=\"stroke:#ffffff; stroke-linecap:butt; stroke-linejoin:round; stroke-width:4; stroke-opacity:1; fill:none\" points=\"\n  205.121,1384.24 220.823,1384.24 \n  \"/>\n<polyline clip-path=\"url(#clip520)\" style=\"stroke:#ffffff; stroke-linecap:butt; stroke-linejoin:round; stroke-width:4; stroke-opacity:1; fill:none\" points=\"\n  205.121,1059.73 220.823,1059.73 \n  \"/>\n<polyline clip-path=\"url(#clip520)\" style=\"stroke:#ffffff; stroke-linecap:butt; stroke-linejoin:round; stroke-width:4; stroke-opacity:1; fill:none\" points=\"\n  205.121,735.212 220.823,735.212 \n  \"/>\n<polyline clip-path=\"url(#clip520)\" style=\"stroke:#ffffff; stroke-linecap:butt; stroke-linejoin:round; stroke-width:4; stroke-opacity:1; fill:none\" points=\"\n  205.121,410.699 220.823,410.699 \n  \"/>\n<polyline clip-path=\"url(#clip520)\" style=\"stroke:#ffffff; stroke-linecap:butt; stroke-linejoin:round; stroke-width:4; stroke-opacity:1; fill:none\" points=\"\n  205.121,86.1857 220.823,86.1857 \n  \"/>\n<path clip-path=\"url(#clip520)\" d=\"M157.177 1370.04 Q153.566 1370.04 151.737 1373.6 Q149.931 1377.14 149.931 1384.27 Q149.931 1391.38 151.737 1394.94 Q153.566 1398.49 157.177 1398.49 Q160.811 1398.49 162.616 1394.94 Q164.445 1391.38 164.445 1384.27 Q164.445 1377.14 162.616 1373.6 Q160.811 1370.04 157.177 1370.04 M157.177 1366.33 Q162.987 1366.33 166.042 1370.94 Q169.121 1375.52 169.121 1384.27 Q169.121 1393 166.042 1397.61 Q162.987 1402.19 157.177 1402.19 Q151.366 1402.19 148.288 1397.61 Q145.232 1393 145.232 1384.27 Q145.232 1375.52 148.288 1370.94 Q151.366 1366.33 157.177 1366.33 Z\" fill=\"#ffffff\" fill-rule=\"evenodd\" fill-opacity=\"1\" /><path clip-path=\"url(#clip520)\" d=\"M117.825 1073.07 L125.464 1073.07 L125.464 1046.7 L117.154 1048.37 L117.154 1044.11 L125.418 1042.45 L130.093 1042.45 L130.093 1073.07 L137.732 1073.07 L137.732 1077.01 L117.825 1077.01 L117.825 1073.07 Z\" fill=\"#ffffff\" fill-rule=\"evenodd\" fill-opacity=\"1\" /><path clip-path=\"url(#clip520)\" d=\"M157.177 1045.52 Q153.566 1045.52 151.737 1049.09 Q149.931 1052.63 149.931 1059.76 Q149.931 1066.87 151.737 1070.43 Q153.566 1073.97 157.177 1073.97 Q160.811 1073.97 162.616 1070.43 Q164.445 1066.87 164.445 1059.76 Q164.445 1052.63 162.616 1049.09 Q160.811 1045.52 157.177 1045.52 M157.177 1041.82 Q162.987 1041.82 166.042 1046.43 Q169.121 1051.01 169.121 1059.76 Q169.121 1068.49 166.042 1073.09 Q162.987 1077.68 157.177 1077.68 Q151.366 1077.68 148.288 1073.09 Q145.232 1068.49 145.232 1059.76 Q145.232 1051.01 148.288 1046.43 Q151.366 1041.82 157.177 1041.82 Z\" fill=\"#ffffff\" fill-rule=\"evenodd\" fill-opacity=\"1\" /><path clip-path=\"url(#clip520)\" d=\"M121.043 748.557 L137.362 748.557 L137.362 752.492 L115.418 752.492 L115.418 748.557 Q118.08 745.802 122.663 741.173 Q127.269 736.52 128.45 735.177 Q130.695 732.654 131.575 730.918 Q132.478 729.159 132.478 727.469 Q132.478 724.714 130.533 722.978 Q128.612 721.242 125.51 721.242 Q123.311 721.242 120.857 722.006 Q118.427 722.77 115.649 724.321 L115.649 719.599 Q118.473 718.464 120.927 717.886 Q123.38 717.307 125.418 717.307 Q130.788 717.307 133.982 719.992 Q137.177 722.677 137.177 727.168 Q137.177 729.298 136.367 731.219 Q135.579 733.117 133.473 735.71 Q132.894 736.381 129.792 739.599 Q126.691 742.793 121.043 748.557 Z\" fill=\"#ffffff\" fill-rule=\"evenodd\" fill-opacity=\"1\" /><path clip-path=\"url(#clip520)\" d=\"M157.177 721.011 Q153.566 721.011 151.737 724.575 Q149.931 728.117 149.931 735.247 Q149.931 742.353 151.737 745.918 Q153.566 749.46 157.177 749.46 Q160.811 749.46 162.616 745.918 Q164.445 742.353 164.445 735.247 Q164.445 728.117 162.616 724.575 Q160.811 721.011 157.177 721.011 M157.177 717.307 Q162.987 717.307 166.042 721.913 Q169.121 726.497 169.121 735.247 Q169.121 743.973 166.042 748.58 Q162.987 753.163 157.177 753.163 Q151.366 753.163 148.288 748.58 Q145.232 743.973 145.232 735.247 Q145.232 726.497 148.288 721.913 Q151.366 717.307 157.177 717.307 Z\" fill=\"#ffffff\" fill-rule=\"evenodd\" fill-opacity=\"1\" /><path clip-path=\"url(#clip520)\" d=\"M131.181 409.345 Q134.538 410.062 136.413 412.331 Q138.311 414.599 138.311 417.933 Q138.311 423.048 134.792 425.849 Q131.274 428.65 124.793 428.65 Q122.617 428.65 120.302 428.21 Q118.01 427.794 115.556 426.937 L115.556 422.423 Q117.501 423.558 119.816 424.136 Q122.13 424.715 124.654 424.715 Q129.052 424.715 131.343 422.979 Q133.658 421.243 133.658 417.933 Q133.658 414.877 131.505 413.164 Q129.376 411.428 125.556 411.428 L121.529 411.428 L121.529 407.585 L125.742 407.585 Q129.191 407.585 131.019 406.22 Q132.848 404.831 132.848 402.238 Q132.848 399.576 130.95 398.164 Q129.075 396.729 125.556 396.729 Q123.635 396.729 121.436 397.146 Q119.237 397.562 116.598 398.442 L116.598 394.275 Q119.26 393.535 121.575 393.164 Q123.913 392.794 125.973 392.794 Q131.297 392.794 134.399 395.224 Q137.501 397.632 137.501 401.752 Q137.501 404.622 135.857 406.613 Q134.214 408.581 131.181 409.345 Z\" fill=\"#ffffff\" fill-rule=\"evenodd\" fill-opacity=\"1\" /><path clip-path=\"url(#clip520)\" d=\"M157.177 396.498 Q153.566 396.498 151.737 400.062 Q149.931 403.604 149.931 410.734 Q149.931 417.84 151.737 421.405 Q153.566 424.946 157.177 424.946 Q160.811 424.946 162.616 421.405 Q164.445 417.84 164.445 410.734 Q164.445 403.604 162.616 400.062 Q160.811 396.498 157.177 396.498 M157.177 392.794 Q162.987 392.794 166.042 397.4 Q169.121 401.984 169.121 410.734 Q169.121 419.46 166.042 424.067 Q162.987 428.65 157.177 428.65 Q151.366 428.65 148.288 424.067 Q145.232 419.46 145.232 410.734 Q145.232 401.984 148.288 397.4 Q151.366 392.794 157.177 392.794 Z\" fill=\"#ffffff\" fill-rule=\"evenodd\" fill-opacity=\"1\" /><path clip-path=\"url(#clip520)\" d=\"M129.862 72.9797 L118.056 91.4287 L129.862 91.4287 L129.862 72.9797 M128.635 68.9057 L134.515 68.9057 L134.515 91.4287 L139.445 91.4287 L139.445 95.3176 L134.515 95.3176 L134.515 103.466 L129.862 103.466 L129.862 95.3176 L114.26 95.3176 L114.26 90.8037 L128.635 68.9057 Z\" fill=\"#ffffff\" fill-rule=\"evenodd\" fill-opacity=\"1\" /><path clip-path=\"url(#clip520)\" d=\"M157.177 71.9844 Q153.566 71.9844 151.737 75.5492 Q149.931 79.0908 149.931 86.2204 Q149.931 93.3268 151.737 96.8916 Q153.566 100.433 157.177 100.433 Q160.811 100.433 162.616 96.8916 Q164.445 93.3268 164.445 86.2204 Q164.445 79.0908 162.616 75.5492 Q160.811 71.9844 157.177 71.9844 M157.177 68.2807 Q162.987 68.2807 166.042 72.8871 Q169.121 77.4704 169.121 86.2204 Q169.121 94.9472 166.042 99.5537 Q162.987 104.137 157.177 104.137 Q151.366 104.137 148.288 99.5537 Q145.232 94.9472 145.232 86.2204 Q145.232 77.4704 148.288 72.8871 Q151.366 68.2807 157.177 68.2807 Z\" fill=\"#ffffff\" fill-rule=\"evenodd\" fill-opacity=\"1\" /><path clip-path=\"url(#clip520)\" d=\"M16.4842 925.722 L16.4842 919.292 L64.0042 919.292 L64.0042 925.722 L16.4842 925.722 Z\" fill=\"#ffffff\" fill-rule=\"evenodd\" fill-opacity=\"1\" /><path clip-path=\"url(#clip520)\" d=\"M20.1444 870.913 L26.9239 870.913 Q23.9002 874.159 22.4043 877.852 Q20.9083 881.512 20.9083 885.65 Q20.9083 893.798 25.9054 898.126 Q30.8707 902.455 40.2919 902.455 Q49.6813 902.455 54.6784 898.126 Q59.6436 893.798 59.6436 885.65 Q59.6436 881.512 58.1477 877.852 Q56.6518 874.159 53.6281 870.913 L60.3439 870.913 Q62.6355 874.287 63.7814 878.074 Q64.9272 881.83 64.9272 886.031 Q64.9272 896.821 58.3387 903.028 Q51.7183 909.234 40.2919 909.234 Q28.8336 909.234 22.2451 903.028 Q15.6248 896.821 15.6248 886.031 Q15.6248 881.766 16.7706 878.011 Q17.8846 874.223 20.1444 870.913 Z\" fill=\"#ffffff\" fill-rule=\"evenodd\" fill-opacity=\"1\" /><path clip-path=\"url(#clip520)\" d=\"M21.7677 854.553 L39.6235 854.553 L39.6235 846.469 Q39.6235 841.981 37.3 839.53 Q34.9765 837.079 30.6797 837.079 Q26.4147 837.079 24.0912 839.53 Q21.7677 841.981 21.7677 846.469 L21.7677 854.553 M16.4842 860.982 L16.4842 846.469 Q16.4842 838.48 20.1126 834.406 Q23.7092 830.3 30.6797 830.3 Q37.7138 830.3 41.3104 834.406 Q44.907 838.48 44.907 846.469 L44.907 854.553 L64.0042 854.553 L64.0042 860.982 L16.4842 860.982 Z\" fill=\"#ffffff\" fill-rule=\"evenodd\" fill-opacity=\"1\" /><path clip-path=\"url(#clip520)\" d=\"M14.479 801.75 L14.479 788.254 L19.0304 788.254 L19.0304 795.893 L68.0464 795.893 L68.0464 788.254 L72.5979 788.254 L72.5979 801.75 L14.479 801.75 Z\" fill=\"#ffffff\" fill-rule=\"evenodd\" fill-opacity=\"1\" /><path clip-path=\"url(#clip520)\" d=\"M35.1993 748.023 Q31.2526 745.827 29.3747 742.771 Q27.4968 739.716 27.4968 735.578 Q27.4968 730.008 31.4117 726.984 Q35.2948 723.961 42.4881 723.961 L64.0042 723.961 L64.0042 729.849 L42.679 729.849 Q37.5546 729.849 35.072 731.663 Q32.5894 733.477 32.5894 737.201 Q32.5894 741.753 35.6131 744.395 Q38.6368 747.036 43.8567 747.036 L64.0042 747.036 L64.0042 752.925 L42.679 752.925 Q37.5228 752.925 35.072 754.739 Q32.5894 756.553 32.5894 760.341 Q32.5894 764.828 35.6449 767.47 Q38.6686 770.112 43.8567 770.112 L64.0042 770.112 L64.0042 776 L28.3562 776 L28.3562 770.112 L33.8944 770.112 Q30.616 768.107 29.0564 765.306 Q27.4968 762.505 27.4968 758.654 Q27.4968 754.771 29.4702 752.065 Q31.4436 749.328 35.1993 748.023 Z\" fill=\"#ffffff\" fill-rule=\"evenodd\" fill-opacity=\"1\" /><path clip-path=\"url(#clip520)\" d=\"M35.1993 684.525 Q31.2526 682.329 29.3747 679.273 Q27.4968 676.218 27.4968 672.08 Q27.4968 666.51 31.4117 663.486 Q35.2948 660.463 42.4881 660.463 L64.0042 660.463 L64.0042 666.351 L42.679 666.351 Q37.5546 666.351 35.072 668.165 Q32.5894 669.979 32.5894 673.703 Q32.5894 678.255 35.6131 680.897 Q38.6368 683.538 43.8567 683.538 L64.0042 683.538 L64.0042 689.427 L42.679 689.427 Q37.5228 689.427 35.072 691.241 Q32.5894 693.055 32.5894 696.843 Q32.5894 701.33 35.6449 703.972 Q38.6686 706.614 43.8567 706.614 L64.0042 706.614 L64.0042 712.502 L28.3562 712.502 L28.3562 706.614 L33.8944 706.614 Q30.616 704.609 29.0564 701.808 Q27.4968 699.007 27.4968 695.156 Q27.4968 691.273 29.4702 688.567 Q31.4436 685.83 35.1993 684.525 Z\" fill=\"#ffffff\" fill-rule=\"evenodd\" fill-opacity=\"1\" /><path clip-path=\"url(#clip520)\" d=\"M16.4842 648.527 L16.4842 642.098 L35.9632 642.098 L35.9632 618.735 L16.4842 618.735 L16.4842 612.306 L64.0042 612.306 L64.0042 618.735 L41.3741 618.735 L41.3741 642.098 L64.0042 642.098 L64.0042 648.527 L16.4842 648.527 Z\" fill=\"#ffffff\" fill-rule=\"evenodd\" fill-opacity=\"1\" /><path clip-path=\"url(#clip520)\" d=\"M45.7664 576.308 Q39.4007 576.308 35.8996 578.95 Q32.3984 581.56 32.3984 586.302 Q32.3984 591.013 35.8996 593.655 Q39.4007 596.265 45.7664 596.265 Q52.1003 596.265 55.6014 593.655 Q59.1026 591.013 59.1026 586.302 Q59.1026 581.56 55.6014 578.95 Q52.1003 576.308 45.7664 576.308 M59.58 570.452 Q68.683 570.452 73.1071 574.494 Q77.5631 578.536 77.5631 586.875 Q77.5631 589.962 77.0857 592.7 Q76.6401 595.437 75.6852 598.015 L69.9879 598.015 Q71.3884 595.437 72.0568 592.923 Q72.7252 590.408 72.7252 587.798 Q72.7252 582.037 69.7015 579.173 Q66.7096 576.308 60.6303 576.308 L57.7339 576.308 Q60.885 578.122 62.4446 580.955 Q64.0042 583.788 64.0042 587.734 Q64.0042 594.291 59.0071 598.302 Q54.01 602.312 45.7664 602.312 Q37.491 602.312 32.4939 598.302 Q27.4968 594.291 27.4968 587.734 Q27.4968 583.788 29.0564 580.955 Q30.616 578.122 33.7671 576.308 L28.3562 576.308 L28.3562 570.452 L59.58 570.452 Z\" fill=\"#ffffff\" fill-rule=\"evenodd\" fill-opacity=\"1\" /><path clip-path=\"url(#clip520)\" d=\"M14.479 544.702 L72.5979 544.702 L72.5979 558.198 L68.0464 558.198 L68.0464 550.591 L19.0304 550.591 L19.0304 558.198 L14.479 558.198 L14.479 544.702 Z\" fill=\"#ffffff\" fill-rule=\"evenodd\" fill-opacity=\"1\" /><polyline clip-path=\"url(#clip522)\" style=\"stroke:#5f9ea0; stroke-linecap:butt; stroke-linejoin:round; stroke-width:8; stroke-opacity:1; fill:none\" points=\"\n  255.623,1367.21 265.703,1343.03 275.784,1294.15 285.864,1334.97 295.944,1309.23 306.025,1342.66 316.105,1287.03 326.185,1334.05 336.265,1274.03 346.346,1293.82 \n  356.426,1260.15 366.506,1259.47 376.587,1274.59 386.667,1236.54 396.747,1285.85 406.827,1286.54 416.908,1306.73 426.988,1293.74 437.068,1285.36 447.149,1300.73 \n  457.229,1292.12 467.309,1325.17 477.389,1272.06 487.47,1311.06 497.55,1299.39 507.63,1326.01 517.711,1295.86 527.791,1323.39 537.871,1294.94 547.951,1327.14 \n  558.032,1245.35 568.112,1291.95 578.192,1301.92 588.273,1317.9 598.353,1315.63 608.433,1306.55 618.513,1359.21 628.594,1305 638.674,1371.7 648.754,1328.88 \n  658.835,1381.49 668.915,1361.96 678.995,1374.32 689.075,1289.06 699.156,1280.48 709.236,1335.27 719.316,1295.28 729.397,1292.89 739.477,1295.35 749.557,1298.5 \n  759.637,1271.24 769.718,1254.47 779.798,1254.93 789.878,1238.72 799.959,1208.25 810.039,1177.45 820.119,1206.61 830.199,1173.4 840.28,1209.13 850.36,1145.36 \n  860.44,1204.4 870.521,1179.01 880.601,1205.51 890.681,1176.22 900.761,1223.74 910.842,1201.55 920.922,1214.44 931.002,1192.96 941.083,1192.28 951.163,1190.18 \n  961.243,1169.16 971.323,1156.01 981.404,1138.62 991.484,1178.83 1001.56,1082.17 1011.64,1176.69 1021.72,1157.19 1031.81,1141.02 1041.89,1154.89 1051.97,1167.69 \n  1062.05,1134.58 1072.13,1064.56 1082.21,1162.53 1092.29,1190.58 1102.37,1105.71 1112.45,1129.34 1122.53,1164.67 1132.61,1080.05 1142.69,1140.25 1152.77,1115.25 \n  1162.85,1113.84 1172.93,1093.71 1183.01,1052.19 1193.09,1008.26 1203.17,1019.92 1213.25,923.499 1223.33,883.251 1233.41,904.405 1243.49,903.659 1253.57,964.067 \n  1263.65,900.044 1273.73,871.345 1283.81,673.725 1293.89,813.383 1303.97,882.139 1314.05,966.265 1324.13,890.175 1334.21,890.69 1344.29,855.043 1354.37,936.495 \n  1364.45,478.822 1374.53,766.296 1384.62,948.145 1394.7,794.01 1404.78,787.211 1414.86,842.679 1424.94,951.772 1435.02,796.362 1445.1,805.274 1455.18,786.083 \n  1465.26,802.078 1475.34,780.676 1485.42,819.914 1495.5,898.957 1505.58,890.926 1515.66,797.214 1525.74,828.7 1535.82,870.1 1545.9,902.88 1555.98,908.141 \n  1566.06,900.377 1576.14,901.261 1586.22,941.359 1596.3,944.361 1606.38,842.914 1616.46,957.832 1626.54,886.021 1636.62,959.134 1646.7,817.817 1656.78,820.247 \n  1666.86,743.637 1676.94,801.425 1687.02,655.179 1697.1,716.845 1707.18,706.383 1717.26,751.06 1727.34,679.98 1737.43,739.345 1747.51,688.149 1757.59,568.903 \n  1767.67,558.936 1777.75,587.368 1787.83,646.888 1797.91,625.393 1807.99,692.518 1818.07,628.735 1828.15,551.473 1838.23,645.691 1848.31,679.104 1858.39,682.162 \n  1868.47,677.161 1878.55,582.743 1888.63,654.554 1898.71,715.486 1908.79,674.893 1918.87,568.323 1928.95,675.36 1939.03,700.951 \n  \"/>\n<polyline clip-path=\"url(#clip522)\" style=\"stroke:#ffa500; stroke-linecap:butt; stroke-linejoin:round; stroke-width:8; stroke-opacity:1; fill:none\" stroke-dasharray=\"32, 20\" points=\"\n  255.623,1193.1 265.703,1193.1 275.784,1193.1 285.864,1193.1 295.944,1193.1 306.025,1193.1 316.105,1193.1 326.185,1193.1 336.265,1193.1 346.346,1193.1 \n  356.426,1193.1 366.506,1193.1 376.587,1193.1 386.667,1193.1 396.747,1193.1 406.827,1193.1 416.908,1193.1 426.988,1193.1 437.068,1193.1 447.149,1193.1 \n  457.229,1193.1 467.309,1193.1 477.389,1193.1 487.47,1193.1 497.55,1193.1 507.63,1193.1 517.711,1193.1 527.791,1193.1 537.871,1193.1 547.951,1193.1 \n  558.032,1193.1 568.112,1193.1 578.192,1193.1 588.273,1193.1 598.353,1193.1 608.433,1193.1 618.513,1193.1 628.594,1193.1 638.674,1193.1 648.754,1193.1 \n  658.835,1193.1 668.915,1193.1 678.995,1193.1 689.075,1193.1 699.156,1193.1 709.236,1193.1 719.316,1193.1 729.397,1193.1 739.477,1193.1 749.557,1193.1 \n  759.637,1193.1 769.718,1193.1 779.798,1193.1 789.878,1193.1 799.959,1193.1 810.039,1193.1 820.119,1193.1 830.199,1193.1 840.28,1193.1 850.36,1193.1 \n  860.44,1193.1 870.521,1193.1 880.601,1193.1 890.681,1193.1 900.761,1193.1 910.842,1193.1 920.922,1193.1 931.002,1193.1 941.083,1193.1 951.163,1234.63 \n  961.243,1193.1 971.323,1146.05 981.404,1092.75 991.484,1032.38 1001.56,963.989 1011.64,886.534 1021.72,798.815 1031.81,699.483 1041.89,587.015 1051.97,459.69 \n  1062.05,315.566 1072.13,152.456 1082.21,-32.1063 1092.29,-240.897 1102.37,-477.038 1112.45,-744.037 1122.53,-1045.83 1132.61,-1386.84 1142.69,-1771.99 1152.77,-2206.81 \n  1162.85,-2697.45 1172.93,-3250.76 1183.01,-3874.32 1193.09,-4576.55 1203.17,-5366.71 1213.25,-6254.99 1223.33,-7252.52 1233.41,-8371.42 1243.49,-9624.81 1253.57,-11026.8 \n  1263.65,-12592.3 1273.73,-14337.3 1283.81,-16278.4 1293.89,-18432.5 1303.97,-20817.1 1314.05,-23449.3 1324.13,-26346 1334.21,-29522.8 1344.29,-32993.7 1354.37,-36770.5 \n  1364.45,-40862 1374.53,-45272.9 1384.62,-50003.8 1394.7,-55049.4 1404.78,-60399 1414.86,-66035.2 1424.94,-71934.2 1435.02,-78065.4 1445.1,-84392.2 1455.18,-90872.4 \n  1465.26,-97459.3 1475.34,-104103 1485.42,-110752 1495.5,-117354 1505.58,-123859 1515.66,-130220 1525.74,-136393 1535.82,-142340 1545.9,-148031 1555.98,-153438 \n  1566.06,-158545 1576.14,-163339 1586.22,-167813 1596.3,-171967 1606.38,-175806 1616.46,-179336 1626.54,-182570 1636.62,-185521 1646.7,-188204 1656.78,-190636 \n  1666.86,-192835 1676.94,-194816 1687.02,-196599 1697.1,-198199 1707.18,-199632 1717.26,-200913 1727.34,-202058 1737.43,-203078 1747.51,-203987 1757.59,-204796 \n  1767.67,-205515 1777.75,-206153 1787.83,-206720 1797.91,-207222 1807.99,-207667 1818.07,-208062 1828.15,-208411 1838.23,-208721 1848.31,-208994 1858.39,-209236 \n  1868.47,-209450 1878.55,-209639 1888.63,-209806 1898.71,-209806 1908.79,-209806 1918.87,-209806 1928.95,-209806 1939.03,-209806 \n  \"/>\n<polyline clip-path=\"url(#clip522)\" style=\"stroke:#008000; stroke-linecap:butt; stroke-linejoin:round; stroke-width:8; stroke-opacity:1; fill:none\" points=\"\n  255.623,1193.1 265.703,1193.1 275.784,1193.1 285.864,1193.1 295.944,1193.1 306.025,1193.1 316.105,1193.1 326.185,1193.1 336.265,1193.1 346.346,1193.1 \n  356.426,1193.1 366.506,1193.1 376.587,1193.1 386.667,1193.1 396.747,1193.1 406.827,1193.1 416.908,1193.1 426.988,1193.1 437.068,1193.1 447.149,1304.53 \n  457.229,1304.88 467.309,1305.36 477.389,1307.36 487.47,1306.21 497.55,1305.5 507.63,1305.31 517.711,1305.52 527.791,1304.49 537.871,1305.02 547.951,1305.14 \n  558.032,1305.42 568.112,1305.29 578.192,1304.8 588.273,1304.85 598.353,1302.91 608.433,1300.19 618.513,1297.68 628.594,1294.67 638.674,1292.77 648.754,1288.88 \n  658.835,1286.69 668.915,1283.04 678.995,1281.37 689.075,1278 699.156,1276.11 709.236,1273 719.316,1270.96 729.397,1267.7 739.477,1265.14 749.557,1261.71 \n  759.637,1259.81 769.718,1256.41 779.798,1252.33 789.878,1248.85 799.959,1243.01 810.039,1239.77 820.119,1234.72 830.199,1230.62 840.28,1225.2 850.36,1221.17 \n  860.44,1215 870.521,1207.56 880.601,1202.27 890.681,1199.8 900.761,1195.43 910.842,1190.29 920.922,1187.02 931.002,1181.7 941.083,1177.82 951.163,1173.24 \n  961.243,1169.31 971.323,1165.29 981.404,1160.22 991.484,1154.46 1001.56,1149.75 1011.64,1143.4 1021.72,1135.32 1031.81,1128.59 1041.89,1120.95 1051.97,1116.42 \n  1062.05,1108.81 1072.13,1101.12 1082.21,1087.83 1092.29,1078.76 1102.37,1070.22 1112.45,1064.33 1122.53,1056.23 1132.61,1048.67 1142.69,1040.24 1152.77,1033.9 \n  1162.85,1016.64 1172.93,1006.9 1183.01,1002.13 1193.09,992.514 1203.17,985.14 1213.25,976.79 1223.33,971.654 1233.41,963.038 1243.49,954.297 1253.57,944.757 \n  1263.65,936.445 1273.73,929.348 1283.81,920.782 1293.89,913.492 1303.97,908.122 1314.05,899.819 1324.13,891.42 1334.21,886.171 1344.29,880.237 1354.37,875.059 \n  1364.45,869.722 1374.53,864.911 1384.62,862.14 1394.7,860.543 1404.78,856.117 1414.86,856.976 1424.94,857.045 1435.02,858.413 1445.1,856.267 1455.18,852.672 \n  1465.26,848.762 1475.34,847.014 1485.42,846.55 1495.5,844.136 1505.58,839.743 1515.66,834.362 1525.74,829.108 1535.82,825.324 1545.9,821.152 1555.98,811.962 \n  1566.06,813.965 1576.14,809.491 1586.22,801.96 1596.3,797.745 1606.38,795.377 1616.46,790.029 1626.54,780.021 1636.62,776.254 1646.7,773.1 1656.78,770.502 \n  1666.86,767.379 1676.94,762.431 1687.02,758.297 1697.1,753.71 1707.18,748.309 1717.26,742.587 1727.34,738.753 1737.43,734.525 1747.51,729.907 1757.59,726.112 \n  1767.67,718.926 1777.75,712.788 1787.83,701.285 1797.91,692.737 1807.99,683.971 1818.07,674.234 1828.15,661.573 1838.23,651.292 1848.31,644.864 1858.39,643.625 \n  1868.47,642.363 1878.55,642.687 1888.63,647.504 1898.71,650.165 1908.79,651.026 1918.87,649.205 1928.95,650.082 1939.03,649.582 1949.11,650.482 1959.19,652.34 \n  1969.27,657.297 1979.35,663.042 1989.43,667.239 1999.51,671.981 2009.59,676.103 2019.67,681.31 2029.75,689.576 2039.83,694.824 2049.91,1193.1 2059.99,1193.1 \n  2070.07,1193.1 2080.15,1193.1 2090.24,1193.1 2100.32,1193.1 2110.4,1193.1 2120.48,1193.1 2130.56,1193.1 2140.64,1193.1 2150.72,1193.1 2160.8,1193.1 \n  2170.88,1193.1 2180.96,1193.1 2191.04,1193.1 2201.12,1193.1 2211.2,1193.1 2221.28,1193.1 2231.36,1193.1 2241.44,1193.1 \n  \"/>\n<path clip-path=\"url(#clip520)\" d=\"\nM2061.12 300.469 L2352.76 300.469 L2352.76 93.1086 L2061.12 93.1086  Z\n  \" fill=\"#000000\" fill-rule=\"evenodd\" fill-opacity=\"0\"/>\n<polyline clip-path=\"url(#clip520)\" style=\"stroke:#ffffff; stroke-linecap:butt; stroke-linejoin:round; stroke-width:4; stroke-opacity:1; fill:none\" points=\"\n  2061.12,300.469 2352.76,300.469 2352.76,93.1086 2061.12,93.1086 2061.12,300.469 \n  \"/>\n<polyline clip-path=\"url(#clip520)\" style=\"stroke:#5f9ea0; stroke-linecap:butt; stroke-linejoin:round; stroke-width:4; stroke-opacity:1; fill:none\" points=\"\n  2084.98,144.949 2228.16,144.949 \n  \"/>\n<path clip-path=\"url(#clip520)\" d=\"M2265.86 164.636 Q2264.06 169.266 2262.35 170.678 Q2260.63 172.09 2257.76 172.09 L2254.36 172.09 L2254.36 168.525 L2256.86 168.525 Q2258.62 168.525 2259.59 167.692 Q2260.56 166.858 2261.74 163.756 L2262.51 161.812 L2252.02 136.303 L2256.54 136.303 L2264.64 156.581 L2272.74 136.303 L2277.25 136.303 L2265.86 164.636 Z\" fill=\"#ffffff\" fill-rule=\"evenodd\" fill-opacity=\"1\" /><path clip-path=\"url(#clip520)\" d=\"M2284.54 158.293 L2292.18 158.293 L2292.18 131.928 L2283.87 133.595 L2283.87 129.335 L2292.14 127.669 L2296.81 127.669 L2296.81 158.293 L2304.45 158.293 L2304.45 162.229 L2284.54 162.229 L2284.54 158.293 Z\" fill=\"#ffffff\" fill-rule=\"evenodd\" fill-opacity=\"1\" /><polyline clip-path=\"url(#clip520)\" style=\"stroke:#ffa500; stroke-linecap:butt; stroke-linejoin:round; stroke-width:4; stroke-opacity:1; fill:none\" stroke-dasharray=\"16, 10\" points=\"\n  2084.98,196.789 2228.16,196.789 \n  \"/>\n<path clip-path=\"url(#clip520)\" d=\"M2265.86 216.476 Q2264.06 221.106 2262.35 222.518 Q2260.63 223.93 2257.76 223.93 L2254.36 223.93 L2254.36 220.365 L2256.86 220.365 Q2258.62 220.365 2259.59 219.532 Q2260.56 218.698 2261.74 215.596 L2262.51 213.652 L2252.02 188.143 L2256.54 188.143 L2264.64 208.421 L2272.74 188.143 L2277.25 188.143 L2265.86 216.476 Z\" fill=\"#ffffff\" fill-rule=\"evenodd\" fill-opacity=\"1\" /><path clip-path=\"url(#clip520)\" d=\"M2287.76 210.133 L2304.08 210.133 L2304.08 214.069 L2282.14 214.069 L2282.14 210.133 Q2284.8 207.379 2289.38 202.749 Q2293.99 198.096 2295.17 196.754 Q2297.41 194.231 2298.29 192.495 Q2299.2 190.735 2299.2 189.046 Q2299.2 186.291 2297.25 184.555 Q2295.33 182.819 2292.23 182.819 Q2290.03 182.819 2287.58 183.583 Q2285.15 184.347 2282.37 185.897 L2282.37 181.175 Q2285.19 180.041 2287.65 179.462 Q2290.1 178.884 2292.14 178.884 Q2297.51 178.884 2300.7 181.569 Q2303.9 184.254 2303.9 188.745 Q2303.9 190.874 2303.09 192.796 Q2302.3 194.694 2300.19 197.286 Q2299.61 197.958 2296.51 201.175 Q2293.41 204.37 2287.76 210.133 Z\" fill=\"#ffffff\" fill-rule=\"evenodd\" fill-opacity=\"1\" /><polyline clip-path=\"url(#clip520)\" style=\"stroke:#008000; stroke-linecap:butt; stroke-linejoin:round; stroke-width:4; stroke-opacity:1; fill:none\" points=\"\n  2084.98,248.629 2228.16,248.629 \n  \"/>\n<path clip-path=\"url(#clip520)\" d=\"M2265.86 268.316 Q2264.06 272.946 2262.35 274.358 Q2260.63 275.77 2257.76 275.77 L2254.36 275.77 L2254.36 272.205 L2256.86 272.205 Q2258.62 272.205 2259.59 271.372 Q2260.56 270.538 2261.74 267.436 L2262.51 265.492 L2252.02 239.983 L2256.54 239.983 L2264.64 260.261 L2272.74 239.983 L2277.25 239.983 L2265.86 268.316 Z\" fill=\"#ffffff\" fill-rule=\"evenodd\" fill-opacity=\"1\" /><path clip-path=\"url(#clip520)\" d=\"M2297.9 247.274 Q2301.26 247.992 2303.13 250.261 Q2305.03 252.529 2305.03 255.862 Q2305.03 260.978 2301.51 263.779 Q2297.99 266.58 2291.51 266.58 Q2289.34 266.58 2287.02 266.14 Q2284.73 265.723 2282.28 264.867 L2282.28 260.353 Q2284.22 261.487 2286.54 262.066 Q2288.85 262.645 2291.37 262.645 Q2295.77 262.645 2298.06 260.909 Q2300.38 259.173 2300.38 255.862 Q2300.38 252.807 2298.23 251.094 Q2296.1 249.358 2292.28 249.358 L2288.25 249.358 L2288.25 245.515 L2292.46 245.515 Q2295.91 245.515 2297.74 244.149 Q2299.57 242.761 2299.57 240.168 Q2299.57 237.506 2297.67 236.094 Q2295.79 234.659 2292.28 234.659 Q2290.35 234.659 2288.16 235.075 Q2285.96 235.492 2283.32 236.372 L2283.32 232.205 Q2285.98 231.464 2288.29 231.094 Q2290.63 230.724 2292.69 230.724 Q2298.02 230.724 2301.12 233.154 Q2304.22 235.562 2304.22 239.682 Q2304.22 242.552 2302.58 244.543 Q2300.93 246.511 2297.9 247.274 Z\" fill=\"#ffffff\" fill-rule=\"evenodd\" fill-opacity=\"1\" /></svg>\n"
               },
               "type": "node"
              }
             ],
             "instanceArgs": {
              "namespace": "html",
              "tag": "div"
             },
             "nodeType": "DOM",
             "props": {
              "className": "interact-flex-row interact-widget"
             },
             "type": "node"
            }
           }
          },
          "systemjs_options": null
         },
         "nodeType": "Scope",
         "props": {},
         "type": "node"
        }
       ],
       "instanceArgs": {
        "namespace": "html",
        "tag": "div"
       },
       "nodeType": "DOM",
       "props": {},
       "type": "node"
      },
      "text/html": [
       "<div\n",
       "    class=\"webio-mountpoint\"\n",
       "    data-webio-mountpoint=\"4180318824704507664\"\n",
       ">\n",
       "    <script>\n",
       "    (function(){\n",
       "    // Some integrations (namely, IJulia/Jupyter) use an alternate render pathway than\n",
       "    // just putting the html on the page. If WebIO isn't defined, then it's pretty likely\n",
       "    // that we're in one of those situations and the integration just isn't installed\n",
       "    // correctly.\n",
       "    if (typeof window.WebIO === \"undefined\") {\n",
       "        document\n",
       "            .querySelector('[data-webio-mountpoint=\"4180318824704507664\"]')\n",
       "            .innerHTML = (\n",
       "                '<div style=\"padding: 1em; background-color: #f8d6da; border: 1px solid #f5c6cb; font-weight: bold;\">' +\n",
       "                '<p><strong>WebIO not detected.</strong></p>' +\n",
       "                '<p>Please read ' +\n",
       "                '<a href=\"https://juliagizmos.github.io/WebIO.jl/latest/troubleshooting/not-detected/\" target=\"_blank\">the troubleshooting guide</a> ' +\n",
       "                'for more information on how to resolve this issue.</p>' +\n",
       "                '<p><a href=\"https://juliagizmos.github.io/WebIO.jl/latest/troubleshooting/not-detected/\" target=\"_blank\">https://juliagizmos.github.io/WebIO.jl/latest/troubleshooting/not-detected/</a></p>' +\n",
       "                '</div>'\n",
       "            );\n",
       "        return;\n",
       "    }\n",
       "    WebIO.mount(\n",
       "        document.querySelector('[data-webio-mountpoint=\"4180318824704507664\"]'),\n",
       "        {\"props\":{},\"nodeType\":\"DOM\",\"type\":\"node\",\"instanceArgs\":{\"namespace\":\"html\",\"tag\":\"div\"},\"children\":[{\"props\":{\"className\":\"field interact-widget\"},\"nodeType\":\"DOM\",\"type\":\"node\",\"instanceArgs\":{\"namespace\":\"html\",\"tag\":\"div\"},\"children\":[{\"props\":{},\"nodeType\":\"Scope\",\"type\":\"node\",\"instanceArgs\":{\"imports\":{\"data\":[{\"name\":\"knockout\",\"type\":\"js\",\"url\":\"\\/assetserver\\/f0e307cd5d087b1b010b519eb389773e9d1dbc0e-knockout.js\"},{\"name\":\"knockout_punches\",\"type\":\"js\",\"url\":\"\\/assetserver\\/23ffb9c4761cb32a945e3c5534ef4f0e0ebff3a5-knockout_punches.js\"},{\"name\":null,\"type\":\"js\",\"url\":\"\\/assetserver\\/d056f31abc9e8c4005d299fc969e049f45bc15ce-all.js\"},{\"name\":null,\"type\":\"css\",\"url\":\"\\/assetserver\\/d7ee02a10676da192d5a9d9e6fbf1d45a9efdd47-style.css\"},{\"name\":null,\"type\":\"css\",\"url\":\"\\/assetserver\\/216a7e9e026462ee34f429556dd6471399a37027-bulma_confined.min.css\"}],\"type\":\"async_block\"},\"id\":\"12488020449996252019\",\"handlers\":{\"changes\":[\"(function (val){return (val!=this.model[\\\"changes\\\"]()) ? (this.valueFromJulia[\\\"changes\\\"]=true, this.model[\\\"changes\\\"](val)) : undefined})\"],\"index\":[\"(function (val){return (val!=this.model[\\\"index\\\"]()) ? (this.valueFromJulia[\\\"index\\\"]=true, this.model[\\\"index\\\"](val)) : undefined})\"]},\"systemjs_options\":null,\"mount_callbacks\":[\"function () {\\n    var handler = (function (ko, koPunches) {\\n    ko.punches.enableAll();\\n    ko.bindingHandlers.numericValue = {\\n        init: function(element, valueAccessor, allBindings, data, context) {\\n            var stringified = ko.observable(ko.unwrap(valueAccessor()));\\n            stringified.subscribe(function(value) {\\n                var val = parseFloat(value);\\n                if (!isNaN(val)) {\\n                    valueAccessor()(val);\\n                }\\n            });\\n            valueAccessor().subscribe(function(value) {\\n                var str = JSON.stringify(value);\\n                if ((str == \\\"0\\\") && ([\\\"-0\\\", \\\"-0.\\\"].indexOf(stringified()) >= 0))\\n                     return;\\n                 if ([\\\"null\\\", \\\"\\\"].indexOf(str) >= 0)\\n                     return;\\n                stringified(str);\\n            });\\n            ko.applyBindingsToNode(\\n                element,\\n                {\\n                    value: stringified,\\n                    valueUpdate: allBindings.get('valueUpdate'),\\n                },\\n                context,\\n            );\\n        }\\n    };\\n    var json_data = {\\\"formatted_vals\\\":[\\\"0.0\\\",\\\"0.01\\\",\\\"0.02\\\",\\\"0.03\\\",\\\"0.04\\\",\\\"0.05\\\",\\\"0.06\\\",\\\"0.07\\\",\\\"0.08\\\",\\\"0.09\\\",\\\"0.1\\\",\\\"0.11\\\",\\\"0.12\\\",\\\"0.13\\\",\\\"0.14\\\",\\\"0.15\\\",\\\"0.16\\\",\\\"0.17\\\",\\\"0.18\\\",\\\"0.19\\\",\\\"0.2\\\",\\\"0.21\\\",\\\"0.22\\\",\\\"0.23\\\",\\\"0.24\\\",\\\"0.25\\\",\\\"0.26\\\",\\\"0.27\\\",\\\"0.28\\\",\\\"0.29\\\",\\\"0.3\\\",\\\"0.31\\\",\\\"0.32\\\",\\\"0.33\\\",\\\"0.34\\\",\\\"0.35\\\",\\\"0.36\\\",\\\"0.37\\\",\\\"0.38\\\",\\\"0.39\\\",\\\"0.4\\\",\\\"0.41\\\",\\\"0.42\\\",\\\"0.43\\\",\\\"0.44\\\",\\\"0.45\\\",\\\"0.46\\\",\\\"0.47\\\",\\\"0.48\\\",\\\"0.49\\\",\\\"0.5\\\",\\\"0.51\\\",\\\"0.52\\\",\\\"0.53\\\",\\\"0.54\\\",\\\"0.55\\\",\\\"0.56\\\",\\\"0.57\\\",\\\"0.58\\\",\\\"0.59\\\",\\\"0.6\\\",\\\"0.61\\\",\\\"0.62\\\",\\\"0.63\\\",\\\"0.64\\\",\\\"0.65\\\",\\\"0.66\\\",\\\"0.67\\\",\\\"0.68\\\",\\\"0.69\\\",\\\"0.7\\\",\\\"0.71\\\",\\\"0.72\\\",\\\"0.73\\\",\\\"0.74\\\",\\\"0.75\\\",\\\"0.76\\\",\\\"0.77\\\",\\\"0.78\\\",\\\"0.79\\\",\\\"0.8\\\",\\\"0.81\\\",\\\"0.82\\\",\\\"0.83\\\",\\\"0.84\\\",\\\"0.85\\\",\\\"0.86\\\",\\\"0.87\\\",\\\"0.88\\\",\\\"0.89\\\",\\\"0.9\\\",\\\"0.91\\\",\\\"0.92\\\",\\\"0.93\\\",\\\"0.94\\\",\\\"0.95\\\",\\\"0.96\\\",\\\"0.97\\\",\\\"0.98\\\",\\\"0.99\\\",\\\"1.0\\\"],\\\"changes\\\":WebIO.getval({\\\"name\\\":\\\"changes\\\",\\\"scope\\\":\\\"12488020449996252019\\\",\\\"id\\\":\\\"3470937165843747180\\\",\\\"type\\\":\\\"observable\\\"}),\\\"index\\\":WebIO.getval({\\\"name\\\":\\\"index\\\",\\\"scope\\\":\\\"12488020449996252019\\\",\\\"id\\\":\\\"11174276310503697265\\\",\\\"type\\\":\\\"observable\\\"})};\\n    var self = this;\\n    function AppViewModel() {\\n        for (var key in json_data) {\\n            var el = json_data[key];\\n            this[key] = Array.isArray(el) ? ko.observableArray(el) : ko.observable(el);\\n        }\\n        \\n        [this[\\\"formatted_val\\\"]=ko.computed(    function(){\\n        return this.formatted_vals()[parseInt(this.index())-(1)];\\n    }\\n,this)]\\n        [this[\\\"changes\\\"].subscribe((function (val){!(this.valueFromJulia[\\\"changes\\\"]) ? (WebIO.setval({\\\"name\\\":\\\"changes\\\",\\\"scope\\\":\\\"12488020449996252019\\\",\\\"id\\\":\\\"3470937165843747180\\\",\\\"type\\\":\\\"observable\\\"},val)) : undefined; return this.valueFromJulia[\\\"changes\\\"]=false}),self),this[\\\"index\\\"].subscribe((function (val){!(this.valueFromJulia[\\\"index\\\"]) ? (WebIO.setval({\\\"name\\\":\\\"index\\\",\\\"scope\\\":\\\"12488020449996252019\\\",\\\"id\\\":\\\"11174276310503697265\\\",\\\"type\\\":\\\"observable\\\"},val)) : undefined; return this.valueFromJulia[\\\"index\\\"]=false}),self)]\\n        \\n    }\\n    self.model = new AppViewModel();\\n    self.valueFromJulia = {};\\n    for (var key in json_data) {\\n        self.valueFromJulia[key] = false;\\n    }\\n    ko.applyBindings(self.model, self.dom);\\n}\\n);\\n    (WebIO.importBlock({\\\"data\\\":[{\\\"name\\\":\\\"knockout\\\",\\\"type\\\":\\\"js\\\",\\\"url\\\":\\\"\\/assetserver\\/f0e307cd5d087b1b010b519eb389773e9d1dbc0e-knockout.js\\\"},{\\\"name\\\":\\\"knockout_punches\\\",\\\"type\\\":\\\"js\\\",\\\"url\\\":\\\"\\/assetserver\\/23ffb9c4761cb32a945e3c5534ef4f0e0ebff3a5-knockout_punches.js\\\"}],\\\"type\\\":\\\"async_block\\\"})).then((imports) => handler.apply(this, imports));\\n}\\n\"],\"observables\":{\"changes\":{\"sync\":false,\"id\":\"3470937165843747180\",\"value\":0},\"index\":{\"sync\":true,\"id\":\"11174276310503697265\",\"value\":51}}},\"children\":[{\"props\":{\"className\":\"interact-flex-row interact-widget\"},\"nodeType\":\"DOM\",\"type\":\"node\",\"instanceArgs\":{\"namespace\":\"html\",\"tag\":\"div\"},\"children\":[{\"props\":{\"className\":\"interact-flex-row-left\"},\"nodeType\":\"DOM\",\"type\":\"node\",\"instanceArgs\":{\"namespace\":\"html\",\"tag\":\"div\"},\"children\":[{\"props\":{\"className\":\"interact \",\"style\":{\"padding\":\"5px 10px 0px 10px\"}},\"nodeType\":\"DOM\",\"type\":\"node\",\"instanceArgs\":{\"namespace\":\"html\",\"tag\":\"label\"},\"children\":[\"E\"]}]},{\"props\":{\"className\":\"interact-flex-row-center\"},\"nodeType\":\"DOM\",\"type\":\"node\",\"instanceArgs\":{\"namespace\":\"html\",\"tag\":\"div\"},\"children\":[{\"props\":{\"max\":101,\"min\":1,\"attributes\":{\"type\":\"range\",\"data-bind\":\"numericValue: index, valueUpdate: 'input', event: {change: function (){this.changes(this.changes()+1)}}\",\"orient\":\"horizontal\"},\"step\":1,\"className\":\"slider slider is-fullwidth\",\"style\":{}},\"nodeType\":\"DOM\",\"type\":\"node\",\"instanceArgs\":{\"namespace\":\"html\",\"tag\":\"input\"},\"children\":[]}]},{\"props\":{\"className\":\"interact-flex-row-right\"},\"nodeType\":\"DOM\",\"type\":\"node\",\"instanceArgs\":{\"namespace\":\"html\",\"tag\":\"div\"},\"children\":[{\"props\":{\"attributes\":{\"data-bind\":\"text: formatted_val\"}},\"nodeType\":\"DOM\",\"type\":\"node\",\"instanceArgs\":{\"namespace\":\"html\",\"tag\":\"p\"},\"children\":[]}]}]}]}]},{\"props\":{\"className\":\"field interact-widget\"},\"nodeType\":\"DOM\",\"type\":\"node\",\"instanceArgs\":{\"namespace\":\"html\",\"tag\":\"div\"},\"children\":[{\"props\":{},\"nodeType\":\"Scope\",\"type\":\"node\",\"instanceArgs\":{\"imports\":{\"data\":[{\"name\":\"knockout\",\"type\":\"js\",\"url\":\"\\/assetserver\\/f0e307cd5d087b1b010b519eb389773e9d1dbc0e-knockout.js\"},{\"name\":\"knockout_punches\",\"type\":\"js\",\"url\":\"\\/assetserver\\/23ffb9c4761cb32a945e3c5534ef4f0e0ebff3a5-knockout_punches.js\"},{\"name\":null,\"type\":\"js\",\"url\":\"\\/assetserver\\/d056f31abc9e8c4005d299fc969e049f45bc15ce-all.js\"},{\"name\":null,\"type\":\"css\",\"url\":\"\\/assetserver\\/d7ee02a10676da192d5a9d9e6fbf1d45a9efdd47-style.css\"},{\"name\":null,\"type\":\"css\",\"url\":\"\\/assetserver\\/216a7e9e026462ee34f429556dd6471399a37027-bulma_confined.min.css\"}],\"type\":\"async_block\"},\"id\":\"8715671850923032135\",\"handlers\":{\"changes\":[\"(function (val){return (val!=this.model[\\\"changes\\\"]()) ? (this.valueFromJulia[\\\"changes\\\"]=true, this.model[\\\"changes\\\"](val)) : undefined})\"],\"index\":[\"(function (val){return (val!=this.model[\\\"index\\\"]()) ? (this.valueFromJulia[\\\"index\\\"]=true, this.model[\\\"index\\\"](val)) : undefined})\"]},\"systemjs_options\":null,\"mount_callbacks\":[\"function () {\\n    var handler = (function (ko, koPunches) {\\n    ko.punches.enableAll();\\n    ko.bindingHandlers.numericValue = {\\n        init: function(element, valueAccessor, allBindings, data, context) {\\n            var stringified = ko.observable(ko.unwrap(valueAccessor()));\\n            stringified.subscribe(function(value) {\\n                var val = parseFloat(value);\\n                if (!isNaN(val)) {\\n                    valueAccessor()(val);\\n                }\\n            });\\n            valueAccessor().subscribe(function(value) {\\n                var str = JSON.stringify(value);\\n                if ((str == \\\"0\\\") && ([\\\"-0\\\", \\\"-0.\\\"].indexOf(stringified()) >= 0))\\n                     return;\\n                 if ([\\\"null\\\", \\\"\\\"].indexOf(str) >= 0)\\n                     return;\\n                stringified(str);\\n            });\\n            ko.applyBindingsToNode(\\n                element,\\n                {\\n                    value: stringified,\\n                    valueUpdate: allBindings.get('valueUpdate'),\\n                },\\n                context,\\n            );\\n        }\\n    };\\n    var json_data = {\\\"formatted_vals\\\":[\\\"-5.0\\\",\\\"-4.9\\\",\\\"-4.8\\\",\\\"-4.7\\\",\\\"-4.6\\\",\\\"-4.5\\\",\\\"-4.4\\\",\\\"-4.3\\\",\\\"-4.2\\\",\\\"-4.1\\\",\\\"-4.0\\\",\\\"-3.9\\\",\\\"-3.8\\\",\\\"-3.7\\\",\\\"-3.6\\\",\\\"-3.5\\\",\\\"-3.4\\\",\\\"-3.3\\\",\\\"-3.2\\\",\\\"-3.1\\\",\\\"-3.0\\\",\\\"-2.9\\\",\\\"-2.8\\\",\\\"-2.7\\\",\\\"-2.6\\\",\\\"-2.5\\\",\\\"-2.4\\\",\\\"-2.3\\\",\\\"-2.2\\\",\\\"-2.1\\\",\\\"-2.0\\\",\\\"-1.9\\\",\\\"-1.8\\\",\\\"-1.7\\\",\\\"-1.6\\\",\\\"-1.5\\\",\\\"-1.4\\\",\\\"-1.3\\\",\\\"-1.2\\\",\\\"-1.1\\\",\\\"-1.0\\\",\\\"-0.9\\\",\\\"-0.8\\\",\\\"-0.7\\\",\\\"-0.6\\\",\\\"-0.5\\\",\\\"-0.4\\\",\\\"-0.3\\\",\\\"-0.2\\\",\\\"-0.1\\\",\\\"0.0\\\",\\\"0.1\\\",\\\"0.2\\\",\\\"0.3\\\",\\\"0.4\\\",\\\"0.5\\\",\\\"0.6\\\",\\\"0.7\\\",\\\"0.8\\\",\\\"0.9\\\",\\\"1.0\\\",\\\"1.1\\\",\\\"1.2\\\",\\\"1.3\\\",\\\"1.4\\\",\\\"1.5\\\",\\\"1.6\\\",\\\"1.7\\\",\\\"1.8\\\",\\\"1.9\\\",\\\"2.0\\\",\\\"2.1\\\",\\\"2.2\\\",\\\"2.3\\\",\\\"2.4\\\",\\\"2.5\\\",\\\"2.6\\\",\\\"2.7\\\",\\\"2.8\\\",\\\"2.9\\\",\\\"3.0\\\",\\\"3.1\\\",\\\"3.2\\\",\\\"3.3\\\",\\\"3.4\\\",\\\"3.5\\\",\\\"3.6\\\",\\\"3.7\\\",\\\"3.8\\\",\\\"3.9\\\",\\\"4.0\\\",\\\"4.1\\\",\\\"4.2\\\",\\\"4.3\\\",\\\"4.4\\\",\\\"4.5\\\",\\\"4.6\\\",\\\"4.7\\\",\\\"4.8\\\",\\\"4.9\\\",\\\"5.0\\\",\\\"5.1\\\",\\\"5.2\\\",\\\"5.3\\\",\\\"5.4\\\",\\\"5.5\\\",\\\"5.6\\\",\\\"5.7\\\",\\\"5.8\\\"],\\\"changes\\\":WebIO.getval({\\\"name\\\":\\\"changes\\\",\\\"scope\\\":\\\"8715671850923032135\\\",\\\"id\\\":\\\"13391019217020160552\\\",\\\"type\\\":\\\"observable\\\"}),\\\"index\\\":WebIO.getval({\\\"name\\\":\\\"index\\\",\\\"scope\\\":\\\"8715671850923032135\\\",\\\"id\\\":\\\"8681941342636351920\\\",\\\"type\\\":\\\"observable\\\"})};\\n    var self = this;\\n    function AppViewModel() {\\n        for (var key in json_data) {\\n            var el = json_data[key];\\n            this[key] = Array.isArray(el) ? ko.observableArray(el) : ko.observable(el);\\n        }\\n        \\n        [this[\\\"formatted_val\\\"]=ko.computed(    function(){\\n        return this.formatted_vals()[parseInt(this.index())-(1)];\\n    }\\n,this)]\\n        [this[\\\"changes\\\"].subscribe((function (val){!(this.valueFromJulia[\\\"changes\\\"]) ? (WebIO.setval({\\\"name\\\":\\\"changes\\\",\\\"scope\\\":\\\"8715671850923032135\\\",\\\"id\\\":\\\"13391019217020160552\\\",\\\"type\\\":\\\"observable\\\"},val)) : undefined; return this.valueFromJulia[\\\"changes\\\"]=false}),self),this[\\\"index\\\"].subscribe((function (val){!(this.valueFromJulia[\\\"index\\\"]) ? (WebIO.setval({\\\"name\\\":\\\"index\\\",\\\"scope\\\":\\\"8715671850923032135\\\",\\\"id\\\":\\\"8681941342636351920\\\",\\\"type\\\":\\\"observable\\\"},val)) : undefined; return this.valueFromJulia[\\\"index\\\"]=false}),self)]\\n        \\n    }\\n    self.model = new AppViewModel();\\n    self.valueFromJulia = {};\\n    for (var key in json_data) {\\n        self.valueFromJulia[key] = false;\\n    }\\n    ko.applyBindings(self.model, self.dom);\\n}\\n);\\n    (WebIO.importBlock({\\\"data\\\":[{\\\"name\\\":\\\"knockout\\\",\\\"type\\\":\\\"js\\\",\\\"url\\\":\\\"\\/assetserver\\/f0e307cd5d087b1b010b519eb389773e9d1dbc0e-knockout.js\\\"},{\\\"name\\\":\\\"knockout_punches\\\",\\\"type\\\":\\\"js\\\",\\\"url\\\":\\\"\\/assetserver\\/23ffb9c4761cb32a945e3c5534ef4f0e0ebff3a5-knockout_punches.js\\\"}],\\\"type\\\":\\\"async_block\\\"})).then((imports) => handler.apply(this, imports));\\n}\\n\"],\"observables\":{\"changes\":{\"sync\":false,\"id\":\"13391019217020160552\",\"value\":0},\"index\":{\"sync\":true,\"id\":\"8681941342636351920\",\"value\":55}}},\"children\":[{\"props\":{\"className\":\"interact-flex-row interact-widget\"},\"nodeType\":\"DOM\",\"type\":\"node\",\"instanceArgs\":{\"namespace\":\"html\",\"tag\":\"div\"},\"children\":[{\"props\":{\"className\":\"interact-flex-row-left\"},\"nodeType\":\"DOM\",\"type\":\"node\",\"instanceArgs\":{\"namespace\":\"html\",\"tag\":\"div\"},\"children\":[{\"props\":{\"className\":\"interact \",\"style\":{\"padding\":\"5px 10px 0px 10px\"}},\"nodeType\":\"DOM\",\"type\":\"node\",\"instanceArgs\":{\"namespace\":\"html\",\"tag\":\"label\"},\"children\":[\"Pss\"]}]},{\"props\":{\"className\":\"interact-flex-row-center\"},\"nodeType\":\"DOM\",\"type\":\"node\",\"instanceArgs\":{\"namespace\":\"html\",\"tag\":\"div\"},\"children\":[{\"props\":{\"max\":109,\"min\":1,\"attributes\":{\"type\":\"range\",\"data-bind\":\"numericValue: index, valueUpdate: 'input', event: {change: function (){this.changes(this.changes()+1)}}\",\"orient\":\"horizontal\"},\"step\":1,\"className\":\"slider slider is-fullwidth\",\"style\":{}},\"nodeType\":\"DOM\",\"type\":\"node\",\"instanceArgs\":{\"namespace\":\"html\",\"tag\":\"input\"},\"children\":[]}]},{\"props\":{\"className\":\"interact-flex-row-right\"},\"nodeType\":\"DOM\",\"type\":\"node\",\"instanceArgs\":{\"namespace\":\"html\",\"tag\":\"div\"},\"children\":[{\"props\":{\"attributes\":{\"data-bind\":\"text: formatted_val\"}},\"nodeType\":\"DOM\",\"type\":\"node\",\"instanceArgs\":{\"namespace\":\"html\",\"tag\":\"p\"},\"children\":[]}]}]}]}]},{\"props\":{\"className\":\"field interact-widget\"},\"nodeType\":\"DOM\",\"type\":\"node\",\"instanceArgs\":{\"namespace\":\"html\",\"tag\":\"div\"},\"children\":[{\"props\":{},\"nodeType\":\"Scope\",\"type\":\"node\",\"instanceArgs\":{\"imports\":{\"data\":[{\"name\":\"knockout\",\"type\":\"js\",\"url\":\"\\/assetserver\\/f0e307cd5d087b1b010b519eb389773e9d1dbc0e-knockout.js\"},{\"name\":\"knockout_punches\",\"type\":\"js\",\"url\":\"\\/assetserver\\/23ffb9c4761cb32a945e3c5534ef4f0e0ebff3a5-knockout_punches.js\"},{\"name\":null,\"type\":\"js\",\"url\":\"\\/assetserver\\/d056f31abc9e8c4005d299fc969e049f45bc15ce-all.js\"},{\"name\":null,\"type\":\"css\",\"url\":\"\\/assetserver\\/d7ee02a10676da192d5a9d9e6fbf1d45a9efdd47-style.css\"},{\"name\":null,\"type\":\"css\",\"url\":\"\\/assetserver\\/216a7e9e026462ee34f429556dd6471399a37027-bulma_confined.min.css\"}],\"type\":\"async_block\"},\"id\":\"5186392882370398036\",\"handlers\":{\"changes\":[\"(function (val){return (val!=this.model[\\\"changes\\\"]()) ? (this.valueFromJulia[\\\"changes\\\"]=true, this.model[\\\"changes\\\"](val)) : undefined})\"],\"index\":[\"(function (val){return (val!=this.model[\\\"index\\\"]()) ? (this.valueFromJulia[\\\"index\\\"]=true, this.model[\\\"index\\\"](val)) : undefined})\"]},\"systemjs_options\":null,\"mount_callbacks\":[\"function () {\\n    var handler = (function (ko, koPunches) {\\n    ko.punches.enableAll();\\n    ko.bindingHandlers.numericValue = {\\n        init: function(element, valueAccessor, allBindings, data, context) {\\n            var stringified = ko.observable(ko.unwrap(valueAccessor()));\\n            stringified.subscribe(function(value) {\\n                var val = parseFloat(value);\\n                if (!isNaN(val)) {\\n                    valueAccessor()(val);\\n                }\\n            });\\n            valueAccessor().subscribe(function(value) {\\n                var str = JSON.stringify(value);\\n                if ((str == \\\"0\\\") && ([\\\"-0\\\", \\\"-0.\\\"].indexOf(stringified()) >= 0))\\n                     return;\\n                 if ([\\\"null\\\", \\\"\\\"].indexOf(str) >= 0)\\n                     return;\\n                stringified(str);\\n            });\\n            ko.applyBindingsToNode(\\n                element,\\n                {\\n                    value: stringified,\\n                    valueUpdate: allBindings.get('valueUpdate'),\\n                },\\n                context,\\n            );\\n        }\\n    };\\n    var json_data = {\\\"formatted_vals\\\":[\\\"0\\\",\\\"1\\\",\\\"2\\\",\\\"3\\\",\\\"4\\\",\\\"5\\\",\\\"6\\\",\\\"7\\\",\\\"8\\\",\\\"9\\\",\\\"10\\\",\\\"11\\\",\\\"12\\\",\\\"13\\\",\\\"14\\\",\\\"15\\\",\\\"16\\\",\\\"17\\\",\\\"18\\\",\\\"19\\\",\\\"20\\\",\\\"21\\\",\\\"22\\\",\\\"23\\\",\\\"24\\\",\\\"25\\\",\\\"26\\\",\\\"27\\\",\\\"28\\\",\\\"29\\\",\\\"30\\\",\\\"31\\\",\\\"32\\\",\\\"33\\\",\\\"34\\\",\\\"35\\\",\\\"36\\\",\\\"37\\\",\\\"38\\\",\\\"39\\\",\\\"40\\\",\\\"41\\\",\\\"42\\\",\\\"43\\\",\\\"44\\\",\\\"45\\\",\\\"46\\\",\\\"47\\\",\\\"48\\\",\\\"49\\\",\\\"50\\\"],\\\"changes\\\":WebIO.getval({\\\"name\\\":\\\"changes\\\",\\\"scope\\\":\\\"5186392882370398036\\\",\\\"id\\\":\\\"13171040741590499436\\\",\\\"type\\\":\\\"observable\\\"}),\\\"index\\\":WebIO.getval({\\\"name\\\":\\\"index\\\",\\\"scope\\\":\\\"5186392882370398036\\\",\\\"id\\\":\\\"10912010718777602132\\\",\\\"type\\\":\\\"observable\\\"})};\\n    var self = this;\\n    function AppViewModel() {\\n        for (var key in json_data) {\\n            var el = json_data[key];\\n            this[key] = Array.isArray(el) ? ko.observableArray(el) : ko.observable(el);\\n        }\\n        \\n        [this[\\\"formatted_val\\\"]=ko.computed(    function(){\\n        return this.formatted_vals()[parseInt(this.index())-(1)];\\n    }\\n,this)]\\n        [this[\\\"changes\\\"].subscribe((function (val){!(this.valueFromJulia[\\\"changes\\\"]) ? (WebIO.setval({\\\"name\\\":\\\"changes\\\",\\\"scope\\\":\\\"5186392882370398036\\\",\\\"id\\\":\\\"13171040741590499436\\\",\\\"type\\\":\\\"observable\\\"},val)) : undefined; return this.valueFromJulia[\\\"changes\\\"]=false}),self),this[\\\"index\\\"].subscribe((function (val){!(this.valueFromJulia[\\\"index\\\"]) ? (WebIO.setval({\\\"name\\\":\\\"index\\\",\\\"scope\\\":\\\"5186392882370398036\\\",\\\"id\\\":\\\"10912010718777602132\\\",\\\"type\\\":\\\"observable\\\"},val)) : undefined; return this.valueFromJulia[\\\"index\\\"]=false}),self)]\\n        \\n    }\\n    self.model = new AppViewModel();\\n    self.valueFromJulia = {};\\n    for (var key in json_data) {\\n        self.valueFromJulia[key] = false;\\n    }\\n    ko.applyBindings(self.model, self.dom);\\n}\\n);\\n    (WebIO.importBlock({\\\"data\\\":[{\\\"name\\\":\\\"knockout\\\",\\\"type\\\":\\\"js\\\",\\\"url\\\":\\\"\\/assetserver\\/f0e307cd5d087b1b010b519eb389773e9d1dbc0e-knockout.js\\\"},{\\\"name\\\":\\\"knockout_punches\\\",\\\"type\\\":\\\"js\\\",\\\"url\\\":\\\"\\/assetserver\\/23ffb9c4761cb32a945e3c5534ef4f0e0ebff3a5-knockout_punches.js\\\"}],\\\"type\\\":\\\"async_block\\\"})).then((imports) => handler.apply(this, imports));\\n}\\n\"],\"observables\":{\"changes\":{\"sync\":false,\"id\":\"13171040741590499436\",\"value\":0},\"index\":{\"sync\":true,\"id\":\"10912010718777602132\",\"value\":26}}},\"children\":[{\"props\":{\"className\":\"interact-flex-row interact-widget\"},\"nodeType\":\"DOM\",\"type\":\"node\",\"instanceArgs\":{\"namespace\":\"html\",\"tag\":\"div\"},\"children\":[{\"props\":{\"className\":\"interact-flex-row-left\"},\"nodeType\":\"DOM\",\"type\":\"node\",\"instanceArgs\":{\"namespace\":\"html\",\"tag\":\"div\"},\"children\":[{\"props\":{\"className\":\"interact \",\"style\":{\"padding\":\"5px 10px 0px 10px\"}},\"nodeType\":\"DOM\",\"type\":\"node\",\"instanceArgs\":{\"namespace\":\"html\",\"tag\":\"label\"},\"children\":[\"Rcsf\"]}]},{\"props\":{\"className\":\"interact-flex-row-center\"},\"nodeType\":\"DOM\",\"type\":\"node\",\"instanceArgs\":{\"namespace\":\"html\",\"tag\":\"div\"},\"children\":[{\"props\":{\"max\":51,\"min\":1,\"attributes\":{\"type\":\"range\",\"data-bind\":\"numericValue: index, valueUpdate: 'input', event: {change: function (){this.changes(this.changes()+1)}}\",\"orient\":\"horizontal\"},\"step\":1,\"className\":\"slider slider is-fullwidth\",\"style\":{}},\"nodeType\":\"DOM\",\"type\":\"node\",\"instanceArgs\":{\"namespace\":\"html\",\"tag\":\"input\"},\"children\":[]}]},{\"props\":{\"className\":\"interact-flex-row-right\"},\"nodeType\":\"DOM\",\"type\":\"node\",\"instanceArgs\":{\"namespace\":\"html\",\"tag\":\"div\"},\"children\":[{\"props\":{\"attributes\":{\"data-bind\":\"text: formatted_val\"}},\"nodeType\":\"DOM\",\"type\":\"node\",\"instanceArgs\":{\"namespace\":\"html\",\"tag\":\"p\"},\"children\":[]}]}]}]}]},{\"props\":{},\"nodeType\":\"Scope\",\"type\":\"node\",\"instanceArgs\":{\"imports\":{\"data\":[],\"type\":\"async_block\"},\"id\":\"7944543589007241736\",\"handlers\":{},\"systemjs_options\":null,\"mount_callbacks\":[],\"observables\":{\"obs-node\":{\"sync\":false,\"id\":\"17387237477976513398\",\"value\":{\"props\":{\"className\":\"interact-flex-row interact-widget\"},\"nodeType\":\"DOM\",\"type\":\"node\",\"instanceArgs\":{\"namespace\":\"html\",\"tag\":\"div\"},\"children\":[{\"props\":{\"setInnerHtml\":\"<?xml version=\\\"1.0\\\" encoding=\\\"utf-8\\\"?>\\n<svg xmlns=\\\"http:\\/\\/www.w3.org\\/2000\\/svg\\\" xmlns:xlink=\\\"http:\\/\\/www.w3.org\\/1999\\/xlink\\\" width=\\\"600\\\" height=\\\"400\\\" viewBox=\\\"0 0 2400 1600\\\">\\n<defs>\\n  <clipPath id=\\\"clip480\\\">\\n    <rect x=\\\"0\\\" y=\\\"0\\\" width=\\\"2400\\\" height=\\\"1600\\\"\\/>\\n  <\\/clipPath>\\n<\\/defs>\\n<path clip-path=\\\"url(#clip480)\\\" d=\\\"\\nM0 1600 L2400 1600 L2400 0 L0 0  Z\\n  \\\" fill=\\\"#000000\\\" fill-rule=\\\"evenodd\\\" fill-opacity=\\\"0\\\"\\/>\\n<defs>\\n  <clipPath id=\\\"clip481\\\">\\n    <rect x=\\\"480\\\" y=\\\"0\\\" width=\\\"1681\\\" height=\\\"1600\\\"\\/>\\n  <\\/clipPath>\\n<\\/defs>\\n<path clip-path=\\\"url(#clip480)\\\" d=\\\"\\nM205.121 1423.18 L1989.53 1423.18 L1989.53 47.2441 L205.121 47.2441  Z\\n  \\\" fill=\\\"#000000\\\" fill-rule=\\\"evenodd\\\" fill-opacity=\\\"0\\\"\\/>\\n<defs>\\n  <clipPath id=\\\"clip482\\\">\\n    <rect x=\\\"205\\\" y=\\\"47\\\" width=\\\"1785\\\" height=\\\"1377\\\"\\/>\\n  <\\/clipPath>\\n<\\/defs>\\n<polyline clip-path=\\\"url(#clip482)\\\" style=\\\"stroke:#ffffff; stroke-linecap:butt; stroke-linejoin:round; stroke-width:2; stroke-opacity:0.1; fill:none\\\" points=\\\"\\n  245.543,1423.18 245.543,47.2441 \\n  \\\"\\/>\\n<polyline clip-path=\\\"url(#clip482)\\\" style=\\\"stroke:#ffffff; stroke-linecap:butt; stroke-linejoin:round; stroke-width:2; stroke-opacity:0.1; fill:none\\\" points=\\\"\\n  547.951,1423.18 547.951,47.2441 \\n  \\\"\\/>\\n<polyline clip-path=\\\"url(#clip482)\\\" style=\\\"stroke:#ffffff; stroke-linecap:butt; stroke-linejoin:round; stroke-width:2; stroke-opacity:0.1; fill:none\\\" points=\\\"\\n  850.36,1423.18 850.36,47.2441 \\n  \\\"\\/>\\n<polyline clip-path=\\\"url(#clip482)\\\" style=\\\"stroke:#ffffff; stroke-linecap:butt; stroke-linejoin:round; stroke-width:2; stroke-opacity:0.1; fill:none\\\" points=\\\"\\n  1152.77,1423.18 1152.77,47.2441 \\n  \\\"\\/>\\n<polyline clip-path=\\\"url(#clip482)\\\" style=\\\"stroke:#ffffff; stroke-linecap:butt; stroke-linejoin:round; stroke-width:2; stroke-opacity:0.1; fill:none\\\" points=\\\"\\n  1455.18,1423.18 1455.18,47.2441 \\n  \\\"\\/>\\n<polyline clip-path=\\\"url(#clip482)\\\" style=\\\"stroke:#ffffff; stroke-linecap:butt; stroke-linejoin:round; stroke-width:2; stroke-opacity:0.1; fill:none\\\" points=\\\"\\n  1757.59,1423.18 1757.59,47.2441 \\n  \\\"\\/>\\n<polyline clip-path=\\\"url(#clip480)\\\" style=\\\"stroke:#ffffff; stroke-linecap:butt; stroke-linejoin:round; stroke-width:4; stroke-opacity:1; fill:none\\\" points=\\\"\\n  205.121,1423.18 1989.53,1423.18 \\n  \\\"\\/>\\n<polyline clip-path=\\\"url(#clip480)\\\" style=\\\"stroke:#ffffff; stroke-linecap:butt; stroke-linejoin:round; stroke-width:4; stroke-opacity:1; fill:none\\\" points=\\\"\\n  245.543,1423.18 245.543,1404.28 \\n  \\\"\\/>\\n<polyline clip-path=\\\"url(#clip480)\\\" style=\\\"stroke:#ffffff; stroke-linecap:butt; stroke-linejoin:round; stroke-width:4; stroke-opacity:1; fill:none\\\" points=\\\"\\n  547.951,1423.18 547.951,1404.28 \\n  \\\"\\/>\\n<polyline clip-path=\\\"url(#clip480)\\\" style=\\\"stroke:#ffffff; stroke-linecap:butt; stroke-linejoin:round; stroke-width:4; stroke-opacity:1; fill:none\\\" points=\\\"\\n  850.36,1423.18 850.36,1404.28 \\n  \\\"\\/>\\n<polyline clip-path=\\\"url(#clip480)\\\" style=\\\"stroke:#ffffff; stroke-linecap:butt; stroke-linejoin:round; stroke-width:4; stroke-opacity:1; fill:none\\\" points=\\\"\\n  1152.77,1423.18 1152.77,1404.28 \\n  \\\"\\/>\\n<polyline clip-path=\\\"url(#clip480)\\\" style=\\\"stroke:#ffffff; stroke-linecap:butt; stroke-linejoin:round; stroke-width:4; stroke-opacity:1; fill:none\\\" points=\\\"\\n  1455.18,1423.18 1455.18,1404.28 \\n  \\\"\\/>\\n<polyline clip-path=\\\"url(#clip480)\\\" style=\\\"stroke:#ffffff; stroke-linecap:butt; stroke-linejoin:round; stroke-width:4; stroke-opacity:1; fill:none\\\" points=\\\"\\n  1757.59,1423.18 1757.59,1404.28 \\n  \\\"\\/>\\n<path clip-path=\\\"url(#clip480)\\\" d=\\\"M222.927 1454.1 Q219.316 1454.1 217.488 1457.66 Q215.682 1461.2 215.682 1468.33 Q215.682 1475.44 217.488 1479.01 Q219.316 1482.55 222.927 1482.55 Q226.562 1482.55 228.367 1479.01 Q230.196 1475.44 230.196 1468.33 Q230.196 1461.2 228.367 1457.66 Q226.562 1454.1 222.927 1454.1 M222.927 1450.39 Q228.737 1450.39 231.793 1455 Q234.872 1459.58 234.872 1468.33 Q234.872 1477.06 231.793 1481.67 Q228.737 1486.25 222.927 1486.25 Q217.117 1486.25 214.038 1481.67 Q210.983 1477.06 210.983 1468.33 Q210.983 1459.58 214.038 1455 Q217.117 1450.39 222.927 1450.39 Z\\\" fill=\\\"#ffffff\\\" fill-rule=\\\"evenodd\\\" fill-opacity=\\\"1\\\" \\/><path clip-path=\\\"url(#clip480)\\\" d=\\\"M243.089 1479.7 L247.973 1479.7 L247.973 1485.58 L243.089 1485.58 L243.089 1479.7 Z\\\" fill=\\\"#ffffff\\\" fill-rule=\\\"evenodd\\\" fill-opacity=\\\"1\\\" \\/><path clip-path=\\\"url(#clip480)\\\" d=\\\"M268.159 1454.1 Q264.547 1454.1 262.719 1457.66 Q260.913 1461.2 260.913 1468.33 Q260.913 1475.44 262.719 1479.01 Q264.547 1482.55 268.159 1482.55 Q271.793 1482.55 273.598 1479.01 Q275.427 1475.44 275.427 1468.33 Q275.427 1461.2 273.598 1457.66 Q271.793 1454.1 268.159 1454.1 M268.159 1450.39 Q273.969 1450.39 277.024 1455 Q280.103 1459.58 280.103 1468.33 Q280.103 1477.06 277.024 1481.67 Q273.969 1486.25 268.159 1486.25 Q262.348 1486.25 259.27 1481.67 Q256.214 1477.06 256.214 1468.33 Q256.214 1459.58 259.27 1455 Q262.348 1450.39 268.159 1450.39 Z\\\" fill=\\\"#ffffff\\\" fill-rule=\\\"evenodd\\\" fill-opacity=\\\"1\\\" \\/><path clip-path=\\\"url(#clip480)\\\" d=\\\"M529.259 1466.95 Q532.616 1467.66 534.491 1469.93 Q536.389 1472.2 536.389 1475.53 Q536.389 1480.65 532.871 1483.45 Q529.352 1486.25 522.871 1486.25 Q520.695 1486.25 518.38 1485.81 Q516.088 1485.39 513.635 1484.54 L513.635 1480.02 Q515.579 1481.16 517.894 1481.74 Q520.209 1482.32 522.732 1482.32 Q527.13 1482.32 529.421 1480.58 Q531.736 1478.84 531.736 1475.53 Q531.736 1472.48 529.584 1470.77 Q527.454 1469.03 523.634 1469.03 L519.607 1469.03 L519.607 1465.19 L523.82 1465.19 Q527.269 1465.19 529.097 1463.82 Q530.926 1462.43 530.926 1459.84 Q530.926 1457.18 529.028 1455.77 Q527.153 1454.33 523.634 1454.33 Q521.713 1454.33 519.514 1454.75 Q517.315 1455.16 514.676 1456.04 L514.676 1451.88 Q517.338 1451.14 519.653 1450.77 Q521.991 1450.39 524.051 1450.39 Q529.375 1450.39 532.477 1452.83 Q535.579 1455.23 535.579 1459.35 Q535.579 1462.22 533.935 1464.21 Q532.292 1466.18 529.259 1466.95 Z\\\" fill=\\\"#ffffff\\\" fill-rule=\\\"evenodd\\\" fill-opacity=\\\"1\\\" \\/><path clip-path=\\\"url(#clip480)\\\" d=\\\"M545.255 1479.7 L550.139 1479.7 L550.139 1485.58 L545.255 1485.58 L545.255 1479.7 Z\\\" fill=\\\"#ffffff\\\" fill-rule=\\\"evenodd\\\" fill-opacity=\\\"1\\\" \\/><path clip-path=\\\"url(#clip480)\\\" d=\\\"M570.324 1454.1 Q566.713 1454.1 564.884 1457.66 Q563.079 1461.2 563.079 1468.33 Q563.079 1475.44 564.884 1479.01 Q566.713 1482.55 570.324 1482.55 Q573.958 1482.55 575.764 1479.01 Q577.593 1475.44 577.593 1468.33 Q577.593 1461.2 575.764 1457.66 Q573.958 1454.1 570.324 1454.1 M570.324 1450.39 Q576.134 1450.39 579.19 1455 Q582.268 1459.58 582.268 1468.33 Q582.268 1477.06 579.19 1481.67 Q576.134 1486.25 570.324 1486.25 Q564.514 1486.25 561.435 1481.67 Q558.38 1477.06 558.38 1468.33 Q558.38 1459.58 561.435 1455 Q564.514 1450.39 570.324 1450.39 Z\\\" fill=\\\"#ffffff\\\" fill-rule=\\\"evenodd\\\" fill-opacity=\\\"1\\\" \\/><path clip-path=\\\"url(#clip480)\\\" d=\\\"M828.23 1466.44 Q825.082 1466.44 823.231 1468.59 Q821.402 1470.74 821.402 1474.49 Q821.402 1478.22 823.231 1480.39 Q825.082 1482.55 828.23 1482.55 Q831.379 1482.55 833.207 1480.39 Q835.059 1478.22 835.059 1474.49 Q835.059 1470.74 833.207 1468.59 Q831.379 1466.44 828.23 1466.44 M837.513 1451.78 L837.513 1456.04 Q835.754 1455.21 833.948 1454.77 Q832.166 1454.33 830.406 1454.33 Q825.777 1454.33 823.323 1457.45 Q820.893 1460.58 820.545 1466.9 Q821.911 1464.89 823.971 1463.82 Q826.031 1462.73 828.508 1462.73 Q833.717 1462.73 836.726 1465.9 Q839.758 1469.05 839.758 1474.49 Q839.758 1479.82 836.61 1483.03 Q833.462 1486.25 828.23 1486.25 Q822.235 1486.25 819.064 1481.67 Q815.893 1477.06 815.893 1468.33 Q815.893 1460.14 819.781 1455.28 Q823.67 1450.39 830.221 1450.39 Q831.98 1450.39 833.763 1450.74 Q835.568 1451.09 837.513 1451.78 Z\\\" fill=\\\"#ffffff\\\" fill-rule=\\\"evenodd\\\" fill-opacity=\\\"1\\\" \\/><path clip-path=\\\"url(#clip480)\\\" d=\\\"M847.814 1479.7 L852.698 1479.7 L852.698 1485.58 L847.814 1485.58 L847.814 1479.7 Z\\\" fill=\\\"#ffffff\\\" fill-rule=\\\"evenodd\\\" fill-opacity=\\\"1\\\" \\/><path clip-path=\\\"url(#clip480)\\\" d=\\\"M872.883 1454.1 Q869.272 1454.1 867.443 1457.66 Q865.638 1461.2 865.638 1468.33 Q865.638 1475.44 867.443 1479.01 Q869.272 1482.55 872.883 1482.55 Q876.517 1482.55 878.323 1479.01 Q880.152 1475.44 880.152 1468.33 Q880.152 1461.2 878.323 1457.66 Q876.517 1454.1 872.883 1454.1 M872.883 1450.39 Q878.693 1450.39 881.749 1455 Q884.827 1459.58 884.827 1468.33 Q884.827 1477.06 881.749 1481.67 Q878.693 1486.25 872.883 1486.25 Q867.073 1486.25 863.994 1481.67 Q860.939 1477.06 860.939 1468.33 Q860.939 1459.58 863.994 1455 Q867.073 1450.39 872.883 1450.39 Z\\\" fill=\\\"#ffffff\\\" fill-rule=\\\"evenodd\\\" fill-opacity=\\\"1\\\" \\/><path clip-path=\\\"url(#clip480)\\\" d=\\\"M1120.36 1484.86 L1120.36 1480.6 Q1122.12 1481.44 1123.93 1481.88 Q1125.73 1482.32 1127.47 1482.32 Q1132.1 1482.32 1134.53 1479.21 Q1136.98 1476.09 1137.33 1469.75 Q1135.99 1471.74 1133.93 1472.8 Q1131.87 1473.87 1129.37 1473.87 Q1124.18 1473.87 1121.15 1470.74 Q1118.14 1467.59 1118.14 1462.15 Q1118.14 1456.83 1121.29 1453.61 Q1124.44 1450.39 1129.67 1450.39 Q1135.66 1450.39 1138.81 1455 Q1141.98 1459.58 1141.98 1468.33 Q1141.98 1476.51 1138.09 1481.39 Q1134.23 1486.25 1127.68 1486.25 Q1125.92 1486.25 1124.11 1485.9 Q1122.31 1485.56 1120.36 1484.86 M1129.67 1470.21 Q1132.81 1470.21 1134.64 1468.06 Q1136.5 1465.9 1136.5 1462.15 Q1136.5 1458.43 1134.64 1456.27 Q1132.81 1454.1 1129.67 1454.1 Q1126.52 1454.1 1124.67 1456.27 Q1122.84 1458.43 1122.84 1462.15 Q1122.84 1465.9 1124.67 1468.06 Q1126.52 1470.21 1129.67 1470.21 Z\\\" fill=\\\"#ffffff\\\" fill-rule=\\\"evenodd\\\" fill-opacity=\\\"1\\\" \\/><path clip-path=\\\"url(#clip480)\\\" d=\\\"M1150.38 1479.7 L1155.27 1479.7 L1155.27 1485.58 L1150.38 1485.58 L1150.38 1479.7 Z\\\" fill=\\\"#ffffff\\\" fill-rule=\\\"evenodd\\\" fill-opacity=\\\"1\\\" \\/><path clip-path=\\\"url(#clip480)\\\" d=\\\"M1175.45 1454.1 Q1171.84 1454.1 1170.01 1457.66 Q1168.21 1461.2 1168.21 1468.33 Q1168.21 1475.44 1170.01 1479.01 Q1171.84 1482.55 1175.45 1482.55 Q1179.09 1482.55 1180.89 1479.01 Q1182.72 1475.44 1182.72 1468.33 Q1182.72 1461.2 1180.89 1457.66 Q1179.09 1454.1 1175.45 1454.1 M1175.45 1450.39 Q1181.26 1450.39 1184.32 1455 Q1187.4 1459.58 1187.4 1468.33 Q1187.4 1477.06 1184.32 1481.67 Q1181.26 1486.25 1175.45 1486.25 Q1169.64 1486.25 1166.56 1481.67 Q1163.51 1477.06 1163.51 1468.33 Q1163.51 1459.58 1166.56 1455 Q1169.64 1450.39 1175.45 1450.39 Z\\\" fill=\\\"#ffffff\\\" fill-rule=\\\"evenodd\\\" fill-opacity=\\\"1\\\" \\/><path clip-path=\\\"url(#clip480)\\\" d=\\\"M1407.25 1481.64 L1414.89 1481.64 L1414.89 1455.28 L1406.58 1456.95 L1406.58 1452.69 L1414.84 1451.02 L1419.52 1451.02 L1419.52 1481.64 L1427.16 1481.64 L1427.16 1485.58 L1407.25 1485.58 L1407.25 1481.64 Z\\\" fill=\\\"#ffffff\\\" fill-rule=\\\"evenodd\\\" fill-opacity=\\\"1\\\" \\/><path clip-path=\\\"url(#clip480)\\\" d=\\\"M1440.63 1481.64 L1456.95 1481.64 L1456.95 1485.58 L1435 1485.58 L1435 1481.64 Q1437.67 1478.89 1442.25 1474.26 Q1446.86 1469.61 1448.04 1468.27 Q1450.28 1465.74 1451.16 1464.01 Q1452.06 1462.25 1452.06 1460.56 Q1452.06 1457.8 1450.12 1456.07 Q1448.2 1454.33 1445.1 1454.33 Q1442.9 1454.33 1440.44 1455.09 Q1438.01 1455.86 1435.24 1457.41 L1435.24 1452.69 Q1438.06 1451.55 1440.51 1450.97 Q1442.97 1450.39 1445 1450.39 Q1450.37 1450.39 1453.57 1453.08 Q1456.76 1455.77 1456.76 1460.26 Q1456.76 1462.39 1455.95 1464.31 Q1455.17 1466.2 1453.06 1468.8 Q1452.48 1469.47 1449.38 1472.69 Q1446.28 1475.88 1440.63 1481.64 Z\\\" fill=\\\"#ffffff\\\" fill-rule=\\\"evenodd\\\" fill-opacity=\\\"1\\\" \\/><path clip-path=\\\"url(#clip480)\\\" d=\\\"M1466.76 1479.7 L1471.65 1479.7 L1471.65 1485.58 L1466.76 1485.58 L1466.76 1479.7 Z\\\" fill=\\\"#ffffff\\\" fill-rule=\\\"evenodd\\\" fill-opacity=\\\"1\\\" \\/><path clip-path=\\\"url(#clip480)\\\" d=\\\"M1491.83 1454.1 Q1488.22 1454.1 1486.39 1457.66 Q1484.59 1461.2 1484.59 1468.33 Q1484.59 1475.44 1486.39 1479.01 Q1488.22 1482.55 1491.83 1482.55 Q1495.47 1482.55 1497.27 1479.01 Q1499.1 1475.44 1499.1 1468.33 Q1499.1 1461.2 1497.27 1457.66 Q1495.47 1454.1 1491.83 1454.1 M1491.83 1450.39 Q1497.64 1450.39 1500.7 1455 Q1503.78 1459.58 1503.78 1468.33 Q1503.78 1477.06 1500.7 1481.67 Q1497.64 1486.25 1491.83 1486.25 Q1486.02 1486.25 1482.94 1481.67 Q1479.89 1477.06 1479.89 1468.33 Q1479.89 1459.58 1482.94 1455 Q1486.02 1450.39 1491.83 1450.39 Z\\\" fill=\\\"#ffffff\\\" fill-rule=\\\"evenodd\\\" fill-opacity=\\\"1\\\" \\/><path clip-path=\\\"url(#clip480)\\\" d=\\\"M1709.66 1481.64 L1717.3 1481.64 L1717.3 1455.28 L1708.99 1456.95 L1708.99 1452.69 L1717.25 1451.02 L1721.93 1451.02 L1721.93 1481.64 L1729.56 1481.64 L1729.56 1485.58 L1709.66 1485.58 L1709.66 1481.64 Z\\\" fill=\\\"#ffffff\\\" fill-rule=\\\"evenodd\\\" fill-opacity=\\\"1\\\" \\/><path clip-path=\\\"url(#clip480)\\\" d=\\\"M1739.06 1451.02 L1757.41 1451.02 L1757.41 1454.96 L1743.34 1454.96 L1743.34 1463.43 Q1744.36 1463.08 1745.38 1462.92 Q1746.39 1462.73 1747.41 1462.73 Q1753.2 1462.73 1756.58 1465.9 Q1759.96 1469.08 1759.96 1474.49 Q1759.96 1480.07 1756.49 1483.17 Q1753.01 1486.25 1746.69 1486.25 Q1744.52 1486.25 1742.25 1485.88 Q1740 1485.51 1737.6 1484.77 L1737.6 1480.07 Q1739.68 1481.2 1741.9 1481.76 Q1744.13 1482.32 1746.6 1482.32 Q1750.61 1482.32 1752.94 1480.21 Q1755.28 1478.1 1755.28 1474.49 Q1755.28 1470.88 1752.94 1468.77 Q1750.61 1466.67 1746.6 1466.67 Q1744.73 1466.67 1742.85 1467.08 Q1741 1467.5 1739.06 1468.38 L1739.06 1451.02 Z\\\" fill=\\\"#ffffff\\\" fill-rule=\\\"evenodd\\\" fill-opacity=\\\"1\\\" \\/><path clip-path=\\\"url(#clip480)\\\" d=\\\"M1769.17 1479.7 L1774.06 1479.7 L1774.06 1485.58 L1769.17 1485.58 L1769.17 1479.7 Z\\\" fill=\\\"#ffffff\\\" fill-rule=\\\"evenodd\\\" fill-opacity=\\\"1\\\" \\/><path clip-path=\\\"url(#clip480)\\\" d=\\\"M1794.24 1454.1 Q1790.63 1454.1 1788.8 1457.66 Q1787 1461.2 1787 1468.33 Q1787 1475.44 1788.8 1479.01 Q1790.63 1482.55 1794.24 1482.55 Q1797.87 1482.55 1799.68 1479.01 Q1801.51 1475.44 1801.51 1468.33 Q1801.51 1461.2 1799.68 1457.66 Q1797.87 1454.1 1794.24 1454.1 M1794.24 1450.39 Q1800.05 1450.39 1803.11 1455 Q1806.18 1459.58 1806.18 1468.33 Q1806.18 1477.06 1803.11 1481.67 Q1800.05 1486.25 1794.24 1486.25 Q1788.43 1486.25 1785.35 1481.67 Q1782.3 1477.06 1782.3 1468.33 Q1782.3 1459.58 1785.35 1455 Q1788.43 1450.39 1794.24 1450.39 Z\\\" fill=\\\"#ffffff\\\" fill-rule=\\\"evenodd\\\" fill-opacity=\\\"1\\\" \\/><path clip-path=\\\"url(#clip480)\\\" d=\\\"M923.018 1520.52 L963.217 1520.52 L963.217 1525.93 L946.348 1525.93 L946.348 1568.04 L939.887 1568.04 L939.887 1525.93 L923.018 1525.93 L923.018 1520.52 Z\\\" fill=\\\"#ffffff\\\" fill-rule=\\\"evenodd\\\" fill-opacity=\\\"1\\\" \\/><path clip-path=\\\"url(#clip480)\\\" d=\\\"M967.164 1532.4 L973.021 1532.4 L973.021 1568.04 L967.164 1568.04 L967.164 1532.4 M967.164 1518.52 L973.021 1518.52 L973.021 1525.93 L967.164 1525.93 L967.164 1518.52 Z\\\" fill=\\\"#ffffff\\\" fill-rule=\\\"evenodd\\\" fill-opacity=\\\"1\\\" \\/><path clip-path=\\\"url(#clip480)\\\" d=\\\"M1013.03 1539.24 Q1015.23 1535.29 1018.28 1533.41 Q1021.34 1531.54 1025.47 1531.54 Q1031.04 1531.54 1034.07 1535.45 Q1037.09 1539.33 1037.09 1546.53 L1037.09 1568.04 L1031.2 1568.04 L1031.2 1546.72 Q1031.2 1541.59 1029.39 1539.11 Q1027.57 1536.63 1023.85 1536.63 Q1019.3 1536.63 1016.66 1539.65 Q1014.02 1542.68 1014.02 1547.9 L1014.02 1568.04 L1008.13 1568.04 L1008.13 1546.72 Q1008.13 1541.56 1006.31 1539.11 Q1004.5 1536.63 1000.71 1536.63 Q996.224 1536.63 993.582 1539.68 Q990.94 1542.71 990.94 1547.9 L990.94 1568.04 L985.052 1568.04 L985.052 1532.4 L990.94 1532.4 L990.94 1537.93 Q992.945 1534.66 995.746 1533.1 Q998.547 1531.54 1002.4 1531.54 Q1006.28 1531.54 1008.99 1533.51 Q1011.72 1535.48 1013.03 1539.24 Z\\\" fill=\\\"#ffffff\\\" fill-rule=\\\"evenodd\\\" fill-opacity=\\\"1\\\" \\/><path clip-path=\\\"url(#clip480)\\\" d=\\\"M1079.26 1548.76 L1079.26 1551.62 L1052.34 1551.62 Q1052.72 1557.67 1055.97 1560.85 Q1059.24 1564 1065.07 1564 Q1068.44 1564 1071.59 1563.17 Q1074.78 1562.35 1077.9 1560.69 L1077.9 1566.23 Q1074.74 1567.57 1071.43 1568.27 Q1068.12 1568.97 1064.72 1568.97 Q1056.19 1568.97 1051.19 1564 Q1046.23 1559.04 1046.23 1550.57 Q1046.23 1541.82 1050.94 1536.69 Q1055.68 1531.54 1063.7 1531.54 Q1070.89 1531.54 1075.06 1536.18 Q1079.26 1540.8 1079.26 1548.76 M1073.41 1547.04 Q1073.34 1542.23 1070.7 1539.37 Q1068.09 1536.5 1063.76 1536.5 Q1058.86 1536.5 1055.9 1539.27 Q1052.97 1542.04 1052.53 1547.07 L1073.41 1547.04 Z\\\" fill=\\\"#ffffff\\\" fill-rule=\\\"evenodd\\\" fill-opacity=\\\"1\\\" \\/><path clip-path=\\\"url(#clip480)\\\" d=\\\"M1109.06 1518.52 L1122.55 1518.52 L1122.55 1523.07 L1114.91 1523.07 L1114.91 1572.09 L1122.55 1572.09 L1122.55 1576.64 L1109.06 1576.64 L1109.06 1518.52 Z\\\" fill=\\\"#ffffff\\\" fill-rule=\\\"evenodd\\\" fill-opacity=\\\"1\\\" \\/><path clip-path=\\\"url(#clip480)\\\" d=\\\"M1162.78 1539.24 Q1164.98 1535.29 1168.03 1533.41 Q1171.09 1531.54 1175.23 1531.54 Q1180.8 1531.54 1183.82 1535.45 Q1186.84 1539.33 1186.84 1546.53 L1186.84 1568.04 L1180.96 1568.04 L1180.96 1546.72 Q1180.96 1541.59 1179.14 1539.11 Q1177.33 1536.63 1173.6 1536.63 Q1169.05 1536.63 1166.41 1539.65 Q1163.77 1542.68 1163.77 1547.9 L1163.77 1568.04 L1157.88 1568.04 L1157.88 1546.72 Q1157.88 1541.56 1156.07 1539.11 Q1154.25 1536.63 1150.46 1536.63 Q1145.98 1536.63 1143.34 1539.68 Q1140.69 1542.71 1140.69 1547.9 L1140.69 1568.04 L1134.81 1568.04 L1134.81 1532.4 L1140.69 1532.4 L1140.69 1537.93 Q1142.7 1534.66 1145.5 1533.1 Q1148.3 1531.54 1152.15 1531.54 Q1156.03 1531.54 1158.74 1533.51 Q1161.48 1535.48 1162.78 1539.24 Z\\\" fill=\\\"#ffffff\\\" fill-rule=\\\"evenodd\\\" fill-opacity=\\\"1\\\" \\/><path clip-path=\\\"url(#clip480)\\\" d=\\\"M1198.53 1532.4 L1204.38 1532.4 L1204.38 1568.04 L1198.53 1568.04 L1198.53 1532.4 M1198.53 1518.52 L1204.38 1518.52 L1204.38 1525.93 L1198.53 1525.93 L1198.53 1518.52 Z\\\" fill=\\\"#ffffff\\\" fill-rule=\\\"evenodd\\\" fill-opacity=\\\"1\\\" \\/><path clip-path=\\\"url(#clip480)\\\" d=\\\"M1246.27 1546.53 L1246.27 1568.04 L1240.41 1568.04 L1240.41 1546.72 Q1240.41 1541.66 1238.44 1539.14 Q1236.47 1536.63 1232.52 1536.63 Q1227.78 1536.63 1225.04 1539.65 Q1222.3 1542.68 1222.3 1547.9 L1222.3 1568.04 L1216.41 1568.04 L1216.41 1532.4 L1222.3 1532.4 L1222.3 1537.93 Q1224.4 1534.72 1227.24 1533.13 Q1230.1 1531.54 1233.82 1531.54 Q1239.97 1531.54 1243.12 1535.36 Q1246.27 1539.14 1246.27 1546.53 Z\\\" fill=\\\"#ffffff\\\" fill-rule=\\\"evenodd\\\" fill-opacity=\\\"1\\\" \\/><path clip-path=\\\"url(#clip480)\\\" d=\\\"M1271.64 1518.52 L1271.64 1576.64 L1258.14 1576.64 L1258.14 1572.09 L1265.75 1572.09 L1265.75 1523.07 L1258.14 1523.07 L1258.14 1518.52 L1271.64 1518.52 Z\\\" fill=\\\"#ffffff\\\" fill-rule=\\\"evenodd\\\" fill-opacity=\\\"1\\\" \\/><polyline clip-path=\\\"url(#clip482)\\\" style=\\\"stroke:#ffffff; stroke-linecap:butt; stroke-linejoin:round; stroke-width:2; stroke-opacity:0.1; fill:none\\\" points=\\\"\\n  205.121,1384.24 1989.53,1384.24 \\n  \\\"\\/>\\n<polyline clip-path=\\\"url(#clip482)\\\" style=\\\"stroke:#ffffff; stroke-linecap:butt; stroke-linejoin:round; stroke-width:2; stroke-opacity:0.1; fill:none\\\" points=\\\"\\n  205.121,1059.73 1989.53,1059.73 \\n  \\\"\\/>\\n<polyline clip-path=\\\"url(#clip482)\\\" style=\\\"stroke:#ffffff; stroke-linecap:butt; stroke-linejoin:round; stroke-width:2; stroke-opacity:0.1; fill:none\\\" points=\\\"\\n  205.121,735.212 1989.53,735.212 \\n  \\\"\\/>\\n<polyline clip-path=\\\"url(#clip482)\\\" style=\\\"stroke:#ffffff; stroke-linecap:butt; stroke-linejoin:round; stroke-width:2; stroke-opacity:0.1; fill:none\\\" points=\\\"\\n  205.121,410.699 1989.53,410.699 \\n  \\\"\\/>\\n<polyline clip-path=\\\"url(#clip482)\\\" style=\\\"stroke:#ffffff; stroke-linecap:butt; stroke-linejoin:round; stroke-width:2; stroke-opacity:0.1; fill:none\\\" points=\\\"\\n  205.121,86.1857 1989.53,86.1857 \\n  \\\"\\/>\\n<polyline clip-path=\\\"url(#clip480)\\\" style=\\\"stroke:#ffffff; stroke-linecap:butt; stroke-linejoin:round; stroke-width:4; stroke-opacity:1; fill:none\\\" points=\\\"\\n  205.121,1423.18 205.121,47.2441 \\n  \\\"\\/>\\n<polyline clip-path=\\\"url(#clip480)\\\" style=\\\"stroke:#ffffff; stroke-linecap:butt; stroke-linejoin:round; stroke-width:4; stroke-opacity:1; fill:none\\\" points=\\\"\\n  205.121,1384.24 220.823,1384.24 \\n  \\\"\\/>\\n<polyline clip-path=\\\"url(#clip480)\\\" style=\\\"stroke:#ffffff; stroke-linecap:butt; stroke-linejoin:round; stroke-width:4; stroke-opacity:1; fill:none\\\" points=\\\"\\n  205.121,1059.73 220.823,1059.73 \\n  \\\"\\/>\\n<polyline clip-path=\\\"url(#clip480)\\\" style=\\\"stroke:#ffffff; stroke-linecap:butt; stroke-linejoin:round; stroke-width:4; stroke-opacity:1; fill:none\\\" points=\\\"\\n  205.121,735.212 220.823,735.212 \\n  \\\"\\/>\\n<polyline clip-path=\\\"url(#clip480)\\\" style=\\\"stroke:#ffffff; stroke-linecap:butt; stroke-linejoin:round; stroke-width:4; stroke-opacity:1; fill:none\\\" points=\\\"\\n  205.121,410.699 220.823,410.699 \\n  \\\"\\/>\\n<polyline clip-path=\\\"url(#clip480)\\\" style=\\\"stroke:#ffffff; stroke-linecap:butt; stroke-linejoin:round; stroke-width:4; stroke-opacity:1; fill:none\\\" points=\\\"\\n  205.121,86.1857 220.823,86.1857 \\n  \\\"\\/>\\n<path clip-path=\\\"url(#clip480)\\\" d=\\\"M157.177 1370.04 Q153.566 1370.04 151.737 1373.6 Q149.931 1377.14 149.931 1384.27 Q149.931 1391.38 151.737 1394.94 Q153.566 1398.49 157.177 1398.49 Q160.811 1398.49 162.616 1394.94 Q164.445 1391.38 164.445 1384.27 Q164.445 1377.14 162.616 1373.6 Q160.811 1370.04 157.177 1370.04 M157.177 1366.33 Q162.987 1366.33 166.042 1370.94 Q169.121 1375.52 169.121 1384.27 Q169.121 1393 166.042 1397.61 Q162.987 1402.19 157.177 1402.19 Q151.366 1402.19 148.288 1397.61 Q145.232 1393 145.232 1384.27 Q145.232 1375.52 148.288 1370.94 Q151.366 1366.33 157.177 1366.33 Z\\\" fill=\\\"#ffffff\\\" fill-rule=\\\"evenodd\\\" fill-opacity=\\\"1\\\" \\/><path clip-path=\\\"url(#clip480)\\\" d=\\\"M117.825 1073.07 L125.464 1073.07 L125.464 1046.7 L117.154 1048.37 L117.154 1044.11 L125.418 1042.45 L130.093 1042.45 L130.093 1073.07 L137.732 1073.07 L137.732 1077.01 L117.825 1077.01 L117.825 1073.07 Z\\\" fill=\\\"#ffffff\\\" fill-rule=\\\"evenodd\\\" fill-opacity=\\\"1\\\" \\/><path clip-path=\\\"url(#clip480)\\\" d=\\\"M157.177 1045.52 Q153.566 1045.52 151.737 1049.09 Q149.931 1052.63 149.931 1059.76 Q149.931 1066.87 151.737 1070.43 Q153.566 1073.97 157.177 1073.97 Q160.811 1073.97 162.616 1070.43 Q164.445 1066.87 164.445 1059.76 Q164.445 1052.63 162.616 1049.09 Q160.811 1045.52 157.177 1045.52 M157.177 1041.82 Q162.987 1041.82 166.042 1046.43 Q169.121 1051.01 169.121 1059.76 Q169.121 1068.49 166.042 1073.09 Q162.987 1077.68 157.177 1077.68 Q151.366 1077.68 148.288 1073.09 Q145.232 1068.49 145.232 1059.76 Q145.232 1051.01 148.288 1046.43 Q151.366 1041.82 157.177 1041.82 Z\\\" fill=\\\"#ffffff\\\" fill-rule=\\\"evenodd\\\" fill-opacity=\\\"1\\\" \\/><path clip-path=\\\"url(#clip480)\\\" d=\\\"M121.043 748.557 L137.362 748.557 L137.362 752.492 L115.418 752.492 L115.418 748.557 Q118.08 745.802 122.663 741.173 Q127.269 736.52 128.45 735.177 Q130.695 732.654 131.575 730.918 Q132.478 729.159 132.478 727.469 Q132.478 724.714 130.533 722.978 Q128.612 721.242 125.51 721.242 Q123.311 721.242 120.857 722.006 Q118.427 722.77 115.649 724.321 L115.649 719.599 Q118.473 718.464 120.927 717.886 Q123.38 717.307 125.418 717.307 Q130.788 717.307 133.982 719.992 Q137.177 722.677 137.177 727.168 Q137.177 729.298 136.367 731.219 Q135.579 733.117 133.473 735.71 Q132.894 736.381 129.792 739.599 Q126.691 742.793 121.043 748.557 Z\\\" fill=\\\"#ffffff\\\" fill-rule=\\\"evenodd\\\" fill-opacity=\\\"1\\\" \\/><path clip-path=\\\"url(#clip480)\\\" d=\\\"M157.177 721.011 Q153.566 721.011 151.737 724.575 Q149.931 728.117 149.931 735.247 Q149.931 742.353 151.737 745.918 Q153.566 749.46 157.177 749.46 Q160.811 749.46 162.616 745.918 Q164.445 742.353 164.445 735.247 Q164.445 728.117 162.616 724.575 Q160.811 721.011 157.177 721.011 M157.177 717.307 Q162.987 717.307 166.042 721.913 Q169.121 726.497 169.121 735.247 Q169.121 743.973 166.042 748.58 Q162.987 753.163 157.177 753.163 Q151.366 753.163 148.288 748.58 Q145.232 743.973 145.232 735.247 Q145.232 726.497 148.288 721.913 Q151.366 717.307 157.177 717.307 Z\\\" fill=\\\"#ffffff\\\" fill-rule=\\\"evenodd\\\" fill-opacity=\\\"1\\\" \\/><path clip-path=\\\"url(#clip480)\\\" d=\\\"M131.181 409.345 Q134.538 410.062 136.413 412.331 Q138.311 414.599 138.311 417.933 Q138.311 423.048 134.792 425.849 Q131.274 428.65 124.793 428.65 Q122.617 428.65 120.302 428.21 Q118.01 427.794 115.556 426.937 L115.556 422.423 Q117.501 423.558 119.816 424.136 Q122.13 424.715 124.654 424.715 Q129.052 424.715 131.343 422.979 Q133.658 421.243 133.658 417.933 Q133.658 414.877 131.505 413.164 Q129.376 411.428 125.556 411.428 L121.529 411.428 L121.529 407.585 L125.742 407.585 Q129.191 407.585 131.019 406.22 Q132.848 404.831 132.848 402.238 Q132.848 399.576 130.95 398.164 Q129.075 396.729 125.556 396.729 Q123.635 396.729 121.436 397.146 Q119.237 397.562 116.598 398.442 L116.598 394.275 Q119.26 393.535 121.575 393.164 Q123.913 392.794 125.973 392.794 Q131.297 392.794 134.399 395.224 Q137.501 397.632 137.501 401.752 Q137.501 404.622 135.857 406.613 Q134.214 408.581 131.181 409.345 Z\\\" fill=\\\"#ffffff\\\" fill-rule=\\\"evenodd\\\" fill-opacity=\\\"1\\\" \\/><path clip-path=\\\"url(#clip480)\\\" d=\\\"M157.177 396.498 Q153.566 396.498 151.737 400.062 Q149.931 403.604 149.931 410.734 Q149.931 417.84 151.737 421.405 Q153.566 424.946 157.177 424.946 Q160.811 424.946 162.616 421.405 Q164.445 417.84 164.445 410.734 Q164.445 403.604 162.616 400.062 Q160.811 396.498 157.177 396.498 M157.177 392.794 Q162.987 392.794 166.042 397.4 Q169.121 401.984 169.121 410.734 Q169.121 419.46 166.042 424.067 Q162.987 428.65 157.177 428.65 Q151.366 428.65 148.288 424.067 Q145.232 419.46 145.232 410.734 Q145.232 401.984 148.288 397.4 Q151.366 392.794 157.177 392.794 Z\\\" fill=\\\"#ffffff\\\" fill-rule=\\\"evenodd\\\" fill-opacity=\\\"1\\\" \\/><path clip-path=\\\"url(#clip480)\\\" d=\\\"M129.862 72.9797 L118.056 91.4287 L129.862 91.4287 L129.862 72.9797 M128.635 68.9057 L134.515 68.9057 L134.515 91.4287 L139.445 91.4287 L139.445 95.3176 L134.515 95.3176 L134.515 103.466 L129.862 103.466 L129.862 95.3176 L114.26 95.3176 L114.26 90.8037 L128.635 68.9057 Z\\\" fill=\\\"#ffffff\\\" fill-rule=\\\"evenodd\\\" fill-opacity=\\\"1\\\" \\/><path clip-path=\\\"url(#clip480)\\\" d=\\\"M157.177 71.9844 Q153.566 71.9844 151.737 75.5492 Q149.931 79.0908 149.931 86.2204 Q149.931 93.3268 151.737 96.8916 Q153.566 100.433 157.177 100.433 Q160.811 100.433 162.616 96.8916 Q164.445 93.3268 164.445 86.2204 Q164.445 79.0908 162.616 75.5492 Q160.811 71.9844 157.177 71.9844 M157.177 68.2807 Q162.987 68.2807 166.042 72.8871 Q169.121 77.4704 169.121 86.2204 Q169.121 94.9472 166.042 99.5537 Q162.987 104.137 157.177 104.137 Q151.366 104.137 148.288 99.5537 Q145.232 94.9472 145.232 86.2204 Q145.232 77.4704 148.288 72.8871 Q151.366 68.2807 157.177 68.2807 Z\\\" fill=\\\"#ffffff\\\" fill-rule=\\\"evenodd\\\" fill-opacity=\\\"1\\\" \\/><path clip-path=\\\"url(#clip480)\\\" d=\\\"M16.4842 925.722 L16.4842 919.292 L64.0042 919.292 L64.0042 925.722 L16.4842 925.722 Z\\\" fill=\\\"#ffffff\\\" fill-rule=\\\"evenodd\\\" fill-opacity=\\\"1\\\" \\/><path clip-path=\\\"url(#clip480)\\\" d=\\\"M20.1444 870.913 L26.9239 870.913 Q23.9002 874.159 22.4043 877.852 Q20.9083 881.512 20.9083 885.65 Q20.9083 893.798 25.9054 898.126 Q30.8707 902.455 40.2919 902.455 Q49.6813 902.455 54.6784 898.126 Q59.6436 893.798 59.6436 885.65 Q59.6436 881.512 58.1477 877.852 Q56.6518 874.159 53.6281 870.913 L60.3439 870.913 Q62.6355 874.287 63.7814 878.074 Q64.9272 881.83 64.9272 886.031 Q64.9272 896.821 58.3387 903.028 Q51.7183 909.234 40.2919 909.234 Q28.8336 909.234 22.2451 903.028 Q15.6248 896.821 15.6248 886.031 Q15.6248 881.766 16.7706 878.011 Q17.8846 874.223 20.1444 870.913 Z\\\" fill=\\\"#ffffff\\\" fill-rule=\\\"evenodd\\\" fill-opacity=\\\"1\\\" \\/><path clip-path=\\\"url(#clip480)\\\" d=\\\"M21.7677 854.553 L39.6235 854.553 L39.6235 846.469 Q39.6235 841.981 37.3 839.53 Q34.9765 837.079 30.6797 837.079 Q26.4147 837.079 24.0912 839.53 Q21.7677 841.981 21.7677 846.469 L21.7677 854.553 M16.4842 860.982 L16.4842 846.469 Q16.4842 838.48 20.1126 834.406 Q23.7092 830.3 30.6797 830.3 Q37.7138 830.3 41.3104 834.406 Q44.907 838.48 44.907 846.469 L44.907 854.553 L64.0042 854.553 L64.0042 860.982 L16.4842 860.982 Z\\\" fill=\\\"#ffffff\\\" fill-rule=\\\"evenodd\\\" fill-opacity=\\\"1\\\" \\/><path clip-path=\\\"url(#clip480)\\\" d=\\\"M14.479 801.75 L14.479 788.254 L19.0304 788.254 L19.0304 795.893 L68.0464 795.893 L68.0464 788.254 L72.5979 788.254 L72.5979 801.75 L14.479 801.75 Z\\\" fill=\\\"#ffffff\\\" fill-rule=\\\"evenodd\\\" fill-opacity=\\\"1\\\" \\/><path clip-path=\\\"url(#clip480)\\\" d=\\\"M35.1993 748.023 Q31.2526 745.827 29.3747 742.771 Q27.4968 739.716 27.4968 735.578 Q27.4968 730.008 31.4117 726.984 Q35.2948 723.961 42.4881 723.961 L64.0042 723.961 L64.0042 729.849 L42.679 729.849 Q37.5546 729.849 35.072 731.663 Q32.5894 733.477 32.5894 737.201 Q32.5894 741.753 35.6131 744.395 Q38.6368 747.036 43.8567 747.036 L64.0042 747.036 L64.0042 752.925 L42.679 752.925 Q37.5228 752.925 35.072 754.739 Q32.5894 756.553 32.5894 760.341 Q32.5894 764.828 35.6449 767.47 Q38.6686 770.112 43.8567 770.112 L64.0042 770.112 L64.0042 776 L28.3562 776 L28.3562 770.112 L33.8944 770.112 Q30.616 768.107 29.0564 765.306 Q27.4968 762.505 27.4968 758.654 Q27.4968 754.771 29.4702 752.065 Q31.4436 749.328 35.1993 748.023 Z\\\" fill=\\\"#ffffff\\\" fill-rule=\\\"evenodd\\\" fill-opacity=\\\"1\\\" \\/><path clip-path=\\\"url(#clip480)\\\" d=\\\"M35.1993 684.525 Q31.2526 682.329 29.3747 679.273 Q27.4968 676.218 27.4968 672.08 Q27.4968 666.51 31.4117 663.486 Q35.2948 660.463 42.4881 660.463 L64.0042 660.463 L64.0042 666.351 L42.679 666.351 Q37.5546 666.351 35.072 668.165 Q32.5894 669.979 32.5894 673.703 Q32.5894 678.255 35.6131 680.897 Q38.6368 683.538 43.8567 683.538 L64.0042 683.538 L64.0042 689.427 L42.679 689.427 Q37.5228 689.427 35.072 691.241 Q32.5894 693.055 32.5894 696.843 Q32.5894 701.33 35.6449 703.972 Q38.6686 706.614 43.8567 706.614 L64.0042 706.614 L64.0042 712.502 L28.3562 712.502 L28.3562 706.614 L33.8944 706.614 Q30.616 704.609 29.0564 701.808 Q27.4968 699.007 27.4968 695.156 Q27.4968 691.273 29.4702 688.567 Q31.4436 685.83 35.1993 684.525 Z\\\" fill=\\\"#ffffff\\\" fill-rule=\\\"evenodd\\\" fill-opacity=\\\"1\\\" \\/><path clip-path=\\\"url(#clip480)\\\" d=\\\"M16.4842 648.527 L16.4842 642.098 L35.9632 642.098 L35.9632 618.735 L16.4842 618.735 L16.4842 612.306 L64.0042 612.306 L64.0042 618.735 L41.3741 618.735 L41.3741 642.098 L64.0042 642.098 L64.0042 648.527 L16.4842 648.527 Z\\\" fill=\\\"#ffffff\\\" fill-rule=\\\"evenodd\\\" fill-opacity=\\\"1\\\" \\/><path clip-path=\\\"url(#clip480)\\\" d=\\\"M45.7664 576.308 Q39.4007 576.308 35.8996 578.95 Q32.3984 581.56 32.3984 586.302 Q32.3984 591.013 35.8996 593.655 Q39.4007 596.265 45.7664 596.265 Q52.1003 596.265 55.6014 593.655 Q59.1026 591.013 59.1026 586.302 Q59.1026 581.56 55.6014 578.95 Q52.1003 576.308 45.7664 576.308 M59.58 570.452 Q68.683 570.452 73.1071 574.494 Q77.5631 578.536 77.5631 586.875 Q77.5631 589.962 77.0857 592.7 Q76.6401 595.437 75.6852 598.015 L69.9879 598.015 Q71.3884 595.437 72.0568 592.923 Q72.7252 590.408 72.7252 587.798 Q72.7252 582.037 69.7015 579.173 Q66.7096 576.308 60.6303 576.308 L57.7339 576.308 Q60.885 578.122 62.4446 580.955 Q64.0042 583.788 64.0042 587.734 Q64.0042 594.291 59.0071 598.302 Q54.01 602.312 45.7664 602.312 Q37.491 602.312 32.4939 598.302 Q27.4968 594.291 27.4968 587.734 Q27.4968 583.788 29.0564 580.955 Q30.616 578.122 33.7671 576.308 L28.3562 576.308 L28.3562 570.452 L59.58 570.452 Z\\\" fill=\\\"#ffffff\\\" fill-rule=\\\"evenodd\\\" fill-opacity=\\\"1\\\" \\/><path clip-path=\\\"url(#clip480)\\\" d=\\\"M14.479 544.702 L72.5979 544.702 L72.5979 558.198 L68.0464 558.198 L68.0464 550.591 L19.0304 550.591 L19.0304 558.198 L14.479 558.198 L14.479 544.702 Z\\\" fill=\\\"#ffffff\\\" fill-rule=\\\"evenodd\\\" fill-opacity=\\\"1\\\" \\/><polyline clip-path=\\\"url(#clip482)\\\" style=\\\"stroke:#5f9ea0; stroke-linecap:butt; stroke-linejoin:round; stroke-width:8; stroke-opacity:1; fill:none\\\" points=\\\"\\n  255.623,1367.21 265.703,1343.03 275.784,1294.15 285.864,1334.97 295.944,1309.23 306.025,1342.66 316.105,1287.03 326.185,1334.05 336.265,1274.03 346.346,1293.82 \\n  356.426,1260.15 366.506,1259.47 376.587,1274.59 386.667,1236.54 396.747,1285.85 406.827,1286.54 416.908,1306.73 426.988,1293.74 437.068,1285.36 447.149,1300.73 \\n  457.229,1292.12 467.309,1325.17 477.389,1272.06 487.47,1311.06 497.55,1299.39 507.63,1326.01 517.711,1295.86 527.791,1323.39 537.871,1294.94 547.951,1327.14 \\n  558.032,1245.35 568.112,1291.95 578.192,1301.92 588.273,1317.9 598.353,1315.63 608.433,1306.55 618.513,1359.21 628.594,1305 638.674,1371.7 648.754,1328.88 \\n  658.835,1381.49 668.915,1361.96 678.995,1374.32 689.075,1289.06 699.156,1280.48 709.236,1335.27 719.316,1295.28 729.397,1292.89 739.477,1295.35 749.557,1298.5 \\n  759.637,1271.24 769.718,1254.47 779.798,1254.93 789.878,1238.72 799.959,1208.25 810.039,1177.45 820.119,1206.61 830.199,1173.4 840.28,1209.13 850.36,1145.36 \\n  860.44,1204.4 870.521,1179.01 880.601,1205.51 890.681,1176.22 900.761,1223.74 910.842,1201.55 920.922,1214.44 931.002,1192.96 941.083,1192.28 951.163,1190.18 \\n  961.243,1169.16 971.323,1156.01 981.404,1138.62 991.484,1178.83 1001.56,1082.17 1011.64,1176.69 1021.72,1157.19 1031.81,1141.02 1041.89,1154.89 1051.97,1167.69 \\n  1062.05,1134.58 1072.13,1064.56 1082.21,1162.53 1092.29,1190.58 1102.37,1105.71 1112.45,1129.34 1122.53,1164.67 1132.61,1080.05 1142.69,1140.25 1152.77,1115.25 \\n  1162.85,1113.84 1172.93,1093.71 1183.01,1052.19 1193.09,1008.26 1203.17,1019.92 1213.25,923.499 1223.33,883.251 1233.41,904.405 1243.49,903.659 1253.57,964.067 \\n  1263.65,900.044 1273.73,871.345 1283.81,673.725 1293.89,813.383 1303.97,882.139 1314.05,966.265 1324.13,890.175 1334.21,890.69 1344.29,855.043 1354.37,936.495 \\n  1364.45,478.822 1374.53,766.296 1384.62,948.145 1394.7,794.01 1404.78,787.211 1414.86,842.679 1424.94,951.772 1435.02,796.362 1445.1,805.274 1455.18,786.083 \\n  1465.26,802.078 1475.34,780.676 1485.42,819.914 1495.5,898.957 1505.58,890.926 1515.66,797.214 1525.74,828.7 1535.82,870.1 1545.9,902.88 1555.98,908.141 \\n  1566.06,900.377 1576.14,901.261 1586.22,941.359 1596.3,944.361 1606.38,842.914 1616.46,957.832 1626.54,886.021 1636.62,959.134 1646.7,817.817 1656.78,820.247 \\n  1666.86,743.637 1676.94,801.425 1687.02,655.179 1697.1,716.845 1707.18,706.383 1717.26,751.06 1727.34,679.98 1737.43,739.345 1747.51,688.149 1757.59,568.903 \\n  1767.67,558.936 1777.75,587.368 1787.83,646.888 1797.91,625.393 1807.99,692.518 1818.07,628.735 1828.15,551.473 1838.23,645.691 1848.31,679.104 1858.39,682.162 \\n  1868.47,677.161 1878.55,582.743 1888.63,654.554 1898.71,715.486 1908.79,674.893 1918.87,568.323 1928.95,675.36 1939.03,700.951 \\n  \\\"\\/>\\n<polyline clip-path=\\\"url(#clip482)\\\" style=\\\"stroke:#ffa500; stroke-linecap:butt; stroke-linejoin:round; stroke-width:8; stroke-opacity:1; fill:none\\\" stroke-dasharray=\\\"32, 20\\\" points=\\\"\\n  255.623,1193.1 265.703,1193.1 275.784,1193.1 285.864,1193.1 295.944,1193.1 306.025,1193.1 316.105,1193.1 326.185,1193.1 336.265,1193.1 346.346,1193.1 \\n  356.426,1193.1 366.506,1193.1 376.587,1193.1 386.667,1193.1 396.747,1193.1 406.827,1193.1 416.908,1193.1 426.988,1193.1 437.068,1193.1 447.149,1193.1 \\n  457.229,1193.1 467.309,1193.1 477.389,1193.1 487.47,1193.1 497.55,1193.1 507.63,1193.1 517.711,1193.1 527.791,1193.1 537.871,1193.1 547.951,1193.1 \\n  558.032,1193.1 568.112,1193.1 578.192,1193.1 588.273,1193.1 598.353,1193.1 608.433,1193.1 618.513,1193.1 628.594,1193.1 638.674,1193.1 648.754,1193.1 \\n  658.835,1193.1 668.915,1193.1 678.995,1193.1 689.075,1193.1 699.156,1193.1 709.236,1193.1 719.316,1193.1 729.397,1193.1 739.477,1193.1 749.557,1193.1 \\n  759.637,1193.1 769.718,1193.1 779.798,1193.1 789.878,1193.1 799.959,1193.1 810.039,1193.1 820.119,1193.1 830.199,1193.1 840.28,1193.1 850.36,1193.1 \\n  860.44,1193.1 870.521,1193.1 880.601,1193.1 890.681,1193.1 900.761,1193.1 910.842,1193.1 920.922,1193.1 931.002,1193.1 941.083,1193.1 951.163,1234.63 \\n  961.243,1193.1 971.323,1146.05 981.404,1092.75 991.484,1032.38 1001.56,963.989 1011.64,886.534 1021.72,798.815 1031.81,699.483 1041.89,587.015 1051.97,459.69 \\n  1062.05,315.566 1072.13,152.456 1082.21,-32.1063 1092.29,-240.897 1102.37,-477.038 1112.45,-744.037 1122.53,-1045.83 1132.61,-1386.84 1142.69,-1771.99 1152.77,-2206.81 \\n  1162.85,-2697.45 1172.93,-3250.76 1183.01,-3874.32 1193.09,-4576.55 1203.17,-5366.71 1213.25,-6254.99 1223.33,-7252.52 1233.41,-8371.42 1243.49,-9624.81 1253.57,-11026.8 \\n  1263.65,-12592.3 1273.73,-14337.3 1283.81,-16278.4 1293.89,-18432.5 1303.97,-20817.1 1314.05,-23449.3 1324.13,-26346 1334.21,-29522.8 1344.29,-32993.7 1354.37,-36770.5 \\n  1364.45,-40862 1374.53,-45272.9 1384.62,-50003.8 1394.7,-55049.4 1404.78,-60399 1414.86,-66035.2 1424.94,-71934.2 1435.02,-78065.4 1445.1,-84392.2 1455.18,-90872.4 \\n  1465.26,-97459.3 1475.34,-104103 1485.42,-110752 1495.5,-117354 1505.58,-123859 1515.66,-130220 1525.74,-136393 1535.82,-142340 1545.9,-148031 1555.98,-153438 \\n  1566.06,-158545 1576.14,-163339 1586.22,-167813 1596.3,-171967 1606.38,-175806 1616.46,-179336 1626.54,-182570 1636.62,-185521 1646.7,-188204 1656.78,-190636 \\n  1666.86,-192835 1676.94,-194816 1687.02,-196599 1697.1,-198199 1707.18,-199632 1717.26,-200913 1727.34,-202058 1737.43,-203078 1747.51,-203987 1757.59,-204796 \\n  1767.67,-205515 1777.75,-206153 1787.83,-206720 1797.91,-207222 1807.99,-207667 1818.07,-208062 1828.15,-208411 1838.23,-208721 1848.31,-208994 1858.39,-209236 \\n  1868.47,-209450 1878.55,-209639 1888.63,-209806 1898.71,-209806 1908.79,-209806 1918.87,-209806 1928.95,-209806 1939.03,-209806 \\n  \\\"\\/>\\n<polyline clip-path=\\\"url(#clip482)\\\" style=\\\"stroke:#008000; stroke-linecap:butt; stroke-linejoin:round; stroke-width:8; stroke-opacity:1; fill:none\\\" points=\\\"\\n  255.623,1193.1 265.703,1193.1 275.784,1193.1 285.864,1193.1 295.944,1193.1 306.025,1193.1 316.105,1193.1 326.185,1193.1 336.265,1193.1 346.346,1193.1 \\n  356.426,1193.1 366.506,1193.1 376.587,1193.1 386.667,1193.1 396.747,1193.1 406.827,1193.1 416.908,1193.1 426.988,1193.1 437.068,1193.1 447.149,1304.53 \\n  457.229,1304.88 467.309,1305.36 477.389,1307.36 487.47,1306.21 497.55,1305.5 507.63,1305.31 517.711,1305.52 527.791,1304.49 537.871,1305.02 547.951,1305.14 \\n  558.032,1305.42 568.112,1305.29 578.192,1304.8 588.273,1304.85 598.353,1302.91 608.433,1300.19 618.513,1297.68 628.594,1294.67 638.674,1292.77 648.754,1288.88 \\n  658.835,1286.69 668.915,1283.04 678.995,1281.37 689.075,1278 699.156,1276.11 709.236,1273 719.316,1270.96 729.397,1267.7 739.477,1265.14 749.557,1261.71 \\n  759.637,1259.81 769.718,1256.41 779.798,1252.33 789.878,1248.85 799.959,1243.01 810.039,1239.77 820.119,1234.72 830.199,1230.62 840.28,1225.2 850.36,1221.17 \\n  860.44,1215 870.521,1207.56 880.601,1202.27 890.681,1199.8 900.761,1195.43 910.842,1190.29 920.922,1187.02 931.002,1181.7 941.083,1177.82 951.163,1173.24 \\n  961.243,1169.31 971.323,1165.29 981.404,1160.22 991.484,1154.46 1001.56,1149.75 1011.64,1143.4 1021.72,1135.32 1031.81,1128.59 1041.89,1120.95 1051.97,1116.42 \\n  1062.05,1108.81 1072.13,1101.12 1082.21,1087.83 1092.29,1078.76 1102.37,1070.22 1112.45,1064.33 1122.53,1056.23 1132.61,1048.67 1142.69,1040.24 1152.77,1033.9 \\n  1162.85,1016.64 1172.93,1006.9 1183.01,1002.13 1193.09,992.514 1203.17,985.14 1213.25,976.79 1223.33,971.654 1233.41,963.038 1243.49,954.297 1253.57,944.757 \\n  1263.65,936.445 1273.73,929.348 1283.81,920.782 1293.89,913.492 1303.97,908.122 1314.05,899.819 1324.13,891.42 1334.21,886.171 1344.29,880.237 1354.37,875.059 \\n  1364.45,869.722 1374.53,864.911 1384.62,862.14 1394.7,860.543 1404.78,856.117 1414.86,856.976 1424.94,857.045 1435.02,858.413 1445.1,856.267 1455.18,852.672 \\n  1465.26,848.762 1475.34,847.014 1485.42,846.55 1495.5,844.136 1505.58,839.743 1515.66,834.362 1525.74,829.108 1535.82,825.324 1545.9,821.152 1555.98,811.962 \\n  1566.06,813.965 1576.14,809.491 1586.22,801.96 1596.3,797.745 1606.38,795.377 1616.46,790.029 1626.54,780.021 1636.62,776.254 1646.7,773.1 1656.78,770.502 \\n  1666.86,767.379 1676.94,762.431 1687.02,758.297 1697.1,753.71 1707.18,748.309 1717.26,742.587 1727.34,738.753 1737.43,734.525 1747.51,729.907 1757.59,726.112 \\n  1767.67,718.926 1777.75,712.788 1787.83,701.285 1797.91,692.737 1807.99,683.971 1818.07,674.234 1828.15,661.573 1838.23,651.292 1848.31,644.864 1858.39,643.625 \\n  1868.47,642.363 1878.55,642.687 1888.63,647.504 1898.71,650.165 1908.79,651.026 1918.87,649.205 1928.95,650.082 1939.03,649.582 1949.11,650.482 1959.19,652.34 \\n  1969.27,657.297 1979.35,663.042 1989.43,667.239 1999.51,671.981 2009.59,676.103 2019.67,681.31 2029.75,689.576 2039.83,694.824 2049.91,1193.1 2059.99,1193.1 \\n  2070.07,1193.1 2080.15,1193.1 2090.24,1193.1 2100.32,1193.1 2110.4,1193.1 2120.48,1193.1 2130.56,1193.1 2140.64,1193.1 2150.72,1193.1 2160.8,1193.1 \\n  2170.88,1193.1 2180.96,1193.1 2191.04,1193.1 2201.12,1193.1 2211.2,1193.1 2221.28,1193.1 2231.36,1193.1 2241.44,1193.1 \\n  \\\"\\/>\\n<path clip-path=\\\"url(#clip480)\\\" d=\\\"\\nM2061.12 300.469 L2352.76 300.469 L2352.76 93.1086 L2061.12 93.1086  Z\\n  \\\" fill=\\\"#000000\\\" fill-rule=\\\"evenodd\\\" fill-opacity=\\\"0\\\"\\/>\\n<polyline clip-path=\\\"url(#clip480)\\\" style=\\\"stroke:#ffffff; stroke-linecap:butt; stroke-linejoin:round; stroke-width:4; stroke-opacity:1; fill:none\\\" points=\\\"\\n  2061.12,300.469 2352.76,300.469 2352.76,93.1086 2061.12,93.1086 2061.12,300.469 \\n  \\\"\\/>\\n<polyline clip-path=\\\"url(#clip480)\\\" style=\\\"stroke:#5f9ea0; stroke-linecap:butt; stroke-linejoin:round; stroke-width:4; stroke-opacity:1; fill:none\\\" points=\\\"\\n  2084.98,144.949 2228.16,144.949 \\n  \\\"\\/>\\n<path clip-path=\\\"url(#clip480)\\\" d=\\\"M2265.86 164.636 Q2264.06 169.266 2262.35 170.678 Q2260.63 172.09 2257.76 172.09 L2254.36 172.09 L2254.36 168.525 L2256.86 168.525 Q2258.62 168.525 2259.59 167.692 Q2260.56 166.858 2261.74 163.756 L2262.51 161.812 L2252.02 136.303 L2256.54 136.303 L2264.64 156.581 L2272.74 136.303 L2277.25 136.303 L2265.86 164.636 Z\\\" fill=\\\"#ffffff\\\" fill-rule=\\\"evenodd\\\" fill-opacity=\\\"1\\\" \\/><path clip-path=\\\"url(#clip480)\\\" d=\\\"M2284.54 158.293 L2292.18 158.293 L2292.18 131.928 L2283.87 133.595 L2283.87 129.335 L2292.14 127.669 L2296.81 127.669 L2296.81 158.293 L2304.45 158.293 L2304.45 162.229 L2284.54 162.229 L2284.54 158.293 Z\\\" fill=\\\"#ffffff\\\" fill-rule=\\\"evenodd\\\" fill-opacity=\\\"1\\\" \\/><polyline clip-path=\\\"url(#clip480)\\\" style=\\\"stroke:#ffa500; stroke-linecap:butt; stroke-linejoin:round; stroke-width:4; stroke-opacity:1; fill:none\\\" stroke-dasharray=\\\"16, 10\\\" points=\\\"\\n  2084.98,196.789 2228.16,196.789 \\n  \\\"\\/>\\n<path clip-path=\\\"url(#clip480)\\\" d=\\\"M2265.86 216.476 Q2264.06 221.106 2262.35 222.518 Q2260.63 223.93 2257.76 223.93 L2254.36 223.93 L2254.36 220.365 L2256.86 220.365 Q2258.62 220.365 2259.59 219.532 Q2260.56 218.698 2261.74 215.596 L2262.51 213.652 L2252.02 188.143 L2256.54 188.143 L2264.64 208.421 L2272.74 188.143 L2277.25 188.143 L2265.86 216.476 Z\\\" fill=\\\"#ffffff\\\" fill-rule=\\\"evenodd\\\" fill-opacity=\\\"1\\\" \\/><path clip-path=\\\"url(#clip480)\\\" d=\\\"M2287.76 210.133 L2304.08 210.133 L2304.08 214.069 L2282.14 214.069 L2282.14 210.133 Q2284.8 207.379 2289.38 202.749 Q2293.99 198.096 2295.17 196.754 Q2297.41 194.231 2298.29 192.495 Q2299.2 190.735 2299.2 189.046 Q2299.2 186.291 2297.25 184.555 Q2295.33 182.819 2292.23 182.819 Q2290.03 182.819 2287.58 183.583 Q2285.15 184.347 2282.37 185.897 L2282.37 181.175 Q2285.19 180.041 2287.65 179.462 Q2290.1 178.884 2292.14 178.884 Q2297.51 178.884 2300.7 181.569 Q2303.9 184.254 2303.9 188.745 Q2303.9 190.874 2303.09 192.796 Q2302.3 194.694 2300.19 197.286 Q2299.61 197.958 2296.51 201.175 Q2293.41 204.37 2287.76 210.133 Z\\\" fill=\\\"#ffffff\\\" fill-rule=\\\"evenodd\\\" fill-opacity=\\\"1\\\" \\/><polyline clip-path=\\\"url(#clip480)\\\" style=\\\"stroke:#008000; stroke-linecap:butt; stroke-linejoin:round; stroke-width:4; stroke-opacity:1; fill:none\\\" points=\\\"\\n  2084.98,248.629 2228.16,248.629 \\n  \\\"\\/>\\n<path clip-path=\\\"url(#clip480)\\\" d=\\\"M2265.86 268.316 Q2264.06 272.946 2262.35 274.358 Q2260.63 275.77 2257.76 275.77 L2254.36 275.77 L2254.36 272.205 L2256.86 272.205 Q2258.62 272.205 2259.59 271.372 Q2260.56 270.538 2261.74 267.436 L2262.51 265.492 L2252.02 239.983 L2256.54 239.983 L2264.64 260.261 L2272.74 239.983 L2277.25 239.983 L2265.86 268.316 Z\\\" fill=\\\"#ffffff\\\" fill-rule=\\\"evenodd\\\" fill-opacity=\\\"1\\\" \\/><path clip-path=\\\"url(#clip480)\\\" d=\\\"M2297.9 247.274 Q2301.26 247.992 2303.13 250.261 Q2305.03 252.529 2305.03 255.862 Q2305.03 260.978 2301.51 263.779 Q2297.99 266.58 2291.51 266.58 Q2289.34 266.58 2287.02 266.14 Q2284.73 265.723 2282.28 264.867 L2282.28 260.353 Q2284.22 261.487 2286.54 262.066 Q2288.85 262.645 2291.37 262.645 Q2295.77 262.645 2298.06 260.909 Q2300.38 259.173 2300.38 255.862 Q2300.38 252.807 2298.23 251.094 Q2296.1 249.358 2292.28 249.358 L2288.25 249.358 L2288.25 245.515 L2292.46 245.515 Q2295.91 245.515 2297.74 244.149 Q2299.57 242.761 2299.57 240.168 Q2299.57 237.506 2297.67 236.094 Q2295.79 234.659 2292.28 234.659 Q2290.35 234.659 2288.16 235.075 Q2285.96 235.492 2283.32 236.372 L2283.32 232.205 Q2285.98 231.464 2288.29 231.094 Q2290.63 230.724 2292.69 230.724 Q2298.02 230.724 2301.12 233.154 Q2304.22 235.562 2304.22 239.682 Q2304.22 242.552 2302.58 244.543 Q2300.93 246.511 2297.9 247.274 Z\\\" fill=\\\"#ffffff\\\" fill-rule=\\\"evenodd\\\" fill-opacity=\\\"1\\\" \\/><\\/svg>\\n\"},\"nodeType\":\"DOM\",\"type\":\"node\",\"instanceArgs\":{\"namespace\":\"html\",\"tag\":\"div\"},\"children\":[]}]}}}},\"children\":[{\"props\":{},\"nodeType\":\"ObservableNode\",\"type\":\"node\",\"instanceArgs\":{\"id\":\"17387237477976513398\",\"name\":\"obs-node\"},\"children\":[]}]}]},\n",
       "        window,\n",
       "    );\n",
       "    })()\n",
       "    </script>\n",
       "</div>\n"
      ],
      "text/plain": [
       "Node{WebIO.DOM}(WebIO.DOM(:html, :div), Any[Node{WebIO.DOM}(WebIO.DOM(:html, :div), Any[Scope(Node{WebIO.DOM}(WebIO.DOM(:html, :div), Any[Node{WebIO.DOM}(WebIO.DOM(:html, :div), Any[Node{WebIO.DOM}(WebIO.DOM(:html, :label), Any[\"E\"], Dict{Symbol, Any}(:className => \"interact \", :style => Dict{Any, Any}(:padding => \"5px 10px 0px 10px\")))], Dict{Symbol, Any}(:className => \"interact-flex-row-left\")), Node{WebIO.DOM}(WebIO.DOM(:html, :div), Any[Node{WebIO.DOM}(WebIO.DOM(:html, :input), Any[], Dict{Symbol, Any}(:max => 101, :min => 1, :attributes => Dict{Any, Any}(:type => \"range\", Symbol(\"data-bind\") => \"numericValue: index, valueUpdate: 'input', event: {change: function (){this.changes(this.changes()+1)}}\", \"orient\" => \"horizontal\"), :step => 1, :className => \"slider slider is-fullwidth\", :style => Dict{Any, Any}()))], Dict{Symbol, Any}(:className => \"interact-flex-row-center\")), Node{WebIO.DOM}(WebIO.DOM(:html, :div), Any[Node{WebIO.DOM}(WebIO.DOM(:html, :p), Any[], Dict{Symbol, Any}(:attributes => Dict(\"data-bind\" => \"text: formatted_val\")))], Dict{Symbol, Any}(:className => \"interact-flex-row-right\"))], Dict{Symbol, Any}(:className => \"interact-flex-row interact-widget\")), Dict{String, Tuple{Observables.AbstractObservable, Union{Nothing, Bool}}}(\"changes\" => (Observable{Int64} with 1 listeners. Value:\n",
       "0, nothing), \"index\" => (Observable{Any} with 2 listeners. Value:\n",
       "51, nothing)), Set{String}(), nothing, Asset[Asset(\"js\", \"knockout\", \"/Users/jjc/.julia/packages/Knockout/3gjS1/src/../assets/knockout.js\"), Asset(\"js\", \"knockout_punches\", \"/Users/jjc/.julia/packages/Knockout/3gjS1/src/../assets/knockout_punches.js\"), Asset(\"js\", nothing, \"/Users/jjc/.julia/packages/InteractBase/h8Fwe/src/../assets/all.js\"), Asset(\"css\", nothing, \"/Users/jjc/.julia/packages/InteractBase/h8Fwe/src/../assets/style.css\"), Asset(\"css\", nothing, \"/Users/jjc/.julia/packages/Interact/pVyN2/src/../assets/bulma_confined.min.css\")], Dict{Any, Any}(\"changes\" => Any[WebIO.JSString(\"(function (val){return (val!=this.model[\\\"changes\\\"]()) ? (this.valueFromJulia[\\\"changes\\\"]=true, this.model[\\\"changes\\\"](val)) : undefined})\")], \"index\" => Any[WebIO.JSString(\"(function (val){return (val!=this.model[\\\"index\\\"]()) ? (this.valueFromJulia[\\\"index\\\"]=true, this.model[\\\"index\\\"](val)) : undefined})\")]), WebIO.ConnectionPool(Channel{Any}(32), Set{AbstractConnection}(), Condition(Base.InvasiveLinkedList{Task}(Task (runnable) @0x0000000290c3b820, Task (runnable) @0x0000000290c3b820), Base.AlwaysLockedST(1))), WebIO.JSString[WebIO.JSString(\"function () {\\n    var handler = (function (ko, koPunches) {\\n    ko.punches.enableAll();\\n    ko.bindingHandlers.numericValue = {\\n        init: function(element, valueAccessor, allBindings, data, context) {\\n            var stringified = ko.observable(ko.unwrap(valueAccessor()));\\n            stringified.subscribe(function(value) {\\n                var val = parseFloat(value);\\n                if (!isNaN(val)) {\\n                    valueAccessor()(val);\\n                }\\n            });\\n            valueAccessor().subscribe(function(value) {\\n                var str = JSON.stringify(value);\\n                if ((str == \\\"0\\\") && ([\\\"-0\\\", \\\"-0.\\\"].indexOf(stringified()) >= 0))\\n                     return;\\n                 if ([\\\"null\\\", \\\"\\\"].indexOf(str) >= 0)\\n                     return;\\n                stringified(str);\\n            });\\n            ko.applyBindingsToNode(\\n                element,\\n                {\\n                    value: stringified,\\n                    valueUpdate: allBindings.get('valueUpdate'),\\n                },\\n                context,\\n            );\\n        }\\n    };\\n    var json_data = {\\\"formatted_vals\\\":[\\\"0.0\\\",\\\"0.01\\\",\\\"0.02\\\",\\\"0.03\\\",\\\"0.04\\\",\\\"0.05\\\",\\\"0.06\\\",\\\"0.07\\\",\\\"0.08\\\",\\\"0.09\\\",\\\"0.1\\\",\\\"0.11\\\",\\\"0.12\\\",\\\"0.13\\\",\\\"0.14\\\",\\\"0.15\\\",\\\"0.16\\\",\\\"0.17\\\",\\\"0.18\\\",\\\"0.19\\\",\\\"0.2\\\",\\\"0.21\\\",\\\"0.22\\\",\\\"0.23\\\",\\\"0.24\\\",\\\"0.25\\\",\\\"0.26\\\",\\\"0.27\\\",\\\"0.28\\\",\\\"0.29\\\",\\\"0.3\\\",\\\"0.31\\\",\\\"0.32\\\",\\\"0.33\\\",\\\"0.34\\\",\\\"0.35\\\",\\\"0.36\\\",\\\"0.37\\\",\\\"0.38\\\",\\\"0.39\\\",\\\"0.4\\\",\\\"0.41\\\",\\\"0.42\\\",\\\"0.43\\\",\\\"0.44\\\",\\\"0.45\\\",\\\"0.46\\\",\\\"0.47\\\",\\\"0.48\\\",\\\"0.49\\\",\\\"0.5\\\",\\\"0.51\\\",\\\"0.52\\\",\\\"0.53\\\",\\\"0.54\\\",\\\"0.55\\\",\\\"0.56\\\",\\\"0.57\\\",\\\"0.58\\\",\\\"0.59\\\",\\\"0.6\\\",\\\"0.61\\\",\\\"0.62\\\",\\\"0.63\\\",\\\"0.64\\\",\\\"0.65\\\",\\\"0.66\\\",\\\"0.67\\\",\\\"0.68\\\",\\\"0.69\\\",\\\"0.7\\\",\\\"0.71\\\",\\\"0.72\\\",\\\"0.73\\\",\\\"0.74\\\",\\\"0.75\\\",\\\"0.76\\\",\\\"0.77\\\",\\\"0.78\\\",\\\"0.79\\\",\\\"0.8\\\",\\\"0.81\\\",\\\"0.82\\\",\\\"0.83\\\",\\\"0.84\\\",\\\"0.85\\\",\\\"0.86\\\",\\\"0.87\\\",\\\"0.88\\\",\\\"0.89\\\",\\\"0.9\\\",\\\"0.91\\\",\\\"0.92\\\",\\\"0.93\\\",\\\"0.94\\\",\\\"0.95\\\",\\\"0.96\\\",\\\"0.97\\\",\\\"0.98\\\",\\\"0.99\\\",\\\"1.0\\\"],\\\"changes\\\":WebIO.getval({\\\"name\\\":\\\"changes\\\",\\\"scope\\\":\\\"12488020449996252019\\\",\\\"id\\\":\\\"3470937165843747180\\\",\\\"type\\\":\\\"observable\\\"}),\\\"index\\\":WebIO.getval({\\\"name\\\":\\\"index\\\",\\\"scope\\\":\\\"12488020449996252019\\\",\\\"id\\\":\\\"11174276310503697265\\\",\\\"type\\\":\\\"observable\\\"})};\\n    var self = this;\\n    function AppViewModel() {\\n        for (var key in json_data) {\\n            var el = json_data[key];\\n            this[key] = Array.isArray(el) ? ko.observableArray(el) : ko.observable(el);\\n        }\\n        \\n        [this[\\\"formatted_val\\\"]=ko.computed(    function(){\\n        return this.formatted_vals()[parseInt(this.index())-(1)];\\n    }\\n,this)]\\n        [this[\\\"changes\\\"].subscribe((function (val){!(this.valueFromJulia[\\\"changes\\\"]) ? (WebIO.setval({\\\"name\\\":\\\"changes\\\",\\\"scope\\\":\\\"12488020449996252019\\\",\\\"id\\\":\\\"3470937165843747180\\\",\\\"type\\\":\\\"observable\\\"},val)) : undefined; return this.valueFromJulia[\\\"changes\\\"]=false}),self),this[\\\"index\\\"].subscribe((function (val){!(this.valueFromJulia[\\\"index\\\"]) ? (WebIO.setval({\\\"name\\\":\\\"index\\\",\\\"scope\\\":\\\"12488020449996252019\\\",\\\"id\\\":\\\"11174276310503697265\\\",\\\"type\\\":\\\"observable\\\"},val)) : undefined; return this.valueFromJulia[\\\"index\\\"]=false}),self)]\\n        \\n    }\\n    self.model = new AppViewModel();\\n    self.valueFromJulia = {};\\n    for (var key in json_data) {\\n        self.valueFromJulia[key] = false;\\n    }\\n    ko.applyBindings(self.model, self.dom);\\n}\\n);\\n    (WebIO.importBlock({\\\"data\\\":[{\\\"name\\\":\\\"knockout\\\",\\\"type\\\":\\\"js\\\",\\\"url\\\":\\\"/assetserver/f0e307cd5d087b1b010b519eb389773e9d1dbc0e-knockout.js\\\"},{\\\"name\\\":\\\"knockout_punches\\\",\\\"type\\\":\\\"js\\\",\\\"url\\\":\\\"/assetserver/23ffb9c4761cb32a945e3c5534ef4f0e0ebff3a5-knockout_punches.js\\\"}],\\\"type\\\":\\\"async_block\\\"})).then((imports) => handler.apply(this, imports));\\n}\\n\")])], Dict{Symbol, Any}(:className => \"field interact-widget\")), Node{WebIO.DOM}(WebIO.DOM(:html, :div), Any[Scope(Node{WebIO.DOM}(WebIO.DOM(:html, :div), Any[Node{WebIO.DOM}(WebIO.DOM(:html, :div), Any[Node{WebIO.DOM}(WebIO.DOM(:html, :label), Any[\"Pss\"], Dict{Symbol, Any}(:className => \"interact \", :style => Dict{Any, Any}(:padding => \"5px 10px 0px 10px\")))], Dict{Symbol, Any}(:className => \"interact-flex-row-left\")), Node{WebIO.DOM}(WebIO.DOM(:html, :div), Any[Node{WebIO.DOM}(WebIO.DOM(:html, :input), Any[], Dict{Symbol, Any}(:max => 109, :min => 1, :attributes => Dict{Any, Any}(:type => \"range\", Symbol(\"data-bind\") => \"numericValue: index, valueUpdate: 'input', event: {change: function (){this.changes(this.changes()+1)}}\", \"orient\" => \"horizontal\"), :step => 1, :className => \"slider slider is-fullwidth\", :style => Dict{Any, Any}()))], Dict{Symbol, Any}(:className => \"interact-flex-row-center\")), Node{WebIO.DOM}(WebIO.DOM(:html, :div), Any[Node{WebIO.DOM}(WebIO.DOM(:html, :p), Any[], Dict{Symbol, Any}(:attributes => Dict(\"data-bind\" => \"text: formatted_val\")))], Dict{Symbol, Any}(:className => \"interact-flex-row-right\"))], Dict{Symbol, Any}(:className => \"interact-flex-row interact-widget\")), Dict{String, Tuple{Observables.AbstractObservable, Union{Nothing, Bool}}}(\"changes\" => (Observable{Int64} with 1 listeners. Value:\n",
       "0, nothing), \"index\" => (Observable{Any} with 2 listeners. Value:\n",
       "55, nothing)), Set{String}(), nothing, Asset[Asset(\"js\", \"knockout\", \"/Users/jjc/.julia/packages/Knockout/3gjS1/src/../assets/knockout.js\"), Asset(\"js\", \"knockout_punches\", \"/Users/jjc/.julia/packages/Knockout/3gjS1/src/../assets/knockout_punches.js\"), Asset(\"js\", nothing, \"/Users/jjc/.julia/packages/InteractBase/h8Fwe/src/../assets/all.js\"), Asset(\"css\", nothing, \"/Users/jjc/.julia/packages/InteractBase/h8Fwe/src/../assets/style.css\"), Asset(\"css\", nothing, \"/Users/jjc/.julia/packages/Interact/pVyN2/src/../assets/bulma_confined.min.css\")], Dict{Any, Any}(\"changes\" => Any[WebIO.JSString(\"(function (val){return (val!=this.model[\\\"changes\\\"]()) ? (this.valueFromJulia[\\\"changes\\\"]=true, this.model[\\\"changes\\\"](val)) : undefined})\")], \"index\" => Any[WebIO.JSString(\"(function (val){return (val!=this.model[\\\"index\\\"]()) ? (this.valueFromJulia[\\\"index\\\"]=true, this.model[\\\"index\\\"](val)) : undefined})\")]), WebIO.ConnectionPool(Channel{Any}(32), Set{AbstractConnection}(), Condition(Base.InvasiveLinkedList{Task}(Task (runnable) @0x0000000290bd6400, Task (runnable) @0x0000000290bd6400), Base.AlwaysLockedST(1))), WebIO.JSString[WebIO.JSString(\"function () {\\n    var handler = (function (ko, koPunches) {\\n    ko.punches.enableAll();\\n    ko.bindingHandlers.numericValue = {\\n        init: function(element, valueAccessor, allBindings, data, context) {\\n            var stringified = ko.observable(ko.unwrap(valueAccessor()));\\n            stringified.subscribe(function(value) {\\n                var val = parseFloat(value);\\n                if (!isNaN(val)) {\\n                    valueAccessor()(val);\\n                }\\n            });\\n            valueAccessor().subscribe(function(value) {\\n                var str = JSON.stringify(value);\\n                if ((str == \\\"0\\\") && ([\\\"-0\\\", \\\"-0.\\\"].indexOf(stringified()) >= 0))\\n                     return;\\n                 if ([\\\"null\\\", \\\"\\\"].indexOf(str) >= 0)\\n                     return;\\n                stringified(str);\\n            });\\n            ko.applyBindingsToNode(\\n                element,\\n                {\\n                    value: stringified,\\n                    valueUpdate: allBindings.get('valueUpdate'),\\n                },\\n                context,\\n            );\\n        }\\n    };\\n    var json_data = {\\\"formatted_vals\\\":[\\\"-5.0\\\",\\\"-4.9\\\",\\\"-4.8\\\",\\\"-4.7\\\",\\\"-4.6\\\",\\\"-4.5\\\",\\\"-4.4\\\",\\\"-4.3\\\",\\\"-4.2\\\",\\\"-4.1\\\",\\\"-4.0\\\",\\\"-3.9\\\",\\\"-3.8\\\",\\\"-3.7\\\",\\\"-3.6\\\",\\\"-3.5\\\",\\\"-3.4\\\",\\\"-3.3\\\",\\\"-3.2\\\",\\\"-3.1\\\",\\\"-3.0\\\",\\\"-2.9\\\",\\\"-2.8\\\",\\\"-2.7\\\",\\\"-2.6\\\",\\\"-2.5\\\",\\\"-2.4\\\",\\\"-2.3\\\",\\\"-2.2\\\",\\\"-2.1\\\",\\\"-2.0\\\",\\\"-1.9\\\",\\\"-1.8\\\",\\\"-1.7\\\",\\\"-1.6\\\",\\\"-1.5\\\",\\\"-1.4\\\",\\\"-1.3\\\",\\\"-1.2\\\",\\\"-1.1\\\",\\\"-1.0\\\",\\\"-0.9\\\",\\\"-0.8\\\",\\\"-0.7\\\",\\\"-0.6\\\",\\\"-0.5\\\",\\\"-0.4\\\",\\\"-0.3\\\",\\\"-0.2\\\",\\\"-0.1\\\",\\\"0.0\\\",\\\"0.1\\\",\\\"0.2\\\",\\\"0.3\\\",\\\"0.4\\\",\\\"0.5\\\",\\\"0.6\\\",\\\"0.7\\\",\\\"0.8\\\",\\\"0.9\\\",\\\"1.0\\\",\\\"1.1\\\",\\\"1.2\\\",\\\"1.3\\\",\\\"1.4\\\",\\\"1.5\\\",\\\"1.6\\\",\\\"1.7\\\",\\\"1.8\\\",\\\"1.9\\\",\\\"2.0\\\",\\\"2.1\\\",\\\"2.2\\\",\\\"2.3\\\",\\\"2.4\\\",\\\"2.5\\\",\\\"2.6\\\",\\\"2.7\\\",\\\"2.8\\\",\\\"2.9\\\",\\\"3.0\\\",\\\"3.1\\\",\\\"3.2\\\",\\\"3.3\\\",\\\"3.4\\\",\\\"3.5\\\",\\\"3.6\\\",\\\"3.7\\\",\\\"3.8\\\",\\\"3.9\\\",\\\"4.0\\\",\\\"4.1\\\",\\\"4.2\\\",\\\"4.3\\\",\\\"4.4\\\",\\\"4.5\\\",\\\"4.6\\\",\\\"4.7\\\",\\\"4.8\\\",\\\"4.9\\\",\\\"5.0\\\",\\\"5.1\\\",\\\"5.2\\\",\\\"5.3\\\",\\\"5.4\\\",\\\"5.5\\\",\\\"5.6\\\",\\\"5.7\\\",\\\"5.8\\\"],\\\"changes\\\":WebIO.getval({\\\"name\\\":\\\"changes\\\",\\\"scope\\\":\\\"8715671850923032135\\\",\\\"id\\\":\\\"13391019217020160552\\\",\\\"type\\\":\\\"observable\\\"}),\\\"index\\\":WebIO.getval({\\\"name\\\":\\\"index\\\",\\\"scope\\\":\\\"8715671850923032135\\\",\\\"id\\\":\\\"8681941342636351920\\\",\\\"type\\\":\\\"observable\\\"})};\\n    var self = this;\\n    function AppViewModel() {\\n        for (var key in json_data) {\\n            var el = json_data[key];\\n            this[key] = Array.isArray(el) ? ko.observableArray(el) : ko.observable(el);\\n        }\\n        \\n        [this[\\\"formatted_val\\\"]=ko.computed(    function(){\\n        return this.formatted_vals()[parseInt(this.index())-(1)];\\n    }\\n,this)]\\n        [this[\\\"changes\\\"].subscribe((function (val){!(this.valueFromJulia[\\\"changes\\\"]) ? (WebIO.setval({\\\"name\\\":\\\"changes\\\",\\\"scope\\\":\\\"8715671850923032135\\\",\\\"id\\\":\\\"13391019217020160552\\\",\\\"type\\\":\\\"observable\\\"},val)) : undefined; return this.valueFromJulia[\\\"changes\\\"]=false}),self),this[\\\"index\\\"].subscribe((function (val){!(this.valueFromJulia[\\\"index\\\"]) ? (WebIO.setval({\\\"name\\\":\\\"index\\\",\\\"scope\\\":\\\"8715671850923032135\\\",\\\"id\\\":\\\"8681941342636351920\\\",\\\"type\\\":\\\"observable\\\"},val)) : undefined; return this.valueFromJulia[\\\"index\\\"]=false}),self)]\\n        \\n    }\\n    self.model = new AppViewModel();\\n    self.valueFromJulia = {};\\n    for (var key in json_data) {\\n        self.valueFromJulia[key] = false;\\n    }\\n    ko.applyBindings(self.model, self.dom);\\n}\\n);\\n    (WebIO.importBlock({\\\"data\\\":[{\\\"name\\\":\\\"knockout\\\",\\\"type\\\":\\\"js\\\",\\\"url\\\":\\\"/assetserver/f0e307cd5d087b1b010b519eb389773e9d1dbc0e-knockout.js\\\"},{\\\"name\\\":\\\"knockout_punches\\\",\\\"type\\\":\\\"js\\\",\\\"url\\\":\\\"/assetserver/23ffb9c4761cb32a945e3c5534ef4f0e0ebff3a5-knockout_punches.js\\\"}],\\\"type\\\":\\\"async_block\\\"})).then((imports) => handler.apply(this, imports));\\n}\\n\")])], Dict{Symbol, Any}(:className => \"field interact-widget\")), Node{WebIO.DOM}(WebIO.DOM(:html, :div), Any[Scope(Node{WebIO.DOM}(WebIO.DOM(:html, :div), Any[Node{WebIO.DOM}(WebIO.DOM(:html, :div), Any[Node{WebIO.DOM}(WebIO.DOM(:html, :label), Any[\"Rcsf\"], Dict{Symbol, Any}(:className => \"interact \", :style => Dict{Any, Any}(:padding => \"5px 10px 0px 10px\")))], Dict{Symbol, Any}(:className => \"interact-flex-row-left\")), Node{WebIO.DOM}(WebIO.DOM(:html, :div), Any[Node{WebIO.DOM}(WebIO.DOM(:html, :input), Any[], Dict{Symbol, Any}(:max => 51, :min => 1, :attributes => Dict{Any, Any}(:type => \"range\", Symbol(\"data-bind\") => \"numericValue: index, valueUpdate: 'input', event: {change: function (){this.changes(this.changes()+1)}}\", \"orient\" => \"horizontal\"), :step => 1, :className => \"slider slider is-fullwidth\", :style => Dict{Any, Any}()))], Dict{Symbol, Any}(:className => \"interact-flex-row-center\")), Node{WebIO.DOM}(WebIO.DOM(:html, :div), Any[Node{WebIO.DOM}(WebIO.DOM(:html, :p), Any[], Dict{Symbol, Any}(:attributes => Dict(\"data-bind\" => \"text: formatted_val\")))], Dict{Symbol, Any}(:className => \"interact-flex-row-right\"))], Dict{Symbol, Any}(:className => \"interact-flex-row interact-widget\")), Dict{String, Tuple{Observables.AbstractObservable, Union{Nothing, Bool}}}(\"changes\" => (Observable{Int64} with 1 listeners. Value:\n",
       "0, nothing), \"index\" => (Observable{Any} with 2 listeners. Value:\n",
       "26, nothing)), Set{String}(), nothing, Asset[Asset(\"js\", \"knockout\", \"/Users/jjc/.julia/packages/Knockout/3gjS1/src/../assets/knockout.js\"), Asset(\"js\", \"knockout_punches\", \"/Users/jjc/.julia/packages/Knockout/3gjS1/src/../assets/knockout_punches.js\"), Asset(\"js\", nothing, \"/Users/jjc/.julia/packages/InteractBase/h8Fwe/src/../assets/all.js\"), Asset(\"css\", nothing, \"/Users/jjc/.julia/packages/InteractBase/h8Fwe/src/../assets/style.css\"), Asset(\"css\", nothing, \"/Users/jjc/.julia/packages/Interact/pVyN2/src/../assets/bulma_confined.min.css\")], Dict{Any, Any}(\"changes\" => Any[WebIO.JSString(\"(function (val){return (val!=this.model[\\\"changes\\\"]()) ? (this.valueFromJulia[\\\"changes\\\"]=true, this.model[\\\"changes\\\"](val)) : undefined})\")], \"index\" => Any[WebIO.JSString(\"(function (val){return (val!=this.model[\\\"index\\\"]()) ? (this.valueFromJulia[\\\"index\\\"]=true, this.model[\\\"index\\\"](val)) : undefined})\")]), WebIO.ConnectionPool(Channel{Any}(32), Set{AbstractConnection}(), Condition(Base.InvasiveLinkedList{Task}(Task (runnable) @0x0000000290bd6850, Task (runnable) @0x0000000290bd6850), Base.AlwaysLockedST(1))), WebIO.JSString[WebIO.JSString(\"function () {\\n    var handler = (function (ko, koPunches) {\\n    ko.punches.enableAll();\\n    ko.bindingHandlers.numericValue = {\\n        init: function(element, valueAccessor, allBindings, data, context) {\\n            var stringified = ko.observable(ko.unwrap(valueAccessor()));\\n            stringified.subscribe(function(value) {\\n                var val = parseFloat(value);\\n                if (!isNaN(val)) {\\n                    valueAccessor()(val);\\n                }\\n            });\\n            valueAccessor().subscribe(function(value) {\\n                var str = JSON.stringify(value);\\n                if ((str == \\\"0\\\") && ([\\\"-0\\\", \\\"-0.\\\"].indexOf(stringified()) >= 0))\\n                     return;\\n                 if ([\\\"null\\\", \\\"\\\"].indexOf(str) >= 0)\\n                     return;\\n                stringified(str);\\n            });\\n            ko.applyBindingsToNode(\\n                element,\\n                {\\n                    value: stringified,\\n                    valueUpdate: allBindings.get('valueUpdate'),\\n                },\\n                context,\\n            );\\n        }\\n    };\\n    var json_data = {\\\"formatted_vals\\\":[\\\"0\\\",\\\"1\\\",\\\"2\\\",\\\"3\\\",\\\"4\\\",\\\"5\\\",\\\"6\\\",\\\"7\\\",\\\"8\\\",\\\"9\\\",\\\"10\\\",\\\"11\\\",\\\"12\\\",\\\"13\\\",\\\"14\\\",\\\"15\\\",\\\"16\\\",\\\"17\\\",\\\"18\\\",\\\"19\\\",\\\"20\\\",\\\"21\\\",\\\"22\\\",\\\"23\\\",\\\"24\\\",\\\"25\\\",\\\"26\\\",\\\"27\\\",\\\"28\\\",\\\"29\\\",\\\"30\\\",\\\"31\\\",\\\"32\\\",\\\"33\\\",\\\"34\\\",\\\"35\\\",\\\"36\\\",\\\"37\\\",\\\"38\\\",\\\"39\\\",\\\"40\\\",\\\"41\\\",\\\"42\\\",\\\"43\\\",\\\"44\\\",\\\"45\\\",\\\"46\\\",\\\"47\\\",\\\"48\\\",\\\"49\\\",\\\"50\\\"],\\\"changes\\\":WebIO.getval({\\\"name\\\":\\\"changes\\\",\\\"scope\\\":\\\"5186392882370398036\\\",\\\"id\\\":\\\"13171040741590499436\\\",\\\"type\\\":\\\"observable\\\"}),\\\"index\\\":WebIO.getval({\\\"name\\\":\\\"index\\\",\\\"scope\\\":\\\"5186392882370398036\\\",\\\"id\\\":\\\"10912010718777602132\\\",\\\"type\\\":\\\"observable\\\"})};\\n    var self = this;\\n    function AppViewModel() {\\n        for (var key in json_data) {\\n            var el = json_data[key];\\n            this[key] = Array.isArray(el) ? ko.observableArray(el) : ko.observable(el);\\n        }\\n        \\n        [this[\\\"formatted_val\\\"]=ko.computed(    function(){\\n        return this.formatted_vals()[parseInt(this.index())-(1)];\\n    }\\n,this)]\\n        [this[\\\"changes\\\"].subscribe((function (val){!(this.valueFromJulia[\\\"changes\\\"]) ? (WebIO.setval({\\\"name\\\":\\\"changes\\\",\\\"scope\\\":\\\"5186392882370398036\\\",\\\"id\\\":\\\"13171040741590499436\\\",\\\"type\\\":\\\"observable\\\"},val)) : undefined; return this.valueFromJulia[\\\"changes\\\"]=false}),self),this[\\\"index\\\"].subscribe((function (val){!(this.valueFromJulia[\\\"index\\\"]) ? (WebIO.setval({\\\"name\\\":\\\"index\\\",\\\"scope\\\":\\\"5186392882370398036\\\",\\\"id\\\":\\\"10912010718777602132\\\",\\\"type\\\":\\\"observable\\\"},val)) : undefined; return this.valueFromJulia[\\\"index\\\"]=false}),self)]\\n        \\n    }\\n    self.model = new AppViewModel();\\n    self.valueFromJulia = {};\\n    for (var key in json_data) {\\n        self.valueFromJulia[key] = false;\\n    }\\n    ko.applyBindings(self.model, self.dom);\\n}\\n);\\n    (WebIO.importBlock({\\\"data\\\":[{\\\"name\\\":\\\"knockout\\\",\\\"type\\\":\\\"js\\\",\\\"url\\\":\\\"/assetserver/f0e307cd5d087b1b010b519eb389773e9d1dbc0e-knockout.js\\\"},{\\\"name\\\":\\\"knockout_punches\\\",\\\"type\\\":\\\"js\\\",\\\"url\\\":\\\"/assetserver/23ffb9c4761cb32a945e3c5534ef4f0e0ebff3a5-knockout_punches.js\\\"}],\\\"type\\\":\\\"async_block\\\"})).then((imports) => handler.apply(this, imports));\\n}\\n\")])], Dict{Symbol, Any}(:className => \"field interact-widget\")), Observable{Node{WebIO.DOM}} with 0 listeners. Value:\n",
       "Node{WebIO.DOM}(WebIO.DOM(:html, :div), Any[Plot{Plots.GRBackend() n=3}], Dict{Symbol, Any}(:className => \"interact-flex-row interact-widget\"))], Dict{Symbol, Any}())"
      ]
     },
     "execution_count": 4,
     "metadata": {
      "application/vnd.webio.node+json": {
       "kernelId": "4442a1d9-f541-44b0-bd43-38abdf2eff81"
      }
     },
     "output_type": "execute_result"
    }
   ],
   "source": [
    "using Interact\n",
    "## Interact.WebIO.install_jupyter_nbextension() # might be helpful if you see `WebIO` warnings in Jupyter\n",
    "moving_average(vs,n) = [sum(@view vs[i:(i+n-1)])/n for i in 1:(length(vs)-(n-1))]\n",
    "dsampf = 40\n",
    "gg = moving_average(ICP, dsampf)\n",
    "g0 = zeros(length(ICP))\n",
    "g0 .+= P_b\n",
    "g0[Int(dsampf/2):Int(dsampf/2)+length(gg)-1] = gg\n",
    "# Pm = g0\n",
    "P_0 = results[\"Pss\"]\n",
    "\n",
    "@manipulate throttle=.05 for E=0:.01:1.0, Pss=-5.0:.1:P_b, Rcsf=0:1:50\n",
    "\n",
    "    P_m = ones(numsamples)\n",
    "    P_m *= P_b\n",
    "    P_model = zeros(numsamples)\n",
    "    ICPm = zeros(infusion_end_frame-infusion_start_frame)\n",
    "    Ib = (P_b - Pss)/Rcsf\n",
    "    It = I_b + I_inf\n",
    "    ΔP = P_b - P_0\n",
    "    \n",
    "    for i = infusion_start_frame:infusion_end_frame\n",
    "        tᵢ = (i-infusion_start_frame-1)/6\n",
    "        y = It * ΔP / (I_b + (I_inf * exp(-E*It*tᵢ))) + P_0;\n",
    "        P_model[i] = y\n",
    "    end\n",
    "    \n",
    "    ICPm = P_model[infusion_start_frame:infusion_end_frame]\n",
    "    P_m[infusion_start_frame:infusion_end_frame] = ICPm\n",
    "    P_m[infusion_end_frame+1:end] .= ICPm[end]\n",
    "    \n",
    "    Plots.plot([ICP[1:plateau_end], P_m[1:plateau_end], g0], background=:transparent,linecolor=[:cadetblue :orange :green], linewidth=2, linestyle=[:solid :dash], xlims=[1, plateau_end], ylims=[0,40], \n",
    "    xlabel=\"Time [min]\", ylabel=\"ICP [mmHg]\", xticks = ([0:30:plateau_end;], [0:30:plateau_end;]./10),legend=:outertopright)\n",
    "end"
   ]
  },
  {
   "cell_type": "code",
   "execution_count": null,
   "id": "c7911466",
   "metadata": {},
   "outputs": [],
   "source": []
  },
  {
   "cell_type": "code",
   "execution_count": null,
   "id": "23d482ed",
   "metadata": {},
   "outputs": [],
   "source": []
  }
 ],
 "metadata": {
  "@webio": {
   "lastCommId": "7a2c3ca9894c4981b2d37d60f999c40c",
   "lastKernelId": "4442a1d9-f541-44b0-bd43-38abdf2eff81"
  },
  "kernelspec": {
   "display_name": "Julia 1.7.2",
   "language": "julia",
   "name": "julia-1.7"
  },
  "language_info": {
   "file_extension": ".jl",
   "mimetype": "application/julia",
   "name": "julia",
   "version": "1.7.2"
  }
 },
 "nbformat": 4,
 "nbformat_minor": 5
}
